{
 "cells": [
  {
   "cell_type": "code",
   "execution_count": null,
   "id": "fb25e018-65cd-4ac5-8f7e-60e9bacd3e34",
   "metadata": {},
   "outputs": [],
   "source": [
    "import pandas as pd\n",
    "import numpy as np\n",
    "import importlib\n",
    "from tqdm import tqdm\n",
    "import gc\n",
    "import os\n",
    "from skimage.metrics import structural_similarity as ssim\n",
    "\n",
    "# plot and image libraries\n",
    "import matplotlib.pyplot as plt\n",
    "import matplotlib\n",
    "matplotlib.use('Agg')\n",
    "import plotly.graph_objects as go\n",
    "from skimage import io, color\n",
    "from io import BytesIO"
   ]
  },
  {
   "cell_type": "code",
   "execution_count": null,
   "id": "a0930d25-1105-4d8e-b066-22bbac1b1087",
   "metadata": {},
   "outputs": [],
   "source": [
    "from claspy.data_loader import load_tssb_dataset\n",
    "from claspy.data_loader import load_has_dataset"
   ]
  },
  {
   "cell_type": "code",
   "execution_count": null,
   "id": "26b755c8-bf38-42cd-8354-3fa956afc192",
   "metadata": {},
   "outputs": [],
   "source": [
    "# custom utils\n",
    "import mt_utils as ut"
   ]
  },
  {
   "cell_type": "code",
   "execution_count": null,
   "id": "f31a3cc2-94af-408b-9c3e-c70aa4399b7a",
   "metadata": {},
   "outputs": [],
   "source": [
    "importlib.reload(ut)"
   ]
  },
  {
   "cell_type": "code",
   "execution_count": null,
   "id": "baf2c6f0-4b6a-4161-b492-e32c5df67660",
   "metadata": {},
   "outputs": [],
   "source": [
    "tssb = load_tssb_dataset()\n",
    "hasc = load_has_dataset()"
   ]
  },
  {
   "cell_type": "code",
   "execution_count": null,
   "id": "23ad0a50-5d33-4ef1-a26e-bb4a1524e1e2",
   "metadata": {},
   "outputs": [],
   "source": [
    "tssb_ds = pd.read_pickle('results/zwischenergebnisse/main_experiment_tssb.pkl')\n",
    "hasc_ds = pd.read_pickle('results/zwischenergebnisse/main_experiment_hasc.pkl')"
   ]
  },
  {
   "cell_type": "markdown",
   "id": "dfd29ece-113e-4b9d-849c-501e684b7dbf",
   "metadata": {},
   "source": [
    "# Functions"
   ]
  },
  {
   "cell_type": "code",
   "execution_count": null,
   "id": "b6d3d019-85b4-4dc4-865e-c021e7e6c857",
   "metadata": {},
   "outputs": [],
   "source": [
    "columns = ['Algorithm','Orig_TS_ID','compression','Orig_TS','DS_TS','ClaSP_score','DSSIM','FTbSim']\n",
    "algos_sorted_dsOnly = [\"EveryNth\",\"MinMax\",\"M4\",\"LTTB\",\"MinMaxLTTB\",\"LTD\"]"
   ]
  },
  {
   "cell_type": "code",
   "execution_count": null,
   "id": "d05bc62a-2f69-41b8-a72a-14040d16f1e4",
   "metadata": {},
   "outputs": [],
   "source": [
    "def preprocess_image(image):\n",
    "    # ensure image is rendered in Greyscales\n",
    "    if image.ndim == 3 and image.shape[2] == 4:\n",
    "        image = image[..., :3] # only use first three channels (RGB)\n",
    "    if image.ndim == 3:\n",
    "        image = color.rgb2gray(image)\n",
    "    return image"
   ]
  },
  {
   "cell_type": "code",
   "execution_count": null,
   "id": "6d5dd135-7666-4313-9bc0-7991085b25ad",
   "metadata": {},
   "outputs": [],
   "source": [
    "def plot_to_image(ts_arr):\n",
    "    # create plot image of time series and return the image as numpy array\n",
    "    image_list=[]\n",
    "    for ts in ts_arr:\n",
    "        fig, ax = plt.subplots()\n",
    "        ax.plot(ts, color='black')\n",
    "        ax.axis('off')\n",
    "        buf = BytesIO()\n",
    "        plt.savefig(buf, format='png', bbox_inches='tight', pad_inches=0)\n",
    "        plt.close(fig)\n",
    "        plt.close('all')\n",
    "        buf.seek(0)\n",
    "        image = io.imread(buf)\n",
    "        buf.close()\n",
    "        image_list.append(preprocess_image(image))\n",
    "        images = np.asarray(image_list)\n",
    "    del image, image_list\n",
    "    gc.collect()\n",
    "    return images"
   ]
  },
  {
   "cell_type": "code",
   "execution_count": null,
   "id": "cd8a7711-c3c6-49a1-ba40-bd67e7b205f1",
   "metadata": {},
   "outputs": [],
   "source": [
    "def calc_dssim(image1, image2): \n",
    "    # SSIM\n",
    "    ssim_value = ssim(image1, image2, data_range=image1.max() - image1.min())\n",
    "    \n",
    "    # DSSIM\n",
    "    dssim_value = (1 - ssim_value) / 2\n",
    "    return dssim_value"
   ]
  },
  {
   "cell_type": "code",
   "execution_count": null,
   "id": "b99e1706-4288-403b-994e-70a9249c9b90",
   "metadata": {},
   "outputs": [],
   "source": [
    "def eval_downsampling_performances(df,output_file=\"temp_results.csv\"):\n",
    "    pd.DataFrame(columns=columns).to_csv(output_file, index=False)\n",
    "    orig_data = df[df.Algorithm=='None']\n",
    "    for index, row in tqdm(orig_data.iterrows(), total=len(orig_data), desc=\"Processing rows\"):\n",
    "        ts1 = ut.prepare_ts(row.Time_Series)           \n",
    "        images1 = plot_to_image(ts1)            \n",
    "        for algo in algos_sorted_dsOnly:\n",
    "            algo_row = df[(df.Algorithm==algo)&(df.orig_TS_ID==row.orig_TS_ID)].T.squeeze()\n",
    "            ts2 = ut.prepare_ts(algo_row.Time_Series)\n",
    "            images2 = plot_to_image(ts2)\n",
    "            \n",
    "            dssims = [calc_dssim(images1[dim], images2[dim]) for dim in range(ts1.shape[0])]\n",
    "            ftbsims = [ut.z_ED_fft(ts1[dim], ts2[dim]) for dim in range(ts1.shape[0])]\n",
    " \n",
    "            result_row = {\n",
    "                \"Algorithm\": algo,\n",
    "                \"Orig_TS_ID\": row.orig_TS_ID,\n",
    "                \"compression\": algo_row.compression,\n",
    "                \"Orig_TS\": row.Time_Series,\n",
    "                \"DS_TS\": ts2.T if ts2.shape[0] > 1 else ts2.squeeze(),\n",
    "                \"ClaSP_score\": algo_row.score,\n",
    "                \"DSSIM\": float(np.mean(dssims)),\n",
    "                \"FTbSim\": float(np.mean(ftbsims)),\n",
    "            }\n",
    "\n",
    "            pd.DataFrame([result_row]).to_csv(output_file, mode='a', index=False, header=False)\n",
    "\n",
    "            del ts2, images2, dssims, ftbsims\n",
    "            gc.collect()\n",
    "        \n",
    "        del ts1, images1\n",
    "        gc.collect()\n",
    "\n",
    "    final_df = pd.read_csv(output_file)\n",
    "\n",
    "    os.remove(output_file)\n",
    "    return final_df"
   ]
  },
  {
   "cell_type": "code",
   "execution_count": null,
   "id": "4d39e018-1afe-47da-8f5b-e29fdd720292",
   "metadata": {},
   "outputs": [],
   "source": [
    "def plot_simMeasure_score(df,measure,xaxis_title,title, filepath=None):\n",
    "    fig = go.Figure()\n",
    "    fig.add_trace(go.Scatter(x=df[measure], y=df.ClaSP_score,\n",
    "                                mode='markers',\n",
    "                                marker= dict(\n",
    "                                    color='grey',\n",
    "                                    size=5,\n",
    "                                    line=dict(\n",
    "                                        color='black',\n",
    "                                        width=1\n",
    "                                    )\n",
    "                                )\n",
    "                            )\n",
    "                 )\n",
    "            \n",
    "    fig.update_yaxes(title_text=\"Covering Score\")\n",
    "    fig.update_xaxes(title_text=xaxis_title)\n",
    "        \n",
    "    fig.update_layout(height=400,\n",
    "                          font=dict(\n",
    "                              family=\"Arial\",\n",
    "                              size=12,\n",
    "                              color=\"black\"\n",
    "                          ),\n",
    "                          title=dict(\n",
    "                              text=title\n",
    "                          ),\n",
    "                          margin=dict(l=0, r=0, t=30, b=0)\n",
    "                         )\n",
    "    \n",
    "    if filepath:\n",
    "        fig.write_image(filepath, scale=1, width=1000, height=400)\n",
    "    \n",
    "    fig.show()"
   ]
  },
  {
   "cell_type": "code",
   "execution_count": null,
   "id": "ab0c58ca-32ae-4e4b-9fd9-031428e465e9",
   "metadata": {},
   "outputs": [],
   "source": [
    "def score_comparison_matrix(df, savepath=None):\n",
    "    dssim_df = df[df.groupby(by='Orig_TS_ID')['DSSIM'].transform(min) == df['DSSIM']]\n",
    "    mean1 = dssim_df.ClaSP_score.mean()\n",
    "    median1 = dssim_df.ClaSP_score.median()\n",
    "    std1 = dssim_df.ClaSP_score.std()\n",
    "\n",
    "    ftbsim_df = df[df.groupby(by='Orig_TS_ID')['FTbSim'].transform(min) == df['FTbSim']]\n",
    "    mean2 = ftbsim_df.ClaSP_score.mean()\n",
    "    median2 = ftbsim_df.ClaSP_score.median()\n",
    "    std2 = ftbsim_df.ClaSP_score.std()\n",
    "\n",
    "    out = pd.DataFrame(columns=['DSSIM','FTbSim'], index=['mean','median','std'])\n",
    "    out.loc['mean']=[mean1,mean2]\n",
    "    out.loc['median']=[median1,median2]\n",
    "    out.loc['std']=[std1,std2]\n",
    "                       \n",
    "    if(savepath):\n",
    "        out.to_excel(savepath)\n",
    "\n",
    "    return out"
   ]
  },
  {
   "cell_type": "markdown",
   "id": "cea385e9-ad81-4c83-a906-e065b401bded",
   "metadata": {},
   "source": [
    "# Results"
   ]
  },
  {
   "cell_type": "markdown",
   "id": "bd64395b-cf2d-4a2f-978d-e544f41f2563",
   "metadata": {},
   "source": [
    "## TSSB"
   ]
  },
  {
   "cell_type": "code",
   "execution_count": null,
   "id": "da3e2e94-35ab-428a-8e7f-7478964d5760",
   "metadata": {},
   "outputs": [],
   "source": [
    "ds_performances_tssb_df = eval_downsampling_performances(tssb_ds)"
   ]
  },
  {
   "cell_type": "code",
   "execution_count": null,
   "id": "844172d4-650a-4733-9d49-6fd538c90ad1",
   "metadata": {},
   "outputs": [],
   "source": [
    "ds_performances_tssb_df.to_pickle('results/zwischenergebnisse/downsampling_performance_tssb.pkl')\n",
    "ds_performances_tssb_df"
   ]
  },
  {
   "cell_type": "code",
   "execution_count": null,
   "id": "e55e2232-1b79-45ce-b099-0ae5910286ee",
   "metadata": {},
   "outputs": [],
   "source": [
    "ds_performances_tssb_df[['Algorithm','DSSIM','FTbSim','ClaSP_score']].groupby(by='Algorithm').mean()"
   ]
  },
  {
   "cell_type": "code",
   "execution_count": null,
   "id": "24e09b44-6cf8-4510-a4ca-612e83bb517d",
   "metadata": {},
   "outputs": [],
   "source": [
    "plot_simMeasure_score(ds_performances_tssb_df,'DSSIM','DSSIM','(a) TSSB','results/figures/downsampling_performance_DSSIM_tssb.svg')"
   ]
  },
  {
   "cell_type": "code",
   "execution_count": null,
   "id": "384f0f49-d4bc-4271-a3c4-d99aa23587ae",
   "metadata": {},
   "outputs": [],
   "source": [
    "plot_simMeasure_score(ds_performances_tssb_df,'FTbSim','Feature-based Similarity',\n",
    "                      '', 'results/figures/downsampling_performance_FTbSim_tssb.svg')"
   ]
  },
  {
   "cell_type": "code",
   "execution_count": null,
   "id": "cd0158fc-f28b-48c3-b8e3-7a0fd8415ce8",
   "metadata": {},
   "outputs": [],
   "source": [
    "score_comparison_matrix_columns(ds_performances_tssb_df, savepath=None)"
   ]
  },
  {
   "cell_type": "code",
   "execution_count": null,
   "id": "d633c891-452d-4c2f-a1fd-77991f143873",
   "metadata": {},
   "outputs": [],
   "source": [
    "score_comparison_matrix(ds_performances_tssb_df, savepath='results/tables/summary_statistics_dsperformance_tssb.xlsx')"
   ]
  },
  {
   "cell_type": "code",
   "execution_count": null,
   "id": "ab78e812-e8ac-4d1d-b06e-9d405ed411ce",
   "metadata": {},
   "outputs": [],
   "source": [
    "# this is what is possible when using the best settings, e.g. Algorithm combined with cr, upscaling and window size\n",
    "# issue: how to find a prediction that approaches this setting\n",
    "tmp_tssb = ds_performances_tssb_df[ds_performances_tssb_df.groupby(by='Orig_TS_ID')['ClaSP_score'].transform(max) == ds_performances_tssb_df['ClaSP_score']]\n",
    "tmp_tssb[['Algorithm','ClaSP_score']].groupby(by='Algorithm').mean().T\n",
    "\n",
    "print('Mean: {0}, Median: {1}, Std: {2}'.format(tmp_tssb.ClaSP_score.mean(),tmp_tssb.ClaSP_score.median(),tmp_tssb.ClaSP_score.std()))"
   ]
  },
  {
   "cell_type": "markdown",
   "id": "42db6252-f86a-44ab-8465-49db34d43b41",
   "metadata": {},
   "source": [
    "## HASC"
   ]
  },
  {
   "cell_type": "code",
   "execution_count": null,
   "id": "e2c11943-0b87-445a-b986-02321b0483f3",
   "metadata": {},
   "outputs": [],
   "source": [
    "ds_performances_hasc_df = eval_downsampling_performances(hasc_ds)"
   ]
  },
  {
   "cell_type": "code",
   "execution_count": null,
   "id": "2f422f45-af18-4b5c-bbb3-c614504839c0",
   "metadata": {},
   "outputs": [],
   "source": [
    "ds_performances_hasc_df.to_pickle('results/zwischenergebnisse/downsampling_performance_hasc.pkl')\n",
    "ds_performances_hasc_df"
   ]
  },
  {
   "cell_type": "code",
   "execution_count": null,
   "id": "362bb402-a0a5-4030-a87e-6dbc06fa779e",
   "metadata": {},
   "outputs": [],
   "source": [
    "plot_simMeasure_score(ds_performances_hasc_df,'DSSIM','DSSIM','(b) HASC', 'results/figures/downsampling_performance_DSSIM_hasc.svg')"
   ]
  },
  {
   "cell_type": "code",
   "execution_count": null,
   "id": "83938dd7-6048-40a8-b5a2-1417ebf21ca4",
   "metadata": {},
   "outputs": [],
   "source": [
    "plot_simMeasure_score(ds_performances_hasc_df,'FTbSim','Feature-based Similarity','', 'results/figures/downsampling_performance_FTbSim_hasc.svg')"
   ]
  },
  {
   "cell_type": "code",
   "execution_count": null,
   "id": "8dec9b0e-0b63-486d-9096-a53ef0c7a05c",
   "metadata": {},
   "outputs": [],
   "source": [
    "score_comparison_matrix(ds_performances_hasc_df, savepath='results/tables/summary_statistics_dsperformance_hasc.xlsx')"
   ]
  },
  {
   "cell_type": "code",
   "execution_count": null,
   "id": "96e75beb-6fe9-42b9-abe3-3234659338ba",
   "metadata": {},
   "outputs": [],
   "source": [
    "# what is possible with best settings\n",
    "tmp_hasc = ds_performances_hasc_df[ds_performances_hasc_df.groupby(by='Orig_TS_ID')['ClaSP_score'].transform(max) == ds_performances_hasc_df['ClaSP_score']]\n",
    "tmp_hasc[['Algorithm','ClaSP_score']].groupby(by='Algorithm').mean().T\n",
    "\n",
    "print('Mean: {0}, Median: {1}, Std: {2}'.format(tmp_hasc.ClaSP_score.mean(),tmp_hasc.ClaSP_score.median(),tmp_hasc.ClaSP_score.std()))"
   ]
  }
 ],
 "metadata": {
  "kernelspec": {
   "display_name": "Python 3 (ipykernel)",
   "language": "python",
   "name": "python3"
  },
  "language_info": {
   "codemirror_mode": {
    "name": "ipython",
    "version": 3
   },
   "file_extension": ".py",
   "mimetype": "text/x-python",
   "name": "python",
   "nbconvert_exporter": "python",
   "pygments_lexer": "ipython3",
   "version": "3.11.5"
  }
 },
 "nbformat": 4,
 "nbformat_minor": 5
}
