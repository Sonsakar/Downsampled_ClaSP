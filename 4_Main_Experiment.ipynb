{
 "cells": [
  {
   "cell_type": "code",
   "execution_count": 1,
   "id": "c9820a50-6dd5-4e7b-9cf6-b02fa099f7f7",
   "metadata": {},
   "outputs": [],
   "source": [
    "import numpy as np\n",
    "import pandas as pd\n",
    "import time\n",
    "import mt_utils as ut\n",
    "import parameter_utils as pu\n",
    "import importlib\n",
    "from tqdm import tqdm\n",
    "import scikit_posthocs as sp\n",
    "import matplotlib.pyplot as plt\n",
    "import plotly.graph_objects as go\n",
    "import plotly.io as pio\n",
    "pio.renderers.default = \"plotly_mimetype\""
   ]
  },
  {
   "cell_type": "code",
   "execution_count": 2,
   "id": "f357691a-9ce0-428b-b83b-479fa7c96ef4",
   "metadata": {},
   "outputs": [
    {
     "data": {
      "text/plain": [
       "<module 'mt_utils' from 'E:\\\\Melli\\\\HU\\\\Masterarbeit Save\\\\Implementation\\\\mt_utils.py'>"
      ]
     },
     "execution_count": 2,
     "metadata": {},
     "output_type": "execute_result"
    }
   ],
   "source": [
    "importlib.reload(ut)"
   ]
  },
  {
   "cell_type": "code",
   "execution_count": 3,
   "id": "236138a9-da5f-482e-931f-b200eb2adefb",
   "metadata": {},
   "outputs": [
    {
     "data": {
      "text/plain": [
       "<module 'parameter_utils' from 'E:\\\\Melli\\\\HU\\\\Masterarbeit Save\\\\Implementation\\\\parameter_utils.py'>"
      ]
     },
     "execution_count": 3,
     "metadata": {},
     "output_type": "execute_result"
    }
   ],
   "source": [
    "importlib.reload(pu)"
   ]
  },
  {
   "cell_type": "code",
   "execution_count": 4,
   "id": "3428fc28-36ab-4bb2-9984-6ab11f85f9e7",
   "metadata": {},
   "outputs": [],
   "source": [
    "#import claspy\n",
    "from claspy.segmentation import BinaryClaSPSegmentation\n",
    "from claspy.tests.evaluation import covering\n",
    "from claspy.data_loader import load_tssb_dataset\n",
    "from claspy.data_loader import load_has_dataset"
   ]
  },
  {
   "cell_type": "code",
   "execution_count": 14,
   "id": "257a19bf-4ffc-419d-97a3-66db8ad4a344",
   "metadata": {},
   "outputs": [],
   "source": [
    "tssb = load_tssb_dataset()\n",
    "hasc = load_has_dataset()"
   ]
  },
  {
   "cell_type": "markdown",
   "id": "f7577120-8799-477a-9800-5ebd4bbe3d46",
   "metadata": {},
   "source": [
    "# Functions"
   ]
  },
  {
   "cell_type": "code",
   "execution_count": 5,
   "id": "bd30c12c-139e-492a-bdfc-dd91e5d27d7b",
   "metadata": {},
   "outputs": [],
   "source": [
    "algos_sorted = ['None', \"EveryNth\",\"MinMax\",\"M4\",\"LTTB\",\"MinMaxLTTB\",\"LTD\"]\n",
    "algos_sorted_dsOnly = [\"EveryNth\",\"MinMax\",\"M4\",\"LTTB\",\"MinMaxLTTB\",\"LTD\"]\n",
    "columns = ['Algorithm', 'compression', 'window_size', 'orig_TS_ID', 'TS_Length', 'Time_Series', 'True_CPS', 'predicted_cps', 'score', \n",
    "           'runtime_getCR', 'runtime_downsample', 'runtime_clasp', 'runtime_upscale' ]"
   ]
  },
  {
   "cell_type": "code",
   "execution_count": 6,
   "id": "e42803d9-d878-468d-b842-3b3276dac5e2",
   "metadata": {},
   "outputs": [],
   "source": [
    "# please consult the master thesis pdf for a derivation of the window size thresholds\n",
    "threshold_tssb = [25,False]\n",
    "threshold_hasc = [40,True]"
   ]
  },
  {
   "cell_type": "code",
   "execution_count": 7,
   "id": "03ddd322-1e6d-4217-a86e-5a2f62a150d3",
   "metadata": {},
   "outputs": [],
   "source": [
    "def critical_distance(df, title=None, filepath=None):\n",
    "    avg_rank = df.groupby('orig_TS_ID').score.rank(pct=False, ascending=False).groupby(df.Algorithm).mean()\n",
    "    p_vals = sp.posthoc_nemenyi_friedman(\n",
    "        df,\n",
    "        melted=True,\n",
    "        block_col='orig_TS_ID',\n",
    "        group_col='Algorithm',\n",
    "        y_col='score',\n",
    "    )\n",
    "\n",
    "    fig = plt.figure(figsize=(10, 2), dpi=100)\n",
    "    plt.rcParams[\"font.family\"] = \"Arial\"\n",
    "    plt.rcParams[\"font.size\"] = \"12\"\n",
    "    font = {'family':'arial','color':'black','size':12}\n",
    "    plt.title(title, loc = 'left', fontdict=font, y=1.2)\n",
    "    \n",
    "    sp.critical_difference_diagram(avg_rank, p_vals,\n",
    "                               label_props={'color': 'black'},\n",
    "                               elbow_props={'color': 'gray'}                              \n",
    "                              )\n",
    "    \n",
    "    if filepath:\n",
    "         fig.savefig(filepath, bbox_inches='tight')\n",
    "\n",
    "    plt.show()"
   ]
  },
  {
   "cell_type": "code",
   "execution_count": 8,
   "id": "914ff2ec-d687-4ac3-8404-f9c9ec72af31",
   "metadata": {},
   "outputs": [],
   "source": [
    "# box plot\n",
    "def boxplot_scores(df, title, filepath):\n",
    "    fig = go.Figure()\n",
    "    for i, algo in enumerate(algos_sorted):\n",
    "        fig.add_trace(go.Box(\n",
    "                            y=df['score'][df['Algorithm']==algo], \n",
    "                            name=algo,\n",
    "                            boxmean='sd', \n",
    "                            marker_color='black',\n",
    "                            line=dict(width=1),\n",
    "                            fillcolor='rgba(0,0,0,0)'\n",
    "                            )\n",
    "                     )\n",
    "        \n",
    "    fig.update_layout(height=300, \n",
    "                      font=dict(\n",
    "                          family=\"Arial\",\n",
    "                          size=12,\n",
    "                          color=\"black\"\n",
    "                      ),\n",
    "                      title=dict(\n",
    "                          text=title\n",
    "                      ),\n",
    "                      margin=dict(l=0, r=0, t=30, b=0),\n",
    "                      yaxis_title = 'Covering Score',\n",
    "                      showlegend=False\n",
    "                     )\n",
    "    \n",
    "    if filepath:\n",
    "        fig.write_image(filepath, scale=1, width=1000, height=300)\n",
    "    \n",
    "    fig.show()"
   ]
  },
  {
   "cell_type": "code",
   "execution_count": 9,
   "id": "6f79acd0-1a1d-4d28-ae6f-2adeab18c48b",
   "metadata": {},
   "outputs": [],
   "source": [
    "# summary statistics\n",
    "def score_comparison_matrix_w(df, savepath):\n",
    "    mean = df.groupby(by=['Algorithm']).mean().rename(columns={'score': 'mean'})\n",
    "    median = df.groupby(by=['Algorithm']).median().rename(columns={'score': 'median'})\n",
    "    std = df.groupby(by=['Algorithm']).std().rename(columns={'score': 'std'})\n",
    "    \n",
    "    out = mean.merge(median, left_on='Algorithm', right_on='Algorithm')\n",
    "    out = out.merge(std, left_on='Algorithm', right_on='Algorithm')\n",
    "    out = out.transpose()\n",
    "    if(savepath):\n",
    "        out.to_excel(savepath)\n",
    "    return out[algos_sorted]"
   ]
  },
  {
   "cell_type": "code",
   "execution_count": 10,
   "id": "22817f2c-77ff-4b27-9868-d111aefb5890",
   "metadata": {},
   "outputs": [],
   "source": [
    "def downsample_and_segment(ts, change_points, algo, threshold, downscale_w=False):\n",
    "    runtime_cr = time.process_time()\n",
    "    # set compression ratio\n",
    "    if algo == 'LTD':\n",
    "        cr = 0.5\n",
    "    else:\n",
    "        if threshold[1]:\n",
    "            cr = pu.find_cr_based_on_w_ubound(ts, threshold[0], downscale_w, algo)\n",
    "        else:\n",
    "            cr = pu.find_cr_based_on_w(ts, threshold[0], downscale_w, algo)\n",
    "    runtime_cr = time.process_time() - runtime_cr\n",
    "\n",
    "    runtime_ds = time.process_time()\n",
    "    # downsample time series  \n",
    "    n_out = ut.adjust_nout(algo, int(cr*ts.shape[0]))\n",
    "    ds_ts_index = ut.downsample_multivariate(algo, ts, n_out)\n",
    "    if ts.ndim == 1:\n",
    "        ds_ts = ts[ds_ts_index]\n",
    "    else:\n",
    "        ds_ts = ut.get_ds_ts_ndim(ts, ds_ts_index)\n",
    "    runtime_ds = time.process_time() - runtime_ds\n",
    "\n",
    "    runtime_clasp = time.process_time()\n",
    "    # instantiate clasp\n",
    "    if downscale_w:\n",
    "        window_size = int(pu.get_window_size_multivariate(ts)*cr)\n",
    "        clasp = BinaryClaSPSegmentation(window_size)\n",
    "    else:\n",
    "        clasp = BinaryClaSPSegmentation()\n",
    "        \n",
    "    predictions = clasp.fit_predict(ds_ts)\n",
    "    runtime_clasp = time.process_time() - runtime_clasp\n",
    "\n",
    "    runtime_us = time.process_time()\n",
    "    upscaled_predictions = pu.upscale_cps_linear(predictions, cr)\n",
    "    runtime_us = time.process_time() - runtime_us\n",
    "    \n",
    "    score = covering({0: change_points}, upscaled_predictions, ts.shape[0])\n",
    "    runtimes = [np.round(runtime_cr, 3), np.round(runtime_ds, 3), np.round(runtime_clasp, 3), np.round(runtime_us, 3)]\n",
    "    \n",
    "    return ds_ts, cr, clasp.window_size, upscaled_predictions, np.round(score, 3), runtimes"
   ]
  },
  {
   "cell_type": "code",
   "execution_count": 11,
   "id": "c4acc931-00cc-471d-a21b-b86022882bdc",
   "metadata": {},
   "outputs": [],
   "source": [
    "def main(dataset, threshold, downscale_w=False):\n",
    "    import warnings\n",
    "    warnings.simplefilter(\"ignore\")\n",
    "    results = []\n",
    "    for index, row in tqdm(dataset.iterrows(), total=len(dataset), desc=\"Processing rows\"):\n",
    "        ts_length = row.time_series.shape[0]\n",
    "        window_size, predictions, score, runtime = ut.evaluate_clasp(row.time_series, row.cps)            \n",
    "        results.append(('None', 1, window_size, index, ts_length, row.time_series, row.cps, predictions, score, 0,0,runtime,0))\n",
    "        for algo in algos_sorted_dsOnly:\n",
    "            downsampled_ts, compression, window_size, predictions, score, runtimes = downsample_and_segment(\n",
    "                row.time_series, row.cps, algo, threshold, downscale_w\n",
    "            )\n",
    "            results.append((algo, compression, window_size, index, ts_length, downsampled_ts, row.cps, predictions, score, \n",
    "                            runtimes[0], runtimes[1], runtimes[2], runtimes[3]))\n",
    "    return pd.DataFrame(results, columns=columns)    "
   ]
  },
  {
   "cell_type": "code",
   "execution_count": 12,
   "id": "a70fb498-10b8-4cef-bc79-d11e93411843",
   "metadata": {},
   "outputs": [],
   "source": [
    "def sum_up_runtimes(row):\n",
    "    return row.runtime_getCR+row.runtime_downsample+row.runtime_clasp+row.runtime_upscale\n",
    "\n",
    "def add_dataset_name_tssb(row):\n",
    "    return tssb.iloc[row.orig_TS_ID].dataset\n",
    "\n",
    "def add_dataset_name_hasc(row):\n",
    "    return hasc.iloc[row.orig_TS_ID].dataset"
   ]
  },
  {
   "cell_type": "code",
   "execution_count": 13,
   "id": "6189d04a-fad5-4ac7-af75-8793209a94db",
   "metadata": {},
   "outputs": [],
   "source": [
    "def plot_runtimes_per_column(df, column, x_settings, title, filepath=None):\n",
    "    df=df.sort_values('TS_Length')\n",
    "    fig = go.Figure()\n",
    "    for algo in algos_sorted:\n",
    "        curr_df = df[df.Algorithm==algo]\n",
    "        fig.add_trace(go.Scatter(x=curr_df[column], y=curr_df.runtime,\n",
    "                        mode='lines',\n",
    "                        name=algo))\n",
    "        \n",
    "    fig.update_yaxes(title_text=\"Runtime in Seconds\")\n",
    "    \n",
    "    fig.update_layout(height=370,\n",
    "                      font=dict(\n",
    "                          family=\"Arial\",\n",
    "                          size=12,\n",
    "                          color=\"black\"\n",
    "                      ),\n",
    "                      title=dict(\n",
    "                          text=title\n",
    "                      ),\n",
    "                      legend=dict(\n",
    "                          yanchor=\"top\",\n",
    "                          y=0.98,\n",
    "                          xanchor=\"left\", \n",
    "                          x=0.01\n",
    "                      ),\n",
    "                      xaxis=x_settings,\n",
    "                      margin=dict(l=0, r=0, t=30, b=0)\n",
    "                     )\n",
    "    if filepath:\n",
    "        fig.write_image(filepath, scale=1, width=1000, height=370)\n",
    "\n",
    "    fig.show()"
   ]
  },
  {
   "cell_type": "markdown",
   "id": "7ba8c059-ba11-4795-b71b-e3f89d99c4cf",
   "metadata": {},
   "source": [
    "# Covering Score"
   ]
  },
  {
   "cell_type": "markdown",
   "id": "c4eebead-e595-4409-a1ed-50138d724911",
   "metadata": {},
   "source": [
    "## TSSB"
   ]
  },
  {
   "cell_type": "code",
   "execution_count": 15,
   "id": "06cda171-e5a2-401c-8ba0-fd2f5bdd5cc3",
   "metadata": {},
   "outputs": [],
   "source": [
    "main_exp_tssb = main(tssb,threshold_tssb,False)"
   ]
  },
  {
   "cell_type": "code",
   "execution_count": null,
   "id": "abba5485-58b6-4e36-a831-051c165f2d6e",
   "metadata": {},
   "outputs": [],
   "source": [
    "main_exp_tssb.to_pickle('results/zwischenergebnisse/main_experiment_tssb.pkl')"
   ]
  },
  {
   "cell_type": "code",
   "execution_count": 16,
   "id": "c08cc91c-2904-47e0-a3ca-13260d6f9f82",
   "metadata": {},
   "outputs": [
    {
     "data": {
      "image/png": "[encoded data removed]",
      "text/plain": [
       "<Figure size 1000x200 with 1 Axes>"
      ]
     },
     "metadata": {},
     "output_type": "display_data"
    }
   ],
   "source": [
    "critical_distance(main_exp_tssb, title='(a) TSSB', filepath='results/figures/critical_distance_orig_scores_TSSB.svg')"
   ]
  },
  {
   "cell_type": "code",
   "execution_count": 17,
   "id": "141a21e8-a875-4e5c-8c88-8cdee0521bc2",
   "metadata": {},
   "outputs": [
    {
     "data": {
      "application/vnd.plotly.v1+json": {
       "config": {
        "plotlyServerURL": "https://plot.ly"
       },
       "data": [
        {
         "boxmean": "sd",
         "fillcolor": "rgba(0, 0, 0, 0)",
         "line": {
          "width": 1
         },
         "marker": {
          "color": "black"
         },
         "name": "None",
         "type": "box",
         "y": [
          0.807,
          0.985,
          0.973,
          0.975,
          0.994,
          0.742,
          0.979,
          1,
          0.577,
          0.72,
          0.994,
          0.5,
          0.987,
          0.974,
          0.987,
          0.985,
          0.739,
          0.93,
          0.739,
          1,
          0.971,
          0.995,
          0.416,
          0.553,
          0.872,
          0.84,
          0.908,
          0.987,
          0.985,
          0.913,
          0.251,
          1,
          0.955,
          0.356,
          0.486,
          0.959,
          0.985,
          0.651,
          0.556,
          0.817,
          0.987,
          0.514,
          0.982,
          0.984,
          0.796,
          0.995,
          1,
          0.985,
          0.995,
          0.996,
          0.614,
          0.99,
          0.955,
          0.922,
          0.939,
          0.982,
          0.987,
          1,
          0.982,
          0.973,
          0.467,
          0.88,
          0.872,
          0.989,
          0.631,
          0.938,
          0.961,
          0.501,
          1,
          0.992,
          0.987,
          0.963,
          0.81,
          0.727,
          0.752
         ]
        },
        {
         "boxmean": "sd",
         "fillcolor": "rgba(0, 0, 0, 0)",
         "line": {
          "width": 1
         },
         "marker": {
          "color": "black"
         },
         "name": "EveryNth",
         "type": "box",
         "y": [
          0.48,
          0.988,
          0.846,
          0.794,
          0.984,
          0.505,
          0.965,
          1,
          0.577,
          0.337,
          0.5,
          0.5,
          0.968,
          0.952,
          0.844,
          0.986,
          0.342,
          0.301,
          0.766,
          1,
          0.968,
          0.977,
          0.626,
          0.611,
          0.944,
          0.966,
          0.971,
          0.986,
          0.929,
          0.959,
          0.251,
          1,
          0.923,
          0.356,
          0.581,
          0.495,
          0.993,
          0.333,
          0.556,
          0.582,
          0.267,
          0.983,
          0.979,
          0.504,
          0.864,
          0.985,
          1,
          0.948,
          0.967,
          0.993,
          0.757,
          0.981,
          0.981,
          0.877,
          0.946,
          0.509,
          0.979,
          1,
          0.982,
          0.977,
          0.332,
          0.982,
          0.961,
          0.991,
          0.993,
          0.819,
          0.958,
          0.501,
          1,
          0.987,
          0.574,
          0.406,
          0.575,
          0.727,
          0.998
         ]
        },
        {
         "boxmean": "sd",
         "fillcolor": "rgba(0, 0, 0, 0)",
         "line": {
          "width": 1
         },
         "marker": {
          "color": "black"
         },
         "name": "MinMax",
         "type": "box",
         "y": [
          0.303,
          0.984,
          0.909,
          0.998,
          0.971,
          0.467,
          0.953,
          1,
          0.577,
          0.337,
          0.669,
          0.797,
          0.963,
          0.978,
          0.943,
          0.983,
          0.342,
          0.467,
          0.404,
          1,
          0.998,
          0.524,
          0.424,
          0.634,
          0.936,
          0.798,
          0.972,
          0.98,
          0.812,
          0.92,
          0.251,
          1,
          0.952,
          0.356,
          0.58,
          0.682,
          0.999,
          0.333,
          0.556,
          0.928,
          0.267,
          0.333,
          0.982,
          0.42,
          0.901,
          0.452,
          0.277,
          0.5,
          0.78,
          0.704,
          0.757,
          0.744,
          0.982,
          0.453,
          0.709,
          0.424,
          0.987,
          1,
          0.58,
          0.977,
          0.332,
          0.995,
          0.957,
          0.99,
          0.5,
          0.986,
          0.997,
          0.501,
          1,
          0.978,
          0.355,
          0.201,
          0.793,
          0.727,
          0.989
         ]
        },
        {
         "boxmean": "sd",
         "fillcolor": "rgba(0, 0, 0, 0)",
         "line": {
          "width": 1
         },
         "marker": {
          "color": "black"
         },
         "name": "M4",
         "type": "box",
         "y": [
          0.303,
          0.993,
          0.5,
          0.998,
          0.992,
          0.256,
          0.977,
          1,
          0.577,
          0.612,
          0.5,
          0.977,
          0.865,
          0.202,
          0.565,
          0.125,
          0.342,
          0.811,
          0.477,
          1,
          0.94,
          0.524,
          0.729,
          0.637,
          0.819,
          0.58,
          0.274,
          0.981,
          0.39,
          0.925,
          0.251,
          1,
          0.915,
          0.356,
          0.358,
          0.25,
          0.993,
          0.953,
          0.556,
          0.79,
          0.267,
          0.912,
          0.979,
          0.417,
          0.343,
          0.325,
          0.451,
          0.5,
          0.821,
          0.414,
          0.584,
          0.707,
          0.744,
          0.502,
          0.652,
          0.502,
          0.978,
          1,
          0.58,
          0.517,
          0.53,
          0.949,
          0.811,
          0.984,
          0.995,
          0.999,
          0.984,
          0.501,
          1,
          0.942,
          0.201,
          0.201,
          0.605,
          0.727,
          0.988
         ]
        },
        {
         "boxmean": "sd",
         "fillcolor": "rgba(0, 0, 0, 0)",
         "line": {
          "width": 1
         },
         "marker": {
          "color": "black"
         },
         "name": "LTTB",
         "type": "box",
         "y": [
          0.621,
          0.989,
          0.868,
          0.996,
          0.986,
          0.256,
          0.965,
          1,
          0.577,
          0.337,
          0.98,
          0.772,
          0.973,
          0.983,
          0.897,
          0.936,
          0.563,
          0.807,
          0.608,
          1,
          0.985,
          0.524,
          0.426,
          0.573,
          0.965,
          0.808,
          0.987,
          0.981,
          0.98,
          0.943,
          0.251,
          1,
          0.984,
          0.356,
          0.582,
          0.721,
          0.998,
          0.333,
          0.556,
          0.597,
          0.555,
          0.333,
          0.942,
          0.717,
          0.47,
          0.568,
          0.332,
          0.5,
          0.98,
          0.851,
          0.382,
          0.962,
          0.981,
          0.665,
          0.855,
          0.594,
          0.977,
          1,
          0.58,
          0.97,
          0.332,
          0.989,
          0.809,
          0.988,
          0.5,
          0.986,
          0.96,
          0.501,
          1,
          0.99,
          0.726,
          0.55,
          0.805,
          0.727,
          0.994
         ]
        },
        {
         "boxmean": "sd",
         "fillcolor": "rgba(0, 0, 0, 0)",
         "line": {
          "width": 1
         },
         "marker": {
          "color": "black"
         },
         "name": "MinMaxLTTB",
         "type": "box",
         "y": [
          0.621,
          0.989,
          0.868,
          0.996,
          0.986,
          0.256,
          0.965,
          1,
          0.577,
          0.337,
          0.98,
          0.772,
          0.973,
          0.983,
          0.897,
          0.936,
          0.563,
          0.807,
          0.608,
          1,
          0.985,
          0.524,
          0.426,
          0.573,
          0.965,
          0.796,
          0.987,
          0.981,
          0.98,
          0.943,
          0.251,
          1,
          0.984,
          0.356,
          0.582,
          0.721,
          0.998,
          0.333,
          0.556,
          0.597,
          0.555,
          0.333,
          0.942,
          0.717,
          0.47,
          0.568,
          0.332,
          0.5,
          0.98,
          0.851,
          0.382,
          0.962,
          0.981,
          0.665,
          0.855,
          0.594,
          0.977,
          1,
          0.58,
          0.97,
          0.332,
          0.989,
          0.809,
          0.988,
          0.5,
          0.986,
          0.96,
          0.501,
          1,
          0.99,
          0.726,
          0.55,
          0.805,
          0.727,
          0.994
         ]
        },
        {
         "boxmean": "sd",
         "fillcolor": "rgba(0, 0, 0, 0)",
         "line": {
          "width": 1
         },
         "marker": {
          "color": "black"
         },
         "name": "LTD",
         "type": "box",
         "y": [
          0.603,
          0.98,
          0.878,
          0.793,
          0.974,
          0.761,
          0.932,
          1,
          0.577,
          0.632,
          0.5,
          0.847,
          0.933,
          0.957,
          0.761,
          0.967,
          0.342,
          0.668,
          0.766,
          1,
          0.988,
          0.524,
          0.422,
          0.573,
          0.982,
          0.975,
          0.284,
          0.98,
          0.979,
          0.941,
          0.251,
          1,
          0.92,
          0.356,
          0.58,
          0.736,
          1,
          0.647,
          0.556,
          0.791,
          0.98,
          0.626,
          0.978,
          0.652,
          0.791,
          0.789,
          1,
          0.995,
          0.833,
          0.99,
          0.382,
          0.984,
          0.978,
          0.675,
          0.549,
          0.855,
          0.97,
          1,
          0.58,
          0.835,
          0.332,
          0.988,
          0.797,
          0.798,
          0.94,
          0.989,
          0.958,
          0.501,
          1,
          0.987,
          0.201,
          0.201,
          0.603,
          0.727,
          0.998
         ]
        }
       ],
       "layout": {
        "autosize": true,
        "font": {
         "color": "black",
         "family": "Arial",
         "size": 12
        },
        "margin": {
         "b": 0,
         "l": 0,
         "r": 0,
         "t": 30
        },
        "showlegend": false,
        "template": {
         "data": {
          "bar": [
           {
            "error_x": {
             "color": "#2a3f5f"
            },
            "error_y": {
             "color": "#2a3f5f"
            },
            "marker": {
             "line": {
              "color": "#E5ECF6",
              "width": 0.5
             },
             "pattern": {
              "fillmode": "overlay",
              "size": 10,
              "solidity": 0.2
             }
            },
            "type": "bar"
           }
          ],
          "barpolar": [
           {
            "marker": {
             "line": {
              "color": "#E5ECF6",
              "width": 0.5
             },
             "pattern": {
              "fillmode": "overlay",
              "size": 10,
              "solidity": 0.2
             }
            },
            "type": "barpolar"
           }
          ],
          "carpet": [
           {
            "aaxis": {
             "endlinecolor": "#2a3f5f",
             "gridcolor": "white",
             "linecolor": "white",
             "minorgridcolor": "white",
             "startlinecolor": "#2a3f5f"
            },
            "baxis": {
             "endlinecolor": "#2a3f5f",
             "gridcolor": "white",
             "linecolor": "white",
             "minorgridcolor": "white",
             "startlinecolor": "#2a3f5f"
            },
            "type": "carpet"
           }
          ],
          "choropleth": [
           {
            "colorbar": {
             "outlinewidth": 0,
             "ticks": ""
            },
            "type": "choropleth"
           }
          ],
          "contour": [
           {
            "colorbar": {
             "outlinewidth": 0,
             "ticks": ""
            },
            "colorscale": [
             [
              0,
              "#0d0887"
             ],
             [
              0.1111111111111111,
              "#46039f"
             ],
             [
              0.2222222222222222,
              "#7201a8"
             ],
             [
              0.3333333333333333,
              "#9c179e"
             ],
             [
              0.4444444444444444,
              "#bd3786"
             ],
             [
              0.5555555555555556,
              "#d8576b"
             ],
             [
              0.6666666666666666,
              "#ed7953"
             ],
             [
              0.7777777777777778,
              "#fb9f3a"
             ],
             [
              0.8888888888888888,
              "#fdca26"
             ],
             [
              1,
              "#f0f921"
             ]
            ],
            "type": "contour"
           }
          ],
          "contourcarpet": [
           {
            "colorbar": {
             "outlinewidth": 0,
             "ticks": ""
            },
            "type": "contourcarpet"
           }
          ],
          "heatmap": [
           {
            "colorbar": {
             "outlinewidth": 0,
             "ticks": ""
            },
            "colorscale": [
             [
              0,
              "#0d0887"
             ],
             [
              0.1111111111111111,
              "#46039f"
             ],
             [
              0.2222222222222222,
              "#7201a8"
             ],
             [
              0.3333333333333333,
              "#9c179e"
             ],
             [
              0.4444444444444444,
              "#bd3786"
             ],
             [
              0.5555555555555556,
              "#d8576b"
             ],
             [
              0.6666666666666666,
              "#ed7953"
             ],
             [
              0.7777777777777778,
              "#fb9f3a"
             ],
             [
              0.8888888888888888,
              "#fdca26"
             ],
             [
              1,
              "#f0f921"
             ]
            ],
            "type": "heatmap"
           }
          ],
          "heatmapgl": [
           {
            "colorbar": {
             "outlinewidth": 0,
             "ticks": ""
            },
            "colorscale": [
             [
              0,
              "#0d0887"
             ],
             [
              0.1111111111111111,
              "#46039f"
             ],
             [
              0.2222222222222222,
              "#7201a8"
             ],
             [
              0.3333333333333333,
              "#9c179e"
             ],
             [
              0.4444444444444444,
              "#bd3786"
             ],
             [
              0.5555555555555556,
              "#d8576b"
             ],
             [
              0.6666666666666666,
              "#ed7953"
             ],
             [
              0.7777777777777778,
              "#fb9f3a"
             ],
             [
              0.8888888888888888,
              "#fdca26"
             ],
             [
              1,
              "#f0f921"
             ]
            ],
            "type": "heatmapgl"
           }
          ],
          "histogram": [
           {
            "marker": {
             "pattern": {
              "fillmode": "overlay",
              "size": 10,
              "solidity": 0.2
             }
            },
            "type": "histogram"
           }
          ],
          "histogram2d": [
           {
            "colorbar": {
             "outlinewidth": 0,
             "ticks": ""
            },
            "colorscale": [
             [
              0,
              "#0d0887"
             ],
             [
              0.1111111111111111,
              "#46039f"
             ],
             [
              0.2222222222222222,
              "#7201a8"
             ],
             [
              0.3333333333333333,
              "#9c179e"
             ],
             [
              0.4444444444444444,
              "#bd3786"
             ],
             [
              0.5555555555555556,
              "#d8576b"
             ],
             [
              0.6666666666666666,
              "#ed7953"
             ],
             [
              0.7777777777777778,
              "#fb9f3a"
             ],
             [
              0.8888888888888888,
              "#fdca26"
             ],
             [
              1,
              "#f0f921"
             ]
            ],
            "type": "histogram2d"
           }
          ],
          "histogram2dcontour": [
           {
            "colorbar": {
             "outlinewidth": 0,
             "ticks": ""
            },
            "colorscale": [
             [
              0,
              "#0d0887"
             ],
             [
              0.1111111111111111,
              "#46039f"
             ],
             [
              0.2222222222222222,
              "#7201a8"
             ],
             [
              0.3333333333333333,
              "#9c179e"
             ],
             [
              0.4444444444444444,
              "#bd3786"
             ],
             [
              0.5555555555555556,
              "#d8576b"
             ],
             [
              0.6666666666666666,
              "#ed7953"
             ],
             [
              0.7777777777777778,
              "#fb9f3a"
             ],
             [
              0.8888888888888888,
              "#fdca26"
             ],
             [
              1,
              "#f0f921"
             ]
            ],
            "type": "histogram2dcontour"
           }
          ],
          "mesh3d": [
           {
            "colorbar": {
             "outlinewidth": 0,
             "ticks": ""
            },
            "type": "mesh3d"
           }
          ],
          "parcoords": [
           {
            "line": {
             "colorbar": {
              "outlinewidth": 0,
              "ticks": ""
             }
            },
            "type": "parcoords"
           }
          ],
          "pie": [
           {
            "automargin": true,
            "type": "pie"
           }
          ],
          "scatter": [
           {
            "fillpattern": {
             "fillmode": "overlay",
             "size": 10,
             "solidity": 0.2
            },
            "type": "scatter"
           }
          ],
          "scatter3d": [
           {
            "line": {
             "colorbar": {
              "outlinewidth": 0,
              "ticks": ""
             }
            },
            "marker": {
             "colorbar": {
              "outlinewidth": 0,
              "ticks": ""
             }
            },
            "type": "scatter3d"
           }
          ],
          "scattercarpet": [
           {
            "marker": {
             "colorbar": {
              "outlinewidth": 0,
              "ticks": ""
             }
            },
            "type": "scattercarpet"
           }
          ],
          "scattergeo": [
           {
            "marker": {
             "colorbar": {
              "outlinewidth": 0,
              "ticks": ""
             }
            },
            "type": "scattergeo"
           }
          ],
          "scattergl": [
           {
            "marker": {
             "colorbar": {
              "outlinewidth": 0,
              "ticks": ""
             }
            },
            "type": "scattergl"
           }
          ],
          "scattermapbox": [
           {
            "marker": {
             "colorbar": {
              "outlinewidth": 0,
              "ticks": ""
             }
            },
            "type": "scattermapbox"
           }
          ],
          "scatterpolar": [
           {
            "marker": {
             "colorbar": {
              "outlinewidth": 0,
              "ticks": ""
             }
            },
            "type": "scatterpolar"
           }
          ],
          "scatterpolargl": [
           {
            "marker": {
             "colorbar": {
              "outlinewidth": 0,
              "ticks": ""
             }
            },
            "type": "scatterpolargl"
           }
          ],
          "scatterternary": [
           {
            "marker": {
             "colorbar": {
              "outlinewidth": 0,
              "ticks": ""
             }
            },
            "type": "scatterternary"
           }
          ],
          "surface": [
           {
            "colorbar": {
             "outlinewidth": 0,
             "ticks": ""
            },
            "colorscale": [
             [
              0,
              "#0d0887"
             ],
             [
              0.1111111111111111,
              "#46039f"
             ],
             [
              0.2222222222222222,
              "#7201a8"
             ],
             [
              0.3333333333333333,
              "#9c179e"
             ],
             [
              0.4444444444444444,
              "#bd3786"
             ],
             [
              0.5555555555555556,
              "#d8576b"
             ],
             [
              0.6666666666666666,
              "#ed7953"
             ],
             [
              0.7777777777777778,
              "#fb9f3a"
             ],
             [
              0.8888888888888888,
              "#fdca26"
             ],
             [
              1,
              "#f0f921"
             ]
            ],
            "type": "surface"
           }
          ],
          "table": [
           {
            "cells": {
             "fill": {
              "color": "#EBF0F8"
             },
             "line": {
              "color": "white"
             }
            },
            "header": {
             "fill": {
              "color": "#C8D4E3"
             },
             "line": {
              "color": "white"
             }
            },
            "type": "table"
           }
          ]
         },
         "layout": {
          "annotationdefaults": {
           "arrowcolor": "#2a3f5f",
           "arrowhead": 0,
           "arrowwidth": 1
          },
          "autotypenumbers": "strict",
          "coloraxis": {
           "colorbar": {
            "outlinewidth": 0,
            "ticks": ""
           }
          },
          "colorscale": {
           "diverging": [
            [
             0,
             "#8e0152"
            ],
            [
             0.1,
             "#c51b7d"
            ],
            [
             0.2,
             "#de77ae"
            ],
            [
             0.3,
             "#f1b6da"
            ],
            [
             0.4,
             "#fde0ef"
            ],
            [
             0.5,
             "#f7f7f7"
            ],
            [
             0.6,
             "#e6f5d0"
            ],
            [
             0.7,
             "#b8e186"
            ],
            [
             0.8,
             "#7fbc41"
            ],
            [
             0.9,
             "#4d9221"
            ],
            [
             1,
             "#276419"
            ]
           ],
           "sequential": [
            [
             0,
             "#0d0887"
            ],
            [
             0.1111111111111111,
             "#46039f"
            ],
            [
             0.2222222222222222,
             "#7201a8"
            ],
            [
             0.3333333333333333,
             "#9c179e"
            ],
            [
             0.4444444444444444,
             "#bd3786"
            ],
            [
             0.5555555555555556,
             "#d8576b"
            ],
            [
             0.6666666666666666,
             "#ed7953"
            ],
            [
             0.7777777777777778,
             "#fb9f3a"
            ],
            [
             0.8888888888888888,
             "#fdca26"
            ],
            [
             1,
             "#f0f921"
            ]
           ],
           "sequentialminus": [
            [
             0,
             "#0d0887"
            ],
            [
             0.1111111111111111,
             "#46039f"
            ],
            [
             0.2222222222222222,
             "#7201a8"
            ],
            [
             0.3333333333333333,
             "#9c179e"
            ],
            [
             0.4444444444444444,
             "#bd3786"
            ],
            [
             0.5555555555555556,
             "#d8576b"
            ],
            [
             0.6666666666666666,
             "#ed7953"
            ],
            [
             0.7777777777777778,
             "#fb9f3a"
            ],
            [
             0.8888888888888888,
             "#fdca26"
            ],
            [
             1,
             "#f0f921"
            ]
           ]
          },
          "colorway": [
           "#636efa",
           "#EF553B",
           "#00cc96",
           "#ab63fa",
           "#FFA15A",
           "#19d3f3",
           "#FF6692",
           "#B6E880",
           "#FF97FF",
           "#FECB52"
          ],
          "font": {
           "color": "#2a3f5f"
          },
          "geo": {
           "bgcolor": "white",
           "lakecolor": "white",
           "landcolor": "#E5ECF6",
           "showlakes": true,
           "showland": true,
           "subunitcolor": "white"
          },
          "hoverlabel": {
           "align": "left"
          },
          "hovermode": "closest",
          "mapbox": {
           "style": "light"
          },
          "paper_bgcolor": "white",
          "plot_bgcolor": "#E5ECF6",
          "polar": {
           "angularaxis": {
            "gridcolor": "white",
            "linecolor": "white",
            "ticks": ""
           },
           "bgcolor": "#E5ECF6",
           "radialaxis": {
            "gridcolor": "white",
            "linecolor": "white",
            "ticks": ""
           }
          },
          "scene": {
           "xaxis": {
            "backgroundcolor": "#E5ECF6",
            "gridcolor": "white",
            "gridwidth": 2,
            "linecolor": "white",
            "showbackground": true,
            "ticks": "",
            "zerolinecolor": "white"
           },
           "yaxis": {
            "backgroundcolor": "#E5ECF6",
            "gridcolor": "white",
            "gridwidth": 2,
            "linecolor": "white",
            "showbackground": true,
            "ticks": "",
            "zerolinecolor": "white"
           },
           "zaxis": {
            "backgroundcolor": "#E5ECF6",
            "gridcolor": "white",
            "gridwidth": 2,
            "linecolor": "white",
            "showbackground": true,
            "ticks": "",
            "zerolinecolor": "white"
           }
          },
          "shapedefaults": {
           "line": {
            "color": "#2a3f5f"
           }
          },
          "ternary": {
           "aaxis": {
            "gridcolor": "white",
            "linecolor": "white",
            "ticks": ""
           },
           "baxis": {
            "gridcolor": "white",
            "linecolor": "white",
            "ticks": ""
           },
           "bgcolor": "#E5ECF6",
           "caxis": {
            "gridcolor": "white",
            "linecolor": "white",
            "ticks": ""
           }
          },
          "title": {
           "x": 0.05
          },
          "xaxis": {
           "automargin": true,
           "gridcolor": "white",
           "linecolor": "white",
           "ticks": "",
           "title": {
            "standoff": 15
           },
           "zerolinecolor": "white",
           "zerolinewidth": 2
          },
          "yaxis": {
           "automargin": true,
           "gridcolor": "white",
           "linecolor": "white",
           "ticks": "",
           "title": {
            "standoff": 15
           },
           "zerolinecolor": "white",
           "zerolinewidth": 2
          }
         }
        },
        "title": {
         "text": "(a) TSSB"
        },
        "xaxis": {
         "autorange": true,
         "range": [
          -0.5,
          6.5
         ],
         "type": "category"
        },
        "yaxis": {
         "autorange": true,
         "range": [
          0.0763888888888889,
          1.0486111111111112
         ],
         "title": {
          "text": "Covering Score"
         },
         "type": "linear"
        }
       }
      },
      "image/png": "[encoded data removed]"
     },
     "metadata": {},
     "output_type": "display_data"
    }
   ],
   "source": [
    "boxplot_scores(main_exp_tssb, '(a) TSSB', filepath='results/figures/boxplot_mainexp_scores_TSSB.svg')"
   ]
  },
  {
   "cell_type": "code",
   "execution_count": 18,
   "id": "de112e32-a02b-40a8-9c51-cc7d710ab5fc",
   "metadata": {},
   "outputs": [
    {
     "data": {
      "text/html": [
       "<div>\n",
       "<style scoped>\n",
       "    .dataframe tbody tr th:only-of-type {\n",
       "        vertical-align: middle;\n",
       "    }\n",
       "\n",
       "    .dataframe tbody tr th {\n",
       "        vertical-align: top;\n",
       "    }\n",
       "\n",
       "    .dataframe thead th {\n",
       "        text-align: right;\n",
       "    }\n",
       "</style>\n",
       "<table border=\"1\" class=\"dataframe\">\n",
       "  <thead>\n",
       "    <tr style=\"text-align: right;\">\n",
       "      <th>Algorithm</th>\n",
       "      <th>None</th>\n",
       "      <th>EveryNth</th>\n",
       "      <th>MinMax</th>\n",
       "      <th>M4</th>\n",
       "      <th>LTTB</th>\n",
       "      <th>MinMaxLTTB</th>\n",
       "      <th>LTD</th>\n",
       "    </tr>\n",
       "  </thead>\n",
       "  <tbody>\n",
       "    <tr>\n",
       "      <th>mean</th>\n",
       "      <td>0.854547</td>\n",
       "      <td>0.785667</td>\n",
       "      <td>0.722800</td>\n",
       "      <td>0.665400</td>\n",
       "      <td>0.756467</td>\n",
       "      <td>0.756307</td>\n",
       "      <td>0.770907</td>\n",
       "    </tr>\n",
       "    <tr>\n",
       "      <th>median</th>\n",
       "      <td>0.961000</td>\n",
       "      <td>0.946000</td>\n",
       "      <td>0.793000</td>\n",
       "      <td>0.637000</td>\n",
       "      <td>0.809000</td>\n",
       "      <td>0.809000</td>\n",
       "      <td>0.833000</td>\n",
       "    </tr>\n",
       "    <tr>\n",
       "      <th>std</th>\n",
       "      <td>0.190514</td>\n",
       "      <td>0.245017</td>\n",
       "      <td>0.265686</td>\n",
       "      <td>0.276243</td>\n",
       "      <td>0.240966</td>\n",
       "      <td>0.240935</td>\n",
       "      <td>0.233486</td>\n",
       "    </tr>\n",
       "  </tbody>\n",
       "</table>\n",
       "</div>"
      ],
      "text/plain": [
       "Algorithm      None  EveryNth    MinMax        M4      LTTB  MinMaxLTTB  \\\n",
       "mean       0.854547  0.785667  0.722800  0.665400  0.756467    0.756307   \n",
       "median     0.961000  0.946000  0.793000  0.637000  0.809000    0.809000   \n",
       "std        0.190514  0.245017  0.265686  0.276243  0.240966    0.240935   \n",
       "\n",
       "Algorithm       LTD  \n",
       "mean       0.770907  \n",
       "median     0.833000  \n",
       "std        0.233486  "
      ]
     },
     "execution_count": 18,
     "metadata": {},
     "output_type": "execute_result"
    }
   ],
   "source": [
    "score_comparison_matrix_w(main_exp_tssb[['Algorithm','score']], savepath='results/tables/summary_statistics_mainexp_TSSB.xlsx')"
   ]
  },
  {
   "cell_type": "markdown",
   "id": "8c195455-faab-472c-a27e-7505770fc0ff",
   "metadata": {},
   "source": [
    "## HASC"
   ]
  },
  {
   "cell_type": "code",
   "execution_count": 19,
   "id": "504f0dc6-5242-4303-95e0-13c5d8976ace",
   "metadata": {},
   "outputs": [],
   "source": [
    "main_exp_hasc = main(hasc,threshold_hasc,True)"
   ]
  },
  {
   "cell_type": "code",
   "execution_count": null,
   "id": "c3528a13-1610-411a-98b2-faf3c7636eb2",
   "metadata": {},
   "outputs": [],
   "source": [
    "main_exp_hasc.to_pickle('results/zwischenergebnisse/main_experiment_hasc.pkl')"
   ]
  },
  {
   "cell_type": "code",
   "execution_count": 20,
   "id": "cb11dff7-2e12-45cc-855b-01aa504416a8",
   "metadata": {},
   "outputs": [
    {
     "data": {
      "image/png": "[encoded data removed]",
      "text/plain": [
       "<Figure size 1000x200 with 1 Axes>"
      ]
     },
     "metadata": {},
     "output_type": "display_data"
    }
   ],
   "source": [
    "critical_distance(main_exp_hasc, title='(b) HASC', filepath='results/figures/critical_distance_orig_scores_HASC.svg')"
   ]
  },
  {
   "cell_type": "code",
   "execution_count": 21,
   "id": "e60abf2e-c32d-4b89-910d-7d70f9772feb",
   "metadata": {},
   "outputs": [
    {
     "data": {
      "application/vnd.plotly.v1+json": {
       "config": {
        "plotlyServerURL": "https://plot.ly"
       },
       "data": [
        {
         "boxmean": "sd",
         "fillcolor": "rgba(0, 0, 0, 0)",
         "line": {
          "width": 1
         },
         "marker": {
          "color": "black"
         },
         "name": "None",
         "type": "box",
         "y": [
          0.413,
          0.648,
          0.884,
          0.429,
          0.911,
          0.786,
          0.759,
          0.955,
          0.913,
          0.158,
          0.476,
          0.782,
          0.928,
          0.972,
          0.808,
          0.903,
          0.963,
          0.426,
          0.787,
          0.885,
          0.994,
          0.82,
          0.744,
          0.725,
          0.969,
          0.959,
          0.63,
          0.758,
          0.876,
          0.92,
          0.896,
          0.66,
          0.912,
          0.905,
          0.868,
          0.497,
          0.685,
          0.683,
          0.319,
          0.92,
          0.691,
          0.218,
          0.609,
          0.681,
          0.314,
          0.453,
          0.512,
          0.422,
          0.441,
          0.475,
          0.456,
          0.654,
          0.689,
          0.49,
          0.581,
          0.515,
          0.568,
          0.525,
          0.744,
          0.803,
          0.715,
          0.979,
          0.616,
          0.596,
          0.742,
          0.952,
          0.753,
          0.598,
          0.749,
          0.819,
          0.853,
          0.679,
          0.413,
          0.945,
          0.773,
          0.655,
          0.749,
          0.62,
          0.809,
          0.982,
          0.901,
          0.545,
          0.651,
          0.447,
          0.864,
          0.564,
          0.656,
          0.602,
          0.991,
          0.636,
          0.96,
          1,
          0.999,
          0.867,
          0.621,
          1,
          1,
          0.675,
          0.945,
          0.775,
          1,
          0.935,
          1,
          0.592,
          0.856,
          0.836,
          0.899,
          0.976,
          0.749,
          0.988,
          0.369,
          0.724,
          0.98,
          0.65,
          0.944,
          0.767,
          0.981,
          0.995,
          1,
          1,
          0.261,
          0.878,
          0.772,
          0.955,
          0.46,
          0.905,
          0.746,
          1,
          0.992,
          0.981,
          0.529,
          0.474,
          0.89,
          0.778,
          0.443,
          0.725,
          0.741,
          0.574,
          0.344,
          0.604,
          0.981,
          0.923,
          0.904,
          1,
          0.936,
          0.567,
          0.357,
          0.43,
          0.861,
          0.416,
          0.493,
          0.733,
          0.676,
          0.453,
          0.637,
          0.545,
          0.864,
          0.344,
          1,
          0.401,
          0.53,
          0.53,
          0.568,
          0.913,
          0.519,
          0.5,
          0.312,
          0.633,
          0.721,
          0.804,
          0.628,
          0.242,
          1,
          0.553,
          1,
          0.751,
          0.45,
          0.369,
          0.363,
          0.526,
          0.883,
          0.715,
          0.834,
          0.711,
          0.684,
          0.864,
          0.871,
          0.611,
          0.952,
          0.941,
          0.856,
          0.719,
          1,
          1,
          0.743,
          0.636,
          0.535,
          0.96,
          0.877,
          0.988,
          0.638,
          0.817,
          0.916,
          0.989,
          0.808,
          0.989,
          0.821,
          1,
          0.97,
          0.799,
          0.978,
          0.522,
          0.251,
          1,
          0.718,
          0.337,
          0.96,
          0.901,
          0.903,
          0.89,
          1,
          1,
          1,
          1,
          0.933,
          0.881,
          0.505,
          0.932,
          0.662,
          0.937,
          1,
          0.856,
          0.74,
          0.778,
          1,
          0.828,
          1,
          0.908,
          0.701,
          0.831,
          0.974,
          0.954,
          0.346,
          0.679,
          0.544,
          0.639,
          1,
          0.636,
          1,
          0.861
         ]
        },
        {
         "boxmean": "sd",
         "fillcolor": "rgba(0, 0, 0, 0)",
         "line": {
          "width": 1
         },
         "marker": {
          "color": "black"
         },
         "name": "EveryNth",
         "type": "box",
         "y": [
          0.35,
          0.504,
          0.88,
          0.775,
          0.82,
          0.787,
          0.895,
          0.925,
          0.877,
          0.158,
          0.472,
          0.794,
          0.923,
          0.816,
          0.97,
          0.892,
          0.94,
          0.424,
          0.789,
          0.88,
          0.866,
          0.845,
          0.755,
          0.789,
          0.945,
          0.957,
          0.752,
          0.72,
          0.581,
          0.937,
          0.94,
          0.822,
          0.369,
          0.558,
          0.836,
          0.488,
          0.679,
          0.458,
          0.25,
          0.95,
          0.517,
          0.218,
          0.613,
          0.677,
          0.311,
          0.453,
          0.532,
          0.469,
          0.45,
          0.473,
          0.394,
          0.67,
          0.646,
          0.579,
          0.437,
          0.596,
          0.492,
          0.531,
          0.284,
          0.788,
          0.707,
          0.996,
          0.685,
          0.902,
          0.81,
          0.379,
          0.816,
          0.759,
          0.782,
          0.961,
          0.308,
          0.665,
          0.605,
          0.953,
          0.784,
          0.501,
          0.762,
          0.78,
          0.877,
          0.985,
          0.888,
          0.425,
          0.661,
          0.892,
          0.853,
          0.742,
          0.878,
          0.59,
          0.994,
          0.642,
          0.501,
          1,
          0.996,
          0.603,
          0.621,
          1,
          1,
          0.754,
          0.93,
          0.911,
          1,
          0.996,
          1,
          0.456,
          0.895,
          0.916,
          0.471,
          0.849,
          0.501,
          0.903,
          0.369,
          0.993,
          0.983,
          0.986,
          0.706,
          0.877,
          0.902,
          0.986,
          1,
          1,
          0.493,
          0.933,
          0.728,
          0.954,
          0.76,
          0.811,
          0.286,
          1,
          0.987,
          0.982,
          0.873,
          0.54,
          0.849,
          0.474,
          0.464,
          0.396,
          0.805,
          0.598,
          0.839,
          0.611,
          0.859,
          1,
          0.923,
          1,
          0.912,
          0.567,
          0.369,
          0.388,
          0.873,
          0.622,
          0.673,
          0.562,
          0.348,
          0.453,
          0.601,
          0.626,
          0.583,
          0.274,
          1,
          0.401,
          0.444,
          0.53,
          0.568,
          0.891,
          0.519,
          0.682,
          0.271,
          0.449,
          0.873,
          0.804,
          0.48,
          0.242,
          1,
          0.376,
          1,
          0.783,
          0.612,
          0.515,
          0.381,
          0.554,
          0.881,
          0.71,
          0.869,
          0.588,
          0.336,
          0.307,
          0.905,
          0.608,
          0.961,
          0.908,
          0.81,
          0.743,
          1,
          1,
          0.718,
          0.542,
          0.323,
          0.958,
          0.937,
          0.714,
          0.635,
          0.864,
          0.923,
          0.992,
          0.808,
          0.959,
          0.805,
          1,
          0.973,
          0.929,
          1,
          0.522,
          0.501,
          1,
          0.733,
          0.337,
          0.935,
          0.915,
          0.935,
          0.859,
          1,
          1,
          1,
          1,
          0.991,
          0.897,
          0.505,
          0.333,
          0.649,
          0.677,
          1,
          0.857,
          0.842,
          0.776,
          1,
          1,
          1,
          0.804,
          0.359,
          0.828,
          0.768,
          0.997,
          0.346,
          0.658,
          0.57,
          1,
          1,
          0.426,
          1,
          0.893
         ]
        },
        {
         "boxmean": "sd",
         "fillcolor": "rgba(0, 0, 0, 0)",
         "line": {
          "width": 1
         },
         "marker": {
          "color": "black"
         },
         "name": "MinMax",
         "type": "box",
         "y": [
          0.459,
          0.505,
          0.867,
          0.168,
          0.516,
          0.788,
          0.892,
          0.926,
          0.878,
          0.158,
          0.47,
          0.794,
          0.959,
          0.946,
          0.968,
          0.907,
          0.932,
          0.416,
          0.786,
          0.89,
          0.696,
          0.848,
          0.749,
          0.721,
          0.966,
          0.941,
          0.718,
          0.737,
          0.914,
          0.636,
          0.522,
          0.821,
          0.369,
          0.554,
          0.355,
          0.541,
          0.951,
          0.524,
          0.547,
          0.962,
          0.688,
          0.218,
          0.627,
          0.676,
          0.315,
          0.422,
          0.532,
          0.447,
          0.404,
          0.474,
          0.386,
          0.648,
          0.65,
          0.576,
          0.506,
          0.593,
          0.356,
          0.664,
          0.282,
          0.788,
          0.703,
          0.98,
          0.557,
          0.983,
          0.809,
          0.379,
          0.792,
          0.745,
          0.775,
          0.936,
          0.87,
          0.729,
          0.6,
          0.942,
          0.785,
          0.7,
          0.784,
          0.698,
          0.873,
          0.985,
          0.891,
          0.814,
          0.663,
          0.448,
          0.853,
          0.787,
          0.878,
          0.584,
          0.996,
          0.643,
          0.501,
          1,
          0.996,
          0.852,
          0.621,
          1,
          1,
          0.831,
          0.937,
          0.955,
          1,
          0.994,
          1,
          0.453,
          0.842,
          0.909,
          0.897,
          0.842,
          0.503,
          0.883,
          0.369,
          0.989,
          0.982,
          0.984,
          0.358,
          0.914,
          0.894,
          0.994,
          1,
          1,
          0.261,
          0.922,
          0.83,
          0.481,
          0.804,
          0.789,
          0.71,
          1,
          0.731,
          0.982,
          0.873,
          0.554,
          0.849,
          0.474,
          0.732,
          0.396,
          0.893,
          0.575,
          0.938,
          0.612,
          0.861,
          1,
          0.988,
          1,
          0.852,
          0.567,
          0.369,
          0.388,
          0.875,
          0.427,
          0.494,
          0.686,
          0.369,
          0.453,
          0.601,
          0.613,
          0.583,
          0.346,
          1,
          0.401,
          0.442,
          0.53,
          0.568,
          0.891,
          0.519,
          0.244,
          0.31,
          0.336,
          0.659,
          0.804,
          0.478,
          0.242,
          1,
          0.372,
          1,
          0.79,
          0.596,
          0.37,
          0.524,
          0.532,
          0.898,
          0.714,
          0.832,
          0.528,
          0.682,
          0.305,
          1,
          0.596,
          0.957,
          0.891,
          0.81,
          0.732,
          1,
          1,
          0.681,
          0.535,
          0.323,
          0.959,
          0.938,
          0.714,
          0.417,
          0.864,
          0.923,
          0.989,
          0.808,
          0.961,
          0.84,
          1,
          0.971,
          0.91,
          0.953,
          0.522,
          0.501,
          1,
          0.731,
          0.337,
          0.966,
          0.916,
          0.936,
          0.859,
          1,
          1,
          1,
          1,
          0.934,
          0.939,
          0.505,
          0.333,
          0.65,
          0.677,
          1,
          0.858,
          0.842,
          0.774,
          1,
          1,
          1,
          0.804,
          0.359,
          0.83,
          0.764,
          0.967,
          0.346,
          0.654,
          0.57,
          1,
          1,
          0.426,
          1,
          0.892
         ]
        },
        {
         "boxmean": "sd",
         "fillcolor": "rgba(0, 0, 0, 0)",
         "line": {
          "width": 1
         },
         "marker": {
          "color": "black"
         },
         "name": "M4",
         "type": "box",
         "y": [
          0.46,
          0.412,
          0.813,
          0.168,
          0.522,
          0.788,
          0.904,
          0.913,
          0.898,
          0.158,
          0.471,
          0.794,
          0.251,
          0.463,
          0.973,
          0.233,
          0.923,
          0.409,
          0.788,
          0.9,
          0.98,
          0.803,
          0.753,
          0.73,
          0.958,
          0.952,
          0.761,
          0.695,
          0.726,
          0.909,
          0.522,
          0.819,
          0.365,
          0.553,
          0.8,
          0.48,
          0.143,
          0.283,
          0.314,
          0.677,
          0.466,
          0.424,
          0.571,
          0.682,
          0.316,
          0.397,
          0.542,
          0.377,
          0.432,
          0.714,
          0.544,
          0.675,
          0.562,
          0.632,
          0.641,
          0.587,
          0.188,
          0.425,
          0.127,
          0.748,
          0.429,
          0.997,
          0.55,
          0.981,
          0.816,
          0.379,
          0.757,
          0.996,
          0.704,
          0.953,
          0.862,
          0.663,
          0.819,
          0.363,
          0.782,
          0.5,
          0.38,
          0.791,
          0.877,
          0.982,
          0.891,
          0.821,
          0.666,
          0.7,
          0.839,
          0.798,
          0.879,
          0.726,
          0.822,
          0.973,
          0.971,
          1,
          0.995,
          0.603,
          0.621,
          1,
          1,
          0.168,
          0.376,
          0.903,
          1,
          0.996,
          1,
          0.449,
          0.638,
          0.913,
          0.985,
          0.832,
          0.452,
          0.884,
          0.369,
          0.995,
          0.977,
          0.985,
          0.358,
          0.925,
          0.905,
          0.989,
          1,
          1,
          0.49,
          0.766,
          0.815,
          0.252,
          0.458,
          0.942,
          0.904,
          1,
          0.654,
          0.979,
          0.549,
          0.565,
          0.849,
          0.395,
          0.561,
          0.396,
          0.89,
          0.631,
          0.99,
          0.61,
          0.872,
          1,
          0.985,
          1,
          0.846,
          0.567,
          0.373,
          0.404,
          0.878,
          0.474,
          0.672,
          0.711,
          0.865,
          0.453,
          0.606,
          0.497,
          0.504,
          0.364,
          1,
          0.401,
          0.436,
          0.53,
          0.568,
          0.894,
          0.519,
          0.676,
          0.462,
          0.356,
          0.663,
          0.804,
          0.242,
          0.242,
          1,
          0.575,
          1,
          0.789,
          0.597,
          0.369,
          0.511,
          0.578,
          0.905,
          0.718,
          0.869,
          0.379,
          0.336,
          0.305,
          0.869,
          0.529,
          0.96,
          0.895,
          0.811,
          0.738,
          1,
          1,
          0.694,
          0.636,
          0.323,
          0.96,
          0.94,
          0.714,
          0.623,
          0.864,
          0.943,
          0.994,
          0.808,
          0.961,
          0.806,
          1,
          0.974,
          0.91,
          0.999,
          0.522,
          0.251,
          1,
          0.735,
          0.337,
          0.964,
          0.899,
          0.921,
          0.751,
          1,
          1,
          1,
          1,
          0.991,
          0.92,
          0.505,
          0.333,
          0.65,
          0.678,
          1,
          0.858,
          0.842,
          0.784,
          1,
          1,
          1,
          0.803,
          0.359,
          0.829,
          0.79,
          0.998,
          0.346,
          0.658,
          0.572,
          1,
          1,
          0.426,
          1,
          0.998
         ]
        },
        {
         "boxmean": "sd",
         "fillcolor": "rgba(0, 0, 0, 0)",
         "line": {
          "width": 1
         },
         "marker": {
          "color": "black"
         },
         "name": "LTTB",
         "type": "box",
         "y": [
          0.35,
          0.505,
          0.859,
          0.168,
          0.522,
          0.787,
          0.797,
          0.582,
          0.882,
          0.158,
          0.47,
          0.79,
          0.894,
          0.816,
          0.97,
          0.233,
          0.937,
          0.415,
          0.523,
          0.334,
          0.706,
          0.715,
          0.93,
          0.815,
          0.96,
          0.959,
          0.623,
          0.734,
          0.843,
          0.941,
          0.519,
          0.816,
          0.369,
          0.554,
          0.761,
          0.572,
          0.685,
          0.283,
          0.258,
          0.654,
          0.517,
          0.218,
          0.602,
          0.693,
          0.312,
          0.404,
          0.532,
          0.46,
          0.41,
          0.45,
          0.451,
          0.746,
          0.511,
          0.487,
          0.498,
          0.495,
          0.299,
          0.664,
          0.767,
          0.795,
          0.712,
          0.979,
          0.707,
          0.973,
          0.811,
          0.379,
          0.734,
          0.624,
          0.777,
          0.956,
          0.865,
          0.728,
          0.806,
          0.952,
          0.787,
          0.501,
          0.774,
          0.678,
          0.874,
          0.984,
          0.888,
          0.425,
          0.654,
          0.45,
          0.856,
          0.74,
          0.89,
          0.711,
          0.995,
          0.636,
          0.501,
          1,
          0.996,
          0.603,
          0.621,
          1,
          1,
          0.725,
          0.376,
          0.912,
          1,
          0.993,
          1,
          0.454,
          0.91,
          0.913,
          0.975,
          0.958,
          0.505,
          0.902,
          0.369,
          0.995,
          0.979,
          0.986,
          0.706,
          0.871,
          0.905,
          0.993,
          1,
          1,
          0.261,
          0.922,
          0.741,
          0.957,
          0.756,
          0.689,
          0.705,
          1,
          0.989,
          0.981,
          0.873,
          0.543,
          0.849,
          0.474,
          0.474,
          0.396,
          0.8,
          0.607,
          0.774,
          0.612,
          0.861,
          1,
          0.984,
          1,
          0.912,
          0.567,
          0.367,
          0.387,
          0.867,
          0.381,
          0.498,
          0.673,
          0.374,
          0.453,
          0.601,
          0.619,
          0.588,
          0.363,
          1,
          0.401,
          0.444,
          0.53,
          0.568,
          0.91,
          0.519,
          0.676,
          0.277,
          0.411,
          0.672,
          0.804,
          0.478,
          0.242,
          1,
          0.577,
          1,
          0.787,
          0.597,
          0.515,
          0.675,
          0.488,
          0.876,
          0.696,
          0.872,
          0.599,
          0.676,
          0.76,
          0.869,
          0.501,
          0.962,
          0.893,
          0.811,
          0.742,
          1,
          1,
          0.568,
          0.532,
          0.323,
          0.959,
          0.707,
          0.714,
          0.42,
          0.864,
          0.919,
          0.992,
          0.808,
          0.961,
          0.79,
          1,
          0.974,
          0.928,
          1,
          0.522,
          0.5,
          1,
          0.734,
          0.337,
          0.939,
          0.913,
          0.933,
          0.859,
          1,
          1,
          1,
          1,
          0.99,
          0.889,
          0.505,
          0.929,
          0.65,
          0.676,
          1,
          0.857,
          0.842,
          0.776,
          1,
          1,
          1,
          0.809,
          0.359,
          0.829,
          0.763,
          0.998,
          0.346,
          0.657,
          0.571,
          1,
          1,
          0.426,
          1,
          0.891
         ]
        },
        {
         "boxmean": "sd",
         "fillcolor": "rgba(0, 0, 0, 0)",
         "line": {
          "width": 1
         },
         "marker": {
          "color": "black"
         },
         "name": "MinMaxLTTB",
         "type": "box",
         "y": [
          0.35,
          0.505,
          0.859,
          0.168,
          0.522,
          0.787,
          0.797,
          0.582,
          0.882,
          0.158,
          0.47,
          0.79,
          0.894,
          0.816,
          0.97,
          0.233,
          0.937,
          0.415,
          0.523,
          0.334,
          0.706,
          0.715,
          0.93,
          0.815,
          0.96,
          0.959,
          0.623,
          0.734,
          0.843,
          0.941,
          0.519,
          0.816,
          0.369,
          0.554,
          0.761,
          0.572,
          0.685,
          0.283,
          0.258,
          0.654,
          0.517,
          0.218,
          0.602,
          0.693,
          0.312,
          0.404,
          0.532,
          0.46,
          0.41,
          0.45,
          0.451,
          0.746,
          0.511,
          0.487,
          0.498,
          0.495,
          0.299,
          0.664,
          0.767,
          0.795,
          0.712,
          0.979,
          0.707,
          0.973,
          0.811,
          0.379,
          0.734,
          0.624,
          0.777,
          0.956,
          0.865,
          0.728,
          0.806,
          0.952,
          0.787,
          0.501,
          0.774,
          0.678,
          0.874,
          0.984,
          0.888,
          0.425,
          0.654,
          0.45,
          0.856,
          0.74,
          0.89,
          0.711,
          0.995,
          0.636,
          0.501,
          1,
          0.996,
          0.603,
          0.621,
          1,
          1,
          0.725,
          0.376,
          0.912,
          1,
          0.993,
          1,
          0.454,
          0.91,
          0.913,
          0.975,
          0.958,
          0.505,
          0.902,
          0.369,
          0.995,
          0.979,
          0.986,
          0.706,
          0.871,
          0.905,
          0.993,
          1,
          1,
          0.261,
          0.922,
          0.741,
          0.957,
          0.756,
          0.689,
          0.705,
          1,
          0.989,
          0.981,
          0.873,
          0.543,
          0.849,
          0.474,
          0.474,
          0.396,
          0.8,
          0.607,
          0.774,
          0.612,
          0.861,
          1,
          0.984,
          1,
          0.912,
          0.567,
          0.367,
          0.387,
          0.867,
          0.381,
          0.498,
          0.673,
          0.374,
          0.453,
          0.601,
          0.619,
          0.588,
          0.363,
          1,
          0.401,
          0.444,
          0.53,
          0.568,
          0.91,
          0.519,
          0.676,
          0.277,
          0.411,
          0.672,
          0.804,
          0.478,
          0.242,
          1,
          0.577,
          1,
          0.787,
          0.597,
          0.515,
          0.675,
          0.488,
          0.876,
          0.696,
          0.872,
          0.599,
          0.676,
          0.76,
          0.869,
          0.501,
          0.962,
          0.893,
          0.811,
          0.742,
          1,
          1,
          0.568,
          0.532,
          0.323,
          0.959,
          0.707,
          0.714,
          0.42,
          0.864,
          0.919,
          0.992,
          0.808,
          0.961,
          0.79,
          1,
          0.974,
          0.928,
          1,
          0.522,
          0.5,
          1,
          0.734,
          0.337,
          0.939,
          0.913,
          0.933,
          0.859,
          1,
          1,
          1,
          1,
          0.99,
          0.889,
          0.505,
          0.929,
          0.65,
          0.676,
          1,
          0.857,
          0.842,
          0.776,
          1,
          1,
          1,
          0.809,
          0.359,
          0.829,
          0.763,
          0.998,
          0.346,
          0.657,
          0.571,
          1,
          1,
          0.426,
          1,
          0.891
         ]
        },
        {
         "boxmean": "sd",
         "fillcolor": "rgba(0, 0, 0, 0)",
         "line": {
          "width": 1
         },
         "marker": {
          "color": "black"
         },
         "name": "LTD",
         "type": "box",
         "y": [
          0.35,
          0.505,
          0.77,
          0.168,
          0.516,
          0.788,
          0.888,
          0.58,
          0.892,
          0.732,
          0.465,
          0.793,
          0.251,
          0.815,
          0.966,
          0.233,
          0.946,
          0.375,
          0.525,
          0.87,
          0.681,
          0.715,
          0.778,
          0.72,
          0.949,
          0.946,
          0.716,
          0.697,
          0.898,
          0.916,
          0.516,
          0.816,
          0.369,
          0.554,
          0.751,
          0.213,
          0.955,
          0.283,
          0.306,
          0.285,
          0.512,
          0.218,
          0.612,
          0.675,
          0.317,
          0.424,
          0.653,
          0.469,
          0.41,
          0.473,
          0.395,
          0.746,
          0.511,
          0.487,
          0.647,
          0.583,
          0.299,
          0.659,
          0.285,
          0.802,
          0.708,
          0.999,
          0.739,
          0.969,
          0.811,
          0.379,
          0.749,
          0.6,
          0.768,
          0.97,
          0.308,
          0.742,
          0.603,
          0.727,
          0.52,
          0.676,
          0.378,
          0.711,
          0.877,
          0.987,
          0.896,
          0.815,
          0.66,
          0.69,
          0.842,
          0.711,
          0.881,
          0.676,
          0.992,
          0.48,
          0.97,
          1,
          0.99,
          0.603,
          0.941,
          1,
          1,
          0.168,
          0.908,
          0.914,
          1,
          0.985,
          1,
          0.455,
          0.635,
          0.905,
          0.907,
          0.848,
          0.503,
          0.902,
          0.369,
          0.992,
          0.971,
          0.987,
          0.707,
          0.862,
          0.905,
          0.994,
          1,
          1,
          0.261,
          0.918,
          0.741,
          0.252,
          0.747,
          0.691,
          0.734,
          1,
          0.986,
          0.981,
          0.873,
          0.543,
          0.837,
          0.474,
          0.474,
          0.396,
          0.801,
          0.609,
          0.771,
          0.613,
          0.862,
          1,
          0.768,
          1,
          0.853,
          0.567,
          0.372,
          0.403,
          0.929,
          0.631,
          0.461,
          0.388,
          0.624,
          0.453,
          0.601,
          0.488,
          0.585,
          0.345,
          1,
          0.401,
          0.443,
          0.53,
          0.568,
          0.868,
          0.519,
          0.68,
          0.275,
          0.341,
          0.704,
          0.804,
          0.487,
          0.242,
          1,
          0.546,
          1,
          0.785,
          0.596,
          0.368,
          0.547,
          0.56,
          0.882,
          0.701,
          0.883,
          0.602,
          0.679,
          0.765,
          1,
          0.703,
          0.957,
          0.903,
          0.79,
          0.73,
          1,
          1,
          0.568,
          0.647,
          0.323,
          0.959,
          0.949,
          0.714,
          0.601,
          0.856,
          0.948,
          0.956,
          0.808,
          0.957,
          0.847,
          1,
          0.971,
          0.929,
          0.999,
          0.522,
          0.5,
          1,
          0.732,
          0.337,
          0.939,
          0.852,
          0.939,
          0.865,
          1,
          1,
          1,
          1,
          0.987,
          0.887,
          0.505,
          0.333,
          0.649,
          0.679,
          1,
          0.851,
          0.842,
          0.776,
          1,
          1,
          1,
          0.811,
          0.966,
          0.823,
          0.76,
          0.965,
          0.346,
          0.654,
          0.571,
          1,
          1,
          0.426,
          1,
          0.894
         ]
        }
       ],
       "layout": {
        "autosize": true,
        "font": {
         "color": "black",
         "family": "Arial",
         "size": 12
        },
        "margin": {
         "b": 0,
         "l": 0,
         "r": 0,
         "t": 30
        },
        "showlegend": false,
        "template": {
         "data": {
          "bar": [
           {
            "error_x": {
             "color": "#2a3f5f"
            },
            "error_y": {
             "color": "#2a3f5f"
            },
            "marker": {
             "line": {
              "color": "#E5ECF6",
              "width": 0.5
             },
             "pattern": {
              "fillmode": "overlay",
              "size": 10,
              "solidity": 0.2
             }
            },
            "type": "bar"
           }
          ],
          "barpolar": [
           {
            "marker": {
             "line": {
              "color": "#E5ECF6",
              "width": 0.5
             },
             "pattern": {
              "fillmode": "overlay",
              "size": 10,
              "solidity": 0.2
             }
            },
            "type": "barpolar"
           }
          ],
          "carpet": [
           {
            "aaxis": {
             "endlinecolor": "#2a3f5f",
             "gridcolor": "white",
             "linecolor": "white",
             "minorgridcolor": "white",
             "startlinecolor": "#2a3f5f"
            },
            "baxis": {
             "endlinecolor": "#2a3f5f",
             "gridcolor": "white",
             "linecolor": "white",
             "minorgridcolor": "white",
             "startlinecolor": "#2a3f5f"
            },
            "type": "carpet"
           }
          ],
          "choropleth": [
           {
            "colorbar": {
             "outlinewidth": 0,
             "ticks": ""
            },
            "type": "choropleth"
           }
          ],
          "contour": [
           {
            "colorbar": {
             "outlinewidth": 0,
             "ticks": ""
            },
            "colorscale": [
             [
              0,
              "#0d0887"
             ],
             [
              0.1111111111111111,
              "#46039f"
             ],
             [
              0.2222222222222222,
              "#7201a8"
             ],
             [
              0.3333333333333333,
              "#9c179e"
             ],
             [
              0.4444444444444444,
              "#bd3786"
             ],
             [
              0.5555555555555556,
              "#d8576b"
             ],
             [
              0.6666666666666666,
              "#ed7953"
             ],
             [
              0.7777777777777778,
              "#fb9f3a"
             ],
             [
              0.8888888888888888,
              "#fdca26"
             ],
             [
              1,
              "#f0f921"
             ]
            ],
            "type": "contour"
           }
          ],
          "contourcarpet": [
           {
            "colorbar": {
             "outlinewidth": 0,
             "ticks": ""
            },
            "type": "contourcarpet"
           }
          ],
          "heatmap": [
           {
            "colorbar": {
             "outlinewidth": 0,
             "ticks": ""
            },
            "colorscale": [
             [
              0,
              "#0d0887"
             ],
             [
              0.1111111111111111,
              "#46039f"
             ],
             [
              0.2222222222222222,
              "#7201a8"
             ],
             [
              0.3333333333333333,
              "#9c179e"
             ],
             [
              0.4444444444444444,
              "#bd3786"
             ],
             [
              0.5555555555555556,
              "#d8576b"
             ],
             [
              0.6666666666666666,
              "#ed7953"
             ],
             [
              0.7777777777777778,
              "#fb9f3a"
             ],
             [
              0.8888888888888888,
              "#fdca26"
             ],
             [
              1,
              "#f0f921"
             ]
            ],
            "type": "heatmap"
           }
          ],
          "heatmapgl": [
           {
            "colorbar": {
             "outlinewidth": 0,
             "ticks": ""
            },
            "colorscale": [
             [
              0,
              "#0d0887"
             ],
             [
              0.1111111111111111,
              "#46039f"
             ],
             [
              0.2222222222222222,
              "#7201a8"
             ],
             [
              0.3333333333333333,
              "#9c179e"
             ],
             [
              0.4444444444444444,
              "#bd3786"
             ],
             [
              0.5555555555555556,
              "#d8576b"
             ],
             [
              0.6666666666666666,
              "#ed7953"
             ],
             [
              0.7777777777777778,
              "#fb9f3a"
             ],
             [
              0.8888888888888888,
              "#fdca26"
             ],
             [
              1,
              "#f0f921"
             ]
            ],
            "type": "heatmapgl"
           }
          ],
          "histogram": [
           {
            "marker": {
             "pattern": {
              "fillmode": "overlay",
              "size": 10,
              "solidity": 0.2
             }
            },
            "type": "histogram"
           }
          ],
          "histogram2d": [
           {
            "colorbar": {
             "outlinewidth": 0,
             "ticks": ""
            },
            "colorscale": [
             [
              0,
              "#0d0887"
             ],
             [
              0.1111111111111111,
              "#46039f"
             ],
             [
              0.2222222222222222,
              "#7201a8"
             ],
             [
              0.3333333333333333,
              "#9c179e"
             ],
             [
              0.4444444444444444,
              "#bd3786"
             ],
             [
              0.5555555555555556,
              "#d8576b"
             ],
             [
              0.6666666666666666,
              "#ed7953"
             ],
             [
              0.7777777777777778,
              "#fb9f3a"
             ],
             [
              0.8888888888888888,
              "#fdca26"
             ],
             [
              1,
              "#f0f921"
             ]
            ],
            "type": "histogram2d"
           }
          ],
          "histogram2dcontour": [
           {
            "colorbar": {
             "outlinewidth": 0,
             "ticks": ""
            },
            "colorscale": [
             [
              0,
              "#0d0887"
             ],
             [
              0.1111111111111111,
              "#46039f"
             ],
             [
              0.2222222222222222,
              "#7201a8"
             ],
             [
              0.3333333333333333,
              "#9c179e"
             ],
             [
              0.4444444444444444,
              "#bd3786"
             ],
             [
              0.5555555555555556,
              "#d8576b"
             ],
             [
              0.6666666666666666,
              "#ed7953"
             ],
             [
              0.7777777777777778,
              "#fb9f3a"
             ],
             [
              0.8888888888888888,
              "#fdca26"
             ],
             [
              1,
              "#f0f921"
             ]
            ],
            "type": "histogram2dcontour"
           }
          ],
          "mesh3d": [
           {
            "colorbar": {
             "outlinewidth": 0,
             "ticks": ""
            },
            "type": "mesh3d"
           }
          ],
          "parcoords": [
           {
            "line": {
             "colorbar": {
              "outlinewidth": 0,
              "ticks": ""
             }
            },
            "type": "parcoords"
           }
          ],
          "pie": [
           {
            "automargin": true,
            "type": "pie"
           }
          ],
          "scatter": [
           {
            "fillpattern": {
             "fillmode": "overlay",
             "size": 10,
             "solidity": 0.2
            },
            "type": "scatter"
           }
          ],
          "scatter3d": [
           {
            "line": {
             "colorbar": {
              "outlinewidth": 0,
              "ticks": ""
             }
            },
            "marker": {
             "colorbar": {
              "outlinewidth": 0,
              "ticks": ""
             }
            },
            "type": "scatter3d"
           }
          ],
          "scattercarpet": [
           {
            "marker": {
             "colorbar": {
              "outlinewidth": 0,
              "ticks": ""
             }
            },
            "type": "scattercarpet"
           }
          ],
          "scattergeo": [
           {
            "marker": {
             "colorbar": {
              "outlinewidth": 0,
              "ticks": ""
             }
            },
            "type": "scattergeo"
           }
          ],
          "scattergl": [
           {
            "marker": {
             "colorbar": {
              "outlinewidth": 0,
              "ticks": ""
             }
            },
            "type": "scattergl"
           }
          ],
          "scattermapbox": [
           {
            "marker": {
             "colorbar": {
              "outlinewidth": 0,
              "ticks": ""
             }
            },
            "type": "scattermapbox"
           }
          ],
          "scatterpolar": [
           {
            "marker": {
             "colorbar": {
              "outlinewidth": 0,
              "ticks": ""
             }
            },
            "type": "scatterpolar"
           }
          ],
          "scatterpolargl": [
           {
            "marker": {
             "colorbar": {
              "outlinewidth": 0,
              "ticks": ""
             }
            },
            "type": "scatterpolargl"
           }
          ],
          "scatterternary": [
           {
            "marker": {
             "colorbar": {
              "outlinewidth": 0,
              "ticks": ""
             }
            },
            "type": "scatterternary"
           }
          ],
          "surface": [
           {
            "colorbar": {
             "outlinewidth": 0,
             "ticks": ""
            },
            "colorscale": [
             [
              0,
              "#0d0887"
             ],
             [
              0.1111111111111111,
              "#46039f"
             ],
             [
              0.2222222222222222,
              "#7201a8"
             ],
             [
              0.3333333333333333,
              "#9c179e"
             ],
             [
              0.4444444444444444,
              "#bd3786"
             ],
             [
              0.5555555555555556,
              "#d8576b"
             ],
             [
              0.6666666666666666,
              "#ed7953"
             ],
             [
              0.7777777777777778,
              "#fb9f3a"
             ],
             [
              0.8888888888888888,
              "#fdca26"
             ],
             [
              1,
              "#f0f921"
             ]
            ],
            "type": "surface"
           }
          ],
          "table": [
           {
            "cells": {
             "fill": {
              "color": "#EBF0F8"
             },
             "line": {
              "color": "white"
             }
            },
            "header": {
             "fill": {
              "color": "#C8D4E3"
             },
             "line": {
              "color": "white"
             }
            },
            "type": "table"
           }
          ]
         },
         "layout": {
          "annotationdefaults": {
           "arrowcolor": "#2a3f5f",
           "arrowhead": 0,
           "arrowwidth": 1
          },
          "autotypenumbers": "strict",
          "coloraxis": {
           "colorbar": {
            "outlinewidth": 0,
            "ticks": ""
           }
          },
          "colorscale": {
           "diverging": [
            [
             0,
             "#8e0152"
            ],
            [
             0.1,
             "#c51b7d"
            ],
            [
             0.2,
             "#de77ae"
            ],
            [
             0.3,
             "#f1b6da"
            ],
            [
             0.4,
             "#fde0ef"
            ],
            [
             0.5,
             "#f7f7f7"
            ],
            [
             0.6,
             "#e6f5d0"
            ],
            [
             0.7,
             "#b8e186"
            ],
            [
             0.8,
             "#7fbc41"
            ],
            [
             0.9,
             "#4d9221"
            ],
            [
             1,
             "#276419"
            ]
           ],
           "sequential": [
            [
             0,
             "#0d0887"
            ],
            [
             0.1111111111111111,
             "#46039f"
            ],
            [
             0.2222222222222222,
             "#7201a8"
            ],
            [
             0.3333333333333333,
             "#9c179e"
            ],
            [
             0.4444444444444444,
             "#bd3786"
            ],
            [
             0.5555555555555556,
             "#d8576b"
            ],
            [
             0.6666666666666666,
             "#ed7953"
            ],
            [
             0.7777777777777778,
             "#fb9f3a"
            ],
            [
             0.8888888888888888,
             "#fdca26"
            ],
            [
             1,
             "#f0f921"
            ]
           ],
           "sequentialminus": [
            [
             0,
             "#0d0887"
            ],
            [
             0.1111111111111111,
             "#46039f"
            ],
            [
             0.2222222222222222,
             "#7201a8"
            ],
            [
             0.3333333333333333,
             "#9c179e"
            ],
            [
             0.4444444444444444,
             "#bd3786"
            ],
            [
             0.5555555555555556,
             "#d8576b"
            ],
            [
             0.6666666666666666,
             "#ed7953"
            ],
            [
             0.7777777777777778,
             "#fb9f3a"
            ],
            [
             0.8888888888888888,
             "#fdca26"
            ],
            [
             1,
             "#f0f921"
            ]
           ]
          },
          "colorway": [
           "#636efa",
           "#EF553B",
           "#00cc96",
           "#ab63fa",
           "#FFA15A",
           "#19d3f3",
           "#FF6692",
           "#B6E880",
           "#FF97FF",
           "#FECB52"
          ],
          "font": {
           "color": "#2a3f5f"
          },
          "geo": {
           "bgcolor": "white",
           "lakecolor": "white",
           "landcolor": "#E5ECF6",
           "showlakes": true,
           "showland": true,
           "subunitcolor": "white"
          },
          "hoverlabel": {
           "align": "left"
          },
          "hovermode": "closest",
          "mapbox": {
           "style": "light"
          },
          "paper_bgcolor": "white",
          "plot_bgcolor": "#E5ECF6",
          "polar": {
           "angularaxis": {
            "gridcolor": "white",
            "linecolor": "white",
            "ticks": ""
           },
           "bgcolor": "#E5ECF6",
           "radialaxis": {
            "gridcolor": "white",
            "linecolor": "white",
            "ticks": ""
           }
          },
          "scene": {
           "xaxis": {
            "backgroundcolor": "#E5ECF6",
            "gridcolor": "white",
            "gridwidth": 2,
            "linecolor": "white",
            "showbackground": true,
            "ticks": "",
            "zerolinecolor": "white"
           },
           "yaxis": {
            "backgroundcolor": "#E5ECF6",
            "gridcolor": "white",
            "gridwidth": 2,
            "linecolor": "white",
            "showbackground": true,
            "ticks": "",
            "zerolinecolor": "white"
           },
           "zaxis": {
            "backgroundcolor": "#E5ECF6",
            "gridcolor": "white",
            "gridwidth": 2,
            "linecolor": "white",
            "showbackground": true,
            "ticks": "",
            "zerolinecolor": "white"
           }
          },
          "shapedefaults": {
           "line": {
            "color": "#2a3f5f"
           }
          },
          "ternary": {
           "aaxis": {
            "gridcolor": "white",
            "linecolor": "white",
            "ticks": ""
           },
           "baxis": {
            "gridcolor": "white",
            "linecolor": "white",
            "ticks": ""
           },
           "bgcolor": "#E5ECF6",
           "caxis": {
            "gridcolor": "white",
            "linecolor": "white",
            "ticks": ""
           }
          },
          "title": {
           "x": 0.05
          },
          "xaxis": {
           "automargin": true,
           "gridcolor": "white",
           "linecolor": "white",
           "ticks": "",
           "title": {
            "standoff": 15
           },
           "zerolinecolor": "white",
           "zerolinewidth": 2
          },
          "yaxis": {
           "automargin": true,
           "gridcolor": "white",
           "linecolor": "white",
           "ticks": "",
           "title": {
            "standoff": 15
           },
           "zerolinecolor": "white",
           "zerolinewidth": 2
          }
         }
        },
        "title": {
         "text": "(b) HASC"
        },
        "xaxis": {
         "autorange": true,
         "range": [
          -0.5,
          6.5
         ],
         "type": "category"
        },
        "yaxis": {
         "autorange": true,
         "range": [
          0.0785,
          1.0485
         ],
         "title": {
          "text": "Covering Score"
         },
         "type": "linear"
        }
       }
      },
      "image/png": "[encoded data removed]"
     },
     "metadata": {},
     "output_type": "display_data"
    }
   ],
   "source": [
    "boxplot_scores(main_exp_hasc, '(b) HASC', filepath='results/figures/boxplot_mainexp_scores_HASC.svg')"
   ]
  },
  {
   "cell_type": "code",
   "execution_count": 22,
   "id": "82627ac5-24c3-41e1-9595-b162cf49937d",
   "metadata": {},
   "outputs": [
    {
     "data": {
      "text/html": [
       "<div>\n",
       "<style scoped>\n",
       "    .dataframe tbody tr th:only-of-type {\n",
       "        vertical-align: middle;\n",
       "    }\n",
       "\n",
       "    .dataframe tbody tr th {\n",
       "        vertical-align: top;\n",
       "    }\n",
       "\n",
       "    .dataframe thead th {\n",
       "        text-align: right;\n",
       "    }\n",
       "</style>\n",
       "<table border=\"1\" class=\"dataframe\">\n",
       "  <thead>\n",
       "    <tr style=\"text-align: right;\">\n",
       "      <th>Algorithm</th>\n",
       "      <th>None</th>\n",
       "      <th>EveryNth</th>\n",
       "      <th>MinMax</th>\n",
       "      <th>M4</th>\n",
       "      <th>LTTB</th>\n",
       "      <th>MinMaxLTTB</th>\n",
       "      <th>LTD</th>\n",
       "    </tr>\n",
       "  </thead>\n",
       "  <tbody>\n",
       "    <tr>\n",
       "      <th>mean</th>\n",
       "      <td>0.746004</td>\n",
       "      <td>0.728780</td>\n",
       "      <td>0.725360</td>\n",
       "      <td>0.706644</td>\n",
       "      <td>0.718716</td>\n",
       "      <td>0.718716</td>\n",
       "      <td>0.713152</td>\n",
       "    </tr>\n",
       "    <tr>\n",
       "      <th>median</th>\n",
       "      <td>0.774000</td>\n",
       "      <td>0.785500</td>\n",
       "      <td>0.786500</td>\n",
       "      <td>0.755000</td>\n",
       "      <td>0.751000</td>\n",
       "      <td>0.751000</td>\n",
       "      <td>0.741500</td>\n",
       "    </tr>\n",
       "    <tr>\n",
       "      <th>std</th>\n",
       "      <td>0.210108</td>\n",
       "      <td>0.226451</td>\n",
       "      <td>0.229568</td>\n",
       "      <td>0.245386</td>\n",
       "      <td>0.228274</td>\n",
       "      <td>0.228274</td>\n",
       "      <td>0.233781</td>\n",
       "    </tr>\n",
       "  </tbody>\n",
       "</table>\n",
       "</div>"
      ],
      "text/plain": [
       "Algorithm      None  EveryNth    MinMax        M4      LTTB  MinMaxLTTB  \\\n",
       "mean       0.746004  0.728780  0.725360  0.706644  0.718716    0.718716   \n",
       "median     0.774000  0.785500  0.786500  0.755000  0.751000    0.751000   \n",
       "std        0.210108  0.226451  0.229568  0.245386  0.228274    0.228274   \n",
       "\n",
       "Algorithm       LTD  \n",
       "mean       0.713152  \n",
       "median     0.741500  \n",
       "std        0.233781  "
      ]
     },
     "execution_count": 22,
     "metadata": {},
     "output_type": "execute_result"
    }
   ],
   "source": [
    "score_comparison_matrix_w(main_exp_hasc[['Algorithm','score']], savepath='results/tables/summary_statistics_mainexp_HASC.xlsx')"
   ]
  },
  {
   "cell_type": "markdown",
   "id": "fda2f831-a7e8-435b-bd51-35fee2541d07",
   "metadata": {},
   "source": [
    "# Runtime"
   ]
  },
  {
   "cell_type": "markdown",
   "id": "f5e8f413-3e57-4dc7-b9d4-fe85efb97322",
   "metadata": {},
   "source": [
    "## TSSB"
   ]
  },
  {
   "cell_type": "code",
   "execution_count": 23,
   "id": "9d2fc5e8-c12b-4122-94f8-ce7722ee357c",
   "metadata": {},
   "outputs": [],
   "source": [
    "main_exp_tssb['runtime']=main_exp_tssb.apply(sum_up_runtimes, axis=1)\n",
    "main_exp_tssb['dataset']=main_exp_tssb.apply(add_dataset_name_tssb, axis=1)"
   ]
  },
  {
   "cell_type": "code",
   "execution_count": 24,
   "id": "2d756568-ee37-4ea3-94ab-6aeb6868168f",
   "metadata": {},
   "outputs": [
    {
     "data": {
      "application/vnd.plotly.v1+json": {
       "config": {
        "plotlyServerURL": "https://plot.ly"
       },
       "data": [
        {
         "mode": "lines",
         "name": "None",
         "type": "scatter",
         "x": [
          "Chinatown",
          "TwoLeadECG",
          "ECGFiveDays",
          "CBF",
          "Coffee",
          "Lightning2",
          "InsectWingbeatSound",
          "DiatomSizeReduction",
          "SonyAIBORobotSurface1",
          "Adiac",
          "Beef",
          "DistalPhalanxOutlineAgeGroup",
          "ArrowHead",
          "ItalyPowerDemand",
          "MoteStrain",
          "SonyAIBORobotSurface2",
          "UMD",
          "GunPoint",
          "Symbols",
          "OSULeaf",
          "Car",
          "WordSynonyms",
          "ECG200",
          "MedicalImages",
          "ShapeletSim",
          "BirdChicken",
          "BeetleFly",
          "DistalPhalanxTW",
          "CricketZ",
          "ToeSegmentation1",
          "UWaveGestureLibraryZ",
          "UWaveGestureLibraryY",
          "UWaveGestureLibraryX",
          "CricketY",
          "ToeSegmentation2",
          "CricketX",
          "Meat",
          "DodgerLoopDay",
          "SyntheticControl",
          "Plane",
          "Mallat",
          "ProximalPhalanxOutlineAgeGroup",
          "ProximalPhalanxTW",
          "SwedishLeaf",
          "InlineSkate",
          "MelbournePedestrian",
          "Herring",
          "Trace",
          "EOGHorizontalSignal",
          "FiftyWords",
          "Haptics",
          "Ham",
          "Strawberry",
          "ProximalPhalanxOutlineCorrect",
          "ShapesAll",
          "FacesUCR",
          "Lightning7",
          "MiddlePhalanxTW",
          "CinCECGTorso",
          "OliveOil",
          "ChlorineConcentration",
          "MiddlePhalanxOutlineCorrect",
          "EOGVerticalSignal",
          "FaceFour",
          "LargeKitchenAppliances",
          "UWaveGestureLibraryAll",
          "FaceAll",
          "Fish",
          "MiddlePhalanxOutlineAgeGroup",
          "Computers",
          "FreezerRegularTrain",
          "NonInvasiveFetalECGThorax1",
          "NonInvasiveFetalECGThorax2",
          "Yoga",
          "Crop"
         ],
         "y": [
          0,
          0,
          0.062,
          0.031,
          0.062,
          0.016,
          0.266,
          0.172,
          0.359,
          23.719,
          0.125,
          0.25,
          0.266,
          0.125,
          0.234,
          0.391,
          0.25,
          0.297,
          0.312,
          0.922,
          0.922,
          0.531,
          0.859,
          0.797,
          0.875,
          0.906,
          1.078,
          1.422,
          1.562,
          1.984,
          1.359,
          1.625,
          0.953,
          1.562,
          1.406,
          2.078,
          1.906,
          1.547,
          2.453,
          2.828,
          2.391,
          3.047,
          5,
          3.422,
          3.953,
          4.016,
          2.344,
          4.031,
          4.297,
          4.359,
          2.781,
          3.109,
          5.234,
          5.125,
          6.922,
          9.562,
          5.328,
          3.781,
          7.047,
          6.969,
          3.797,
          8.688,
          9.641,
          9.953,
          7.516,
          9.516,
          13.594,
          16.016,
          18.438,
          8.641,
          16.609,
          19.953,
          22.688,
          24.984,
          59
         ]
        },
        {
         "mode": "lines",
         "name": "EveryNth",
         "type": "scatter",
         "x": [
          "Chinatown",
          "TwoLeadECG",
          "ECGFiveDays",
          "CBF",
          "Coffee",
          "Lightning2",
          "InsectWingbeatSound",
          "DiatomSizeReduction",
          "SonyAIBORobotSurface1",
          "Adiac",
          "Beef",
          "DistalPhalanxOutlineAgeGroup",
          "ArrowHead",
          "ItalyPowerDemand",
          "MoteStrain",
          "SonyAIBORobotSurface2",
          "UMD",
          "GunPoint",
          "Symbols",
          "OSULeaf",
          "Car",
          "WordSynonyms",
          "ECG200",
          "MedicalImages",
          "ShapeletSim",
          "BirdChicken",
          "BeetleFly",
          "DistalPhalanxTW",
          "CricketZ",
          "ToeSegmentation1",
          "UWaveGestureLibraryZ",
          "UWaveGestureLibraryY",
          "UWaveGestureLibraryX",
          "CricketY",
          "ToeSegmentation2",
          "CricketX",
          "Meat",
          "DodgerLoopDay",
          "SyntheticControl",
          "Plane",
          "Mallat",
          "ProximalPhalanxOutlineAgeGroup",
          "ProximalPhalanxTW",
          "SwedishLeaf",
          "InlineSkate",
          "MelbournePedestrian",
          "Herring",
          "Trace",
          "EOGHorizontalSignal",
          "FiftyWords",
          "Haptics",
          "Ham",
          "Strawberry",
          "ProximalPhalanxOutlineCorrect",
          "ShapesAll",
          "FacesUCR",
          "Lightning7",
          "MiddlePhalanxTW",
          "CinCECGTorso",
          "OliveOil",
          "ChlorineConcentration",
          "MiddlePhalanxOutlineCorrect",
          "EOGVerticalSignal",
          "FaceFour",
          "LargeKitchenAppliances",
          "UWaveGestureLibraryAll",
          "FaceAll",
          "Fish",
          "MiddlePhalanxOutlineAgeGroup",
          "Computers",
          "FreezerRegularTrain",
          "NonInvasiveFetalECGThorax1",
          "NonInvasiveFetalECGThorax2",
          "Yoga",
          "Crop"
         ],
         "y": [
          0.032,
          0.031,
          0.047,
          0.15699999999999997,
          0.032,
          0.20299999999999999,
          0.047,
          0.047,
          0.047,
          0.047,
          0.047,
          0.25,
          0.047,
          0.047,
          0.016,
          0.078,
          0.032,
          0.047,
          0.20299999999999999,
          0.266,
          0.234,
          0.21900000000000003,
          0.094,
          0.42200000000000004,
          0.25,
          0.20299999999999999,
          0.219,
          0.406,
          0.5,
          0.29700000000000004,
          0.5630000000000001,
          0.31200000000000006,
          0.609,
          0.765,
          0.8280000000000001,
          0.875,
          0.922,
          0.219,
          1.0619999999999998,
          0.781,
          0.672,
          1.593,
          1.7029999999999998,
          1.797,
          1.031,
          2.047,
          2.297,
          2.1870000000000003,
          0.235,
          2.281,
          2.2190000000000003,
          2.3280000000000003,
          2.359,
          4.686999999999999,
          4.281,
          6.25,
          0.235,
          2.843,
          0.125,
          1.765,
          3.172,
          5.327999999999999,
          2.859,
          0.42200000000000004,
          2.984,
          5.063,
          6.922,
          9.406,
          8.453000000000001,
          0.687,
          7.077999999999999,
          11.562,
          17.796000000000003,
          12.828,
          26.172
         ]
        },
        {
         "mode": "lines",
         "name": "MinMax",
         "type": "scatter",
         "x": [
          "Chinatown",
          "TwoLeadECG",
          "ECGFiveDays",
          "CBF",
          "Coffee",
          "Lightning2",
          "InsectWingbeatSound",
          "DiatomSizeReduction",
          "SonyAIBORobotSurface1",
          "Adiac",
          "Beef",
          "DistalPhalanxOutlineAgeGroup",
          "ArrowHead",
          "ItalyPowerDemand",
          "MoteStrain",
          "SonyAIBORobotSurface2",
          "UMD",
          "GunPoint",
          "Symbols",
          "OSULeaf",
          "Car",
          "WordSynonyms",
          "ECG200",
          "MedicalImages",
          "ShapeletSim",
          "BirdChicken",
          "BeetleFly",
          "DistalPhalanxTW",
          "CricketZ",
          "ToeSegmentation1",
          "UWaveGestureLibraryZ",
          "UWaveGestureLibraryX",
          "UWaveGestureLibraryY",
          "CricketY",
          "ToeSegmentation2",
          "CricketX",
          "Meat",
          "DodgerLoopDay",
          "SyntheticControl",
          "Plane",
          "Mallat",
          "ProximalPhalanxOutlineAgeGroup",
          "ProximalPhalanxTW",
          "SwedishLeaf",
          "InlineSkate",
          "MelbournePedestrian",
          "Herring",
          "Trace",
          "EOGHorizontalSignal",
          "FiftyWords",
          "Haptics",
          "Ham",
          "Strawberry",
          "ProximalPhalanxOutlineCorrect",
          "ShapesAll",
          "FacesUCR",
          "Lightning7",
          "MiddlePhalanxTW",
          "CinCECGTorso",
          "OliveOil",
          "ChlorineConcentration",
          "MiddlePhalanxOutlineCorrect",
          "EOGVerticalSignal",
          "FaceFour",
          "LargeKitchenAppliances",
          "UWaveGestureLibraryAll",
          "FaceAll",
          "Fish",
          "MiddlePhalanxOutlineAgeGroup",
          "Computers",
          "FreezerRegularTrain",
          "NonInvasiveFetalECGThorax1",
          "NonInvasiveFetalECGThorax2",
          "Yoga",
          "Crop"
         ],
         "y": [
          0.032,
          0.031,
          0.078,
          0.063,
          0.078,
          0.032,
          0.234,
          0.032,
          0.219,
          0.047,
          0.11,
          0.21900000000000003,
          0.234,
          0.25,
          0.11,
          0.234,
          0.20299999999999999,
          0.078,
          0.234,
          0.25,
          0.34299999999999997,
          0.359,
          0.39,
          0.43700000000000006,
          0.21900000000000003,
          0.25,
          0.5,
          0.5930000000000001,
          0.406,
          0.062,
          0.45299999999999996,
          0.39,
          0.234,
          0.859,
          0.781,
          0.969,
          0.656,
          0.672,
          1.14,
          0.9530000000000001,
          0.937,
          1.797,
          1.281,
          1.875,
          1.2029999999999998,
          1.9529999999999998,
          2.156,
          2.2190000000000003,
          0.61,
          2.14,
          2.188,
          2.438,
          2.5,
          3.609,
          4.547,
          4.656,
          0.656,
          3.6870000000000003,
          0.188,
          1.781,
          3.3280000000000003,
          6.625,
          2.843,
          0.34400000000000003,
          2.7030000000000003,
          5.436999999999999,
          8.328000000000001,
          9.109,
          9.609,
          4.984999999999999,
          7.062,
          11.125,
          17.078,
          13.078,
          26.391000000000002
         ]
        },
        {
         "mode": "lines",
         "name": "M4",
         "type": "scatter",
         "x": [
          "Chinatown",
          "TwoLeadECG",
          "ECGFiveDays",
          "CBF",
          "Coffee",
          "Lightning2",
          "InsectWingbeatSound",
          "DiatomSizeReduction",
          "SonyAIBORobotSurface1",
          "Adiac",
          "Beef",
          "DistalPhalanxOutlineAgeGroup",
          "ArrowHead",
          "ItalyPowerDemand",
          "MoteStrain",
          "SonyAIBORobotSurface2",
          "UMD",
          "GunPoint",
          "Symbols",
          "OSULeaf",
          "Car",
          "WordSynonyms",
          "ECG200",
          "MedicalImages",
          "ShapeletSim",
          "BirdChicken",
          "BeetleFly",
          "DistalPhalanxTW",
          "CricketZ",
          "ToeSegmentation1",
          "UWaveGestureLibraryZ",
          "UWaveGestureLibraryY",
          "UWaveGestureLibraryX",
          "CricketY",
          "ToeSegmentation2",
          "CricketX",
          "Meat",
          "DodgerLoopDay",
          "SyntheticControl",
          "Plane",
          "Mallat",
          "ProximalPhalanxOutlineAgeGroup",
          "ProximalPhalanxTW",
          "SwedishLeaf",
          "InlineSkate",
          "MelbournePedestrian",
          "Herring",
          "Trace",
          "EOGHorizontalSignal",
          "FiftyWords",
          "Haptics",
          "Ham",
          "Strawberry",
          "ProximalPhalanxOutlineCorrect",
          "ShapesAll",
          "FacesUCR",
          "Lightning7",
          "MiddlePhalanxTW",
          "CinCECGTorso",
          "OliveOil",
          "ChlorineConcentration",
          "MiddlePhalanxOutlineCorrect",
          "EOGVerticalSignal",
          "FaceFour",
          "LargeKitchenAppliances",
          "UWaveGestureLibraryAll",
          "FaceAll",
          "Fish",
          "MiddlePhalanxOutlineAgeGroup",
          "Computers",
          "FreezerRegularTrain",
          "NonInvasiveFetalECGThorax1",
          "NonInvasiveFetalECGThorax2",
          "Yoga",
          "Crop"
         ],
         "y": [
          0.016,
          0.031,
          0.047,
          0.047,
          0.032,
          0.156,
          0.032,
          0.219,
          0.172,
          0.032,
          0.032,
          0.047,
          0.063,
          0.063,
          0.047,
          0.172,
          0.047,
          0.406,
          0.078,
          0.39,
          0.20299999999999999,
          0.219,
          0.29700000000000004,
          0.281,
          0.406,
          0.265,
          0.234,
          0.406,
          0.281,
          0.093,
          0.5930000000000001,
          0.20400000000000001,
          0.234,
          0.547,
          0.75,
          0.719,
          0.719,
          0.375,
          1.125,
          1.0779999999999998,
          0.859,
          1.64,
          1.375,
          2,
          0.7030000000000001,
          1.734,
          1.8279999999999998,
          1.9369999999999998,
          0.969,
          2.7190000000000003,
          2.015,
          2.359,
          2.4690000000000003,
          3.265,
          3.438,
          4.061999999999999,
          0.609,
          4.156,
          0.14,
          2.234,
          2.9530000000000003,
          5.561999999999999,
          2.766,
          0.28200000000000003,
          4.703,
          5.218999999999999,
          7.077999999999999,
          7.859,
          6.391,
          4.125,
          7.063,
          11.437,
          11.875,
          12.921,
          14.046999999999999
         ]
        },
        {
         "mode": "lines",
         "name": "LTTB",
         "type": "scatter",
         "x": [
          "Chinatown",
          "TwoLeadECG",
          "ECGFiveDays",
          "CBF",
          "Coffee",
          "Lightning2",
          "InsectWingbeatSound",
          "DiatomSizeReduction",
          "SonyAIBORobotSurface1",
          "Adiac",
          "Beef",
          "DistalPhalanxOutlineAgeGroup",
          "ArrowHead",
          "ItalyPowerDemand",
          "MoteStrain",
          "SonyAIBORobotSurface2",
          "UMD",
          "GunPoint",
          "Symbols",
          "OSULeaf",
          "Car",
          "WordSynonyms",
          "ECG200",
          "MedicalImages",
          "ShapeletSim",
          "BirdChicken",
          "BeetleFly",
          "DistalPhalanxTW",
          "CricketZ",
          "ToeSegmentation1",
          "UWaveGestureLibraryZ",
          "UWaveGestureLibraryY",
          "UWaveGestureLibraryX",
          "CricketY",
          "ToeSegmentation2",
          "CricketX",
          "Meat",
          "DodgerLoopDay",
          "SyntheticControl",
          "Plane",
          "Mallat",
          "ProximalPhalanxTW",
          "ProximalPhalanxOutlineAgeGroup",
          "SwedishLeaf",
          "InlineSkate",
          "MelbournePedestrian",
          "Herring",
          "Trace",
          "EOGHorizontalSignal",
          "FiftyWords",
          "Haptics",
          "Ham",
          "Strawberry",
          "ProximalPhalanxOutlineCorrect",
          "ShapesAll",
          "FacesUCR",
          "Lightning7",
          "MiddlePhalanxTW",
          "CinCECGTorso",
          "OliveOil",
          "ChlorineConcentration",
          "MiddlePhalanxOutlineCorrect",
          "EOGVerticalSignal",
          "FaceFour",
          "LargeKitchenAppliances",
          "UWaveGestureLibraryAll",
          "FaceAll",
          "Fish",
          "MiddlePhalanxOutlineAgeGroup",
          "Computers",
          "FreezerRegularTrain",
          "NonInvasiveFetalECGThorax1",
          "NonInvasiveFetalECGThorax2",
          "Yoga",
          "Crop"
         ],
         "y": [
          0.031,
          0.032,
          0.032,
          0.109,
          0.047,
          0.032,
          0.219,
          0.14100000000000001,
          0.047,
          0.125,
          0.047,
          0.047,
          0.047,
          0.219,
          0.032,
          0.375,
          0.032,
          0.047,
          0.219,
          0.063,
          0.20299999999999999,
          0.188,
          0.235,
          0.42200000000000004,
          0.20400000000000001,
          0.31200000000000006,
          0.406,
          0.375,
          0.75,
          0.078,
          0.484,
          0.781,
          0.45299999999999996,
          0.782,
          0.8280000000000001,
          0.906,
          0.765,
          0.219,
          0.984,
          1.484,
          1.2029999999999998,
          1.3119999999999998,
          1.125,
          1.8279999999999998,
          1.031,
          1.797,
          1.9849999999999999,
          2.047,
          0.9380000000000001,
          2.609,
          2.047,
          2.375,
          2.3440000000000003,
          3.625,
          4.188,
          6.156,
          0.39,
          4.359,
          0.172,
          1.891,
          2.922,
          4.672,
          2.625,
          0.188,
          3.328,
          4.952999999999999,
          7.656,
          8.985000000000001,
          7.765,
          3.234,
          6.796,
          10.609,
          17.64,
          12.718,
          27.766000000000002
         ]
        },
        {
         "mode": "lines",
         "name": "MinMaxLTTB",
         "type": "scatter",
         "x": [
          "Chinatown",
          "TwoLeadECG",
          "ECGFiveDays",
          "CBF",
          "Coffee",
          "Lightning2",
          "InsectWingbeatSound",
          "DiatomSizeReduction",
          "SonyAIBORobotSurface1",
          "Adiac",
          "Beef",
          "DistalPhalanxOutlineAgeGroup",
          "ArrowHead",
          "ItalyPowerDemand",
          "MoteStrain",
          "SonyAIBORobotSurface2",
          "UMD",
          "GunPoint",
          "Symbols",
          "OSULeaf",
          "Car",
          "WordSynonyms",
          "ECG200",
          "MedicalImages",
          "ShapeletSim",
          "BirdChicken",
          "BeetleFly",
          "DistalPhalanxTW",
          "CricketZ",
          "ToeSegmentation1",
          "UWaveGestureLibraryZ",
          "UWaveGestureLibraryY",
          "UWaveGestureLibraryX",
          "CricketY",
          "ToeSegmentation2",
          "CricketX",
          "Meat",
          "DodgerLoopDay",
          "SyntheticControl",
          "Plane",
          "Mallat",
          "ProximalPhalanxTW",
          "ProximalPhalanxOutlineAgeGroup",
          "SwedishLeaf",
          "InlineSkate",
          "MelbournePedestrian",
          "Herring",
          "Trace",
          "EOGHorizontalSignal",
          "FiftyWords",
          "Haptics",
          "Ham",
          "Strawberry",
          "ProximalPhalanxOutlineCorrect",
          "ShapesAll",
          "FacesUCR",
          "Lightning7",
          "MiddlePhalanxTW",
          "CinCECGTorso",
          "OliveOil",
          "ChlorineConcentration",
          "MiddlePhalanxOutlineCorrect",
          "EOGVerticalSignal",
          "FaceFour",
          "LargeKitchenAppliances",
          "UWaveGestureLibraryAll",
          "FaceAll",
          "Fish",
          "MiddlePhalanxOutlineAgeGroup",
          "Computers",
          "FreezerRegularTrain",
          "NonInvasiveFetalECGThorax1",
          "NonInvasiveFetalECGThorax2",
          "Yoga",
          "Crop"
         ],
         "y": [
          0.032,
          0.078,
          0.031,
          0.187,
          0.047,
          0.031,
          0.11,
          0.047,
          0.032,
          0.047,
          0.078,
          0.20299999999999999,
          0.234,
          0.235,
          0.016,
          0.265,
          0.20299999999999999,
          0.11,
          0.42200000000000004,
          0.42200000000000004,
          0.20299999999999999,
          0.25,
          0.375,
          0.42200000000000004,
          0.219,
          0.34299999999999997,
          0.375,
          0.562,
          0.39,
          0.20400000000000001,
          0.375,
          0.391,
          0.438,
          0.859,
          0.609,
          0.937,
          0.5930000000000001,
          0.188,
          1.14,
          1.2189999999999999,
          1.234,
          1.4369999999999998,
          1.14,
          1.7189999999999999,
          0.89,
          1.6869999999999998,
          1.6869999999999998,
          2,
          0.735,
          2.3280000000000003,
          1.906,
          2.5780000000000003,
          2.39,
          3.75,
          3.9690000000000003,
          5.906,
          0.43700000000000006,
          4.25,
          0.14100000000000001,
          1.906,
          2.75,
          5.406,
          2.766,
          0.40700000000000003,
          3.234,
          5.25,
          7.5,
          8.25,
          7.266,
          3.359,
          6.734999999999999,
          10.875,
          16.984,
          12.405999999999999,
          26.656000000000002
         ]
        },
        {
         "mode": "lines",
         "name": "LTD",
         "type": "scatter",
         "x": [
          "Chinatown",
          "TwoLeadECG",
          "ECGFiveDays",
          "CBF",
          "Coffee",
          "Lightning2",
          "InsectWingbeatSound",
          "DiatomSizeReduction",
          "SonyAIBORobotSurface1",
          "Adiac",
          "Beef",
          "DistalPhalanxOutlineAgeGroup",
          "ArrowHead",
          "ItalyPowerDemand",
          "MoteStrain",
          "SonyAIBORobotSurface2",
          "UMD",
          "GunPoint",
          "Symbols",
          "OSULeaf",
          "Car",
          "WordSynonyms",
          "ECG200",
          "MedicalImages",
          "ShapeletSim",
          "BirdChicken",
          "BeetleFly",
          "DistalPhalanxTW",
          "CricketZ",
          "ToeSegmentation1",
          "UWaveGestureLibraryZ",
          "UWaveGestureLibraryX",
          "UWaveGestureLibraryY",
          "CricketY",
          "ToeSegmentation2",
          "CricketX",
          "Meat",
          "DodgerLoopDay",
          "SyntheticControl",
          "Plane",
          "Mallat",
          "ProximalPhalanxOutlineAgeGroup",
          "ProximalPhalanxTW",
          "SwedishLeaf",
          "InlineSkate",
          "MelbournePedestrian",
          "Herring",
          "Trace",
          "EOGHorizontalSignal",
          "FiftyWords",
          "Haptics",
          "Ham",
          "Strawberry",
          "ProximalPhalanxOutlineCorrect",
          "ShapesAll",
          "FacesUCR",
          "Lightning7",
          "MiddlePhalanxTW",
          "CinCECGTorso",
          "OliveOil",
          "ChlorineConcentration",
          "MiddlePhalanxOutlineCorrect",
          "EOGVerticalSignal",
          "FaceFour",
          "LargeKitchenAppliances",
          "UWaveGestureLibraryAll",
          "FaceAll",
          "Fish",
          "MiddlePhalanxOutlineAgeGroup",
          "Computers",
          "FreezerRegularTrain",
          "NonInvasiveFetalECGThorax1",
          "NonInvasiveFetalECGThorax2",
          "Yoga",
          "Crop"
         ],
         "y": [
          0,
          0.031,
          0.032,
          0.047,
          0.016,
          0.032,
          0.032,
          0.188,
          0.032,
          0.047,
          0.032,
          0.016,
          0.032,
          0.094,
          0.093,
          0.047,
          0.047,
          0.047,
          0.188,
          0.188,
          0.234,
          0.047,
          0.125,
          0.234,
          0.20299999999999999,
          0.078,
          0.062,
          0.093,
          0.34299999999999997,
          0.39099999999999996,
          0.281,
          0.062,
          0.219,
          0.547,
          0.093,
          0.39,
          0.406,
          0.375,
          0.297,
          0.6090000000000001,
          0.39,
          0.422,
          0.781,
          0.8590000000000001,
          1.078,
          0.984,
          0.734,
          1.312,
          1.3900000000000001,
          1.374,
          0.8119999999999999,
          0.969,
          1,
          1.359,
          2.344,
          2.1719999999999997,
          2.047,
          1.9060000000000001,
          1.735,
          1.782,
          1.9060000000000001,
          2.75,
          2.859,
          2.953,
          2.547,
          3.125,
          3.906,
          5.281,
          3.719,
          5.235,
          5.031,
          5.686999999999999,
          9.860000000000001,
          7.969,
          15.282
         ]
        }
       ],
       "layout": {
        "autosize": true,
        "font": {
         "color": "black",
         "family": "Arial",
         "size": 12
        },
        "legend": {
         "x": 0.01,
         "xanchor": "left",
         "y": 0.98,
         "yanchor": "top"
        },
        "margin": {
         "b": 0,
         "l": 0,
         "r": 0,
         "t": 30
        },
        "template": {
         "data": {
          "bar": [
           {
            "error_x": {
             "color": "#2a3f5f"
            },
            "error_y": {
             "color": "#2a3f5f"
            },
            "marker": {
             "line": {
              "color": "#E5ECF6",
              "width": 0.5
             },
             "pattern": {
              "fillmode": "overlay",
              "size": 10,
              "solidity": 0.2
             }
            },
            "type": "bar"
           }
          ],
          "barpolar": [
           {
            "marker": {
             "line": {
              "color": "#E5ECF6",
              "width": 0.5
             },
             "pattern": {
              "fillmode": "overlay",
              "size": 10,
              "solidity": 0.2
             }
            },
            "type": "barpolar"
           }
          ],
          "carpet": [
           {
            "aaxis": {
             "endlinecolor": "#2a3f5f",
             "gridcolor": "white",
             "linecolor": "white",
             "minorgridcolor": "white",
             "startlinecolor": "#2a3f5f"
            },
            "baxis": {
             "endlinecolor": "#2a3f5f",
             "gridcolor": "white",
             "linecolor": "white",
             "minorgridcolor": "white",
             "startlinecolor": "#2a3f5f"
            },
            "type": "carpet"
           }
          ],
          "choropleth": [
           {
            "colorbar": {
             "outlinewidth": 0,
             "ticks": ""
            },
            "type": "choropleth"
           }
          ],
          "contour": [
           {
            "colorbar": {
             "outlinewidth": 0,
             "ticks": ""
            },
            "colorscale": [
             [
              0,
              "#0d0887"
             ],
             [
              0.1111111111111111,
              "#46039f"
             ],
             [
              0.2222222222222222,
              "#7201a8"
             ],
             [
              0.3333333333333333,
              "#9c179e"
             ],
             [
              0.4444444444444444,
              "#bd3786"
             ],
             [
              0.5555555555555556,
              "#d8576b"
             ],
             [
              0.6666666666666666,
              "#ed7953"
             ],
             [
              0.7777777777777778,
              "#fb9f3a"
             ],
             [
              0.8888888888888888,
              "#fdca26"
             ],
             [
              1,
              "#f0f921"
             ]
            ],
            "type": "contour"
           }
          ],
          "contourcarpet": [
           {
            "colorbar": {
             "outlinewidth": 0,
             "ticks": ""
            },
            "type": "contourcarpet"
           }
          ],
          "heatmap": [
           {
            "colorbar": {
             "outlinewidth": 0,
             "ticks": ""
            },
            "colorscale": [
             [
              0,
              "#0d0887"
             ],
             [
              0.1111111111111111,
              "#46039f"
             ],
             [
              0.2222222222222222,
              "#7201a8"
             ],
             [
              0.3333333333333333,
              "#9c179e"
             ],
             [
              0.4444444444444444,
              "#bd3786"
             ],
             [
              0.5555555555555556,
              "#d8576b"
             ],
             [
              0.6666666666666666,
              "#ed7953"
             ],
             [
              0.7777777777777778,
              "#fb9f3a"
             ],
             [
              0.8888888888888888,
              "#fdca26"
             ],
             [
              1,
              "#f0f921"
             ]
            ],
            "type": "heatmap"
           }
          ],
          "heatmapgl": [
           {
            "colorbar": {
             "outlinewidth": 0,
             "ticks": ""
            },
            "colorscale": [
             [
              0,
              "#0d0887"
             ],
             [
              0.1111111111111111,
              "#46039f"
             ],
             [
              0.2222222222222222,
              "#7201a8"
             ],
             [
              0.3333333333333333,
              "#9c179e"
             ],
             [
              0.4444444444444444,
              "#bd3786"
             ],
             [
              0.5555555555555556,
              "#d8576b"
             ],
             [
              0.6666666666666666,
              "#ed7953"
             ],
             [
              0.7777777777777778,
              "#fb9f3a"
             ],
             [
              0.8888888888888888,
              "#fdca26"
             ],
             [
              1,
              "#f0f921"
             ]
            ],
            "type": "heatmapgl"
           }
          ],
          "histogram": [
           {
            "marker": {
             "pattern": {
              "fillmode": "overlay",
              "size": 10,
              "solidity": 0.2
             }
            },
            "type": "histogram"
           }
          ],
          "histogram2d": [
           {
            "colorbar": {
             "outlinewidth": 0,
             "ticks": ""
            },
            "colorscale": [
             [
              0,
              "#0d0887"
             ],
             [
              0.1111111111111111,
              "#46039f"
             ],
             [
              0.2222222222222222,
              "#7201a8"
             ],
             [
              0.3333333333333333,
              "#9c179e"
             ],
             [
              0.4444444444444444,
              "#bd3786"
             ],
             [
              0.5555555555555556,
              "#d8576b"
             ],
             [
              0.6666666666666666,
              "#ed7953"
             ],
             [
              0.7777777777777778,
              "#fb9f3a"
             ],
             [
              0.8888888888888888,
              "#fdca26"
             ],
             [
              1,
              "#f0f921"
             ]
            ],
            "type": "histogram2d"
           }
          ],
          "histogram2dcontour": [
           {
            "colorbar": {
             "outlinewidth": 0,
             "ticks": ""
            },
            "colorscale": [
             [
              0,
              "#0d0887"
             ],
             [
              0.1111111111111111,
              "#46039f"
             ],
             [
              0.2222222222222222,
              "#7201a8"
             ],
             [
              0.3333333333333333,
              "#9c179e"
             ],
             [
              0.4444444444444444,
              "#bd3786"
             ],
             [
              0.5555555555555556,
              "#d8576b"
             ],
             [
              0.6666666666666666,
              "#ed7953"
             ],
             [
              0.7777777777777778,
              "#fb9f3a"
             ],
             [
              0.8888888888888888,
              "#fdca26"
             ],
             [
              1,
              "#f0f921"
             ]
            ],
            "type": "histogram2dcontour"
           }
          ],
          "mesh3d": [
           {
            "colorbar": {
             "outlinewidth": 0,
             "ticks": ""
            },
            "type": "mesh3d"
           }
          ],
          "parcoords": [
           {
            "line": {
             "colorbar": {
              "outlinewidth": 0,
              "ticks": ""
             }
            },
            "type": "parcoords"
           }
          ],
          "pie": [
           {
            "automargin": true,
            "type": "pie"
           }
          ],
          "scatter": [
           {
            "fillpattern": {
             "fillmode": "overlay",
             "size": 10,
             "solidity": 0.2
            },
            "type": "scatter"
           }
          ],
          "scatter3d": [
           {
            "line": {
             "colorbar": {
              "outlinewidth": 0,
              "ticks": ""
             }
            },
            "marker": {
             "colorbar": {
              "outlinewidth": 0,
              "ticks": ""
             }
            },
            "type": "scatter3d"
           }
          ],
          "scattercarpet": [
           {
            "marker": {
             "colorbar": {
              "outlinewidth": 0,
              "ticks": ""
             }
            },
            "type": "scattercarpet"
           }
          ],
          "scattergeo": [
           {
            "marker": {
             "colorbar": {
              "outlinewidth": 0,
              "ticks": ""
             }
            },
            "type": "scattergeo"
           }
          ],
          "scattergl": [
           {
            "marker": {
             "colorbar": {
              "outlinewidth": 0,
              "ticks": ""
             }
            },
            "type": "scattergl"
           }
          ],
          "scattermapbox": [
           {
            "marker": {
             "colorbar": {
              "outlinewidth": 0,
              "ticks": ""
             }
            },
            "type": "scattermapbox"
           }
          ],
          "scatterpolar": [
           {
            "marker": {
             "colorbar": {
              "outlinewidth": 0,
              "ticks": ""
             }
            },
            "type": "scatterpolar"
           }
          ],
          "scatterpolargl": [
           {
            "marker": {
             "colorbar": {
              "outlinewidth": 0,
              "ticks": ""
             }
            },
            "type": "scatterpolargl"
           }
          ],
          "scatterternary": [
           {
            "marker": {
             "colorbar": {
              "outlinewidth": 0,
              "ticks": ""
             }
            },
            "type": "scatterternary"
           }
          ],
          "surface": [
           {
            "colorbar": {
             "outlinewidth": 0,
             "ticks": ""
            },
            "colorscale": [
             [
              0,
              "#0d0887"
             ],
             [
              0.1111111111111111,
              "#46039f"
             ],
             [
              0.2222222222222222,
              "#7201a8"
             ],
             [
              0.3333333333333333,
              "#9c179e"
             ],
             [
              0.4444444444444444,
              "#bd3786"
             ],
             [
              0.5555555555555556,
              "#d8576b"
             ],
             [
              0.6666666666666666,
              "#ed7953"
             ],
             [
              0.7777777777777778,
              "#fb9f3a"
             ],
             [
              0.8888888888888888,
              "#fdca26"
             ],
             [
              1,
              "#f0f921"
             ]
            ],
            "type": "surface"
           }
          ],
          "table": [
           {
            "cells": {
             "fill": {
              "color": "#EBF0F8"
             },
             "line": {
              "color": "white"
             }
            },
            "header": {
             "fill": {
              "color": "#C8D4E3"
             },
             "line": {
              "color": "white"
             }
            },
            "type": "table"
           }
          ]
         },
         "layout": {
          "annotationdefaults": {
           "arrowcolor": "#2a3f5f",
           "arrowhead": 0,
           "arrowwidth": 1
          },
          "autotypenumbers": "strict",
          "coloraxis": {
           "colorbar": {
            "outlinewidth": 0,
            "ticks": ""
           }
          },
          "colorscale": {
           "diverging": [
            [
             0,
             "#8e0152"
            ],
            [
             0.1,
             "#c51b7d"
            ],
            [
             0.2,
             "#de77ae"
            ],
            [
             0.3,
             "#f1b6da"
            ],
            [
             0.4,
             "#fde0ef"
            ],
            [
             0.5,
             "#f7f7f7"
            ],
            [
             0.6,
             "#e6f5d0"
            ],
            [
             0.7,
             "#b8e186"
            ],
            [
             0.8,
             "#7fbc41"
            ],
            [
             0.9,
             "#4d9221"
            ],
            [
             1,
             "#276419"
            ]
           ],
           "sequential": [
            [
             0,
             "#0d0887"
            ],
            [
             0.1111111111111111,
             "#46039f"
            ],
            [
             0.2222222222222222,
             "#7201a8"
            ],
            [
             0.3333333333333333,
             "#9c179e"
            ],
            [
             0.4444444444444444,
             "#bd3786"
            ],
            [
             0.5555555555555556,
             "#d8576b"
            ],
            [
             0.6666666666666666,
             "#ed7953"
            ],
            [
             0.7777777777777778,
             "#fb9f3a"
            ],
            [
             0.8888888888888888,
             "#fdca26"
            ],
            [
             1,
             "#f0f921"
            ]
           ],
           "sequentialminus": [
            [
             0,
             "#0d0887"
            ],
            [
             0.1111111111111111,
             "#46039f"
            ],
            [
             0.2222222222222222,
             "#7201a8"
            ],
            [
             0.3333333333333333,
             "#9c179e"
            ],
            [
             0.4444444444444444,
             "#bd3786"
            ],
            [
             0.5555555555555556,
             "#d8576b"
            ],
            [
             0.6666666666666666,
             "#ed7953"
            ],
            [
             0.7777777777777778,
             "#fb9f3a"
            ],
            [
             0.8888888888888888,
             "#fdca26"
            ],
            [
             1,
             "#f0f921"
            ]
           ]
          },
          "colorway": [
           "#636efa",
           "#EF553B",
           "#00cc96",
           "#ab63fa",
           "#FFA15A",
           "#19d3f3",
           "#FF6692",
           "#B6E880",
           "#FF97FF",
           "#FECB52"
          ],
          "font": {
           "color": "#2a3f5f"
          },
          "geo": {
           "bgcolor": "white",
           "lakecolor": "white",
           "landcolor": "#E5ECF6",
           "showlakes": true,
           "showland": true,
           "subunitcolor": "white"
          },
          "hoverlabel": {
           "align": "left"
          },
          "hovermode": "closest",
          "mapbox": {
           "style": "light"
          },
          "paper_bgcolor": "white",
          "plot_bgcolor": "#E5ECF6",
          "polar": {
           "angularaxis": {
            "gridcolor": "white",
            "linecolor": "white",
            "ticks": ""
           },
           "bgcolor": "#E5ECF6",
           "radialaxis": {
            "gridcolor": "white",
            "linecolor": "white",
            "ticks": ""
           }
          },
          "scene": {
           "xaxis": {
            "backgroundcolor": "#E5ECF6",
            "gridcolor": "white",
            "gridwidth": 2,
            "linecolor": "white",
            "showbackground": true,
            "ticks": "",
            "zerolinecolor": "white"
           },
           "yaxis": {
            "backgroundcolor": "#E5ECF6",
            "gridcolor": "white",
            "gridwidth": 2,
            "linecolor": "white",
            "showbackground": true,
            "ticks": "",
            "zerolinecolor": "white"
           },
           "zaxis": {
            "backgroundcolor": "#E5ECF6",
            "gridcolor": "white",
            "gridwidth": 2,
            "linecolor": "white",
            "showbackground": true,
            "ticks": "",
            "zerolinecolor": "white"
           }
          },
          "shapedefaults": {
           "line": {
            "color": "#2a3f5f"
           }
          },
          "ternary": {
           "aaxis": {
            "gridcolor": "white",
            "linecolor": "white",
            "ticks": ""
           },
           "baxis": {
            "gridcolor": "white",
            "linecolor": "white",
            "ticks": ""
           },
           "bgcolor": "#E5ECF6",
           "caxis": {
            "gridcolor": "white",
            "linecolor": "white",
            "ticks": ""
           }
          },
          "title": {
           "x": 0.05
          },
          "xaxis": {
           "automargin": true,
           "gridcolor": "white",
           "linecolor": "white",
           "ticks": "",
           "title": {
            "standoff": 15
           },
           "zerolinecolor": "white",
           "zerolinewidth": 2
          },
          "yaxis": {
           "automargin": true,
           "gridcolor": "white",
           "linecolor": "white",
           "ticks": "",
           "title": {
            "standoff": 15
           },
           "zerolinecolor": "white",
           "zerolinewidth": 2
          }
         }
        },
        "title": {
         "text": "(a) TSSB"
        },
        "xaxis": {
         "autorange": true,
         "range": [
          0,
          74
         ],
         "tickangle": -45,
         "tickfont": {
          "size": 7
         },
         "type": "category"
        },
        "yaxis": {
         "autorange": true,
         "range": [
          -3.277777777777778,
          62.27777777777778
         ],
         "title": {
          "text": "Runtime in Seconds"
         },
         "type": "linear"
        }
       }
      },
      "image/png": "[encoded data removed]"
     },
     "metadata": {},
     "output_type": "display_data"
    }
   ],
   "source": [
    "plot_runtimes_per_column(main_exp_tssb, 'dataset', dict(\n",
    "                          tickangle=-45,\n",
    "                          tickfont=dict(\n",
    "                          size=7\n",
    "                      )\n",
    "                      ), '(a) TSSB', 'results/figures/runtimes_per_algo_tssb.png')"
   ]
  },
  {
   "cell_type": "markdown",
   "id": "922f13b5-55db-4c6b-b8cd-e944202dbbf5",
   "metadata": {},
   "source": [
    "## HASC"
   ]
  },
  {
   "cell_type": "code",
   "execution_count": 25,
   "id": "31e64b66-ab50-4154-85aa-f2a21d17f8f3",
   "metadata": {},
   "outputs": [],
   "source": [
    "main_exp_hasc['runtime']=main_exp_hasc.apply(sum_up_runtimes, axis=1)\n",
    "main_exp_hasc['dataset']=main_exp_hasc.apply(add_dataset_name_hasc, axis=1)"
   ]
  },
  {
   "cell_type": "code",
   "execution_count": 26,
   "id": "e296dae6-ed4d-4294-af17-df68a1b5474b",
   "metadata": {},
   "outputs": [
    {
     "data": {
      "application/vnd.plotly.v1+json": {
       "config": {
        "plotlyServerURL": "https://plot.ly"
       },
       "data": [
        {
         "mode": "lines",
         "name": "None",
         "type": "scatter",
         "x": [
          "outdoor_subject5_routine3 (id126)",
          "outdoor_subject2_routine1 (id168)",
          "outdoor_subject5_routine2 (id106)",
          "indoor_subject7_routine3 (id188)",
          "outdoor_subject5_routine1 (id53)",
          "outdoor_subject4_routine2 (id69)",
          "indoor_subject8_routine3 (id242)",
          "indoor_subject8_routine3 (id240)",
          "outdoor_subject3_routine2 (id38)",
          "outdoor_subject6_routine3 (id172)",
          "indoor_subject7_routine3 (id59)",
          "outdoor_subject5_routine3 (id198)",
          "outdoor_subject6_routine3 (id112)",
          "outdoor_subject7_routine3 (id4)",
          "outdoor_subject4_routine3 (id211)",
          "outdoor_subject7_routine3 (id26)",
          "outdoor_subject7_routine3 (id219)",
          "outdoor_subject6_routine3 (id191)",
          "outdoor_subject6_routine3 (id96)",
          "outdoor_subject7_routine3 (id163)",
          "outdoor_subject7_routine3 (id79)",
          "outdoor_subject7_routine3 (id48)",
          "outdoor_subject1_routine1 (id81)",
          "outdoor_subject5_routine1 (id82)",
          "outdoor_subject5_routine3 (id62)",
          "indoor_subject7_routine3 (id12)",
          "outdoor_subject4_routine3 (id84)",
          "indoor_subject7_routine3 (id238)",
          "outdoor_subject6_routine3 (id220)",
          "outdoor_subject5_routine2 (id75)",
          "outdoor_subject5_routine1 (id94)",
          "outdoor_subject4_routine2 (id170)",
          "outdoor_subject5_routine3 (id80)",
          "outdoor_subject1_routine2 (id205)",
          "outdoor_subject5_routine3 (id182)",
          "outdoor_subject3_routine2 (id179)",
          "indoor_subject3_routine3 (id192)",
          "outdoor_subject5_routine2 (id204)",
          "indoor_subject7_routine3 (id196)",
          "outdoor_subject3_routine2 (id104)",
          "outdoor_subject3_routine2 (id187)",
          "outdoor_subject7_routine3 (id78)",
          "outdoor_subject1_routine2 (id244)",
          "outdoor_subject7_routine3 (id190)",
          "outdoor_subject4_routine2 (id39)",
          "indoor_subject4_routine3 (id232)",
          "outdoor_subject7_routine1 (id135)",
          "indoor_subject3_routine3 (id9)",
          "indoor_subject5_routine3 (id217)",
          "outdoor_subject5_routine1 (id223)",
          "outdoor_subject7_routine3 (id67)",
          "indoor_subject4_routine3 (id148)",
          "outdoor_subject3_routine2 (id42)",
          "outdoor_subject2_routine1 (id40)",
          "outdoor_subject5_routine1 (id154)",
          "outdoor_subject4_routine2 (id162)",
          "outdoor_subject6_routine3 (id45)",
          "indoor_subject7_routine3 (id169)",
          "indoor_subject4_routine1 (id156)",
          "outdoor_subject7_routine3 (id46)",
          "outdoor_subject5_routine3 (id22)",
          "outdoor_subject5_routine3 (id18)",
          "outdoor_subject5_routine3 (id212)",
          "outdoor_subject6_routine3 (id31)",
          "outdoor_subject5_routine3 (id5)",
          "outdoor_subject5_routine3 (id138)",
          "outdoor_subject5_routine3 (id175)",
          "outdoor_subject3_routine1 (id136)",
          "outdoor_subject6_routine3 (id111)",
          "indoor_subject4_routine1 (id58)",
          "outdoor_subject5_routine3 (id61)",
          "outdoor_subject7_routine3 (id73)",
          "outdoor_subject7_routine3 (id120)",
          "outdoor_subject3_routine2 (id124)",
          "outdoor_subject7_routine3 (id143)",
          "outdoor_subject2_routine1 (id0)",
          "indoor_subject4_routine1 (id28)",
          "indoor_subject7_routine1 (id161)",
          "indoor_subject1_routine1 (id150)",
          "indoor_subject2_routine1 (id227)",
          "indoor_subject8_routine3 (id134)",
          "outdoor_subject2_routine1 (id243)",
          "indoor_subject7_routine3 (id2)",
          "outdoor_subject4_routine3 (id99)",
          "indoor_subject3_routine3 (id109)",
          "outdoor_subject5_routine1 (id218)",
          "indoor_subject1_routine2 (id177)",
          "indoor_subject5_routine3 (id29)",
          "indoor_subject7_routine3 (id43)",
          "outdoor_subject5_routine3 (id90)",
          "outdoor_subject5_routine3 (id228)",
          "outdoor_subject5_routine2 (id95)",
          "indoor_subject3_routine2 (id202)",
          "outdoor_subject7_routine1 (id123)",
          "outdoor_subject7_routine3 (id234)",
          "indoor_subject3_routine3 (id226)",
          "outdoor_subject7_routine3 (id189)",
          "indoor_subject4_routine1 (id149)",
          "outdoor_subject7_routine3 (id144)",
          "indoor_subject5_routine3 (id7)",
          "outdoor_subject2_routine3 (id183)",
          "outdoor_subject5_routine3 (id108)",
          "outdoor_subject2_routine1 (id128)",
          "indoor_subject8_routine3 (id167)",
          "indoor_subject4_routine1 (id102)",
          "indoor_subject1_routine1 (id52)",
          "indoor_subject3_routine1 (id6)",
          "outdoor_subject6_routine3 (id1)",
          "indoor_subject7_routine3 (id105)",
          "outdoor_subject1_routine2 (id173)",
          "outdoor_subject6_routine3 (id224)",
          "indoor_subject3_routine3 (id186)",
          "indoor_subject3_routine3 (id86)",
          "indoor_subject4_routine1 (id24)",
          "indoor_subject8_routine3 (id55)",
          "outdoor_subject3_routine2 (id76)",
          "indoor_subject3_routine1 (id88)",
          "indoor_subject2_routine1 (id103)",
          "outdoor_subject7_routine3 (id208)",
          "outdoor_subject5_routine2 (id185)",
          "indoor_subject4_routine1 (id14)",
          "indoor_subject3_routine2 (id71)",
          "indoor_subject1_routine1 (id93)",
          "outdoor_subject6_routine3 (id117)",
          "outdoor_subject6_routine3 (id142)",
          "indoor_subject7_routine3 (id246)",
          "indoor_subject3_routine1 (id233)",
          "indoor_subject3_routine2 (id114)",
          "indoor_subject4_routine2 (id245)",
          "outdoor_subject4_routine3 (id44)",
          "outdoor_subject4_routine3 (id160)",
          "outdoor_subject4_routine3 (id17)",
          "outdoor_subject4_routine3 (id248)",
          "outdoor_subject2_routine1 (id110)",
          "indoor_subject3_routine2 (id51)",
          "indoor_subject4_routine3 (id145)",
          "indoor_subject3_routine1 (id164)",
          "indoor_subject7_routine1 (id247)",
          "indoor_subject4_routine1 (id3)",
          "outdoor_subject7_routine3 (id193)",
          "outdoor_subject6_routine3 (id116)",
          "indoor_subject2_routine1 (id83)",
          "outdoor_subject5_routine3 (id10)",
          "indoor_subject4_routine1 (id13)",
          "indoor_subject4_routine3 (id100)",
          "indoor_subject2_routine1 (id66)",
          "indoor_subject4_routine3 (id98)",
          "indoor_subject3_routine1 (id209)",
          "indoor_subject3_routine1 (id152)",
          "outdoor_subject5_routine1 (id151)",
          "outdoor_subject5_routine3 (id118)",
          "outdoor_subject7_routine1 (id137)",
          "indoor_subject3_routine1 (id91)",
          "indoor_subject3_routine3 (id122)",
          "indoor_subject6_routine3 (id199)",
          "indoor_subject2_routine1 (id231)",
          "outdoor_subject7_routine1 (id214)",
          "outdoor_subject5_routine3 (id235)",
          "indoor_subject4_routine3 (id68)",
          "indoor_subject3_routine3 (id50)",
          "indoor_subject3_routine3 (id19)",
          "indoor_subject1_routine2 (id127)",
          "indoor_subject8_routine3 (id230)",
          "indoor_subject8_routine3 (id113)",
          "outdoor_subject4_routine2 (id20)",
          "outdoor_subject6_routine3 (id57)",
          "indoor_subject5_routine3 (id216)",
          "indoor_subject6_routine1 (id153)",
          "outdoor_subject7_routine1 (id159)",
          "outdoor_subject4_routine1 (id195)",
          "outdoor_subject1_routine1 (id16)",
          "outdoor_subject2_routine1 (id178)",
          "outdoor_subject7_routine1 (id85)",
          "indoor_subject2_routine1 (id176)",
          "indoor_subject1_routine1 (id125)",
          "indoor_subject3_routine2 (id130)",
          "indoor_subject7_routine1 (id200)",
          "indoor_subject7_routine1 (id35)",
          "indoor_subject4_routine3 (id215)",
          "outdoor_subject2_routine3 (id184)",
          "indoor_subject6_routine3 (id146)",
          "indoor_subject6_routine3 (id197)",
          "indoor_subject1_routine2 (id27)",
          "indoor_subject6_routine1 (id131)",
          "indoor_subject1_routine1 (id140)",
          "indoor_subject1_routine2 (id65)",
          "indoor_subject1_routine1 (id221)",
          "outdoor_subject2_routine1 (id115)",
          "indoor_subject5_routine3 (id210)",
          "outdoor_subject2_routine3 (id60)",
          "indoor_subject3_routine2 (id25)",
          "indoor_subject8_routine1 (id72)",
          "outdoor_subject4_routine3 (id37)",
          "indoor_subject1_routine3 (id249)",
          "outdoor_subject5_routine2 (id107)",
          "indoor_subject7_routine2 (id23)",
          "outdoor_subject2_routine1 (id194)",
          "indoor_subject8_routine3 (id11)",
          "indoor_subject5_routine3 (id229)",
          "indoor_subject8_routine1 (id63)",
          "indoor_subject4_routine2 (id21)",
          "indoor_subject7_routine1 (id49)",
          "indoor_subject6_routine1 (id70)",
          "indoor_subject6_routine1 (id174)",
          "indoor_subject7_routine2 (id41)",
          "outdoor_subject4_routine3 (id158)",
          "outdoor_subject4_routine2 (id89)",
          "indoor_subject1_routine3 (id180)",
          "indoor_subject7_routine2 (id34)",
          "outdoor_subject4_routine3 (id206)",
          "outdoor_subject2_routine3 (id33)",
          "outdoor_subject1_routine1 (id213)",
          "indoor_subject2_routine2 (id129)",
          "indoor_subject7_routine3 (id181)",
          "outdoor_subject5_routine1 (id15)",
          "outdoor_subject1_routine2 (id119)",
          "indoor_subject4_routine2 (id77)",
          "indoor_subject6_routine3 (id30)",
          "outdoor_subject2_routine1 (id141)",
          "outdoor_subject4_routine1 (id237)",
          "indoor_subject8_routine1 (id133)",
          "outdoor_subject5_routine1 (id203)",
          "indoor_subject2_routine2 (id36)",
          "outdoor_subject7_routine1 (id157)",
          "outdoor_subject1_routine1 (id132)",
          "outdoor_subject6_routine1 (id74)",
          "outdoor_subject2_routine3 (id92)",
          "outdoor_subject1_routine1 (id165)",
          "indoor_subject1_routine3 (id207)",
          "outdoor_subject4_routine2 (id101)",
          "outdoor_subject4_routine1 (id222)",
          "outdoor_subject1_routine2 (id236)",
          "outdoor_subject5_routine2 (id201)",
          "outdoor_subject3_routine1 (id121)",
          "outdoor_subject5_routine2 (id54)",
          "outdoor_subject3_routine2 (id32)",
          "outdoor_subject1_routine2 (id139)",
          "outdoor_subject4_routine2 (id171)",
          "outdoor_subject6_routine1 (id155)",
          "outdoor_subject4_routine3 (id87)",
          "outdoor_subject7_routine3 (id47)",
          "outdoor_subject3_routine2 (id56)",
          "outdoor_subject3_routine1 (id64)",
          "outdoor_subject6_routine2 (id97)",
          "outdoor_subject5_routine3 (id239)",
          "outdoor_subject6_routine2 (id147)",
          "outdoor_subject2_routine2 (id166)",
          "outdoor_subject2_routine2 (id225)",
          "outdoor_subject6_routine3 (id241)",
          "outdoor_subject2_routine3 (id8)"
         ],
         "y": [
          0.078,
          0.031,
          0.062,
          0.156,
          0.078,
          0.125,
          0.234,
          0.234,
          0.141,
          0.25,
          0.281,
          0.297,
          0.281,
          0.328,
          0.359,
          0.422,
          0.391,
          0.484,
          0.266,
          0.297,
          0.484,
          0.344,
          0.391,
          0.547,
          0.422,
          0.469,
          0.375,
          0.906,
          0.281,
          0.547,
          0.688,
          0.641,
          0.906,
          0.891,
          0.844,
          0.969,
          1.531,
          0.703,
          1.25,
          0.641,
          1.641,
          1.75,
          1.5,
          2.281,
          1.5,
          3.25,
          2.812,
          2.938,
          3.859,
          3.281,
          2.938,
          3.672,
          2.188,
          4.219,
          3.156,
          3.344,
          3.672,
          2.828,
          5.516,
          3.844,
          3.875,
          3.938,
          3.984,
          4.219,
          3.516,
          4.141,
          4.297,
          6.234,
          3.5,
          5.062,
          4.016,
          4.516,
          4.734,
          4.406,
          4.281,
          4.906,
          7.297,
          10.531,
          6.859,
          7.828,
          5.984,
          5.531,
          10.375,
          5.328,
          9.578,
          8.078,
          9.125,
          9.344,
          7.859,
          8.344,
          8.125,
          7.281,
          16.016,
          5.938,
          8.859,
          11.797,
          6.922,
          13.484,
          6.172,
          11.969,
          8.312,
          5.719,
          11.344,
          13.812,
          14.672,
          21.766,
          12.922,
          9.828,
          16.047,
          12.719,
          10.062,
          13.734,
          19.875,
          14.125,
          14.812,
          11.328,
          18.719,
          21.5,
          10.938,
          11.906,
          18.297,
          24.203,
          28.047,
          10.625,
          13.781,
          20.094,
          17.688,
          18.672,
          25.781,
          15.219,
          15.672,
          14.703,
          14.188,
          9.219,
          18.703,
          28.797,
          23.734,
          29.047,
          21.984,
          15.516,
          16.953,
          21.656,
          8.281,
          27.719,
          24.531,
          14.656,
          24.562,
          30.516,
          34.359,
          17.75,
          20.141,
          18.844,
          27.781,
          29.234,
          30.75,
          38.219,
          10.766,
          19.266,
          57.141,
          31.375,
          33.703,
          17.312,
          34.062,
          48.609,
          32.719,
          25.516,
          40.531,
          43.312,
          25.188,
          34.766,
          36.438,
          39.641,
          31.297,
          62.875,
          79.469,
          48.547,
          57.734,
          55.141,
          57.609,
          38.172,
          57.219,
          53.156,
          43.344,
          59.219,
          69.406,
          46.047,
          67.312,
          34.5,
          79.016,
          54.172,
          71.344,
          86.719,
          58.641,
          78.812,
          58.844,
          77.656,
          57.172,
          122.484,
          83.016,
          78.25,
          106.688,
          111.031,
          109.594,
          127,
          95.328,
          88.828,
          127.672,
          177.969,
          158,
          123.812,
          127.672,
          104.312,
          150.922,
          278.547,
          184.375,
          120.562,
          241.547,
          215.812,
          162.453,
          129.016,
          284.062,
          118.812,
          304.344,
          169.938,
          223.016,
          264.469,
          254.719,
          311.781,
          802.406,
          494.469,
          399.812,
          667.766,
          724.859,
          1070.719,
          1087.391,
          941.906,
          903.766,
          836.594,
          864.141,
          1202.781,
          1590.5,
          2617.203,
          1181.984,
          2349.234,
          1772.156,
          1635.094,
          2583.188,
          3549.781,
          2326.031,
          2542.125
         ]
        },
        {
         "mode": "lines",
         "name": "EveryNth",
         "type": "scatter",
         "x": [
          "outdoor_subject5_routine3 (id126)",
          "outdoor_subject2_routine1 (id168)",
          "outdoor_subject5_routine2 (id106)",
          "indoor_subject7_routine3 (id188)",
          "outdoor_subject5_routine1 (id53)",
          "outdoor_subject4_routine2 (id69)",
          "indoor_subject8_routine3 (id242)",
          "indoor_subject8_routine3 (id240)",
          "outdoor_subject3_routine2 (id38)",
          "outdoor_subject6_routine3 (id172)",
          "indoor_subject7_routine3 (id59)",
          "outdoor_subject5_routine3 (id198)",
          "outdoor_subject6_routine3 (id112)",
          "outdoor_subject7_routine3 (id4)",
          "outdoor_subject4_routine3 (id211)",
          "outdoor_subject7_routine3 (id26)",
          "outdoor_subject7_routine3 (id219)",
          "outdoor_subject6_routine3 (id191)",
          "outdoor_subject6_routine3 (id96)",
          "outdoor_subject7_routine3 (id163)",
          "outdoor_subject7_routine3 (id79)",
          "outdoor_subject7_routine3 (id48)",
          "outdoor_subject1_routine1 (id81)",
          "outdoor_subject5_routine1 (id82)",
          "outdoor_subject5_routine3 (id62)",
          "indoor_subject7_routine3 (id12)",
          "outdoor_subject4_routine3 (id84)",
          "indoor_subject7_routine3 (id238)",
          "outdoor_subject6_routine3 (id220)",
          "outdoor_subject5_routine2 (id75)",
          "outdoor_subject5_routine1 (id94)",
          "outdoor_subject4_routine2 (id170)",
          "outdoor_subject5_routine3 (id80)",
          "outdoor_subject1_routine2 (id205)",
          "outdoor_subject5_routine3 (id182)",
          "outdoor_subject3_routine2 (id179)",
          "indoor_subject3_routine3 (id192)",
          "outdoor_subject5_routine2 (id204)",
          "indoor_subject7_routine3 (id196)",
          "outdoor_subject3_routine2 (id104)",
          "outdoor_subject3_routine2 (id187)",
          "outdoor_subject7_routine3 (id78)",
          "outdoor_subject1_routine2 (id244)",
          "outdoor_subject7_routine3 (id190)",
          "outdoor_subject4_routine2 (id39)",
          "indoor_subject4_routine3 (id232)",
          "outdoor_subject7_routine1 (id135)",
          "indoor_subject3_routine3 (id9)",
          "indoor_subject5_routine3 (id217)",
          "outdoor_subject5_routine1 (id223)",
          "outdoor_subject7_routine3 (id67)",
          "indoor_subject4_routine3 (id148)",
          "outdoor_subject3_routine2 (id42)",
          "outdoor_subject2_routine1 (id40)",
          "outdoor_subject5_routine1 (id154)",
          "outdoor_subject4_routine2 (id162)",
          "outdoor_subject6_routine3 (id45)",
          "indoor_subject7_routine3 (id169)",
          "indoor_subject4_routine1 (id156)",
          "outdoor_subject7_routine3 (id46)",
          "outdoor_subject5_routine3 (id22)",
          "outdoor_subject5_routine3 (id212)",
          "outdoor_subject5_routine3 (id18)",
          "outdoor_subject6_routine3 (id31)",
          "outdoor_subject5_routine3 (id5)",
          "outdoor_subject5_routine3 (id138)",
          "outdoor_subject5_routine3 (id175)",
          "outdoor_subject3_routine1 (id136)",
          "outdoor_subject6_routine3 (id111)",
          "indoor_subject4_routine1 (id58)",
          "outdoor_subject5_routine3 (id61)",
          "outdoor_subject7_routine3 (id73)",
          "outdoor_subject7_routine3 (id120)",
          "outdoor_subject3_routine2 (id124)",
          "outdoor_subject7_routine3 (id143)",
          "outdoor_subject2_routine1 (id0)",
          "indoor_subject4_routine1 (id28)",
          "indoor_subject7_routine1 (id161)",
          "indoor_subject1_routine1 (id150)",
          "indoor_subject2_routine1 (id227)",
          "indoor_subject8_routine3 (id134)",
          "outdoor_subject2_routine1 (id243)",
          "indoor_subject7_routine3 (id2)",
          "outdoor_subject4_routine3 (id99)",
          "indoor_subject3_routine3 (id109)",
          "outdoor_subject5_routine1 (id218)",
          "indoor_subject1_routine2 (id177)",
          "indoor_subject5_routine3 (id29)",
          "indoor_subject7_routine3 (id43)",
          "outdoor_subject5_routine3 (id90)",
          "outdoor_subject5_routine3 (id228)",
          "outdoor_subject5_routine2 (id95)",
          "outdoor_subject7_routine1 (id123)",
          "indoor_subject3_routine2 (id202)",
          "outdoor_subject7_routine3 (id234)",
          "indoor_subject3_routine3 (id226)",
          "outdoor_subject7_routine3 (id189)",
          "indoor_subject4_routine1 (id149)",
          "outdoor_subject7_routine3 (id144)",
          "indoor_subject5_routine3 (id7)",
          "outdoor_subject2_routine3 (id183)",
          "outdoor_subject5_routine3 (id108)",
          "outdoor_subject2_routine1 (id128)",
          "indoor_subject8_routine3 (id167)",
          "indoor_subject4_routine1 (id102)",
          "indoor_subject1_routine1 (id52)",
          "indoor_subject3_routine1 (id6)",
          "outdoor_subject6_routine3 (id1)",
          "indoor_subject7_routine3 (id105)",
          "outdoor_subject1_routine2 (id173)",
          "outdoor_subject6_routine3 (id224)",
          "indoor_subject3_routine3 (id186)",
          "indoor_subject3_routine3 (id86)",
          "indoor_subject4_routine1 (id24)",
          "indoor_subject8_routine3 (id55)",
          "outdoor_subject3_routine2 (id76)",
          "indoor_subject3_routine1 (id88)",
          "indoor_subject2_routine1 (id103)",
          "outdoor_subject7_routine3 (id208)",
          "outdoor_subject5_routine2 (id185)",
          "indoor_subject4_routine1 (id14)",
          "indoor_subject3_routine2 (id71)",
          "indoor_subject1_routine1 (id93)",
          "outdoor_subject6_routine3 (id117)",
          "outdoor_subject6_routine3 (id142)",
          "indoor_subject7_routine3 (id246)",
          "indoor_subject3_routine1 (id233)",
          "indoor_subject3_routine2 (id114)",
          "indoor_subject4_routine2 (id245)",
          "outdoor_subject4_routine3 (id44)",
          "outdoor_subject4_routine3 (id160)",
          "outdoor_subject4_routine3 (id17)",
          "outdoor_subject4_routine3 (id248)",
          "outdoor_subject2_routine1 (id110)",
          "indoor_subject3_routine2 (id51)",
          "indoor_subject4_routine3 (id145)",
          "indoor_subject3_routine1 (id164)",
          "indoor_subject7_routine1 (id247)",
          "indoor_subject4_routine1 (id3)",
          "outdoor_subject7_routine3 (id193)",
          "outdoor_subject6_routine3 (id116)",
          "indoor_subject2_routine1 (id83)",
          "outdoor_subject5_routine3 (id10)",
          "indoor_subject4_routine1 (id13)",
          "indoor_subject4_routine3 (id100)",
          "indoor_subject2_routine1 (id66)",
          "indoor_subject4_routine3 (id98)",
          "indoor_subject3_routine1 (id209)",
          "indoor_subject3_routine1 (id152)",
          "outdoor_subject5_routine1 (id151)",
          "outdoor_subject5_routine3 (id118)",
          "outdoor_subject7_routine1 (id137)",
          "indoor_subject3_routine1 (id91)",
          "indoor_subject3_routine3 (id122)",
          "indoor_subject6_routine3 (id199)",
          "indoor_subject2_routine1 (id231)",
          "outdoor_subject7_routine1 (id214)",
          "outdoor_subject5_routine3 (id235)",
          "indoor_subject4_routine3 (id68)",
          "indoor_subject3_routine3 (id50)",
          "indoor_subject3_routine3 (id19)",
          "indoor_subject1_routine2 (id127)",
          "indoor_subject8_routine3 (id230)",
          "indoor_subject8_routine3 (id113)",
          "outdoor_subject4_routine2 (id20)",
          "outdoor_subject6_routine3 (id57)",
          "indoor_subject5_routine3 (id216)",
          "indoor_subject6_routine1 (id153)",
          "outdoor_subject7_routine1 (id159)",
          "outdoor_subject4_routine1 (id195)",
          "outdoor_subject7_routine1 (id85)",
          "outdoor_subject1_routine1 (id16)",
          "outdoor_subject2_routine1 (id178)",
          "indoor_subject2_routine1 (id176)",
          "indoor_subject1_routine1 (id125)",
          "indoor_subject3_routine2 (id130)",
          "indoor_subject7_routine1 (id200)",
          "indoor_subject7_routine1 (id35)",
          "indoor_subject4_routine3 (id215)",
          "outdoor_subject2_routine3 (id184)",
          "indoor_subject6_routine3 (id146)",
          "indoor_subject6_routine3 (id197)",
          "indoor_subject1_routine2 (id27)",
          "indoor_subject6_routine1 (id131)",
          "indoor_subject1_routine1 (id140)",
          "indoor_subject1_routine2 (id65)",
          "indoor_subject1_routine1 (id221)",
          "outdoor_subject2_routine1 (id115)",
          "indoor_subject5_routine3 (id210)",
          "outdoor_subject2_routine3 (id60)",
          "indoor_subject3_routine2 (id25)",
          "indoor_subject8_routine1 (id72)",
          "outdoor_subject4_routine3 (id37)",
          "indoor_subject1_routine3 (id249)",
          "outdoor_subject5_routine2 (id107)",
          "indoor_subject7_routine2 (id23)",
          "outdoor_subject2_routine1 (id194)",
          "indoor_subject8_routine3 (id11)",
          "indoor_subject5_routine3 (id229)",
          "indoor_subject8_routine1 (id63)",
          "indoor_subject4_routine2 (id21)",
          "indoor_subject7_routine1 (id49)",
          "indoor_subject6_routine1 (id70)",
          "indoor_subject6_routine1 (id174)",
          "indoor_subject7_routine2 (id41)",
          "outdoor_subject4_routine3 (id158)",
          "outdoor_subject4_routine2 (id89)",
          "indoor_subject1_routine3 (id180)",
          "indoor_subject7_routine2 (id34)",
          "outdoor_subject4_routine3 (id206)",
          "outdoor_subject2_routine3 (id33)",
          "outdoor_subject1_routine1 (id213)",
          "indoor_subject2_routine2 (id129)",
          "indoor_subject7_routine3 (id181)",
          "outdoor_subject5_routine1 (id15)",
          "outdoor_subject1_routine2 (id119)",
          "indoor_subject4_routine2 (id77)",
          "indoor_subject6_routine3 (id30)",
          "outdoor_subject2_routine1 (id141)",
          "outdoor_subject4_routine1 (id237)",
          "indoor_subject8_routine1 (id133)",
          "outdoor_subject5_routine1 (id203)",
          "indoor_subject2_routine2 (id36)",
          "outdoor_subject7_routine1 (id157)",
          "outdoor_subject1_routine1 (id132)",
          "outdoor_subject6_routine1 (id74)",
          "outdoor_subject2_routine3 (id92)",
          "outdoor_subject1_routine1 (id165)",
          "indoor_subject1_routine3 (id207)",
          "outdoor_subject4_routine2 (id101)",
          "outdoor_subject4_routine1 (id222)",
          "outdoor_subject1_routine2 (id236)",
          "outdoor_subject5_routine2 (id201)",
          "outdoor_subject3_routine1 (id121)",
          "outdoor_subject5_routine2 (id54)",
          "outdoor_subject3_routine2 (id32)",
          "outdoor_subject1_routine2 (id139)",
          "outdoor_subject4_routine2 (id171)",
          "outdoor_subject6_routine1 (id155)",
          "outdoor_subject4_routine3 (id87)",
          "outdoor_subject7_routine3 (id47)",
          "outdoor_subject3_routine2 (id56)",
          "outdoor_subject3_routine1 (id64)",
          "outdoor_subject6_routine2 (id97)",
          "outdoor_subject5_routine3 (id239)",
          "outdoor_subject6_routine2 (id147)",
          "outdoor_subject2_routine2 (id166)",
          "outdoor_subject2_routine2 (id225)",
          "outdoor_subject6_routine3 (id241)",
          "outdoor_subject2_routine3 (id8)"
         ],
         "y": [
          0.078,
          0.093,
          0.109,
          0.125,
          0.093,
          0.172,
          0.313,
          0.21899999999999997,
          0.125,
          0.14,
          0.265,
          0.187,
          0.172,
          0.203,
          0.156,
          0.25,
          0.219,
          0.265,
          0.219,
          0.25,
          0.31200000000000006,
          0.20299999999999999,
          0.281,
          0.281,
          0.234,
          0.453,
          0.39099999999999996,
          0.359,
          0.20299999999999999,
          0.172,
          0.359,
          0.21899999999999997,
          0.235,
          0.438,
          0.5630000000000001,
          0.422,
          0.6399999999999999,
          0.32799999999999996,
          0.859,
          0.281,
          0.469,
          0.235,
          0.42200000000000004,
          0.735,
          0.5,
          1.484,
          0.531,
          1.203,
          1.187,
          0.687,
          0.5940000000000001,
          1.203,
          0.516,
          0.687,
          0.40599999999999997,
          0.6090000000000001,
          0.438,
          0.578,
          1.016,
          0.9380000000000001,
          0.922,
          0.859,
          0.8440000000000001,
          1.001,
          0.468,
          0.9530000000000001,
          0.937,
          1.063,
          0.469,
          1.312,
          1.7650000000000001,
          2.031,
          1.781,
          0.515,
          1.672,
          0.8130000000000001,
          3.187,
          3.266,
          1.3900000000000001,
          1.187,
          1.344,
          1.609,
          2.609,
          0.6240000000000001,
          3.234,
          0.9380000000000001,
          3.1399999999999997,
          3.312,
          2.219,
          0.891,
          3.75,
          2.75,
          3.625,
          8.469,
          1.266,
          4.406000000000001,
          0.9059999999999999,
          3.766,
          0.859,
          3.516,
          1.6560000000000001,
          1.234,
          3.203,
          4.562,
          6.140000000000001,
          10.641,
          3.6719999999999997,
          1.969,
          5.391,
          3.687,
          2.218,
          5.391,
          6.187,
          4.953,
          5.078,
          2.312,
          6.438000000000001,
          3.094,
          2.4219999999999997,
          4.296,
          4.469,
          3.734,
          8.86,
          2.6719999999999997,
          7.859,
          5.75,
          6.375,
          4.422000000000001,
          8.594,
          8.123999999999999,
          8.687,
          3.1399999999999997,
          5.1240000000000006,
          5.109,
          4.687,
          12.032,
          5.531,
          12.36,
          8.203,
          3.969,
          6.781000000000001,
          7.656000000000001,
          3.844,
          10.547,
          11.141,
          6.547000000000001,
          8.421,
          11.781,
          19.125,
          5.406000000000001,
          5.578,
          4,
          11.437,
          8.218,
          10.86,
          8.843,
          9.514999999999999,
          5.781000000000001,
          28.14,
          14.641,
          14.875,
          8.593,
          17.5,
          18.312,
          9.562999999999999,
          6.75,
          10.468,
          14.453,
          10.437,
          14.328,
          10.594,
          10.234,
          16.343999999999998,
          21.125,
          40.032,
          13.359,
          17.89,
          10.828,
          12.984,
          9.985,
          20.141,
          20.188,
          11.609,
          15.782,
          12.203,
          17.141,
          26.406,
          9.375,
          20.828,
          17.969,
          19.375,
          34.985,
          25.671000000000003,
          27.859,
          17.421000000000003,
          19.375,
          17.828000000000003,
          37.437999999999995,
          34.156,
          40.172,
          17.938,
          31.61,
          23.436999999999998,
          25.936999999999998,
          37.797,
          23.844,
          22.953000000000003,
          60.688,
          35.813,
          46.813,
          53.359,
          25.89,
          35.844,
          74.453,
          25.156000000000002,
          28.563,
          44.344,
          56.203,
          27.358999999999998,
          34.922,
          40.5,
          31.406,
          66.34400000000001,
          50.61,
          37.079,
          47.391,
          44.733999999999995,
          32.047,
          107.766,
          81.656,
          33.11,
          95.21900000000001,
          109.875,
          138.75,
          141.312,
          210.281,
          155.234,
          134.73499999999999,
          190.85999999999999,
          115.953,
          170.187,
          322.265,
          175.64000000000001,
          572.969,
          166.938,
          269.016,
          302.281,
          458.89,
          251.328,
          271.90700000000004
         ]
        },
        {
         "mode": "lines",
         "name": "MinMax",
         "type": "scatter",
         "x": [
          "outdoor_subject5_routine3 (id126)",
          "outdoor_subject2_routine1 (id168)",
          "outdoor_subject5_routine2 (id106)",
          "indoor_subject7_routine3 (id188)",
          "outdoor_subject5_routine1 (id53)",
          "outdoor_subject4_routine2 (id69)",
          "indoor_subject8_routine3 (id242)",
          "indoor_subject8_routine3 (id240)",
          "outdoor_subject3_routine2 (id38)",
          "outdoor_subject6_routine3 (id172)",
          "indoor_subject7_routine3 (id59)",
          "outdoor_subject5_routine3 (id198)",
          "outdoor_subject6_routine3 (id112)",
          "outdoor_subject7_routine3 (id4)",
          "outdoor_subject4_routine3 (id211)",
          "outdoor_subject7_routine3 (id26)",
          "outdoor_subject7_routine3 (id219)",
          "outdoor_subject6_routine3 (id191)",
          "outdoor_subject6_routine3 (id96)",
          "outdoor_subject7_routine3 (id163)",
          "outdoor_subject7_routine3 (id79)",
          "outdoor_subject7_routine3 (id48)",
          "outdoor_subject1_routine1 (id81)",
          "outdoor_subject5_routine1 (id82)",
          "outdoor_subject5_routine3 (id62)",
          "indoor_subject7_routine3 (id12)",
          "outdoor_subject4_routine3 (id84)",
          "indoor_subject7_routine3 (id238)",
          "outdoor_subject6_routine3 (id220)",
          "outdoor_subject5_routine2 (id75)",
          "outdoor_subject5_routine1 (id94)",
          "outdoor_subject4_routine2 (id170)",
          "outdoor_subject5_routine3 (id80)",
          "outdoor_subject1_routine2 (id205)",
          "outdoor_subject5_routine3 (id182)",
          "outdoor_subject3_routine2 (id179)",
          "indoor_subject3_routine3 (id192)",
          "outdoor_subject5_routine2 (id204)",
          "indoor_subject7_routine3 (id196)",
          "outdoor_subject3_routine2 (id104)",
          "outdoor_subject3_routine2 (id187)",
          "outdoor_subject7_routine3 (id78)",
          "outdoor_subject1_routine2 (id244)",
          "outdoor_subject7_routine3 (id190)",
          "outdoor_subject4_routine2 (id39)",
          "indoor_subject4_routine3 (id232)",
          "outdoor_subject7_routine1 (id135)",
          "indoor_subject3_routine3 (id9)",
          "indoor_subject5_routine3 (id217)",
          "outdoor_subject5_routine1 (id223)",
          "outdoor_subject7_routine3 (id67)",
          "indoor_subject4_routine3 (id148)",
          "outdoor_subject3_routine2 (id42)",
          "outdoor_subject2_routine1 (id40)",
          "outdoor_subject5_routine1 (id154)",
          "outdoor_subject4_routine2 (id162)",
          "outdoor_subject6_routine3 (id45)",
          "indoor_subject7_routine3 (id169)",
          "indoor_subject4_routine1 (id156)",
          "outdoor_subject7_routine3 (id46)",
          "outdoor_subject5_routine3 (id22)",
          "outdoor_subject5_routine3 (id212)",
          "outdoor_subject5_routine3 (id18)",
          "outdoor_subject6_routine3 (id31)",
          "outdoor_subject5_routine3 (id5)",
          "outdoor_subject5_routine3 (id138)",
          "outdoor_subject5_routine3 (id175)",
          "outdoor_subject3_routine1 (id136)",
          "outdoor_subject6_routine3 (id111)",
          "indoor_subject4_routine1 (id58)",
          "outdoor_subject5_routine3 (id61)",
          "outdoor_subject7_routine3 (id73)",
          "outdoor_subject7_routine3 (id120)",
          "outdoor_subject3_routine2 (id124)",
          "outdoor_subject7_routine3 (id143)",
          "outdoor_subject2_routine1 (id0)",
          "indoor_subject4_routine1 (id28)",
          "indoor_subject7_routine1 (id161)",
          "indoor_subject1_routine1 (id150)",
          "indoor_subject2_routine1 (id227)",
          "indoor_subject8_routine3 (id134)",
          "outdoor_subject2_routine1 (id243)",
          "indoor_subject7_routine3 (id2)",
          "outdoor_subject4_routine3 (id99)",
          "indoor_subject3_routine3 (id109)",
          "outdoor_subject5_routine1 (id218)",
          "indoor_subject1_routine2 (id177)",
          "indoor_subject5_routine3 (id29)",
          "indoor_subject7_routine3 (id43)",
          "outdoor_subject5_routine3 (id90)",
          "outdoor_subject5_routine3 (id228)",
          "outdoor_subject5_routine2 (id95)",
          "outdoor_subject7_routine1 (id123)",
          "indoor_subject3_routine2 (id202)",
          "outdoor_subject7_routine3 (id234)",
          "indoor_subject3_routine3 (id226)",
          "outdoor_subject7_routine3 (id189)",
          "indoor_subject4_routine1 (id149)",
          "outdoor_subject7_routine3 (id144)",
          "indoor_subject5_routine3 (id7)",
          "outdoor_subject2_routine3 (id183)",
          "outdoor_subject5_routine3 (id108)",
          "outdoor_subject2_routine1 (id128)",
          "indoor_subject8_routine3 (id167)",
          "indoor_subject4_routine1 (id102)",
          "indoor_subject1_routine1 (id52)",
          "indoor_subject3_routine1 (id6)",
          "outdoor_subject6_routine3 (id1)",
          "indoor_subject7_routine3 (id105)",
          "outdoor_subject1_routine2 (id173)",
          "outdoor_subject6_routine3 (id224)",
          "indoor_subject3_routine3 (id186)",
          "indoor_subject3_routine3 (id86)",
          "indoor_subject4_routine1 (id24)",
          "indoor_subject8_routine3 (id55)",
          "outdoor_subject3_routine2 (id76)",
          "indoor_subject3_routine1 (id88)",
          "indoor_subject2_routine1 (id103)",
          "outdoor_subject7_routine3 (id208)",
          "outdoor_subject5_routine2 (id185)",
          "indoor_subject4_routine1 (id14)",
          "indoor_subject3_routine2 (id71)",
          "indoor_subject1_routine1 (id93)",
          "outdoor_subject6_routine3 (id117)",
          "outdoor_subject6_routine3 (id142)",
          "indoor_subject7_routine3 (id246)",
          "indoor_subject3_routine1 (id233)",
          "indoor_subject3_routine2 (id114)",
          "indoor_subject4_routine2 (id245)",
          "outdoor_subject4_routine3 (id44)",
          "outdoor_subject4_routine3 (id160)",
          "outdoor_subject4_routine3 (id17)",
          "outdoor_subject4_routine3 (id248)",
          "outdoor_subject2_routine1 (id110)",
          "indoor_subject3_routine2 (id51)",
          "indoor_subject4_routine3 (id145)",
          "indoor_subject3_routine1 (id164)",
          "indoor_subject7_routine1 (id247)",
          "indoor_subject4_routine1 (id3)",
          "outdoor_subject7_routine3 (id193)",
          "outdoor_subject6_routine3 (id116)",
          "indoor_subject2_routine1 (id83)",
          "outdoor_subject5_routine3 (id10)",
          "indoor_subject4_routine1 (id13)",
          "indoor_subject4_routine3 (id100)",
          "indoor_subject2_routine1 (id66)",
          "indoor_subject4_routine3 (id98)",
          "indoor_subject3_routine1 (id209)",
          "indoor_subject3_routine1 (id152)",
          "outdoor_subject5_routine1 (id151)",
          "outdoor_subject5_routine3 (id118)",
          "outdoor_subject7_routine1 (id137)",
          "indoor_subject3_routine1 (id91)",
          "indoor_subject3_routine3 (id122)",
          "indoor_subject6_routine3 (id199)",
          "indoor_subject2_routine1 (id231)",
          "outdoor_subject7_routine1 (id214)",
          "outdoor_subject5_routine3 (id235)",
          "indoor_subject4_routine3 (id68)",
          "indoor_subject3_routine3 (id50)",
          "indoor_subject3_routine3 (id19)",
          "indoor_subject1_routine2 (id127)",
          "indoor_subject8_routine3 (id230)",
          "indoor_subject8_routine3 (id113)",
          "outdoor_subject4_routine2 (id20)",
          "outdoor_subject6_routine3 (id57)",
          "indoor_subject5_routine3 (id216)",
          "indoor_subject6_routine1 (id153)",
          "outdoor_subject7_routine1 (id159)",
          "outdoor_subject4_routine1 (id195)",
          "outdoor_subject7_routine1 (id85)",
          "outdoor_subject1_routine1 (id16)",
          "outdoor_subject2_routine1 (id178)",
          "indoor_subject2_routine1 (id176)",
          "indoor_subject1_routine1 (id125)",
          "indoor_subject3_routine2 (id130)",
          "indoor_subject7_routine1 (id200)",
          "indoor_subject7_routine1 (id35)",
          "indoor_subject4_routine3 (id215)",
          "outdoor_subject2_routine3 (id184)",
          "indoor_subject6_routine3 (id146)",
          "indoor_subject6_routine3 (id197)",
          "indoor_subject1_routine2 (id27)",
          "indoor_subject6_routine1 (id131)",
          "indoor_subject1_routine1 (id140)",
          "indoor_subject1_routine2 (id65)",
          "indoor_subject1_routine1 (id221)",
          "outdoor_subject2_routine1 (id115)",
          "indoor_subject5_routine3 (id210)",
          "outdoor_subject2_routine3 (id60)",
          "indoor_subject3_routine2 (id25)",
          "indoor_subject8_routine1 (id72)",
          "outdoor_subject4_routine3 (id37)",
          "indoor_subject1_routine3 (id249)",
          "outdoor_subject5_routine2 (id107)",
          "indoor_subject7_routine2 (id23)",
          "outdoor_subject2_routine1 (id194)",
          "indoor_subject8_routine3 (id11)",
          "indoor_subject5_routine3 (id229)",
          "indoor_subject8_routine1 (id63)",
          "indoor_subject4_routine2 (id21)",
          "indoor_subject7_routine1 (id49)",
          "indoor_subject6_routine1 (id70)",
          "indoor_subject6_routine1 (id174)",
          "indoor_subject7_routine2 (id41)",
          "outdoor_subject4_routine3 (id158)",
          "outdoor_subject4_routine2 (id89)",
          "indoor_subject1_routine3 (id180)",
          "indoor_subject7_routine2 (id34)",
          "outdoor_subject4_routine3 (id206)",
          "outdoor_subject2_routine3 (id33)",
          "outdoor_subject1_routine1 (id213)",
          "indoor_subject2_routine2 (id129)",
          "indoor_subject7_routine3 (id181)",
          "outdoor_subject5_routine1 (id15)",
          "outdoor_subject1_routine2 (id119)",
          "indoor_subject4_routine2 (id77)",
          "indoor_subject6_routine3 (id30)",
          "outdoor_subject2_routine1 (id141)",
          "outdoor_subject4_routine1 (id237)",
          "indoor_subject8_routine1 (id133)",
          "outdoor_subject5_routine1 (id203)",
          "indoor_subject2_routine2 (id36)",
          "outdoor_subject7_routine1 (id157)",
          "outdoor_subject1_routine1 (id132)",
          "outdoor_subject6_routine1 (id74)",
          "outdoor_subject2_routine3 (id92)",
          "outdoor_subject1_routine1 (id165)",
          "indoor_subject1_routine3 (id207)",
          "outdoor_subject4_routine2 (id101)",
          "outdoor_subject4_routine1 (id222)",
          "outdoor_subject1_routine2 (id236)",
          "outdoor_subject5_routine2 (id201)",
          "outdoor_subject3_routine1 (id121)",
          "outdoor_subject5_routine2 (id54)",
          "outdoor_subject3_routine2 (id32)",
          "outdoor_subject1_routine2 (id139)",
          "outdoor_subject4_routine2 (id171)",
          "outdoor_subject6_routine1 (id155)",
          "outdoor_subject4_routine3 (id87)",
          "outdoor_subject7_routine3 (id47)",
          "outdoor_subject3_routine2 (id56)",
          "outdoor_subject3_routine1 (id64)",
          "outdoor_subject6_routine2 (id97)",
          "outdoor_subject5_routine3 (id239)",
          "outdoor_subject6_routine2 (id147)",
          "outdoor_subject2_routine2 (id166)",
          "outdoor_subject2_routine2 (id225)",
          "outdoor_subject6_routine3 (id241)",
          "outdoor_subject2_routine3 (id8)"
         ],
         "y": [
          0.093,
          0.078,
          0.125,
          0.14100000000000001,
          0.093,
          0.172,
          0.156,
          0.203,
          0.156,
          0.234,
          0.218,
          0.281,
          0.265,
          0.187,
          0.219,
          0.125,
          0.281,
          0.265,
          0.188,
          0.281,
          0.25,
          0.172,
          0.297,
          0.281,
          0.375,
          0.39,
          0.344,
          0.516,
          0.20299999999999999,
          0.375,
          0.359,
          0.25,
          0.31200000000000006,
          0.453,
          0.43700000000000006,
          0.34299999999999997,
          0.6559999999999999,
          0.31200000000000006,
          0.859,
          0.25,
          0.438,
          0.235,
          0.547,
          0.64,
          0.516,
          1.312,
          0.656,
          1.1720000000000002,
          1.1400000000000001,
          0.75,
          0.6880000000000001,
          1.031,
          0.656,
          0.438,
          0.374,
          0.359,
          0.5630000000000001,
          0.5619999999999999,
          1.109,
          1.2029999999999998,
          1.0779999999999998,
          0.9530000000000001,
          0.875,
          0.875,
          0.468,
          0.906,
          1.2029999999999998,
          0.8280000000000001,
          0.515,
          1.4220000000000002,
          2,
          1.796,
          1.718,
          0.5940000000000001,
          1.7189999999999999,
          0.7350000000000001,
          3.016,
          3.6559999999999997,
          1.312,
          1.1720000000000002,
          1.516,
          1.813,
          2.5,
          0.7030000000000001,
          2.828,
          1.203,
          2.937,
          2.687,
          1.969,
          1.296,
          3.9059999999999997,
          2.671,
          3.688,
          8.578,
          1.2189999999999999,
          4.063,
          0.921,
          3.735,
          0.9059999999999999,
          3.25,
          1.953,
          1.312,
          2.843,
          3.7969999999999997,
          6.25,
          5.032,
          3.953,
          1.921,
          5.187,
          4.140000000000001,
          2.266,
          4.032,
          6.25,
          5.172000000000001,
          4.891,
          2.296,
          5.86,
          2.875,
          2.359,
          4.75,
          4,
          3.8129999999999997,
          8.75,
          2.828,
          7.718,
          5.875,
          6.422000000000001,
          4.375,
          8.828,
          8.843,
          9.296999999999999,
          3.328,
          5.218,
          4.984,
          4.578,
          15.562,
          5.125,
          9.453,
          6.594,
          3.9059999999999997,
          7.468,
          6.375,
          3.7809999999999997,
          9.11,
          11.36,
          6.5,
          8.64,
          11.344,
          16.219,
          5.359,
          5.687,
          4.390000000000001,
          12.078,
          7.891,
          10.782,
          9.516,
          9.469,
          6.156000000000001,
          22.485,
          11.891,
          12.141,
          8.953,
          17.063000000000002,
          18,
          10.094,
          6.797000000000001,
          10.109,
          13.359,
          10.203,
          14.594,
          10.062999999999999,
          11.296999999999999,
          14.766,
          22.375,
          22.875,
          13.829,
          16.344,
          10.703,
          31.609,
          10.828,
          19.891,
          18.36,
          11.797,
          15.422,
          12.891,
          16.687,
          24.437,
          9.594,
          28.796999999999997,
          22.108999999999998,
          22.546999999999997,
          45.829,
          25.391000000000002,
          29,
          17.75,
          21.25,
          16.672,
          38.063,
          28.985,
          40.375,
          18.703,
          33.812999999999995,
          22.078,
          28.608999999999998,
          37.765,
          23.422,
          25.859,
          58.047,
          34.204,
          44.937000000000005,
          41.578,
          20.937,
          34.141000000000005,
          65.67200000000001,
          24.531,
          27.437,
          39.094,
          36.063,
          28.218999999999998,
          39.202999999999996,
          45.094,
          35.016,
          69.797,
          46.781,
          46.625,
          47.922,
          41.672,
          30.938,
          114.04599999999999,
          80.438,
          59.312999999999995,
          98.984,
          101.39099999999999,
          169.422,
          138.65699999999998,
          206.094,
          127.5,
          114.407,
          190.844,
          70.60900000000001,
          162.734,
          439.046,
          145.875,
          568.36,
          167,
          254.547,
          279.984,
          406.28200000000004,
          255.95399999999998,
          280.422
         ]
        },
        {
         "mode": "lines",
         "name": "M4",
         "type": "scatter",
         "x": [
          "outdoor_subject5_routine3 (id126)",
          "outdoor_subject2_routine1 (id168)",
          "outdoor_subject5_routine2 (id106)",
          "indoor_subject7_routine3 (id188)",
          "outdoor_subject5_routine1 (id53)",
          "outdoor_subject4_routine2 (id69)",
          "indoor_subject8_routine3 (id242)",
          "indoor_subject8_routine3 (id240)",
          "outdoor_subject3_routine2 (id38)",
          "outdoor_subject6_routine3 (id172)",
          "indoor_subject7_routine3 (id59)",
          "outdoor_subject5_routine3 (id198)",
          "outdoor_subject6_routine3 (id112)",
          "outdoor_subject7_routine3 (id4)",
          "outdoor_subject4_routine3 (id211)",
          "outdoor_subject7_routine3 (id26)",
          "outdoor_subject7_routine3 (id219)",
          "outdoor_subject6_routine3 (id191)",
          "outdoor_subject6_routine3 (id96)",
          "outdoor_subject7_routine3 (id163)",
          "outdoor_subject7_routine3 (id79)",
          "outdoor_subject7_routine3 (id48)",
          "outdoor_subject1_routine1 (id81)",
          "outdoor_subject5_routine1 (id82)",
          "outdoor_subject5_routine3 (id62)",
          "indoor_subject7_routine3 (id12)",
          "outdoor_subject4_routine3 (id84)",
          "indoor_subject7_routine3 (id238)",
          "outdoor_subject6_routine3 (id220)",
          "outdoor_subject5_routine2 (id75)",
          "outdoor_subject5_routine1 (id94)",
          "outdoor_subject4_routine2 (id170)",
          "outdoor_subject5_routine3 (id80)",
          "outdoor_subject1_routine2 (id205)",
          "outdoor_subject5_routine3 (id182)",
          "outdoor_subject3_routine2 (id179)",
          "indoor_subject3_routine3 (id192)",
          "outdoor_subject5_routine2 (id204)",
          "indoor_subject7_routine3 (id196)",
          "outdoor_subject3_routine2 (id104)",
          "outdoor_subject3_routine2 (id187)",
          "outdoor_subject7_routine3 (id78)",
          "outdoor_subject1_routine2 (id244)",
          "outdoor_subject7_routine3 (id190)",
          "outdoor_subject4_routine2 (id39)",
          "indoor_subject4_routine3 (id232)",
          "outdoor_subject7_routine1 (id135)",
          "indoor_subject3_routine3 (id9)",
          "indoor_subject5_routine3 (id217)",
          "outdoor_subject5_routine1 (id223)",
          "outdoor_subject7_routine3 (id67)",
          "indoor_subject4_routine3 (id148)",
          "outdoor_subject3_routine2 (id42)",
          "outdoor_subject2_routine1 (id40)",
          "outdoor_subject5_routine1 (id154)",
          "outdoor_subject4_routine2 (id162)",
          "outdoor_subject6_routine3 (id45)",
          "indoor_subject7_routine3 (id169)",
          "indoor_subject4_routine1 (id156)",
          "outdoor_subject7_routine3 (id46)",
          "outdoor_subject5_routine3 (id22)",
          "outdoor_subject5_routine3 (id212)",
          "outdoor_subject5_routine3 (id18)",
          "outdoor_subject6_routine3 (id31)",
          "outdoor_subject5_routine3 (id5)",
          "outdoor_subject5_routine3 (id138)",
          "outdoor_subject5_routine3 (id175)",
          "outdoor_subject3_routine1 (id136)",
          "outdoor_subject6_routine3 (id111)",
          "indoor_subject4_routine1 (id58)",
          "outdoor_subject5_routine3 (id61)",
          "outdoor_subject7_routine3 (id73)",
          "outdoor_subject7_routine3 (id120)",
          "outdoor_subject3_routine2 (id124)",
          "outdoor_subject7_routine3 (id143)",
          "outdoor_subject2_routine1 (id0)",
          "indoor_subject4_routine1 (id28)",
          "indoor_subject7_routine1 (id161)",
          "indoor_subject1_routine1 (id150)",
          "indoor_subject2_routine1 (id227)",
          "indoor_subject8_routine3 (id134)",
          "outdoor_subject2_routine1 (id243)",
          "indoor_subject7_routine3 (id2)",
          "outdoor_subject4_routine3 (id99)",
          "indoor_subject3_routine3 (id109)",
          "outdoor_subject5_routine1 (id218)",
          "indoor_subject1_routine2 (id177)",
          "indoor_subject5_routine3 (id29)",
          "indoor_subject7_routine3 (id43)",
          "outdoor_subject5_routine3 (id90)",
          "outdoor_subject5_routine3 (id228)",
          "outdoor_subject5_routine2 (id95)",
          "outdoor_subject7_routine1 (id123)",
          "indoor_subject3_routine2 (id202)",
          "outdoor_subject7_routine3 (id234)",
          "indoor_subject3_routine3 (id226)",
          "outdoor_subject7_routine3 (id189)",
          "indoor_subject4_routine1 (id149)",
          "outdoor_subject7_routine3 (id144)",
          "indoor_subject5_routine3 (id7)",
          "outdoor_subject2_routine3 (id183)",
          "outdoor_subject5_routine3 (id108)",
          "outdoor_subject2_routine1 (id128)",
          "indoor_subject8_routine3 (id167)",
          "indoor_subject4_routine1 (id102)",
          "indoor_subject1_routine1 (id52)",
          "indoor_subject3_routine1 (id6)",
          "outdoor_subject6_routine3 (id1)",
          "indoor_subject7_routine3 (id105)",
          "outdoor_subject1_routine2 (id173)",
          "outdoor_subject6_routine3 (id224)",
          "indoor_subject3_routine3 (id186)",
          "indoor_subject3_routine3 (id86)",
          "indoor_subject4_routine1 (id24)",
          "indoor_subject8_routine3 (id55)",
          "outdoor_subject3_routine2 (id76)",
          "indoor_subject3_routine1 (id88)",
          "indoor_subject2_routine1 (id103)",
          "outdoor_subject7_routine3 (id208)",
          "outdoor_subject5_routine2 (id185)",
          "indoor_subject4_routine1 (id14)",
          "indoor_subject3_routine2 (id71)",
          "indoor_subject1_routine1 (id93)",
          "outdoor_subject6_routine3 (id117)",
          "outdoor_subject6_routine3 (id142)",
          "indoor_subject7_routine3 (id246)",
          "indoor_subject3_routine1 (id233)",
          "indoor_subject3_routine2 (id114)",
          "indoor_subject4_routine2 (id245)",
          "outdoor_subject4_routine3 (id44)",
          "outdoor_subject4_routine3 (id160)",
          "outdoor_subject4_routine3 (id17)",
          "outdoor_subject4_routine3 (id248)",
          "outdoor_subject2_routine1 (id110)",
          "indoor_subject3_routine2 (id51)",
          "indoor_subject4_routine3 (id145)",
          "indoor_subject3_routine1 (id164)",
          "indoor_subject7_routine1 (id247)",
          "indoor_subject4_routine1 (id3)",
          "outdoor_subject7_routine3 (id193)",
          "outdoor_subject6_routine3 (id116)",
          "indoor_subject2_routine1 (id83)",
          "outdoor_subject5_routine3 (id10)",
          "indoor_subject4_routine1 (id13)",
          "indoor_subject4_routine3 (id100)",
          "indoor_subject2_routine1 (id66)",
          "indoor_subject4_routine3 (id98)",
          "indoor_subject3_routine1 (id209)",
          "indoor_subject3_routine1 (id152)",
          "outdoor_subject5_routine1 (id151)",
          "outdoor_subject5_routine3 (id118)",
          "outdoor_subject7_routine1 (id137)",
          "indoor_subject3_routine1 (id91)",
          "indoor_subject3_routine3 (id122)",
          "indoor_subject6_routine3 (id199)",
          "indoor_subject2_routine1 (id231)",
          "outdoor_subject7_routine1 (id214)",
          "outdoor_subject5_routine3 (id235)",
          "indoor_subject4_routine3 (id68)",
          "indoor_subject3_routine3 (id50)",
          "indoor_subject3_routine3 (id19)",
          "indoor_subject1_routine2 (id127)",
          "indoor_subject8_routine3 (id230)",
          "indoor_subject8_routine3 (id113)",
          "outdoor_subject4_routine2 (id20)",
          "outdoor_subject6_routine3 (id57)",
          "indoor_subject5_routine3 (id216)",
          "indoor_subject6_routine1 (id153)",
          "outdoor_subject7_routine1 (id159)",
          "outdoor_subject4_routine1 (id195)",
          "outdoor_subject7_routine1 (id85)",
          "outdoor_subject1_routine1 (id16)",
          "outdoor_subject2_routine1 (id178)",
          "indoor_subject2_routine1 (id176)",
          "indoor_subject1_routine1 (id125)",
          "indoor_subject3_routine2 (id130)",
          "indoor_subject7_routine1 (id200)",
          "indoor_subject7_routine1 (id35)",
          "indoor_subject4_routine3 (id215)",
          "outdoor_subject2_routine3 (id184)",
          "indoor_subject6_routine3 (id146)",
          "indoor_subject6_routine3 (id197)",
          "indoor_subject1_routine2 (id27)",
          "indoor_subject6_routine1 (id131)",
          "indoor_subject1_routine1 (id140)",
          "indoor_subject1_routine2 (id65)",
          "indoor_subject1_routine1 (id221)",
          "outdoor_subject2_routine1 (id115)",
          "indoor_subject5_routine3 (id210)",
          "outdoor_subject2_routine3 (id60)",
          "indoor_subject3_routine2 (id25)",
          "indoor_subject8_routine1 (id72)",
          "outdoor_subject4_routine3 (id37)",
          "indoor_subject1_routine3 (id249)",
          "outdoor_subject5_routine2 (id107)",
          "indoor_subject7_routine2 (id23)",
          "outdoor_subject2_routine1 (id194)",
          "indoor_subject8_routine3 (id11)",
          "indoor_subject5_routine3 (id229)",
          "indoor_subject8_routine1 (id63)",
          "indoor_subject4_routine2 (id21)",
          "indoor_subject7_routine1 (id49)",
          "indoor_subject6_routine1 (id70)",
          "indoor_subject6_routine1 (id174)",
          "indoor_subject7_routine2 (id41)",
          "outdoor_subject4_routine3 (id158)",
          "outdoor_subject4_routine2 (id89)",
          "indoor_subject1_routine3 (id180)",
          "indoor_subject7_routine2 (id34)",
          "outdoor_subject4_routine3 (id206)",
          "outdoor_subject2_routine3 (id33)",
          "outdoor_subject1_routine1 (id213)",
          "indoor_subject2_routine2 (id129)",
          "indoor_subject7_routine3 (id181)",
          "outdoor_subject5_routine1 (id15)",
          "outdoor_subject1_routine2 (id119)",
          "indoor_subject4_routine2 (id77)",
          "indoor_subject6_routine3 (id30)",
          "outdoor_subject2_routine1 (id141)",
          "outdoor_subject4_routine1 (id237)",
          "indoor_subject8_routine1 (id133)",
          "outdoor_subject5_routine1 (id203)",
          "indoor_subject2_routine2 (id36)",
          "outdoor_subject7_routine1 (id157)",
          "outdoor_subject1_routine1 (id132)",
          "outdoor_subject6_routine1 (id74)",
          "outdoor_subject2_routine3 (id92)",
          "outdoor_subject1_routine1 (id165)",
          "indoor_subject1_routine3 (id207)",
          "outdoor_subject4_routine2 (id101)",
          "outdoor_subject4_routine1 (id222)",
          "outdoor_subject1_routine2 (id236)",
          "outdoor_subject5_routine2 (id201)",
          "outdoor_subject3_routine1 (id121)",
          "outdoor_subject5_routine2 (id54)",
          "outdoor_subject3_routine2 (id32)",
          "outdoor_subject1_routine2 (id139)",
          "outdoor_subject4_routine2 (id171)",
          "outdoor_subject6_routine1 (id155)",
          "outdoor_subject4_routine3 (id87)",
          "outdoor_subject7_routine3 (id47)",
          "outdoor_subject3_routine2 (id56)",
          "outdoor_subject3_routine1 (id64)",
          "outdoor_subject6_routine2 (id97)",
          "outdoor_subject5_routine3 (id239)",
          "outdoor_subject6_routine2 (id147)",
          "outdoor_subject2_routine2 (id166)",
          "outdoor_subject2_routine2 (id225)",
          "outdoor_subject6_routine3 (id241)",
          "outdoor_subject2_routine3 (id8)"
         ],
         "y": [
          0.078,
          0.093,
          0.093,
          0.109,
          0.093,
          0.172,
          0.313,
          0.313,
          0.109,
          0.25,
          0.25,
          0.20299999999999999,
          0.156,
          0.203,
          0.234,
          0.25,
          0.265,
          0.328,
          0.188,
          0.25,
          0.156,
          0.20299999999999999,
          0.156,
          0.281,
          0.29700000000000004,
          0.344,
          0.265,
          0.374,
          0.20299999999999999,
          0.235,
          0.31200000000000006,
          0.34299999999999997,
          0.219,
          0.344,
          0.5780000000000001,
          0.266,
          0.5,
          0.297,
          0.9059999999999999,
          0.235,
          0.328,
          0.25,
          0.5780000000000001,
          0.8280000000000001,
          0.438,
          0.8899999999999999,
          0.641,
          1.187,
          1.171,
          0.906,
          0.735,
          0.9059999999999999,
          0.641,
          0.313,
          0.468,
          0.40599999999999997,
          0.5780000000000001,
          0.609,
          1.266,
          1.2349999999999999,
          0.8590000000000001,
          0.8280000000000001,
          0.906,
          0.922,
          0.515,
          1.125,
          1.016,
          0.5940000000000001,
          0.40599999999999997,
          1.375,
          1.859,
          1.688,
          1.688,
          0.5940000000000001,
          1.75,
          1.141,
          3.2969999999999997,
          3.375,
          1.171,
          1.11,
          1.3900000000000001,
          1.875,
          2.4059999999999997,
          0.6399999999999999,
          2.8899999999999997,
          0.985,
          2.4219999999999997,
          2.5629999999999997,
          2.609,
          1.1560000000000001,
          3.9850000000000003,
          2.187,
          3.406,
          5.406000000000001,
          1.171,
          3.766,
          0.9369999999999999,
          4.016,
          0.812,
          3.312,
          1.562,
          1.359,
          3.093,
          3.36,
          6.484,
          5.313000000000001,
          3.9219999999999997,
          1.984,
          5.547,
          3.3739999999999997,
          2.1559999999999997,
          4.187,
          5.406000000000001,
          4.969,
          4.891,
          2.328,
          3.266,
          3.141,
          2.469,
          4.359,
          3.516,
          3.6879999999999997,
          8.828,
          2.75,
          7.921,
          5.140000000000001,
          6.032,
          4,
          5.235,
          8.484,
          8.718,
          3.266,
          4.968,
          5.640000000000001,
          4.578,
          13.187999999999999,
          5.61,
          13.5,
          6.813000000000001,
          4.109,
          7.828,
          6.625,
          3.094,
          8.36,
          12.094,
          6.953,
          10.234,
          10.781,
          8.203,
          5.438000000000001,
          5.625,
          4.031,
          11.828,
          8.14,
          11.89,
          8.797,
          8.734,
          6.032,
          9.5,
          11.485,
          11.905999999999999,
          13.281,
          10.671999999999999,
          17.187,
          8.266,
          7.469,
          11.031,
          13.359,
          10.594,
          13.766,
          9.719,
          11.296999999999999,
          15.016,
          22.281,
          23.812,
          20.578,
          16.89,
          10.578,
          33.266,
          10.562,
          19.031,
          25.297,
          10.453,
          15.125,
          12.61,
          15.266,
          25.484,
          9.905999999999999,
          25.718000000000004,
          21.687,
          10.782,
          35.891,
          25.016000000000002,
          25.11,
          17.86,
          12.125,
          17.281,
          37.563,
          29.436999999999998,
          25.938,
          19.235,
          15.36,
          22.14,
          28.11,
          37.859,
          25.781,
          29.468000000000004,
          43.782,
          37.579,
          45.016,
          41.421,
          21.047,
          37.829,
          27.625,
          13.5,
          28.563,
          46.859,
          52,
          27.328,
          35.141,
          37.235,
          23.859,
          70.891,
          48.266,
          47.656,
          51.967999999999996,
          39.234,
          31.296999999999997,
          43.844,
          80.10900000000001,
          63.329,
          98.626,
          103.61,
          158.562,
          132.672,
          201.938,
          156.484,
          84.797,
          204.641,
          115.078,
          131.875,
          284.859,
          139.922,
          457.54699999999997,
          174.51500000000001,
          219.969,
          259.672,
          363.235,
          243.875,
          271.85900000000004
         ]
        },
        {
         "mode": "lines",
         "name": "LTTB",
         "type": "scatter",
         "x": [
          "outdoor_subject5_routine3 (id126)",
          "outdoor_subject2_routine1 (id168)",
          "outdoor_subject5_routine2 (id106)",
          "indoor_subject7_routine3 (id188)",
          "outdoor_subject5_routine1 (id53)",
          "outdoor_subject4_routine2 (id69)",
          "indoor_subject8_routine3 (id242)",
          "indoor_subject8_routine3 (id240)",
          "outdoor_subject3_routine2 (id38)",
          "outdoor_subject6_routine3 (id172)",
          "indoor_subject7_routine3 (id59)",
          "outdoor_subject5_routine3 (id198)",
          "outdoor_subject6_routine3 (id112)",
          "outdoor_subject7_routine3 (id4)",
          "outdoor_subject4_routine3 (id211)",
          "outdoor_subject7_routine3 (id26)",
          "outdoor_subject7_routine3 (id219)",
          "outdoor_subject6_routine3 (id191)",
          "outdoor_subject6_routine3 (id96)",
          "outdoor_subject7_routine3 (id163)",
          "outdoor_subject7_routine3 (id79)",
          "outdoor_subject7_routine3 (id48)",
          "outdoor_subject1_routine1 (id81)",
          "outdoor_subject5_routine1 (id82)",
          "outdoor_subject5_routine3 (id62)",
          "indoor_subject7_routine3 (id12)",
          "outdoor_subject4_routine3 (id84)",
          "indoor_subject7_routine3 (id238)",
          "outdoor_subject6_routine3 (id220)",
          "outdoor_subject5_routine2 (id75)",
          "outdoor_subject5_routine1 (id94)",
          "outdoor_subject4_routine2 (id170)",
          "outdoor_subject5_routine3 (id80)",
          "outdoor_subject1_routine2 (id205)",
          "outdoor_subject5_routine3 (id182)",
          "outdoor_subject3_routine2 (id179)",
          "indoor_subject3_routine3 (id192)",
          "outdoor_subject5_routine2 (id204)",
          "indoor_subject7_routine3 (id196)",
          "outdoor_subject3_routine2 (id104)",
          "outdoor_subject3_routine2 (id187)",
          "outdoor_subject7_routine3 (id78)",
          "outdoor_subject1_routine2 (id244)",
          "outdoor_subject7_routine3 (id190)",
          "outdoor_subject4_routine2 (id39)",
          "indoor_subject4_routine3 (id232)",
          "outdoor_subject7_routine1 (id135)",
          "indoor_subject3_routine3 (id9)",
          "indoor_subject5_routine3 (id217)",
          "outdoor_subject5_routine1 (id223)",
          "outdoor_subject7_routine3 (id67)",
          "indoor_subject4_routine3 (id148)",
          "outdoor_subject3_routine2 (id42)",
          "outdoor_subject2_routine1 (id40)",
          "outdoor_subject5_routine1 (id154)",
          "outdoor_subject4_routine2 (id162)",
          "outdoor_subject6_routine3 (id45)",
          "indoor_subject7_routine3 (id169)",
          "indoor_subject4_routine1 (id156)",
          "outdoor_subject7_routine3 (id46)",
          "outdoor_subject5_routine3 (id22)",
          "outdoor_subject5_routine3 (id212)",
          "outdoor_subject5_routine3 (id18)",
          "outdoor_subject6_routine3 (id31)",
          "outdoor_subject5_routine3 (id5)",
          "outdoor_subject5_routine3 (id138)",
          "outdoor_subject5_routine3 (id175)",
          "outdoor_subject3_routine1 (id136)",
          "outdoor_subject6_routine3 (id111)",
          "indoor_subject4_routine1 (id58)",
          "outdoor_subject5_routine3 (id61)",
          "outdoor_subject7_routine3 (id73)",
          "outdoor_subject7_routine3 (id120)",
          "outdoor_subject3_routine2 (id124)",
          "outdoor_subject7_routine3 (id143)",
          "outdoor_subject2_routine1 (id0)",
          "indoor_subject4_routine1 (id28)",
          "indoor_subject7_routine1 (id161)",
          "indoor_subject1_routine1 (id150)",
          "indoor_subject2_routine1 (id227)",
          "indoor_subject8_routine3 (id134)",
          "outdoor_subject2_routine1 (id243)",
          "indoor_subject7_routine3 (id2)",
          "outdoor_subject4_routine3 (id99)",
          "indoor_subject3_routine3 (id109)",
          "outdoor_subject5_routine1 (id218)",
          "indoor_subject1_routine2 (id177)",
          "indoor_subject5_routine3 (id29)",
          "indoor_subject7_routine3 (id43)",
          "outdoor_subject5_routine3 (id90)",
          "outdoor_subject5_routine3 (id228)",
          "outdoor_subject5_routine2 (id95)",
          "outdoor_subject7_routine1 (id123)",
          "indoor_subject3_routine2 (id202)",
          "outdoor_subject7_routine3 (id234)",
          "indoor_subject3_routine3 (id226)",
          "outdoor_subject7_routine3 (id189)",
          "indoor_subject4_routine1 (id149)",
          "outdoor_subject7_routine3 (id144)",
          "indoor_subject5_routine3 (id7)",
          "outdoor_subject2_routine3 (id183)",
          "outdoor_subject5_routine3 (id108)",
          "outdoor_subject2_routine1 (id128)",
          "indoor_subject8_routine3 (id167)",
          "indoor_subject4_routine1 (id102)",
          "indoor_subject1_routine1 (id52)",
          "indoor_subject3_routine1 (id6)",
          "outdoor_subject6_routine3 (id1)",
          "indoor_subject7_routine3 (id105)",
          "outdoor_subject1_routine2 (id173)",
          "outdoor_subject6_routine3 (id224)",
          "indoor_subject3_routine3 (id186)",
          "indoor_subject3_routine3 (id86)",
          "indoor_subject4_routine1 (id24)",
          "indoor_subject8_routine3 (id55)",
          "outdoor_subject3_routine2 (id76)",
          "indoor_subject3_routine1 (id88)",
          "indoor_subject2_routine1 (id103)",
          "outdoor_subject7_routine3 (id208)",
          "outdoor_subject5_routine2 (id185)",
          "indoor_subject4_routine1 (id14)",
          "indoor_subject3_routine2 (id71)",
          "indoor_subject1_routine1 (id93)",
          "outdoor_subject6_routine3 (id117)",
          "outdoor_subject6_routine3 (id142)",
          "indoor_subject7_routine3 (id246)",
          "indoor_subject3_routine1 (id233)",
          "indoor_subject3_routine2 (id114)",
          "indoor_subject4_routine2 (id245)",
          "outdoor_subject4_routine3 (id44)",
          "outdoor_subject4_routine3 (id160)",
          "outdoor_subject4_routine3 (id17)",
          "outdoor_subject4_routine3 (id248)",
          "outdoor_subject2_routine1 (id110)",
          "indoor_subject3_routine2 (id51)",
          "indoor_subject4_routine3 (id145)",
          "indoor_subject3_routine1 (id164)",
          "indoor_subject7_routine1 (id247)",
          "indoor_subject4_routine1 (id3)",
          "outdoor_subject7_routine3 (id193)",
          "outdoor_subject6_routine3 (id116)",
          "indoor_subject2_routine1 (id83)",
          "outdoor_subject5_routine3 (id10)",
          "indoor_subject4_routine1 (id13)",
          "indoor_subject4_routine3 (id100)",
          "indoor_subject2_routine1 (id66)",
          "indoor_subject4_routine3 (id98)",
          "indoor_subject3_routine1 (id209)",
          "indoor_subject3_routine1 (id152)",
          "outdoor_subject5_routine1 (id151)",
          "outdoor_subject5_routine3 (id118)",
          "outdoor_subject7_routine1 (id137)",
          "indoor_subject3_routine1 (id91)",
          "indoor_subject3_routine3 (id122)",
          "indoor_subject6_routine3 (id199)",
          "indoor_subject2_routine1 (id231)",
          "outdoor_subject7_routine1 (id214)",
          "outdoor_subject5_routine3 (id235)",
          "indoor_subject4_routine3 (id68)",
          "indoor_subject3_routine3 (id50)",
          "indoor_subject3_routine3 (id19)",
          "indoor_subject1_routine2 (id127)",
          "indoor_subject8_routine3 (id230)",
          "indoor_subject8_routine3 (id113)",
          "outdoor_subject4_routine2 (id20)",
          "outdoor_subject6_routine3 (id57)",
          "indoor_subject5_routine3 (id216)",
          "indoor_subject6_routine1 (id153)",
          "outdoor_subject7_routine1 (id159)",
          "outdoor_subject4_routine1 (id195)",
          "outdoor_subject7_routine1 (id85)",
          "outdoor_subject1_routine1 (id16)",
          "outdoor_subject2_routine1 (id178)",
          "indoor_subject2_routine1 (id176)",
          "indoor_subject1_routine1 (id125)",
          "indoor_subject3_routine2 (id130)",
          "indoor_subject7_routine1 (id200)",
          "indoor_subject7_routine1 (id35)",
          "indoor_subject4_routine3 (id215)",
          "outdoor_subject2_routine3 (id184)",
          "indoor_subject6_routine3 (id146)",
          "indoor_subject6_routine3 (id197)",
          "indoor_subject1_routine2 (id27)",
          "indoor_subject6_routine1 (id131)",
          "indoor_subject1_routine1 (id140)",
          "indoor_subject1_routine2 (id65)",
          "indoor_subject1_routine1 (id221)",
          "outdoor_subject2_routine1 (id115)",
          "indoor_subject5_routine3 (id210)",
          "outdoor_subject2_routine3 (id60)",
          "indoor_subject3_routine2 (id25)",
          "indoor_subject8_routine1 (id72)",
          "outdoor_subject4_routine3 (id37)",
          "indoor_subject1_routine3 (id249)",
          "outdoor_subject5_routine2 (id107)",
          "indoor_subject7_routine2 (id23)",
          "outdoor_subject2_routine1 (id194)",
          "indoor_subject8_routine3 (id11)",
          "indoor_subject5_routine3 (id229)",
          "indoor_subject8_routine1 (id63)",
          "indoor_subject4_routine2 (id21)",
          "indoor_subject7_routine1 (id49)",
          "indoor_subject6_routine1 (id70)",
          "indoor_subject6_routine1 (id174)",
          "indoor_subject7_routine2 (id41)",
          "outdoor_subject4_routine3 (id158)",
          "outdoor_subject4_routine2 (id89)",
          "indoor_subject1_routine3 (id180)",
          "indoor_subject7_routine2 (id34)",
          "outdoor_subject4_routine3 (id206)",
          "outdoor_subject2_routine3 (id33)",
          "outdoor_subject1_routine1 (id213)",
          "indoor_subject2_routine2 (id129)",
          "indoor_subject7_routine3 (id181)",
          "outdoor_subject5_routine1 (id15)",
          "outdoor_subject1_routine2 (id119)",
          "indoor_subject4_routine2 (id77)",
          "indoor_subject6_routine3 (id30)",
          "outdoor_subject2_routine1 (id141)",
          "outdoor_subject4_routine1 (id237)",
          "indoor_subject8_routine1 (id133)",
          "outdoor_subject5_routine1 (id203)",
          "indoor_subject2_routine2 (id36)",
          "outdoor_subject7_routine1 (id157)",
          "outdoor_subject1_routine1 (id132)",
          "outdoor_subject6_routine1 (id74)",
          "outdoor_subject2_routine3 (id92)",
          "outdoor_subject1_routine1 (id165)",
          "indoor_subject1_routine3 (id207)",
          "outdoor_subject4_routine2 (id101)",
          "outdoor_subject4_routine1 (id222)",
          "outdoor_subject1_routine2 (id236)",
          "outdoor_subject5_routine2 (id201)",
          "outdoor_subject3_routine1 (id121)",
          "outdoor_subject5_routine2 (id54)",
          "outdoor_subject3_routine2 (id32)",
          "outdoor_subject1_routine2 (id139)",
          "outdoor_subject4_routine2 (id171)",
          "outdoor_subject6_routine1 (id155)",
          "outdoor_subject4_routine3 (id87)",
          "outdoor_subject7_routine3 (id47)",
          "outdoor_subject3_routine2 (id56)",
          "outdoor_subject3_routine1 (id64)",
          "outdoor_subject6_routine2 (id97)",
          "outdoor_subject5_routine3 (id239)",
          "outdoor_subject6_routine2 (id147)",
          "outdoor_subject2_routine2 (id166)",
          "outdoor_subject2_routine2 (id225)",
          "outdoor_subject6_routine3 (id241)",
          "outdoor_subject2_routine3 (id8)"
         ],
         "y": [
          0.078,
          0.093,
          0.093,
          0.125,
          0.093,
          0.156,
          0.235,
          0.156,
          0.125,
          0.25,
          0.20299999999999999,
          0.235,
          0.25,
          0.203,
          0.25,
          0.172,
          0.281,
          0.281,
          0.20299999999999999,
          0.14100000000000001,
          0.29700000000000004,
          0.203,
          0.125,
          0.187,
          0.34299999999999997,
          0.343,
          0.266,
          0.421,
          0.234,
          0.172,
          0.359,
          0.235,
          0.156,
          0.281,
          0.469,
          0.484,
          0.5940000000000001,
          0.313,
          0.859,
          0.25,
          0.422,
          0.235,
          0.531,
          0.672,
          0.328,
          1.187,
          0.547,
          1.312,
          1.187,
          0.8590000000000001,
          0.735,
          1.031,
          0.485,
          0.672,
          0.40599999999999997,
          0.344,
          0.5309999999999999,
          0.5619999999999999,
          0.968,
          1.141,
          0.906,
          0.75,
          1.016,
          0.8440000000000001,
          0.421,
          1.016,
          0.8590000000000001,
          1.0779999999999998,
          0.469,
          1.219,
          1.672,
          1.8900000000000001,
          1.609,
          0.7030000000000001,
          1.688,
          0.766,
          2.8899999999999997,
          3.2969999999999997,
          1.328,
          1.016,
          1.25,
          1.875,
          2.609,
          0.6559999999999999,
          3.078,
          0.968,
          2.437,
          2.5,
          1.766,
          1.156,
          4.015,
          2.5,
          3.906,
          8.312,
          1.218,
          3.891,
          0.8740000000000001,
          3.9219999999999997,
          0.8740000000000001,
          3.312,
          1.859,
          1.234,
          3.063,
          3.875,
          4.828,
          4.985,
          3.485,
          2.234,
          5.219,
          4.046,
          2.062,
          4.344,
          6.078,
          5.125,
          4.969,
          2.1399999999999997,
          3.094,
          3.219,
          2.328,
          4.891,
          3.953,
          2.75,
          9.266,
          2.6559999999999997,
          7.718,
          5.828,
          5.547000000000001,
          3.469,
          8.5,
          8.373999999999999,
          8.623999999999999,
          3.171,
          5.609,
          5.687,
          4.359,
          12.391,
          4.86,
          13.906,
          7.344,
          4.219,
          7.594,
          6.812,
          3.687,
          7.859,
          11.578,
          6.907,
          9.984,
          9.671,
          18.328000000000003,
          4.906000000000001,
          5.594,
          4.312,
          11.812,
          7.797,
          10.64,
          8.891,
          8.609,
          5.828,
          23.406000000000002,
          14.735,
          14.312999999999999,
          8.953,
          10.282,
          17.984,
          10.016,
          7.266,
          10.859,
          12.563,
          10.139999999999999,
          14.344,
          9.485,
          11.453,
          16.608999999999998,
          21.594,
          18.219,
          12.734,
          17.39,
          11.109,
          29.781000000000002,
          11.703,
          19.797,
          20.75,
          10.094,
          15.359,
          12.203,
          16.375,
          25.234,
          9.344,
          19.062,
          20.797,
          25.156999999999996,
          37.11,
          21.016000000000002,
          27.609,
          18.235,
          17.5,
          17.25,
          37.687999999999995,
          33.687999999999995,
          33.11,
          18.218,
          32.079,
          22.313,
          30.453,
          36.062,
          24.218000000000004,
          22.766,
          58.734,
          35.485,
          45.937,
          41.39,
          25.5,
          36.235,
          77.828,
          24.109,
          27.875,
          45.579,
          45.36,
          28.14,
          35.172,
          37.251,
          24.985,
          67.047,
          50.079,
          37.967999999999996,
          48.329,
          42.047,
          33.484,
          171.375,
          84.31200000000001,
          52.813,
          111.36,
          92.17299999999999,
          162.688,
          119.766,
          192.845,
          163.531,
          114.375,
          190.469,
          115.25,
          167.703,
          433.797,
          161.172,
          574.235,
          170.172,
          256.672,
          300.375,
          419.015,
          251.5,
          265.14
         ]
        },
        {
         "mode": "lines",
         "name": "MinMaxLTTB",
         "type": "scatter",
         "x": [
          "outdoor_subject5_routine3 (id126)",
          "outdoor_subject2_routine1 (id168)",
          "outdoor_subject5_routine2 (id106)",
          "indoor_subject7_routine3 (id188)",
          "outdoor_subject5_routine1 (id53)",
          "outdoor_subject4_routine2 (id69)",
          "indoor_subject8_routine3 (id242)",
          "indoor_subject8_routine3 (id240)",
          "outdoor_subject3_routine2 (id38)",
          "outdoor_subject6_routine3 (id172)",
          "indoor_subject7_routine3 (id59)",
          "outdoor_subject5_routine3 (id198)",
          "outdoor_subject6_routine3 (id112)",
          "outdoor_subject7_routine3 (id4)",
          "outdoor_subject4_routine3 (id211)",
          "outdoor_subject7_routine3 (id26)",
          "outdoor_subject7_routine3 (id219)",
          "outdoor_subject6_routine3 (id191)",
          "outdoor_subject6_routine3 (id96)",
          "outdoor_subject7_routine3 (id163)",
          "outdoor_subject7_routine3 (id79)",
          "outdoor_subject7_routine3 (id48)",
          "outdoor_subject1_routine1 (id81)",
          "outdoor_subject5_routine1 (id82)",
          "outdoor_subject5_routine3 (id62)",
          "indoor_subject7_routine3 (id12)",
          "outdoor_subject4_routine3 (id84)",
          "indoor_subject7_routine3 (id238)",
          "outdoor_subject6_routine3 (id220)",
          "outdoor_subject5_routine2 (id75)",
          "outdoor_subject5_routine1 (id94)",
          "outdoor_subject4_routine2 (id170)",
          "outdoor_subject5_routine3 (id80)",
          "outdoor_subject1_routine2 (id205)",
          "outdoor_subject5_routine3 (id182)",
          "outdoor_subject3_routine2 (id179)",
          "indoor_subject3_routine3 (id192)",
          "outdoor_subject5_routine2 (id204)",
          "indoor_subject7_routine3 (id196)",
          "outdoor_subject3_routine2 (id104)",
          "outdoor_subject3_routine2 (id187)",
          "outdoor_subject7_routine3 (id78)",
          "outdoor_subject1_routine2 (id244)",
          "outdoor_subject7_routine3 (id190)",
          "outdoor_subject4_routine2 (id39)",
          "indoor_subject4_routine3 (id232)",
          "outdoor_subject7_routine1 (id135)",
          "indoor_subject3_routine3 (id9)",
          "indoor_subject5_routine3 (id217)",
          "outdoor_subject5_routine1 (id223)",
          "outdoor_subject7_routine3 (id67)",
          "indoor_subject4_routine3 (id148)",
          "outdoor_subject3_routine2 (id42)",
          "outdoor_subject2_routine1 (id40)",
          "outdoor_subject5_routine1 (id154)",
          "outdoor_subject4_routine2 (id162)",
          "outdoor_subject6_routine3 (id45)",
          "indoor_subject7_routine3 (id169)",
          "indoor_subject4_routine1 (id156)",
          "outdoor_subject7_routine3 (id46)",
          "outdoor_subject5_routine3 (id22)",
          "outdoor_subject5_routine3 (id212)",
          "outdoor_subject5_routine3 (id18)",
          "outdoor_subject6_routine3 (id31)",
          "outdoor_subject5_routine3 (id5)",
          "outdoor_subject5_routine3 (id138)",
          "outdoor_subject5_routine3 (id175)",
          "outdoor_subject3_routine1 (id136)",
          "outdoor_subject6_routine3 (id111)",
          "indoor_subject4_routine1 (id58)",
          "outdoor_subject5_routine3 (id61)",
          "outdoor_subject7_routine3 (id73)",
          "outdoor_subject7_routine3 (id120)",
          "outdoor_subject3_routine2 (id124)",
          "outdoor_subject7_routine3 (id143)",
          "outdoor_subject2_routine1 (id0)",
          "indoor_subject4_routine1 (id28)",
          "indoor_subject7_routine1 (id161)",
          "indoor_subject1_routine1 (id150)",
          "indoor_subject2_routine1 (id227)",
          "indoor_subject8_routine3 (id134)",
          "outdoor_subject2_routine1 (id243)",
          "indoor_subject7_routine3 (id2)",
          "outdoor_subject4_routine3 (id99)",
          "indoor_subject3_routine3 (id109)",
          "outdoor_subject5_routine1 (id218)",
          "indoor_subject1_routine2 (id177)",
          "indoor_subject5_routine3 (id29)",
          "indoor_subject7_routine3 (id43)",
          "outdoor_subject5_routine3 (id90)",
          "outdoor_subject5_routine3 (id228)",
          "outdoor_subject5_routine2 (id95)",
          "indoor_subject3_routine2 (id202)",
          "outdoor_subject7_routine1 (id123)",
          "outdoor_subject7_routine3 (id234)",
          "indoor_subject3_routine3 (id226)",
          "outdoor_subject7_routine3 (id189)",
          "indoor_subject4_routine1 (id149)",
          "outdoor_subject7_routine3 (id144)",
          "indoor_subject5_routine3 (id7)",
          "outdoor_subject2_routine3 (id183)",
          "outdoor_subject5_routine3 (id108)",
          "outdoor_subject2_routine1 (id128)",
          "indoor_subject8_routine3 (id167)",
          "indoor_subject4_routine1 (id102)",
          "indoor_subject1_routine1 (id52)",
          "indoor_subject3_routine1 (id6)",
          "outdoor_subject6_routine3 (id1)",
          "indoor_subject7_routine3 (id105)",
          "outdoor_subject1_routine2 (id173)",
          "outdoor_subject6_routine3 (id224)",
          "indoor_subject3_routine3 (id186)",
          "indoor_subject3_routine3 (id86)",
          "indoor_subject4_routine1 (id24)",
          "indoor_subject8_routine3 (id55)",
          "outdoor_subject3_routine2 (id76)",
          "indoor_subject3_routine1 (id88)",
          "indoor_subject2_routine1 (id103)",
          "outdoor_subject7_routine3 (id208)",
          "outdoor_subject5_routine2 (id185)",
          "indoor_subject4_routine1 (id14)",
          "indoor_subject3_routine2 (id71)",
          "indoor_subject1_routine1 (id93)",
          "outdoor_subject6_routine3 (id117)",
          "outdoor_subject6_routine3 (id142)",
          "indoor_subject7_routine3 (id246)",
          "indoor_subject3_routine1 (id233)",
          "indoor_subject3_routine2 (id114)",
          "indoor_subject4_routine2 (id245)",
          "outdoor_subject4_routine3 (id44)",
          "outdoor_subject4_routine3 (id160)",
          "outdoor_subject4_routine3 (id17)",
          "outdoor_subject4_routine3 (id248)",
          "outdoor_subject2_routine1 (id110)",
          "indoor_subject3_routine2 (id51)",
          "indoor_subject4_routine3 (id145)",
          "indoor_subject3_routine1 (id164)",
          "indoor_subject7_routine1 (id247)",
          "indoor_subject4_routine1 (id3)",
          "outdoor_subject7_routine3 (id193)",
          "outdoor_subject6_routine3 (id116)",
          "indoor_subject2_routine1 (id83)",
          "outdoor_subject5_routine3 (id10)",
          "indoor_subject4_routine1 (id13)",
          "indoor_subject4_routine3 (id100)",
          "indoor_subject2_routine1 (id66)",
          "indoor_subject4_routine3 (id98)",
          "indoor_subject3_routine1 (id209)",
          "indoor_subject3_routine1 (id152)",
          "outdoor_subject5_routine1 (id151)",
          "outdoor_subject5_routine3 (id118)",
          "outdoor_subject7_routine1 (id137)",
          "indoor_subject3_routine1 (id91)",
          "indoor_subject3_routine3 (id122)",
          "indoor_subject6_routine3 (id199)",
          "indoor_subject2_routine1 (id231)",
          "outdoor_subject7_routine1 (id214)",
          "outdoor_subject5_routine3 (id235)",
          "indoor_subject4_routine3 (id68)",
          "indoor_subject3_routine3 (id50)",
          "indoor_subject3_routine3 (id19)",
          "indoor_subject1_routine2 (id127)",
          "indoor_subject8_routine3 (id230)",
          "indoor_subject8_routine3 (id113)",
          "outdoor_subject4_routine2 (id20)",
          "outdoor_subject6_routine3 (id57)",
          "indoor_subject5_routine3 (id216)",
          "indoor_subject6_routine1 (id153)",
          "outdoor_subject7_routine1 (id159)",
          "outdoor_subject4_routine1 (id195)",
          "outdoor_subject7_routine1 (id85)",
          "outdoor_subject2_routine1 (id178)",
          "outdoor_subject1_routine1 (id16)",
          "indoor_subject2_routine1 (id176)",
          "indoor_subject1_routine1 (id125)",
          "indoor_subject3_routine2 (id130)",
          "indoor_subject7_routine1 (id200)",
          "indoor_subject7_routine1 (id35)",
          "indoor_subject4_routine3 (id215)",
          "outdoor_subject2_routine3 (id184)",
          "indoor_subject6_routine3 (id146)",
          "indoor_subject6_routine3 (id197)",
          "indoor_subject1_routine2 (id27)",
          "indoor_subject6_routine1 (id131)",
          "indoor_subject1_routine1 (id140)",
          "indoor_subject1_routine2 (id65)",
          "indoor_subject1_routine1 (id221)",
          "outdoor_subject2_routine1 (id115)",
          "indoor_subject5_routine3 (id210)",
          "outdoor_subject2_routine3 (id60)",
          "indoor_subject3_routine2 (id25)",
          "indoor_subject8_routine1 (id72)",
          "outdoor_subject4_routine3 (id37)",
          "indoor_subject1_routine3 (id249)",
          "outdoor_subject5_routine2 (id107)",
          "indoor_subject7_routine2 (id23)",
          "outdoor_subject2_routine1 (id194)",
          "indoor_subject8_routine3 (id11)",
          "indoor_subject5_routine3 (id229)",
          "indoor_subject8_routine1 (id63)",
          "indoor_subject4_routine2 (id21)",
          "indoor_subject7_routine1 (id49)",
          "indoor_subject6_routine1 (id70)",
          "indoor_subject6_routine1 (id174)",
          "indoor_subject7_routine2 (id41)",
          "outdoor_subject4_routine3 (id158)",
          "outdoor_subject4_routine2 (id89)",
          "indoor_subject1_routine3 (id180)",
          "indoor_subject7_routine2 (id34)",
          "outdoor_subject4_routine3 (id206)",
          "outdoor_subject2_routine3 (id33)",
          "outdoor_subject1_routine1 (id213)",
          "indoor_subject2_routine2 (id129)",
          "indoor_subject7_routine3 (id181)",
          "outdoor_subject5_routine1 (id15)",
          "outdoor_subject1_routine2 (id119)",
          "indoor_subject4_routine2 (id77)",
          "indoor_subject6_routine3 (id30)",
          "outdoor_subject2_routine1 (id141)",
          "outdoor_subject4_routine1 (id237)",
          "indoor_subject8_routine1 (id133)",
          "outdoor_subject5_routine1 (id203)",
          "indoor_subject2_routine2 (id36)",
          "outdoor_subject7_routine1 (id157)",
          "outdoor_subject1_routine1 (id132)",
          "outdoor_subject6_routine1 (id74)",
          "outdoor_subject2_routine3 (id92)",
          "outdoor_subject1_routine1 (id165)",
          "indoor_subject1_routine3 (id207)",
          "outdoor_subject4_routine2 (id101)",
          "outdoor_subject4_routine1 (id222)",
          "outdoor_subject1_routine2 (id236)",
          "outdoor_subject5_routine2 (id201)",
          "outdoor_subject3_routine1 (id121)",
          "outdoor_subject5_routine2 (id54)",
          "outdoor_subject3_routine2 (id32)",
          "outdoor_subject1_routine2 (id139)",
          "outdoor_subject4_routine2 (id171)",
          "outdoor_subject6_routine1 (id155)",
          "outdoor_subject4_routine3 (id87)",
          "outdoor_subject7_routine3 (id47)",
          "outdoor_subject3_routine2 (id56)",
          "outdoor_subject3_routine1 (id64)",
          "outdoor_subject6_routine2 (id97)",
          "outdoor_subject5_routine3 (id239)",
          "outdoor_subject6_routine2 (id147)",
          "outdoor_subject2_routine2 (id166)",
          "outdoor_subject2_routine2 (id225)",
          "outdoor_subject6_routine3 (id241)",
          "outdoor_subject2_routine3 (id8)"
         ],
         "y": [
          0.078,
          0.078,
          0.093,
          0.109,
          0.093,
          0.125,
          0.172,
          0.235,
          0.156,
          0.14,
          0.25,
          0.265,
          0.187,
          0.234,
          0.203,
          0.234,
          0.297,
          0.31200000000000006,
          0.203,
          0.31200000000000006,
          0.265,
          0.21899999999999997,
          0.219,
          0.281,
          0.281,
          0.40599999999999997,
          0.359,
          0.422,
          0.235,
          0.203,
          0.281,
          0.281,
          0.31200000000000006,
          0.438,
          0.42200000000000004,
          0.34299999999999997,
          0.609,
          0.313,
          0.766,
          0.234,
          0.422,
          0.266,
          0.547,
          0.75,
          0.469,
          1.4060000000000001,
          0.5,
          1.4060000000000001,
          1.171,
          0.797,
          0.672,
          1.078,
          0.359,
          0.469,
          0.468,
          0.5940000000000001,
          0.531,
          0.516,
          0.953,
          1.063,
          0.875,
          0.7190000000000001,
          0.781,
          0.8130000000000001,
          0.40599999999999997,
          0.985,
          1.188,
          1.2189999999999999,
          0.39099999999999996,
          1.2970000000000002,
          1.7189999999999999,
          1.9529999999999998,
          1.625,
          0.547,
          1.609,
          0.672,
          2.9059999999999997,
          3.094,
          1.484,
          1,
          1.187,
          1.891,
          2.344,
          0.5780000000000001,
          2.937,
          1.141,
          2.375,
          2.719,
          2.094,
          1.078,
          4.031,
          2.453,
          8.171999999999999,
          3.7030000000000003,
          1.2029999999999998,
          3.859,
          1.031,
          4.094,
          0.7809999999999999,
          3.469,
          1.968,
          1.343,
          3.25,
          3.9219999999999997,
          4.766,
          4.922000000000001,
          3.61,
          2.2809999999999997,
          4.859,
          4.016,
          2.047,
          3.8899999999999997,
          6.484,
          4.563000000000001,
          4.766,
          2.3899999999999997,
          3.3129999999999997,
          3.0629999999999997,
          2.6239999999999997,
          4.515000000000001,
          3.9219999999999997,
          2.578,
          9.376,
          2.703,
          7.484,
          5.844,
          5.843,
          3.609,
          8.469,
          8.031,
          8.5,
          3.594,
          5.562,
          5.062,
          4.766,
          12.391,
          4.797000000000001,
          14.453,
          7.063000000000001,
          4.187,
          7.546,
          6.25,
          3.844,
          8.109,
          10.780999999999999,
          7.093,
          8.594,
          8.047,
          17.719,
          5.547000000000001,
          5.594,
          4.656000000000001,
          11.687999999999999,
          8.156,
          11.751,
          9.187,
          8.234,
          6.297000000000001,
          23.765,
          14.655999999999999,
          14.234,
          8.703,
          9.562999999999999,
          18.171000000000003,
          9.953,
          7.156000000000001,
          10.157,
          12.078,
          10.844,
          13.905999999999999,
          9.796999999999999,
          17.75,
          10.828,
          22.375,
          18.875,
          13.922,
          17.64,
          10.687,
          31.359,
          11.469,
          19.297,
          19.734,
          10.485,
          14.891,
          12.594,
          16.531,
          25.344,
          9.562,
          20.766,
          21.844,
          26.296999999999997,
          38.141,
          20.765,
          29.438,
          18.11,
          18.266000000000002,
          17.828,
          38.422,
          27.891,
          33.36,
          18.983999999999998,
          33.329,
          22.454,
          30.5,
          41.452999999999996,
          24.344,
          21.156000000000002,
          58.61,
          35.891000000000005,
          45.578,
          44.453,
          25.953,
          36.875,
          87.79700000000001,
          23.281,
          29.141,
          45.297000000000004,
          41.656000000000006,
          27.688,
          36.094,
          38.157000000000004,
          24.047,
          66.25,
          51.031,
          36.64,
          48.515,
          37.516,
          32.765,
          173.35999999999999,
          79.281,
          53.031,
          122.813,
          94.25,
          165.85999999999999,
          118.126,
          190.531,
          169.453,
          112.907,
          190.173,
          112.203,
          166.234,
          436.359,
          162.906,
          538.39,
          167.828,
          265.797,
          291.219,
          405.06300000000005,
          259.61,
          272.407
         ]
        },
        {
         "mode": "lines",
         "name": "LTD",
         "type": "scatter",
         "x": [
          "outdoor_subject5_routine3 (id126)",
          "outdoor_subject2_routine1 (id168)",
          "outdoor_subject5_routine2 (id106)",
          "indoor_subject7_routine3 (id188)",
          "outdoor_subject5_routine1 (id53)",
          "outdoor_subject4_routine2 (id69)",
          "indoor_subject8_routine3 (id242)",
          "indoor_subject8_routine3 (id240)",
          "outdoor_subject3_routine2 (id38)",
          "outdoor_subject6_routine3 (id172)",
          "indoor_subject7_routine3 (id59)",
          "outdoor_subject5_routine3 (id198)",
          "outdoor_subject6_routine3 (id112)",
          "outdoor_subject7_routine3 (id4)",
          "outdoor_subject4_routine3 (id211)",
          "outdoor_subject7_routine3 (id26)",
          "outdoor_subject7_routine3 (id219)",
          "outdoor_subject6_routine3 (id191)",
          "outdoor_subject6_routine3 (id96)",
          "outdoor_subject7_routine3 (id163)",
          "outdoor_subject7_routine3 (id79)",
          "outdoor_subject7_routine3 (id48)",
          "outdoor_subject1_routine1 (id81)",
          "outdoor_subject5_routine1 (id82)",
          "outdoor_subject5_routine3 (id62)",
          "indoor_subject7_routine3 (id12)",
          "outdoor_subject4_routine3 (id84)",
          "indoor_subject7_routine3 (id238)",
          "outdoor_subject6_routine3 (id220)",
          "outdoor_subject5_routine2 (id75)",
          "outdoor_subject5_routine1 (id94)",
          "outdoor_subject4_routine2 (id170)",
          "outdoor_subject5_routine3 (id80)",
          "outdoor_subject1_routine2 (id205)",
          "outdoor_subject5_routine3 (id182)",
          "outdoor_subject3_routine2 (id179)",
          "indoor_subject3_routine3 (id192)",
          "outdoor_subject5_routine2 (id204)",
          "indoor_subject7_routine3 (id196)",
          "outdoor_subject3_routine2 (id104)",
          "outdoor_subject3_routine2 (id187)",
          "outdoor_subject7_routine3 (id78)",
          "outdoor_subject1_routine2 (id244)",
          "outdoor_subject7_routine3 (id190)",
          "outdoor_subject4_routine2 (id39)",
          "indoor_subject4_routine3 (id232)",
          "outdoor_subject7_routine1 (id135)",
          "indoor_subject3_routine3 (id9)",
          "indoor_subject5_routine3 (id217)",
          "outdoor_subject5_routine1 (id223)",
          "outdoor_subject7_routine3 (id67)",
          "indoor_subject4_routine3 (id148)",
          "outdoor_subject3_routine2 (id42)",
          "outdoor_subject2_routine1 (id40)",
          "outdoor_subject5_routine1 (id154)",
          "outdoor_subject4_routine2 (id162)",
          "outdoor_subject6_routine3 (id45)",
          "indoor_subject7_routine3 (id169)",
          "indoor_subject4_routine1 (id156)",
          "outdoor_subject7_routine3 (id46)",
          "outdoor_subject5_routine3 (id22)",
          "outdoor_subject5_routine3 (id212)",
          "outdoor_subject5_routine3 (id18)",
          "outdoor_subject6_routine3 (id31)",
          "outdoor_subject5_routine3 (id5)",
          "outdoor_subject5_routine3 (id138)",
          "outdoor_subject5_routine3 (id175)",
          "outdoor_subject3_routine1 (id136)",
          "outdoor_subject6_routine3 (id111)",
          "indoor_subject4_routine1 (id58)",
          "outdoor_subject5_routine3 (id61)",
          "outdoor_subject7_routine3 (id73)",
          "outdoor_subject7_routine3 (id120)",
          "outdoor_subject3_routine2 (id124)",
          "outdoor_subject7_routine3 (id143)",
          "outdoor_subject2_routine1 (id0)",
          "indoor_subject4_routine1 (id28)",
          "indoor_subject7_routine1 (id161)",
          "indoor_subject1_routine1 (id150)",
          "indoor_subject2_routine1 (id227)",
          "indoor_subject8_routine3 (id134)",
          "outdoor_subject2_routine1 (id243)",
          "indoor_subject7_routine3 (id2)",
          "outdoor_subject4_routine3 (id99)",
          "indoor_subject3_routine3 (id109)",
          "outdoor_subject5_routine1 (id218)",
          "indoor_subject1_routine2 (id177)",
          "indoor_subject5_routine3 (id29)",
          "indoor_subject7_routine3 (id43)",
          "outdoor_subject5_routine3 (id90)",
          "outdoor_subject5_routine3 (id228)",
          "outdoor_subject5_routine2 (id95)",
          "indoor_subject3_routine2 (id202)",
          "outdoor_subject7_routine1 (id123)",
          "outdoor_subject7_routine3 (id234)",
          "indoor_subject3_routine3 (id226)",
          "outdoor_subject7_routine3 (id189)",
          "indoor_subject4_routine1 (id149)",
          "outdoor_subject7_routine3 (id144)",
          "indoor_subject5_routine3 (id7)",
          "outdoor_subject2_routine3 (id183)",
          "outdoor_subject5_routine3 (id108)",
          "outdoor_subject2_routine1 (id128)",
          "indoor_subject8_routine3 (id167)",
          "indoor_subject4_routine1 (id102)",
          "indoor_subject1_routine1 (id52)",
          "indoor_subject3_routine1 (id6)",
          "outdoor_subject6_routine3 (id1)",
          "indoor_subject7_routine3 (id105)",
          "outdoor_subject1_routine2 (id173)",
          "outdoor_subject6_routine3 (id224)",
          "indoor_subject3_routine3 (id186)",
          "indoor_subject3_routine3 (id86)",
          "indoor_subject4_routine1 (id24)",
          "indoor_subject8_routine3 (id55)",
          "outdoor_subject3_routine2 (id76)",
          "indoor_subject3_routine1 (id88)",
          "indoor_subject2_routine1 (id103)",
          "outdoor_subject7_routine3 (id208)",
          "outdoor_subject5_routine2 (id185)",
          "indoor_subject4_routine1 (id14)",
          "indoor_subject3_routine2 (id71)",
          "indoor_subject1_routine1 (id93)",
          "outdoor_subject6_routine3 (id117)",
          "outdoor_subject6_routine3 (id142)",
          "indoor_subject7_routine3 (id246)",
          "indoor_subject3_routine1 (id233)",
          "indoor_subject3_routine2 (id114)",
          "indoor_subject4_routine2 (id245)",
          "outdoor_subject4_routine3 (id44)",
          "outdoor_subject4_routine3 (id160)",
          "outdoor_subject4_routine3 (id17)",
          "outdoor_subject4_routine3 (id248)",
          "outdoor_subject2_routine1 (id110)",
          "indoor_subject3_routine2 (id51)",
          "indoor_subject4_routine3 (id145)",
          "indoor_subject3_routine1 (id164)",
          "indoor_subject7_routine1 (id247)",
          "indoor_subject4_routine1 (id3)",
          "outdoor_subject7_routine3 (id193)",
          "outdoor_subject6_routine3 (id116)",
          "indoor_subject2_routine1 (id83)",
          "outdoor_subject5_routine3 (id10)",
          "indoor_subject4_routine1 (id13)",
          "indoor_subject4_routine3 (id100)",
          "indoor_subject2_routine1 (id66)",
          "indoor_subject4_routine3 (id98)",
          "indoor_subject3_routine1 (id209)",
          "indoor_subject3_routine1 (id152)",
          "outdoor_subject5_routine1 (id151)",
          "outdoor_subject5_routine3 (id118)",
          "outdoor_subject7_routine1 (id137)",
          "indoor_subject3_routine1 (id91)",
          "indoor_subject3_routine3 (id122)",
          "indoor_subject6_routine3 (id199)",
          "indoor_subject2_routine1 (id231)",
          "outdoor_subject7_routine1 (id214)",
          "outdoor_subject5_routine3 (id235)",
          "indoor_subject4_routine3 (id68)",
          "indoor_subject3_routine3 (id50)",
          "indoor_subject3_routine3 (id19)",
          "indoor_subject1_routine2 (id127)",
          "indoor_subject8_routine3 (id230)",
          "indoor_subject8_routine3 (id113)",
          "outdoor_subject4_routine2 (id20)",
          "outdoor_subject6_routine3 (id57)",
          "indoor_subject5_routine3 (id216)",
          "indoor_subject6_routine1 (id153)",
          "outdoor_subject7_routine1 (id159)",
          "outdoor_subject4_routine1 (id195)",
          "outdoor_subject7_routine1 (id85)",
          "outdoor_subject2_routine1 (id178)",
          "outdoor_subject1_routine1 (id16)",
          "indoor_subject2_routine1 (id176)",
          "indoor_subject1_routine1 (id125)",
          "indoor_subject3_routine2 (id130)",
          "indoor_subject7_routine1 (id200)",
          "indoor_subject7_routine1 (id35)",
          "indoor_subject4_routine3 (id215)",
          "outdoor_subject2_routine3 (id184)",
          "indoor_subject6_routine3 (id146)",
          "indoor_subject6_routine3 (id197)",
          "indoor_subject1_routine2 (id27)",
          "indoor_subject6_routine1 (id131)",
          "indoor_subject1_routine1 (id140)",
          "indoor_subject1_routine2 (id65)",
          "indoor_subject1_routine1 (id221)",
          "outdoor_subject2_routine1 (id115)",
          "indoor_subject5_routine3 (id210)",
          "outdoor_subject2_routine3 (id60)",
          "indoor_subject3_routine2 (id25)",
          "indoor_subject8_routine1 (id72)",
          "outdoor_subject4_routine3 (id37)",
          "indoor_subject1_routine3 (id249)",
          "outdoor_subject5_routine2 (id107)",
          "indoor_subject7_routine2 (id23)",
          "outdoor_subject2_routine1 (id194)",
          "indoor_subject8_routine3 (id11)",
          "indoor_subject5_routine3 (id229)",
          "indoor_subject8_routine1 (id63)",
          "indoor_subject4_routine2 (id21)",
          "indoor_subject7_routine1 (id49)",
          "indoor_subject6_routine1 (id70)",
          "indoor_subject6_routine1 (id174)",
          "indoor_subject7_routine2 (id41)",
          "outdoor_subject4_routine3 (id158)",
          "outdoor_subject4_routine2 (id89)",
          "indoor_subject1_routine3 (id180)",
          "indoor_subject7_routine2 (id34)",
          "outdoor_subject4_routine3 (id206)",
          "outdoor_subject2_routine3 (id33)",
          "outdoor_subject1_routine1 (id213)",
          "indoor_subject2_routine2 (id129)",
          "indoor_subject7_routine3 (id181)",
          "outdoor_subject5_routine1 (id15)",
          "outdoor_subject1_routine2 (id119)",
          "indoor_subject4_routine2 (id77)",
          "indoor_subject6_routine3 (id30)",
          "outdoor_subject2_routine1 (id141)",
          "outdoor_subject4_routine1 (id237)",
          "indoor_subject8_routine1 (id133)",
          "outdoor_subject5_routine1 (id203)",
          "indoor_subject2_routine2 (id36)",
          "outdoor_subject7_routine1 (id157)",
          "outdoor_subject1_routine1 (id132)",
          "outdoor_subject6_routine1 (id74)",
          "outdoor_subject2_routine3 (id92)",
          "outdoor_subject1_routine1 (id165)",
          "indoor_subject1_routine3 (id207)",
          "outdoor_subject4_routine2 (id101)",
          "outdoor_subject4_routine1 (id222)",
          "outdoor_subject1_routine2 (id236)",
          "outdoor_subject5_routine2 (id201)",
          "outdoor_subject3_routine1 (id121)",
          "outdoor_subject5_routine2 (id54)",
          "outdoor_subject3_routine2 (id32)",
          "outdoor_subject1_routine2 (id139)",
          "outdoor_subject4_routine2 (id171)",
          "outdoor_subject6_routine1 (id155)",
          "outdoor_subject4_routine3 (id87)",
          "outdoor_subject7_routine3 (id47)",
          "outdoor_subject3_routine2 (id56)",
          "outdoor_subject3_routine1 (id64)",
          "outdoor_subject6_routine2 (id97)",
          "outdoor_subject5_routine3 (id239)",
          "outdoor_subject6_routine2 (id147)",
          "outdoor_subject2_routine2 (id166)",
          "outdoor_subject2_routine2 (id225)",
          "outdoor_subject6_routine3 (id241)",
          "outdoor_subject2_routine3 (id8)"
         ],
         "y": [
          0.078,
          0.078,
          0.093,
          0.187,
          0.093,
          0.109,
          0.23399999999999999,
          0.328,
          0.203,
          0.21899999999999997,
          0.25,
          0.172,
          0.281,
          0.25,
          0.266,
          0.188,
          0.172,
          0.266,
          0.25,
          0.23399999999999999,
          0.297,
          0.235,
          0.188,
          0.187,
          0.187,
          0.43700000000000006,
          0.28099999999999997,
          0.406,
          0.25,
          0.32899999999999996,
          0.375,
          0.375,
          0.375,
          0.281,
          0.328,
          0.516,
          0.516,
          0.45299999999999996,
          0.593,
          0.375,
          0.39,
          0.359,
          0.45299999999999996,
          0.609,
          0.438,
          0.859,
          0.657,
          0.781,
          0.9530000000000001,
          0.61,
          0.703,
          0.984,
          0.5,
          0.953,
          0.531,
          0.562,
          0.766,
          0.8280000000000001,
          1.14,
          0.7969999999999999,
          0.7969999999999999,
          0.75,
          0.75,
          0.735,
          0.5940000000000001,
          0.8280000000000001,
          0.734,
          0.625,
          0.5940000000000001,
          1.312,
          0.64,
          0.828,
          0.657,
          0.781,
          0.796,
          0.75,
          1.468,
          1.093,
          1.234,
          1.453,
          1.2810000000000001,
          0.86,
          1.4369999999999998,
          0.8130000000000001,
          1.7349999999999999,
          1.203,
          1.531,
          1.9689999999999999,
          1.6560000000000001,
          1.141,
          1.3279999999999998,
          1.1560000000000001,
          2.6260000000000003,
          0.906,
          1.5150000000000001,
          2.078,
          1.109,
          2.328,
          1.156,
          2.546,
          2.328,
          1.609,
          2.156,
          3.016,
          3.64,
          2.594,
          3.14,
          2.078,
          3.625,
          2.5,
          2.469,
          3.406,
          3.531,
          3.516,
          3.797,
          2.593,
          2.25,
          3.625,
          2.625,
          3.14,
          4.375,
          3.109,
          5.563,
          3.031,
          4.093,
          4.312,
          4.313,
          4.063,
          4.266,
          4.297000000000001,
          4.266,
          3.75,
          4.485,
          3.766,
          5.032,
          7.875,
          4.734,
          6.578,
          4.390000000000001,
          4.265,
          5.64,
          7.125,
          3.9219999999999997,
          5.657,
          5.11,
          9.625,
          5.781,
          6.186999999999999,
          5.672,
          5.797,
          6.141,
          5.157,
          8.953,
          8.484,
          7.906000000000001,
          9.078,
          9.344,
          6.594,
          13.984,
          11.094,
          11.781,
          7.657,
          8.968,
          13.687000000000001,
          10.032,
          7.672,
          10.86,
          10.562999999999999,
          8.859,
          14.405999999999999,
          10.421999999999999,
          12.421999999999999,
          11.578,
          17.436999999999998,
          14.015,
          14.156,
          15.203,
          10.969,
          9.281,
          12.266,
          16.407,
          13.126000000000001,
          12.063,
          16.438,
          12.688,
          12.796,
          19.563000000000002,
          10.265,
          22.422,
          12.672,
          16.422,
          23.938,
          21.453,
          19.593,
          18.25,
          19.454,
          14.515,
          28.484,
          20.953000000000003,
          19.781,
          19.844,
          25.171999999999997,
          23.453,
          29.906,
          28.828,
          26.906,
          21.797,
          45.047,
          35.25,
          29.641000000000002,
          32.125,
          27.938,
          35.452999999999996,
          24.718999999999998,
          23.75,
          28.375,
          48.297,
          53.766,
          29.078,
          36.906,
          43.75,
          25.843999999999998,
          50.266,
          38.219,
          47.578,
          55.36,
          42.282,
          33.89,
          75.016,
          83.516,
          55.36,
          94.281,
          99.266,
          166.781,
          123.65599999999999,
          116.437,
          165.906,
          135.109,
          116.485,
          71.28099999999999,
          170.328,
          148.812,
          166.547,
          309.328,
          168.547,
          254.219,
          251.73499999999999,
          437.5,
          256.625,
          272.297
         ]
        }
       ],
       "layout": {
        "autosize": true,
        "font": {
         "color": "black",
         "family": "Arial",
         "size": 12
        },
        "legend": {
         "x": 0.01,
         "xanchor": "left",
         "y": 0.98,
         "yanchor": "top"
        },
        "margin": {
         "b": 0,
         "l": 0,
         "r": 0,
         "t": 30
        },
        "template": {
         "data": {
          "bar": [
           {
            "error_x": {
             "color": "#2a3f5f"
            },
            "error_y": {
             "color": "#2a3f5f"
            },
            "marker": {
             "line": {
              "color": "#E5ECF6",
              "width": 0.5
             },
             "pattern": {
              "fillmode": "overlay",
              "size": 10,
              "solidity": 0.2
             }
            },
            "type": "bar"
           }
          ],
          "barpolar": [
           {
            "marker": {
             "line": {
              "color": "#E5ECF6",
              "width": 0.5
             },
             "pattern": {
              "fillmode": "overlay",
              "size": 10,
              "solidity": 0.2
             }
            },
            "type": "barpolar"
           }
          ],
          "carpet": [
           {
            "aaxis": {
             "endlinecolor": "#2a3f5f",
             "gridcolor": "white",
             "linecolor": "white",
             "minorgridcolor": "white",
             "startlinecolor": "#2a3f5f"
            },
            "baxis": {
             "endlinecolor": "#2a3f5f",
             "gridcolor": "white",
             "linecolor": "white",
             "minorgridcolor": "white",
             "startlinecolor": "#2a3f5f"
            },
            "type": "carpet"
           }
          ],
          "choropleth": [
           {
            "colorbar": {
             "outlinewidth": 0,
             "ticks": ""
            },
            "type": "choropleth"
           }
          ],
          "contour": [
           {
            "colorbar": {
             "outlinewidth": 0,
             "ticks": ""
            },
            "colorscale": [
             [
              0,
              "#0d0887"
             ],
             [
              0.1111111111111111,
              "#46039f"
             ],
             [
              0.2222222222222222,
              "#7201a8"
             ],
             [
              0.3333333333333333,
              "#9c179e"
             ],
             [
              0.4444444444444444,
              "#bd3786"
             ],
             [
              0.5555555555555556,
              "#d8576b"
             ],
             [
              0.6666666666666666,
              "#ed7953"
             ],
             [
              0.7777777777777778,
              "#fb9f3a"
             ],
             [
              0.8888888888888888,
              "#fdca26"
             ],
             [
              1,
              "#f0f921"
             ]
            ],
            "type": "contour"
           }
          ],
          "contourcarpet": [
           {
            "colorbar": {
             "outlinewidth": 0,
             "ticks": ""
            },
            "type": "contourcarpet"
           }
          ],
          "heatmap": [
           {
            "colorbar": {
             "outlinewidth": 0,
             "ticks": ""
            },
            "colorscale": [
             [
              0,
              "#0d0887"
             ],
             [
              0.1111111111111111,
              "#46039f"
             ],
             [
              0.2222222222222222,
              "#7201a8"
             ],
             [
              0.3333333333333333,
              "#9c179e"
             ],
             [
              0.4444444444444444,
              "#bd3786"
             ],
             [
              0.5555555555555556,
              "#d8576b"
             ],
             [
              0.6666666666666666,
              "#ed7953"
             ],
             [
              0.7777777777777778,
              "#fb9f3a"
             ],
             [
              0.8888888888888888,
              "#fdca26"
             ],
             [
              1,
              "#f0f921"
             ]
            ],
            "type": "heatmap"
           }
          ],
          "heatmapgl": [
           {
            "colorbar": {
             "outlinewidth": 0,
             "ticks": ""
            },
            "colorscale": [
             [
              0,
              "#0d0887"
             ],
             [
              0.1111111111111111,
              "#46039f"
             ],
             [
              0.2222222222222222,
              "#7201a8"
             ],
             [
              0.3333333333333333,
              "#9c179e"
             ],
             [
              0.4444444444444444,
              "#bd3786"
             ],
             [
              0.5555555555555556,
              "#d8576b"
             ],
             [
              0.6666666666666666,
              "#ed7953"
             ],
             [
              0.7777777777777778,
              "#fb9f3a"
             ],
             [
              0.8888888888888888,
              "#fdca26"
             ],
             [
              1,
              "#f0f921"
             ]
            ],
            "type": "heatmapgl"
           }
          ],
          "histogram": [
           {
            "marker": {
             "pattern": {
              "fillmode": "overlay",
              "size": 10,
              "solidity": 0.2
             }
            },
            "type": "histogram"
           }
          ],
          "histogram2d": [
           {
            "colorbar": {
             "outlinewidth": 0,
             "ticks": ""
            },
            "colorscale": [
             [
              0,
              "#0d0887"
             ],
             [
              0.1111111111111111,
              "#46039f"
             ],
             [
              0.2222222222222222,
              "#7201a8"
             ],
             [
              0.3333333333333333,
              "#9c179e"
             ],
             [
              0.4444444444444444,
              "#bd3786"
             ],
             [
              0.5555555555555556,
              "#d8576b"
             ],
             [
              0.6666666666666666,
              "#ed7953"
             ],
             [
              0.7777777777777778,
              "#fb9f3a"
             ],
             [
              0.8888888888888888,
              "#fdca26"
             ],
             [
              1,
              "#f0f921"
             ]
            ],
            "type": "histogram2d"
           }
          ],
          "histogram2dcontour": [
           {
            "colorbar": {
             "outlinewidth": 0,
             "ticks": ""
            },
            "colorscale": [
             [
              0,
              "#0d0887"
             ],
             [
              0.1111111111111111,
              "#46039f"
             ],
             [
              0.2222222222222222,
              "#7201a8"
             ],
             [
              0.3333333333333333,
              "#9c179e"
             ],
             [
              0.4444444444444444,
              "#bd3786"
             ],
             [
              0.5555555555555556,
              "#d8576b"
             ],
             [
              0.6666666666666666,
              "#ed7953"
             ],
             [
              0.7777777777777778,
              "#fb9f3a"
             ],
             [
              0.8888888888888888,
              "#fdca26"
             ],
             [
              1,
              "#f0f921"
             ]
            ],
            "type": "histogram2dcontour"
           }
          ],
          "mesh3d": [
           {
            "colorbar": {
             "outlinewidth": 0,
             "ticks": ""
            },
            "type": "mesh3d"
           }
          ],
          "parcoords": [
           {
            "line": {
             "colorbar": {
              "outlinewidth": 0,
              "ticks": ""
             }
            },
            "type": "parcoords"
           }
          ],
          "pie": [
           {
            "automargin": true,
            "type": "pie"
           }
          ],
          "scatter": [
           {
            "fillpattern": {
             "fillmode": "overlay",
             "size": 10,
             "solidity": 0.2
            },
            "type": "scatter"
           }
          ],
          "scatter3d": [
           {
            "line": {
             "colorbar": {
              "outlinewidth": 0,
              "ticks": ""
             }
            },
            "marker": {
             "colorbar": {
              "outlinewidth": 0,
              "ticks": ""
             }
            },
            "type": "scatter3d"
           }
          ],
          "scattercarpet": [
           {
            "marker": {
             "colorbar": {
              "outlinewidth": 0,
              "ticks": ""
             }
            },
            "type": "scattercarpet"
           }
          ],
          "scattergeo": [
           {
            "marker": {
             "colorbar": {
              "outlinewidth": 0,
              "ticks": ""
             }
            },
            "type": "scattergeo"
           }
          ],
          "scattergl": [
           {
            "marker": {
             "colorbar": {
              "outlinewidth": 0,
              "ticks": ""
             }
            },
            "type": "scattergl"
           }
          ],
          "scattermapbox": [
           {
            "marker": {
             "colorbar": {
              "outlinewidth": 0,
              "ticks": ""
             }
            },
            "type": "scattermapbox"
           }
          ],
          "scatterpolar": [
           {
            "marker": {
             "colorbar": {
              "outlinewidth": 0,
              "ticks": ""
             }
            },
            "type": "scatterpolar"
           }
          ],
          "scatterpolargl": [
           {
            "marker": {
             "colorbar": {
              "outlinewidth": 0,
              "ticks": ""
             }
            },
            "type": "scatterpolargl"
           }
          ],
          "scatterternary": [
           {
            "marker": {
             "colorbar": {
              "outlinewidth": 0,
              "ticks": ""
             }
            },
            "type": "scatterternary"
           }
          ],
          "surface": [
           {
            "colorbar": {
             "outlinewidth": 0,
             "ticks": ""
            },
            "colorscale": [
             [
              0,
              "#0d0887"
             ],
             [
              0.1111111111111111,
              "#46039f"
             ],
             [
              0.2222222222222222,
              "#7201a8"
             ],
             [
              0.3333333333333333,
              "#9c179e"
             ],
             [
              0.4444444444444444,
              "#bd3786"
             ],
             [
              0.5555555555555556,
              "#d8576b"
             ],
             [
              0.6666666666666666,
              "#ed7953"
             ],
             [
              0.7777777777777778,
              "#fb9f3a"
             ],
             [
              0.8888888888888888,
              "#fdca26"
             ],
             [
              1,
              "#f0f921"
             ]
            ],
            "type": "surface"
           }
          ],
          "table": [
           {
            "cells": {
             "fill": {
              "color": "#EBF0F8"
             },
             "line": {
              "color": "white"
             }
            },
            "header": {
             "fill": {
              "color": "#C8D4E3"
             },
             "line": {
              "color": "white"
             }
            },
            "type": "table"
           }
          ]
         },
         "layout": {
          "annotationdefaults": {
           "arrowcolor": "#2a3f5f",
           "arrowhead": 0,
           "arrowwidth": 1
          },
          "autotypenumbers": "strict",
          "coloraxis": {
           "colorbar": {
            "outlinewidth": 0,
            "ticks": ""
           }
          },
          "colorscale": {
           "diverging": [
            [
             0,
             "#8e0152"
            ],
            [
             0.1,
             "#c51b7d"
            ],
            [
             0.2,
             "#de77ae"
            ],
            [
             0.3,
             "#f1b6da"
            ],
            [
             0.4,
             "#fde0ef"
            ],
            [
             0.5,
             "#f7f7f7"
            ],
            [
             0.6,
             "#e6f5d0"
            ],
            [
             0.7,
             "#b8e186"
            ],
            [
             0.8,
             "#7fbc41"
            ],
            [
             0.9,
             "#4d9221"
            ],
            [
             1,
             "#276419"
            ]
           ],
           "sequential": [
            [
             0,
             "#0d0887"
            ],
            [
             0.1111111111111111,
             "#46039f"
            ],
            [
             0.2222222222222222,
             "#7201a8"
            ],
            [
             0.3333333333333333,
             "#9c179e"
            ],
            [
             0.4444444444444444,
             "#bd3786"
            ],
            [
             0.5555555555555556,
             "#d8576b"
            ],
            [
             0.6666666666666666,
             "#ed7953"
            ],
            [
             0.7777777777777778,
             "#fb9f3a"
            ],
            [
             0.8888888888888888,
             "#fdca26"
            ],
            [
             1,
             "#f0f921"
            ]
           ],
           "sequentialminus": [
            [
             0,
             "#0d0887"
            ],
            [
             0.1111111111111111,
             "#46039f"
            ],
            [
             0.2222222222222222,
             "#7201a8"
            ],
            [
             0.3333333333333333,
             "#9c179e"
            ],
            [
             0.4444444444444444,
             "#bd3786"
            ],
            [
             0.5555555555555556,
             "#d8576b"
            ],
            [
             0.6666666666666666,
             "#ed7953"
            ],
            [
             0.7777777777777778,
             "#fb9f3a"
            ],
            [
             0.8888888888888888,
             "#fdca26"
            ],
            [
             1,
             "#f0f921"
            ]
           ]
          },
          "colorway": [
           "#636efa",
           "#EF553B",
           "#00cc96",
           "#ab63fa",
           "#FFA15A",
           "#19d3f3",
           "#FF6692",
           "#B6E880",
           "#FF97FF",
           "#FECB52"
          ],
          "font": {
           "color": "#2a3f5f"
          },
          "geo": {
           "bgcolor": "white",
           "lakecolor": "white",
           "landcolor": "#E5ECF6",
           "showlakes": true,
           "showland": true,
           "subunitcolor": "white"
          },
          "hoverlabel": {
           "align": "left"
          },
          "hovermode": "closest",
          "mapbox": {
           "style": "light"
          },
          "paper_bgcolor": "white",
          "plot_bgcolor": "#E5ECF6",
          "polar": {
           "angularaxis": {
            "gridcolor": "white",
            "linecolor": "white",
            "ticks": ""
           },
           "bgcolor": "#E5ECF6",
           "radialaxis": {
            "gridcolor": "white",
            "linecolor": "white",
            "ticks": ""
           }
          },
          "scene": {
           "xaxis": {
            "backgroundcolor": "#E5ECF6",
            "gridcolor": "white",
            "gridwidth": 2,
            "linecolor": "white",
            "showbackground": true,
            "ticks": "",
            "zerolinecolor": "white"
           },
           "yaxis": {
            "backgroundcolor": "#E5ECF6",
            "gridcolor": "white",
            "gridwidth": 2,
            "linecolor": "white",
            "showbackground": true,
            "ticks": "",
            "zerolinecolor": "white"
           },
           "zaxis": {
            "backgroundcolor": "#E5ECF6",
            "gridcolor": "white",
            "gridwidth": 2,
            "linecolor": "white",
            "showbackground": true,
            "ticks": "",
            "zerolinecolor": "white"
           }
          },
          "shapedefaults": {
           "line": {
            "color": "#2a3f5f"
           }
          },
          "ternary": {
           "aaxis": {
            "gridcolor": "white",
            "linecolor": "white",
            "ticks": ""
           },
           "baxis": {
            "gridcolor": "white",
            "linecolor": "white",
            "ticks": ""
           },
           "bgcolor": "#E5ECF6",
           "caxis": {
            "gridcolor": "white",
            "linecolor": "white",
            "ticks": ""
           }
          },
          "title": {
           "x": 0.05
          },
          "xaxis": {
           "automargin": true,
           "gridcolor": "white",
           "linecolor": "white",
           "ticks": "",
           "title": {
            "standoff": 15
           },
           "zerolinecolor": "white",
           "zerolinewidth": 2
          },
          "yaxis": {
           "automargin": true,
           "gridcolor": "white",
           "linecolor": "white",
           "ticks": "",
           "title": {
            "standoff": 15
           },
           "zerolinecolor": "white",
           "zerolinewidth": 2
          }
         }
        },
        "title": {
         "text": "(b) HASC"
        },
        "xaxis": {
         "autorange": true,
         "range": [
          0,
          249
         ],
         "tickangle": -45,
         "tickfont": {
          "size": 7
         },
         "type": "category"
        },
        "yaxis": {
         "autorange": true,
         "range": [
          -197.17733333333334,
          3746.9893333333334
         ],
         "title": {
          "text": "Runtime in Seconds"
         },
         "type": "linear"
        }
       }
      },
      "image/png": "[encoded data removed]"
     },
     "metadata": {},
     "output_type": "display_data"
    }
   ],
   "source": [
    "plot_runtimes_per_column(main_exp_hasc, 'dataset', dict(\n",
    "                          tickangle=-45,\n",
    "                          tickfont=dict(\n",
    "                          size=7\n",
    "                      )\n",
    "                      ), '(b) HASC', 'results/figures/runtimes_per_algo_hasc.png')"
   ]
  }
 ],
 "metadata": {
  "kernelspec": {
   "display_name": "Python 3 (ipykernel)",
   "language": "python",
   "name": "python3"
  },
  "language_info": {
   "codemirror_mode": {
    "name": "ipython",
    "version": 3
   },
   "file_extension": ".py",
   "mimetype": "text/x-python",
   "name": "python",
   "nbconvert_exporter": "python",
   "pygments_lexer": "ipython3",
   "version": "3.11.5"
  }
 },
 "nbformat": 4,
 "nbformat_minor": 5
}
