{
 "cells": [
  {
   "cell_type": "code",
   "execution_count": null,
   "id": "c9820a50-6dd5-4e7b-9cf6-b02fa099f7f7",
   "metadata": {},
   "outputs": [],
   "source": [
    "import numpy as np\n",
    "import pandas as pd\n",
    "import time\n",
    "import mt_utils as ut\n",
    "import parameter_utils as pu\n",
    "import importlib\n",
    "from tqdm import tqdm\n",
    "import scikit_posthocs as sp\n",
    "import matplotlib.pyplot as plt\n",
    "import plotly.graph_objects as go"
   ]
  },
  {
   "cell_type": "code",
   "execution_count": null,
   "id": "f357691a-9ce0-428b-b83b-479fa7c96ef4",
   "metadata": {},
   "outputs": [],
   "source": [
    "importlib.reload(ut)"
   ]
  },
  {
   "cell_type": "code",
   "execution_count": null,
   "id": "236138a9-da5f-482e-931f-b200eb2adefb",
   "metadata": {},
   "outputs": [],
   "source": [
    "importlib.reload(pu)"
   ]
  },
  {
   "cell_type": "code",
   "execution_count": null,
   "id": "3428fc28-36ab-4bb2-9984-6ab11f85f9e7",
   "metadata": {},
   "outputs": [],
   "source": [
    "#import claspy\n",
    "from claspy.segmentation import BinaryClaSPSegmentation\n",
    "from claspy.tests.evaluation import covering\n",
    "from claspy.data_loader import load_tssb_dataset\n",
    "from claspy.data_loader import load_has_dataset"
   ]
  },
  {
   "cell_type": "code",
   "execution_count": null,
   "id": "257a19bf-4ffc-419d-97a3-66db8ad4a344",
   "metadata": {},
   "outputs": [],
   "source": [
    "tssb = load_tssb_dataset()\n",
    "hasc = load_has_dataset()"
   ]
  },
  {
   "cell_type": "markdown",
   "id": "f7577120-8799-477a-9800-5ebd4bbe3d46",
   "metadata": {},
   "source": [
    "# Functions"
   ]
  },
  {
   "cell_type": "code",
   "execution_count": null,
   "id": "bd30c12c-139e-492a-bdfc-dd91e5d27d7b",
   "metadata": {},
   "outputs": [],
   "source": [
    "algos_sorted = ['None', \"EveryNth\",\"MinMax\",\"M4\",\"LTTB\",\"MinMaxLTTB\",\"LTD\"]\n",
    "algos_sorted_dsOnly = [\"EveryNth\",\"MinMax\",\"M4\",\"LTTB\",\"MinMaxLTTB\",\"LTD\"]\n",
    "columns = ['Algorithm', 'compression', 'window_size', 'orig_TS_ID', 'TS_Length', 'Time_Series', 'True_CPS', 'predicted_cps', 'score', \n",
    "           'runtime_getCR', 'runtime_downsample', 'runtime_clasp', 'runtime_upscale' ]"
   ]
  },
  {
   "cell_type": "code",
   "execution_count": null,
   "id": "e42803d9-d878-468d-b842-3b3276dac5e2",
   "metadata": {},
   "outputs": [],
   "source": [
    "# please consult the master thesis pdf for a derivation of the window size thresholds\n",
    "threshold_tssb = [25,False]\n",
    "threshold_hasc = [40,True]"
   ]
  },
  {
   "cell_type": "code",
   "execution_count": null,
   "id": "03ddd322-1e6d-4217-a86e-5a2f62a150d3",
   "metadata": {},
   "outputs": [],
   "source": [
    "def critical_distance(df, title=None, filepath=None):\n",
    "    avg_rank = df.groupby('orig_TS_ID').score.rank(pct=False, ascending=False).groupby(df.Algorithm).mean()\n",
    "    p_vals = sp.posthoc_nemenyi_friedman(\n",
    "        df,\n",
    "        melted=True,\n",
    "        block_col='orig_TS_ID',\n",
    "        group_col='Algorithm',\n",
    "        y_col='score',\n",
    "    )\n",
    "\n",
    "    fig = plt.figure(figsize=(10, 2), dpi=100)\n",
    "    plt.rcParams[\"font.family\"] = \"Arial\"\n",
    "    plt.rcParams[\"font.size\"] = \"12\"\n",
    "    font = {'family':'arial','color':'black','size':12}\n",
    "    plt.title(title, loc = 'left', fontdict=font, y=1.2)\n",
    "    \n",
    "    sp.critical_difference_diagram(avg_rank, p_vals,\n",
    "                               label_props={'color': 'black'},\n",
    "                               elbow_props={'color': 'gray'}                              \n",
    "                              )\n",
    "    \n",
    "    if filepath:\n",
    "         fig.savefig(filepath, bbox_inches='tight')\n",
    "\n",
    "    plt.show()"
   ]
  },
  {
   "cell_type": "code",
   "execution_count": null,
   "id": "914ff2ec-d687-4ac3-8404-f9c9ec72af31",
   "metadata": {},
   "outputs": [],
   "source": [
    "# box plot\n",
    "def boxplot_scores(df, title, filepath):\n",
    "    fig = go.Figure()\n",
    "    for i, algo in enumerate(algos_sorted):\n",
    "        fig.add_trace(go.Box(\n",
    "                            y=df['score'][df['Algorithm']==algo], \n",
    "                            name=algo,\n",
    "                            boxmean='sd', \n",
    "                            marker_color='black',\n",
    "                            line=dict(width=1),\n",
    "                            fillcolor='rgba(0,0,0,0)'\n",
    "                            )\n",
    "                     )\n",
    "        \n",
    "    fig.update_layout(height=300, \n",
    "                      font=dict(\n",
    "                          family=\"Arial\",\n",
    "                          size=12,\n",
    "                          color=\"black\"\n",
    "                      ),\n",
    "                      title=dict(\n",
    "                          text=title\n",
    "                      ),\n",
    "                      margin=dict(l=0, r=0, t=30, b=0),\n",
    "                      yaxis_title = 'Covering Score',\n",
    "                      showlegend=False\n",
    "                     )\n",
    "    \n",
    "    if filepath:\n",
    "        fig.write_image(filepath, scale=1, width=1000, height=300)\n",
    "    \n",
    "    fig.show()"
   ]
  },
  {
   "cell_type": "code",
   "execution_count": null,
   "id": "6f79acd0-1a1d-4d28-ae6f-2adeab18c48b",
   "metadata": {},
   "outputs": [],
   "source": [
    "# summary statistics\n",
    "def score_comparison_matrix_w(df, savepath):\n",
    "    mean = df.groupby(by=['Algorithm']).mean().rename(columns={'score': 'mean'})\n",
    "    median = df.groupby(by=['Algorithm']).median().rename(columns={'score': 'median'})\n",
    "    std = df.groupby(by=['Algorithm']).std().rename(columns={'score': 'std'})\n",
    "    \n",
    "    out = mean.merge(median, left_on='Algorithm', right_on='Algorithm')\n",
    "    out = out.merge(std, left_on='Algorithm', right_on='Algorithm')\n",
    "    out = out.transpose()\n",
    "    if(savepath):\n",
    "        out.to_excel(savepath)\n",
    "    return out[algos_sorted]"
   ]
  },
  {
   "cell_type": "code",
   "execution_count": null,
   "id": "22817f2c-77ff-4b27-9868-d111aefb5890",
   "metadata": {},
   "outputs": [],
   "source": [
    "def downsample_and_segment(ts, change_points, algo, threshold, downscale_w=False):\n",
    "    runtime_cr = time.process_time()\n",
    "    # set compression ratio\n",
    "    if algo == 'LTD':\n",
    "        cr = 0.5\n",
    "    else:\n",
    "        if threshold[1]:\n",
    "            cr = pu.find_cr_based_on_w_ubound(ts, threshold[0], downscale_w, algo)\n",
    "        else:\n",
    "            cr = pu.find_cr_based_on_w(ts, threshold[0], downscale_w, algo)\n",
    "    runtime_cr = time.process_time() - runtime_cr\n",
    "\n",
    "    runtime_ds = time.process_time()\n",
    "    # downsample time series  \n",
    "    n_out = ut.adjust_nout(algo, int(cr*ts.shape[0]))\n",
    "    ds_ts_index = ut.downsample_multivariate(algo, ts, n_out)\n",
    "    if ts.ndim == 1:\n",
    "        ds_ts = ts[ds_ts_index]\n",
    "    else:\n",
    "        ds_ts = ut.get_ds_ts_ndim(ts, ds_ts_index)\n",
    "    runtime_ds = time.process_time() - runtime_ds\n",
    "\n",
    "    runtime_clasp = time.process_time()\n",
    "    # instantiate clasp\n",
    "    if downscale_w:\n",
    "        window_size = int(pu.get_window_size_multivariate(ts)*cr)\n",
    "        clasp = BinaryClaSPSegmentation(window_size)\n",
    "    else:\n",
    "        clasp = BinaryClaSPSegmentation()\n",
    "        \n",
    "    predictions = clasp.fit_predict(ds_ts)\n",
    "    runtime_clasp = time.process_time() - runtime_clasp\n",
    "\n",
    "    runtime_us = time.process_time()\n",
    "    upscaled_predictions = pu.upscale_cps_linear(predictions, cr)\n",
    "    runtime_us = time.process_time() - runtime_us\n",
    "    \n",
    "    score = covering({0: change_points}, upscaled_predictions, ts.shape[0])\n",
    "    runtimes = [np.round(runtime_cr, 3), np.round(runtime_ds, 3), np.round(runtime_clasp, 3), np.round(runtime_us, 3)]\n",
    "    \n",
    "    return ds_ts, cr, clasp.window_size, upscaled_predictions, np.round(score, 3), runtimes"
   ]
  },
  {
   "cell_type": "code",
   "execution_count": null,
   "id": "c4acc931-00cc-471d-a21b-b86022882bdc",
   "metadata": {},
   "outputs": [],
   "source": [
    "def main(dataset, threshold, downscale_w=False):\n",
    "    import warnings\n",
    "    warnings.simplefilter(\"ignore\")\n",
    "    results = []\n",
    "    for index, row in tqdm(dataset.iterrows(), total=len(dataset), desc=\"Processing rows\"):\n",
    "        ts_length = row.time_series.shape[0]\n",
    "        window_size, predictions, score, runtime = ut.evaluate_clasp(row.time_series, row.cps)            \n",
    "        results.append(('None', 1, window_size, index, ts_length, row.time_series, row.cps, predictions, score, 0,0,runtime,0))\n",
    "        for algo in algos_sorted_dsOnly:\n",
    "            downsampled_ts, compression, window_size, predictions, score, runtimes = downsample_and_segment(\n",
    "                row.time_series, row.cps, algo, threshold, downscale_w\n",
    "            )\n",
    "            results.append((algo, compression, window_size, index, ts_length, downsampled_ts, row.cps, predictions, score, \n",
    "                            runtimes[0], runtimes[1], runtimes[2], runtimes[3]))\n",
    "    return pd.DataFrame(results, columns=columns)    "
   ]
  },
  {
   "cell_type": "markdown",
   "id": "c24dcf8c-3100-4efe-a0ff-a44c4937d580",
   "metadata": {},
   "source": [
    "def sum_up_runtimes(row):\n",
    "    return row.runtime_getCR+row.runtime_downsample+row.runtime_clasp+row.runtime_upscale\n",
    "\n",
    "def add_dataset_name_tssb(row):\n",
    "    return tssb.iloc[row.orig_TS_ID].dataset\n",
    "\n",
    "def add_dataset_name_hasc(row):\n",
    "    return hasc.iloc[row.orig_TS_ID].dataset"
   ]
  },
  {
   "cell_type": "code",
   "execution_count": null,
   "id": "6189d04a-fad5-4ac7-af75-8793209a94db",
   "metadata": {},
   "outputs": [],
   "source": [
    "def plot_runtimes_per_column(df, column, x_settings, title, filepath=None):\n",
    "    df=df.sort_values('TS_Length')\n",
    "    fig = go.Figure()\n",
    "    for algo in algos_sorted:\n",
    "        curr_df = df[df.Algorithm==algo]\n",
    "        fig.add_trace(go.Scatter(x=curr_df[column], y=curr_df.runtime,\n",
    "                        mode='lines',\n",
    "                        name=algo))\n",
    "        \n",
    "    fig.update_yaxes(title_text=\"Runtime in Seconds\")\n",
    "    \n",
    "    fig.update_layout(height=370,\n",
    "                      font=dict(\n",
    "                          family=\"Arial\",\n",
    "                          size=12,\n",
    "                          color=\"black\"\n",
    "                      ),\n",
    "                      title=dict(\n",
    "                          text=title\n",
    "                      ),\n",
    "                      legend=dict(\n",
    "                          yanchor=\"top\",\n",
    "                          y=0.98,\n",
    "                          xanchor=\"left\", \n",
    "                          x=0.01\n",
    "                      ),\n",
    "                      xaxis=x_settings,\n",
    "                      margin=dict(l=0, r=0, t=30, b=0)\n",
    "                     )\n",
    "    if filepath:\n",
    "        fig.write_image(filepath, scale=1, width=1000, height=370)\n",
    "\n",
    "    fig.show()"
   ]
  },
  {
   "cell_type": "markdown",
   "id": "7ba8c059-ba11-4795-b71b-e3f89d99c4cf",
   "metadata": {},
   "source": [
    "# Covering Score"
   ]
  },
  {
   "cell_type": "markdown",
   "id": "c4eebead-e595-4409-a1ed-50138d724911",
   "metadata": {},
   "source": [
    "## TSSB"
   ]
  },
  {
   "cell_type": "code",
   "execution_count": null,
   "id": "06cda171-e5a2-401c-8ba0-fd2f5bdd5cc3",
   "metadata": {},
   "outputs": [],
   "source": [
    "main_exp_tssb = main(tssb,threshold_tssb,False)\n",
    "# or use the main experiment data provided:\n",
    "# main_exp_tssb = pd.read_pickle('results/zwischenergebnisse/main_experiment_tssb.pkl')"
   ]
  },
  {
   "cell_type": "code",
   "execution_count": null,
   "id": "abba5485-58b6-4e36-a831-051c165f2d6e",
   "metadata": {},
   "outputs": [],
   "source": [
    "main_exp_tssb.to_pickle('results/zwischenergebnisse/main_experiment_tssb.pkl')"
   ]
  },
  {
   "cell_type": "code",
   "execution_count": null,
   "id": "c08cc91c-2904-47e0-a3ca-13260d6f9f82",
   "metadata": {},
   "outputs": [],
   "source": [
    "critical_distance(main_exp_tssb, title='(a) TSSB', filepath='results/figures/critical_distance_orig_scores_TSSB.svg')"
   ]
  },
  {
   "cell_type": "code",
   "execution_count": null,
   "id": "141a21e8-a875-4e5c-8c88-8cdee0521bc2",
   "metadata": {},
   "outputs": [],
   "source": [
    "boxplot_scores(main_exp_tssb, '(a) TSSB', filepath='results/figures/boxplot_mainexp_scores_TSSB.svg')"
   ]
  },
  {
   "cell_type": "code",
   "execution_count": null,
   "id": "de112e32-a02b-40a8-9c51-cc7d710ab5fc",
   "metadata": {},
   "outputs": [],
   "source": [
    "score_comparison_matrix_w(main_exp_tssb[['Algorithm','score']], savepath='results/tables/summary_statistics_mainexp_TSSB.xlsx')"
   ]
  },
  {
   "cell_type": "markdown",
   "id": "8c195455-faab-472c-a27e-7505770fc0ff",
   "metadata": {},
   "source": [
    "## HASC"
   ]
  },
  {
   "cell_type": "code",
   "execution_count": null,
   "id": "504f0dc6-5242-4303-95e0-13c5d8976ace",
   "metadata": {},
   "outputs": [],
   "source": [
    "main_exp_hasc = main(hasc,threshold_hasc,True)\n",
    "# or use the main experiment data provided:\n",
    "# main_exp_hasc = pd.read_pickle('results/zwischenergebnisse/main_experiment_hasc.pkl')"
   ]
  },
  {
   "cell_type": "code",
   "execution_count": null,
   "id": "c3528a13-1610-411a-98b2-faf3c7636eb2",
   "metadata": {},
   "outputs": [],
   "source": [
    "main_exp_hasc.to_pickle('results/zwischenergebnisse/main_experiment_hasc.pkl')"
   ]
  },
  {
   "cell_type": "code",
   "execution_count": null,
   "id": "cb11dff7-2e12-45cc-855b-01aa504416a8",
   "metadata": {},
   "outputs": [],
   "source": [
    "critical_distance(main_exp_hasc, title='(b) HASC', filepath='results/figures/critical_distance_orig_scores_HASC.svg')"
   ]
  },
  {
   "cell_type": "code",
   "execution_count": null,
   "id": "e60abf2e-c32d-4b89-910d-7d70f9772feb",
   "metadata": {},
   "outputs": [],
   "source": [
    "boxplot_scores(main_exp_hasc, '(b) HASC', filepath='results/figures/boxplot_mainexp_scores_HASC.svg')"
   ]
  },
  {
   "cell_type": "code",
   "execution_count": null,
   "id": "82627ac5-24c3-41e1-9595-b162cf49937d",
   "metadata": {},
   "outputs": [],
   "source": [
    "score_comparison_matrix_w(main_exp_hasc[['Algorithm','score']], savepath='results/tables/summary_statistics_mainexp_HASC.xlsx')"
   ]
  },
  {
   "cell_type": "markdown",
   "id": "fda2f831-a7e8-435b-bd51-35fee2541d07",
   "metadata": {},
   "source": [
    "# Runtime"
   ]
  },
  {
   "cell_type": "markdown",
   "id": "f5e8f413-3e57-4dc7-b9d4-fe85efb97322",
   "metadata": {},
   "source": [
    "## TSSB"
   ]
  },
  {
   "cell_type": "code",
   "execution_count": null,
   "id": "9d2fc5e8-c12b-4122-94f8-ce7722ee357c",
   "metadata": {},
   "outputs": [],
   "source": [
    "main_exp_tssb['runtime']=main_exp_tssb.apply(sum_up_runtimes, axis=1)\n",
    "main_exp_tssb['dataset']=main_exp_tssb.apply(add_dataset_name_tssb, axis=1)"
   ]
  },
  {
   "cell_type": "code",
   "execution_count": null,
   "id": "2d756568-ee37-4ea3-94ab-6aeb6868168f",
   "metadata": {},
   "outputs": [],
   "source": [
    "plot_runtimes_per_column(main_exp_tssb, 'dataset', dict(\n",
    "                          tickangle=-45,\n",
    "                          tickfont=dict(\n",
    "                          size=7\n",
    "                      )\n",
    "                      ), '(a) TSSB', 'results/figures/runtimes_per_algo_tssb.png')"
   ]
  },
  {
   "cell_type": "markdown",
   "id": "922f13b5-55db-4c6b-b8cd-e944202dbbf5",
   "metadata": {},
   "source": [
    "## HASC"
   ]
  },
  {
   "cell_type": "code",
   "execution_count": null,
   "id": "31e64b66-ab50-4154-85aa-f2a21d17f8f3",
   "metadata": {},
   "outputs": [],
   "source": [
    "main_exp_hasc['runtime']=main_exp_hasc.apply(sum_up_runtimes, axis=1)\n",
    "main_exp_hasc['dataset']=main_exp_hasc.apply(add_dataset_name_hasc, axis=1)"
   ]
  },
  {
   "cell_type": "code",
   "execution_count": null,
   "id": "e296dae6-ed4d-4294-af17-df68a1b5474b",
   "metadata": {},
   "outputs": [],
   "source": [
    "plot_runtimes_per_column(main_exp_hasc, 'dataset', dict(\n",
    "                          tickangle=-45,\n",
    "                          tickfont=dict(\n",
    "                          size=7\n",
    "                      )\n",
    "                      ), '(b) HASC', 'results/figures/runtimes_per_algo_hasc.png')"
   ]
  }
 ],
 "metadata": {
  "kernelspec": {
   "display_name": "Python 3 (ipykernel)",
   "language": "python",
   "name": "python3"
  },
  "language_info": {
   "codemirror_mode": {
    "name": "ipython",
    "version": 3
   },
   "file_extension": ".py",
   "mimetype": "text/x-python",
   "name": "python",
   "nbconvert_exporter": "python",
   "pygments_lexer": "ipython3",
   "version": "3.11.5"
  }
 },
 "nbformat": 4,
 "nbformat_minor": 5
}
