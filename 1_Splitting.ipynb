{
 "cells": [
  {
   "cell_type": "code",
   "execution_count": null,
   "id": "b5588ed2-c8da-492f-9ae1-0f1cfa770f6e",
   "metadata": {},
   "outputs": [],
   "source": [
    "#import standard libs\n",
    "import numpy as np\n",
    "import pandas as pd\n",
    "import matplotlib.pyplot as plt\n",
    "import plotly.graph_objects as go\n",
    "from plotly.subplots import make_subplots\n",
    "import scikit_posthocs as sp\n",
    "import importlib \n",
    "from tqdm import tqdm"
   ]
  },
  {
   "cell_type": "code",
   "execution_count": null,
   "id": "ae066fdd-9e0e-4669-9f94-d1f16e0beff0",
   "metadata": {},
   "outputs": [],
   "source": [
    "#custom function files\n",
    "import plotter as pt\n",
    "import mt_utils as ut"
   ]
  },
  {
   "cell_type": "code",
   "execution_count": null,
   "id": "40b124d9-4985-46ac-b21d-a48530883ce9",
   "metadata": {},
   "outputs": [],
   "source": [
    "importlib.reload(pt)"
   ]
  },
  {
   "cell_type": "code",
   "execution_count": null,
   "id": "c5d5a4a8-bfbb-43e7-ba25-dd286b4b5d9e",
   "metadata": {},
   "outputs": [],
   "source": [
    "importlib.reload(ut) "
   ]
  },
  {
   "cell_type": "code",
   "execution_count": null,
   "id": "5678885d-b1d4-49d0-8ba9-b5e2b1e69d6a",
   "metadata": {},
   "outputs": [],
   "source": [
    "#import claspy\n",
    "from claspy.data_loader import load_tssb_dataset\n",
    "from claspy.data_loader import load_has_dataset\n",
    "from claspy.segmentation import BinaryClaSPSegmentation"
   ]
  },
  {
   "cell_type": "code",
   "execution_count": null,
   "id": "9919824f-32c8-4e06-8c60-285ef2cf8366",
   "metadata": {},
   "outputs": [],
   "source": [
    "tssb = load_tssb_dataset()\n",
    "hasc = load_has_dataset()"
   ]
  },
  {
   "cell_type": "code",
   "execution_count": null,
   "id": "9dc5b099-9103-4b35-b4a9-137f4d49ddd9",
   "metadata": {},
   "outputs": [],
   "source": [
    "# compression ratios\n",
    "crs = np.round(np.arange(0.1,1,0.1),1)\n",
    "# column titles etc.\n",
    "algos = [\"MinMax\",\"MinMaxLTTB\",\"M4\",\"LTTB\", \"EveryNth\",\"LTD\"]\n",
    "columns = ['Algorithm', 'compression', 'orig_TS_ID', 'Time_Series', 'True_CPS']\n",
    "columns_clasp = ['Algorithm', 'compression', 'window_size', 'orig_TS_ID', 'Time_Series', 'True_CPS', 'predicted_cps', 'score', 'runtime']"
   ]
  },
  {
   "cell_type": "markdown",
   "id": "ed721e92-69ac-47d4-add2-ca1b82396acd",
   "metadata": {},
   "source": [
    "# Splitting"
   ]
  },
  {
   "cell_type": "code",
   "execution_count": null,
   "id": "12fa667d-cb28-4152-a739-4504e6d78cd2",
   "metadata": {},
   "outputs": [],
   "source": [
    "# split time series in datasets at change points\n",
    "def prepare_splits(dataset):\n",
    "    results = []\n",
    "    for index, row in tqdm(dataset.iterrows(), total=len(dataset), desc=\"Processing rows\"):\n",
    "\n",
    "        # univariate TS\n",
    "        if row.time_series.ndim > 1:\n",
    "            ts_arr = np.transpose(row.time_series)\n",
    "            splits = ut.split_ts(ts_arr, row.cps)\n",
    "        else:\n",
    "            splits = ut.split_ts(np.expand_dims(row.time_series, axis=0), row.cps)\n",
    "\n",
    "        # multivariate: split and downsample each time series\n",
    "        for algo in algos:\n",
    "            for cr in crs:\n",
    "                ds_ts_list = []\n",
    "                \n",
    "                for split in splits:\n",
    "                    ds_ts, ds_cps = ut.downsample_splits(algo, split, cr)\n",
    "                    ds_ts_list.append((ds_ts))\n",
    "    \n",
    "                ds_ts = np.array(ds_ts_list).squeeze()\n",
    "                if row.time_series.ndim > 1:\n",
    "                    ds_ts = np.transpose(ds_ts)\n",
    "\n",
    "                results.append((algo, cr, index, ds_ts, ds_cps))\n",
    "    return results"
   ]
  },
  {
   "cell_type": "code",
   "execution_count": null,
   "id": "5d1be21f-5d51-407d-87ac-f9998bc8a2b2",
   "metadata": {},
   "outputs": [],
   "source": [
    "results_tssb = prepare_splits(tssb)"
   ]
  },
  {
   "cell_type": "code",
   "execution_count": null,
   "id": "ea6abf5f-5e43-464a-b280-0626fe186d64",
   "metadata": {},
   "outputs": [],
   "source": [
    "results_df_tssb = pd.DataFrame(results_tssb, columns=columns)\n",
    "results_df_tssb.to_pickle(\"results/zwischenergebnisse/1_downsampled_splitting_tssb.pkl\")\n",
    "results_df_tssb"
   ]
  },
  {
   "cell_type": "code",
   "execution_count": null,
   "id": "b6d05fdc-2082-4d6f-a981-fb3d68567bc1",
   "metadata": {},
   "outputs": [],
   "source": [
    "results_hasc = prepare_splits(hasc)"
   ]
  },
  {
   "cell_type": "code",
   "execution_count": null,
   "id": "55e52fb7-7a39-48f4-93cf-c218f93bde51",
   "metadata": {},
   "outputs": [],
   "source": [
    "results_df_hasc = pd.DataFrame(results_hasc, columns=columns)\n",
    "results_df_hasc.to_pickle(\"results/zwischenergebnisse/1_downsampled_splitting_hasc.pkl\")\n",
    "results_df_hasc"
   ]
  },
  {
   "cell_type": "markdown",
   "id": "2717c1fa-c25f-4ac0-af61-7e2e3e93f977",
   "metadata": {},
   "source": [
    "# ClaSP on split data"
   ]
  },
  {
   "cell_type": "code",
   "execution_count": null,
   "id": "07bf43c7-2ed9-4f44-b193-ef664ee7d72e",
   "metadata": {},
   "outputs": [],
   "source": [
    "def clasp_segmentation(dataset, downsampled=True):\n",
    "    import warnings\n",
    "    warnings.simplefilter(\"ignore\")\n",
    "    results = []\n",
    "    for index, row in tqdm(dataset.iterrows(), total=len(dataset), desc=\"Processing rows\"):\n",
    "        if downsampled:\n",
    "            w, pred_cps, score, runtime = ut.evaluate_clasp(row.Time_Series, row.True_CPS)            \n",
    "            results.append((row.Algorithm, row.compression, w, row.orig_TS_ID, row.Time_Series, row.True_CPS, pred_cps, score, runtime))\n",
    "        else:\n",
    "            w, pred_cps, score, runtime = ut.evaluate_clasp(row.time_series, row.cps)            \n",
    "            results.append(('None', 1, w, index, row.time_series, row.cps, pred_cps, score, runtime))\n",
    "    return results"
   ]
  },
  {
   "cell_type": "markdown",
   "id": "c8292bc5-0c0a-43db-8be7-0410f2f5c7eb",
   "metadata": {},
   "source": [
    "## TSSB"
   ]
  },
  {
   "cell_type": "code",
   "execution_count": null,
   "id": "ad54b872-50b0-4ae3-b482-827e3efb739e",
   "metadata": {},
   "outputs": [],
   "source": [
    "results_clasp_tssb = clasp_segmentation(results_df_tssb)"
   ]
  },
  {
   "cell_type": "code",
   "execution_count": null,
   "id": "a0aae55a-56cb-4645-ad80-0f128cf31a14",
   "metadata": {},
   "outputs": [],
   "source": [
    "# clasp on original TS from TSSB\n",
    "results_clasp_original = clasp_segmentation(tssb, False)"
   ]
  },
  {
   "cell_type": "code",
   "execution_count": null,
   "id": "a644ce26-be79-401d-888e-653147e4af19",
   "metadata": {},
   "outputs": [],
   "source": [
    "#append original to downsampled\n",
    "results_clasp_df_tssb = pd.DataFrame(results_clasp_tssb, columns=columns_clasp)\n",
    "results_clasp_df_tssb_orig = pd.DataFrame(results_clasp_original, columns=columns_clasp)\n",
    "\n",
    "results_clasp_df_tssb.orig_TS_ID = results_df_tssb.orig_TS_ID\n",
    "results_clasp_df_tssb_complete = pd.concat([results_clasp_df_tssb,results_clasp_df_tssb_orig]).reset_index(drop=True)\n",
    "\n",
    "results_clasp_df_tssb_complete.to_pickle(\"results/zwischenergebnisse/1a_clasp_splitting_tssb.pkl\")\n",
    "results_clasp_df_tssb_complete"
   ]
  },
  {
   "cell_type": "markdown",
   "id": "a71df460-60d2-4634-9f8f-e337863cc78c",
   "metadata": {},
   "source": [
    "## HASC"
   ]
  },
  {
   "cell_type": "code",
   "execution_count": null,
   "id": "53f76072-3930-44ed-b93d-412320165ae8",
   "metadata": {},
   "outputs": [],
   "source": [
    "results_clasp_hasc = clasp_segmentation(results_df_hasc)"
   ]
  },
  {
   "cell_type": "code",
   "execution_count": null,
   "id": "493fdd47-1cc7-47d9-9304-46f1cce10794",
   "metadata": {},
   "outputs": [],
   "source": [
    "results_clasp_original_hasc = clasp_segmentation(hasc, False)"
   ]
  },
  {
   "cell_type": "code",
   "execution_count": null,
   "id": "c2e54fd9-4dba-4494-b14b-141702bab9f2",
   "metadata": {},
   "outputs": [],
   "source": [
    "#append original to downsampled\n",
    "results_clasp_df_hasc = pd.DataFrame(results_clasp_hasc, columns=columns_clasp)\n",
    "results_clasp_df_hasc_orig = pd.DataFrame(results_clasp_original_hasc, columns=columns_clasp)\n",
    "\n",
    "results_clasp_df_hasc_complete = pd.concat([results_clasp_df_hasc,results_clasp_df_hasc_orig]).reset_index(drop=True)\n",
    "\n",
    "results_clasp_df_hasc_complete.to_pickle(\"results/zwischenergebnisse/1a_clasp_splitting_hasc.pkl\")\n",
    "results_clasp_df_hasc_complete"
   ]
  },
  {
   "cell_type": "markdown",
   "id": "010c0dc0-605a-4a3e-a8c9-211d76271a53",
   "metadata": {
    "jp-MarkdownHeadingCollapsed": true
   },
   "source": [
    "# Analysis"
   ]
  },
  {
   "cell_type": "markdown",
   "id": "40e7c0b6-4d1c-42ae-ab23-644f5e2b20c2",
   "metadata": {
    "jp-MarkdownHeadingCollapsed": true
   },
   "source": [
    "## Functions"
   ]
  },
  {
   "cell_type": "code",
   "execution_count": null,
   "id": "45573c07-d8ce-4d86-bb6e-5ef1e39b4f7a",
   "metadata": {},
   "outputs": [],
   "source": [
    "def group_df(df, column):\n",
    "    df.groupby([column]).mean()\n",
    "    return df.groupby([column]).mean(), df.groupby([column]).median()"
   ]
  },
  {
   "cell_type": "code",
   "execution_count": null,
   "id": "b5d1da9f-62a1-41ca-bf18-a7faf5195dd0",
   "metadata": {},
   "outputs": [],
   "source": [
    "def plot_clasp_per_compression(df, title, y_title_pre, filepath=None):\n",
    "    fig = go.Figure()\n",
    "    fig = make_subplots(specs=[[{\"secondary_y\": True}]])\n",
    "    \n",
    "    fig.add_trace(go.Scatter(x=df.index.values, y=df.score,\n",
    "                        mode='lines',\n",
    "                        line=dict(color='black', width=2),\n",
    "                        name='Score'),\n",
    "                 secondary_y=False\n",
    "                 )\n",
    "    \n",
    "    fig.add_trace(go.Scatter(x=df.index.values, y=df.runtime,\n",
    "                        mode='lines',\n",
    "                        line=dict(color='grey', width=2, dash='dot'),\n",
    "                        name='Runtime'),\n",
    "                 secondary_y=True\n",
    "                 )\n",
    "    \n",
    "    fig.add_vline(x=df['score'].idxmax(), line_width=1, line_color=\"black\", annotation_text=\"Top Score\", annotation_position=\"top\")\n",
    "    fig.add_vline(x=df['score'].nlargest(2).index[-1], line_width=1, line_color=\"black\", annotation_text=\"2nd Top Score\", annotation_position=\"top\")\n",
    "    fig.add_vline(x=df['score'].nlargest(3).index[-1], line_width=1, line_color=\"black\", annotation_text=\"3rd Top Score\", annotation_position=\"top\")\n",
    "\n",
    "    fig.update_yaxes(title_text= y_title_pre + \" Covering Score\", secondary_y=False)\n",
    "    fig.update_yaxes(title_text= y_title_pre + \" Runtime in Seconds\", secondary_y=True)\n",
    "\n",
    "    fig.update_xaxes(title_text=\"Compression Ratio\")\n",
    "    \n",
    "    fig.update_layout(height=300, \n",
    "                      font=dict(\n",
    "                          family=\"Arial\",\n",
    "                          size=12,\n",
    "                          color=\"black\"\n",
    "                      ),\n",
    "                      title=dict(\n",
    "                          text=title\n",
    "                      ),\n",
    "                      margin=dict(l=0, r=0, t=30, b=0),\n",
    "                      legend=dict(\n",
    "                          yanchor=\"top\",\n",
    "                          y=0.99,\n",
    "                          xanchor=\"left\", \n",
    "                          x=0.01\n",
    "                      )\n",
    "                     )\n",
    "\n",
    "    if filepath:\n",
    "        fig.write_image(filepath, scale=1, width=1000, height=300)\n",
    "        \n",
    "    fig.show()"
   ]
  },
  {
   "cell_type": "code",
   "execution_count": null,
   "id": "689f8832-de57-4631-b165-2ba333e68c28",
   "metadata": {},
   "outputs": [],
   "source": [
    "def critical_distance(df, title=None, filepath=None):\n",
    "    avg_rank = df.groupby('orig_TS_ID').score.rank(pct=True).groupby(df.Algorithm).mean()\n",
    "    p_vals = sp.posthoc_nemenyi_friedman(\n",
    "        df,\n",
    "        melted=True,\n",
    "        block_col='orig_TS_ID',\n",
    "        group_col='Algorithm',\n",
    "        y_col='score',\n",
    "    )\n",
    "\n",
    "    fig = plt.figure(figsize=(10, 2), dpi=100)\n",
    "    plt.rcParams[\"font.family\"] = \"Arial\"\n",
    "    plt.rcParams[\"font.size\"] = \"12\"\n",
    "    font = {'family':'arial','color':'black','size':12}\n",
    "    plt.title(title, loc = 'left', fontdict=font, y=1.2)\n",
    "    \n",
    "    sp.critical_difference_diagram(avg_rank, p_vals,\n",
    "                               label_props={'color': 'black'},\n",
    "                               elbow_props={'color': 'gray'}                              \n",
    "                              )\n",
    "    \n",
    "    if filepath:\n",
    "         fig.savefig(filepath, scale=1, bbox_inches='tight')\n",
    "\n",
    "    plt.show()"
   ]
  },
  {
   "cell_type": "markdown",
   "id": "5878ab1e-2fff-4cc2-819d-00b62a2e7877",
   "metadata": {},
   "source": [
    "## TSSB"
   ]
  },
  {
   "cell_type": "code",
   "execution_count": null,
   "id": "6959b498-e775-4f9a-99b5-2663a3f43ffa",
   "metadata": {},
   "outputs": [],
   "source": [
    "grouped_tssb_mean, grouped_tssb_median = group_df(results_clasp_df_tssb_complete, 'compression')"
   ]
  },
  {
   "cell_type": "code",
   "execution_count": null,
   "id": "6288785f-1174-48d8-aa7e-a91202fe07ca",
   "metadata": {},
   "outputs": [],
   "source": [
    "plot_clasp_per_compression(grouped_tssb_mean, title='(a) TSSB', y_title_pre='Mean', filepath=\"results/figures/mean_scores_runtimes_per_CR_TSSB.svg\")"
   ]
  },
  {
   "cell_type": "code",
   "execution_count": null,
   "id": "aed3b3b5-7e54-4b92-87ea-786285fca137",
   "metadata": {},
   "outputs": [],
   "source": [
    "plot_clasp_per_compression(grouped_tssb_median, title='', y_title_pre='Median', filepath=\"results/figures/median_scores_runtimes_per_CR_TSSB.svg\")"
   ]
  },
  {
   "cell_type": "code",
   "execution_count": null,
   "id": "ae2a2ed8-a6c9-4c01-bb83-efc41c7993b4",
   "metadata": {},
   "outputs": [],
   "source": [
    "crit_dist = pd.concat([results_clasp_df_tssb_complete[results_clasp_df_tssb_complete.compression==0.5],\n",
    "                       results_clasp_df_tssb_complete[results_clasp_df_tssb_complete.Algorithm=='None']]).reset_index(drop=True)\n",
    "pt.critical_distance(crit_dist, title='(a) TSSB', filepath='results/figures/critical_distance_splitting_orig_scores_TSSB.svg')"
   ]
  },
  {
   "cell_type": "markdown",
   "id": "b9365c4e-2350-47ec-ae3e-ddfc19e6db99",
   "metadata": {},
   "source": [
    "## HASC"
   ]
  },
  {
   "cell_type": "code",
   "execution_count": null,
   "id": "355fa593-d319-4d09-a645-efaf21749b72",
   "metadata": {},
   "outputs": [],
   "source": [
    "grouped_hasc_mean,grouped_hasc_median = group_df(results_clasp_df_hasc_complete, 'compression')"
   ]
  },
  {
   "cell_type": "code",
   "execution_count": null,
   "id": "b9953b6a-4473-4f66-a4e1-281aed91536b",
   "metadata": {},
   "outputs": [],
   "source": [
    "plot_clasp_per_compression(grouped_hasc_mean, title='(b) HASC', y_title_pre='Mean', filepath=\"results/figures/mean_scores_runtimes_per_CR_HASC.svg\")"
   ]
  },
  {
   "cell_type": "code",
   "execution_count": null,
   "id": "0f77e8e9-4379-4156-bf5b-21b3762a6a4b",
   "metadata": {},
   "outputs": [],
   "source": [
    "plot_clasp_per_compression(grouped_hasc_median, title='', y_title_pre='Median', filepath=\"results/figures/median_scores_runtimes_per_CR_HASC.svg\")"
   ]
  },
  {
   "cell_type": "code",
   "execution_count": null,
   "id": "c52635fb-a15e-4816-a953-590a5adadc54",
   "metadata": {},
   "outputs": [],
   "source": [
    "crit_dist = pd.concat([results_clasp_df_hasc_complete[results_clasp_df_hasc_complete.compression==0.5],\n",
    "                       results_clasp_df_hasc_complete[results_clasp_df_hasc_complete.Algorithm=='None']]).reset_index(drop=True)\n",
    "pt.critical_distance(crit_dist, title='(b) HASC', filepath='results/figures/critical_distance_splitting_orig_scores_HASC.svg')"
   ]
  },
  {
   "cell_type": "markdown",
   "id": "00489bc1-c699-4c40-9f3a-38a2f9d9a355",
   "metadata": {},
   "source": [
    "# Runtime"
   ]
  },
  {
   "cell_type": "code",
   "execution_count": null,
   "id": "f3083aa3-412e-4dad-9e99-5ba1e1b50b8a",
   "metadata": {},
   "outputs": [],
   "source": [
    "results_clasp_df_tssb_complete\n",
    "results_clasp_df_hasc_complete"
   ]
  },
  {
   "cell_type": "markdown",
   "id": "5f2c6198-1092-448e-b8d6-540d9d843053",
   "metadata": {
    "jp-MarkdownHeadingCollapsed": true
   },
   "source": [
    "## Functions"
   ]
  },
  {
   "cell_type": "code",
   "execution_count": null,
   "id": "b46a89d1-ba63-4787-92cf-f090ae8c011e",
   "metadata": {},
   "outputs": [],
   "source": [
    "def add_num_found_cps(row):\n",
    "    return len(row.predicted_cps)"
   ]
  },
  {
   "cell_type": "code",
   "execution_count": null,
   "id": "e66c4d0e-ce2c-4585-9fb2-fd617e2e8dca",
   "metadata": {},
   "outputs": [],
   "source": [
    "def add_num_true_cps(row):\n",
    "    return len(row.True_CPS)"
   ]
  },
  {
   "cell_type": "code",
   "execution_count": null,
   "id": "9dd586f7-3ee9-4080-8635-0b498fefcdd2",
   "metadata": {},
   "outputs": [],
   "source": [
    "def add_num_cp_diffs(row):\n",
    "    return row.num_pred_cps-row.num_true_cps"
   ]
  },
  {
   "cell_type": "code",
   "execution_count": null,
   "id": "33c9b276-4794-4870-87ea-fc89dc1776b8",
   "metadata": {},
   "outputs": [],
   "source": [
    "def cp_differences_comparison_matrix(df, save_path=None):\n",
    "    mean = df.groupby(by=['compression']).mean().rename(columns={'num_pred_cps': 'mean'})\n",
    "    median = df.groupby(by=['compression']).median().rename(columns={'num_pred_cps': 'median'})\n",
    "    std = df.groupby(by=['compression']).std().rename(columns={'num_pred_cps': 'std'})\n",
    "    \n",
    "    out = mean.merge(median, left_on='compression', right_on='compression')\n",
    "    out = out.merge(std, left_on='compression', right_on='compression')\n",
    "    out = out.transpose()\n",
    "    if save_path:\n",
    "        out.to_excel(save_path)\n",
    "    return out"
   ]
  },
  {
   "cell_type": "code",
   "execution_count": null,
   "id": "a19ed3c4-81fc-4b27-abeb-8ae474aaf892",
   "metadata": {},
   "outputs": [],
   "source": [
    "def plot_numCPS_diffs(df_tssb, df_hasc, filepath=None):\n",
    "\n",
    "    fig = go.Figure(\n",
    "        layout=dict(\n",
    "            xaxis=dict(categoryorder=\"category descending\"),\n",
    "            scattermode=\"group\"\n",
    "            )\n",
    "        )\n",
    "\n",
    "    fig.add_trace(go.Bar(name='TSSB', \n",
    "                         x=df_tssb.columns.values, y=df_tssb.loc['mean'].values, \n",
    "                         error_y=dict(type='data', array=df_tssb.loc['std'].values)\n",
    "                        )\n",
    "                 )\n",
    "    \n",
    "    fig.add_trace(go.Bar(name='HASC', \n",
    "                         x=df_hasc.columns.values, y=df_hasc.loc['mean'].values, \n",
    "                         error_y=dict(type='data', array=df_hasc.loc['std'].values)\n",
    "                        )\n",
    "                 )\n",
    "    \n",
    "    fig.update_yaxes(title_text=\"Amount of predicted change points\")\n",
    "    fig.update_xaxes(title_text=\"Compression Ratio\")\n",
    "\n",
    "    fig.update_layout(height=400, \n",
    "                      font=dict(\n",
    "                          family=\"Arial\",\n",
    "                          size=12,\n",
    "                          color=\"black\"\n",
    "                      ),\n",
    "                      legend=dict(\n",
    "                          yanchor=\"top\",\n",
    "                          y=0.99,\n",
    "                          xanchor=\"left\", \n",
    "                          x=0.01\n",
    "                      ),\n",
    "                      xaxis = dict(\n",
    "                        tickmode = 'array',\n",
    "                        tickvals = df_tssb.columns.values\n",
    "                    )\n",
    "                     )\n",
    "    \n",
    "    if filepath:\n",
    "        fig.write_image(filepath, scale=1, width=1000, height=400)\n",
    "        \n",
    "    fig.show()"
   ]
  },
  {
   "cell_type": "markdown",
   "id": "b0cb0f5d-4abd-4dde-981e-a270dcff7651",
   "metadata": {},
   "source": [
    "## TSSB"
   ]
  },
  {
   "cell_type": "code",
   "execution_count": null,
   "id": "1b846e1d-6b58-43c9-850f-205cd44096f3",
   "metadata": {},
   "outputs": [],
   "source": [
    "results_clasp_df_tssb_complete['num_pred_cps'] = results_clasp_df_tssb_complete.apply(add_num_found_cps,axis=1)\n",
    "results_clasp_df_tssb_complete['num_true_cps'] = results_clasp_df_tssb_complete.apply(add_num_true_cps,axis=1)\n",
    "results_clasp_df_tssb_complete['diff_pred_true'] = results_clasp_df_tssb_complete.apply(add_num_cp_diffs,axis=1)"
   ]
  },
  {
   "cell_type": "code",
   "execution_count": null,
   "id": "35428e46-4838-425a-a466-6b1f0fa99af2",
   "metadata": {},
   "outputs": [],
   "source": [
    "cps_tssb=cp_differences_comparison_matrix(results_clasp_df_tssb_complete[['compression','num_pred_cps']], \n",
    "                                          save_path='results/tables/NumCPS_per_compression_tssb.xlsx')\n",
    "cps_tssb"
   ]
  },
  {
   "cell_type": "markdown",
   "id": "22d46012-ff5d-4ca9-9d09-a7e003c103ce",
   "metadata": {},
   "source": [
    "## HASC"
   ]
  },
  {
   "cell_type": "code",
   "execution_count": null,
   "id": "b56addff-4cc7-4288-be4b-ca9a02c421a0",
   "metadata": {},
   "outputs": [],
   "source": [
    "results_clasp_df_hasc_complete['num_pred_cps'] = results_clasp_df_hasc_complete.apply(add_num_found_cps,axis=1)\n",
    "results_clasp_df_hasc_complete['num_true_cps'] = results_clasp_df_hasc_complete.apply(add_num_true_cps,axis=1)\n",
    "results_clasp_df_hasc_complete['diff_pred_true'] = results_clasp_df_hasc_complete.apply(add_num_cp_diffs,axis=1)"
   ]
  },
  {
   "cell_type": "code",
   "execution_count": null,
   "id": "92878c45-1cc5-4db8-8fda-cf72687aa2b6",
   "metadata": {},
   "outputs": [],
   "source": [
    "cps_hasc=cp_differences_comparison_matrix(results_clasp_df_hasc_complete[['compression','num_pred_cps']], \n",
    "                                          save_path='results/tables/NumCPS_per_compression_hasc.xlsx')\n",
    "cps_hasc"
   ]
  },
  {
   "cell_type": "markdown",
   "id": "d9f667e1-4454-47f7-b49b-ce5d083aa8fe",
   "metadata": {},
   "source": [
    "## Merged Results"
   ]
  },
  {
   "cell_type": "code",
   "execution_count": null,
   "id": "83b213ea-7d35-4b82-97be-e999e822a35c",
   "metadata": {},
   "outputs": [],
   "source": [
    "plot_numCPS_diffs(cps_tssb, cps_hasc, filepath='results/figures/Numpredicted_cps_perCR.svg')"
   ]
  }
 ],
 "metadata": {
  "kernelspec": {
   "display_name": "Python 3 (ipykernel)",
   "language": "python",
   "name": "python3"
  },
  "language_info": {
   "codemirror_mode": {
    "name": "ipython",
    "version": 3
   },
   "file_extension": ".py",
   "mimetype": "text/x-python",
   "name": "python",
   "nbconvert_exporter": "python",
   "pygments_lexer": "ipython3",
   "version": "3.11.5"
  }
 },
 "nbformat": 4,
 "nbformat_minor": 5
}
