{
 "cells": [
  {
   "cell_type": "code",
   "execution_count": 1,
   "id": "9ecf8033-6604-4e6f-8dd6-590735f79f18",
   "metadata": {},
   "outputs": [],
   "source": [
    "#import standard libs\n",
    "import numpy as np\n",
    "import pandas as pd\n",
    "import time\n",
    "import numpy.fft as fft\n",
    "import importlib\n",
    "from tqdm import tqdm\n",
    "import plotly.graph_objects as go\n",
    "import plotly.io as pio\n",
    "pio.renderers.default = \"plotly_mimetype\""
   ]
  },
  {
   "cell_type": "code",
   "execution_count": 2,
   "id": "94f6fe29-c2fb-4cda-93c7-a58926140844",
   "metadata": {},
   "outputs": [],
   "source": [
    "#custom function files\n",
    "import parameter_utils as pu\n",
    "import mt_utils as ut"
   ]
  },
  {
   "cell_type": "code",
   "execution_count": 3,
   "id": "f6ec0b35-8f04-4b5d-b229-833b27ba0884",
   "metadata": {},
   "outputs": [
    {
     "data": {
      "text/plain": [
       "<module 'mt_utils' from 'E:\\\\Melli\\\\HU\\\\Masterarbeit Save\\\\Implementation\\\\mt_utils.py'>"
      ]
     },
     "execution_count": 3,
     "metadata": {},
     "output_type": "execute_result"
    }
   ],
   "source": [
    "importlib.reload(ut)"
   ]
  },
  {
   "cell_type": "code",
   "execution_count": 4,
   "id": "6d98519f-2d99-45f5-9c7e-30a4d652e525",
   "metadata": {},
   "outputs": [
    {
     "data": {
      "text/plain": [
       "<module 'parameter_utils' from 'E:\\\\Melli\\\\HU\\\\Masterarbeit Save\\\\Implementation\\\\parameter_utils.py'>"
      ]
     },
     "execution_count": 4,
     "metadata": {},
     "output_type": "execute_result"
    }
   ],
   "source": [
    "importlib.reload(pu)"
   ]
  },
  {
   "cell_type": "code",
   "execution_count": 5,
   "id": "de67d584-c191-4c25-8d3b-cfc6a5c6a61a",
   "metadata": {},
   "outputs": [],
   "source": [
    "#import claspy\n",
    "from claspy.data_loader import load_tssb_dataset\n",
    "from claspy.data_loader import load_has_dataset\n",
    "from claspy.segmentation import BinaryClaSPSegmentation\n",
    "from claspy.tests.evaluation import covering"
   ]
  },
  {
   "cell_type": "code",
   "execution_count": 6,
   "id": "4eef6fdc-f555-4e81-93a3-ffc67ed11cae",
   "metadata": {},
   "outputs": [],
   "source": [
    "tssb = load_tssb_dataset()\n",
    "hasc = load_has_dataset()"
   ]
  },
  {
   "cell_type": "code",
   "execution_count": 7,
   "id": "b9303315-c1ca-4a25-a3c6-f4a3cc17b5ff",
   "metadata": {},
   "outputs": [],
   "source": [
    "# load prepared results\n",
    "tssb_res = pd.read_pickle('results/zwischenergebnisse/clasp_on_downsampled_TS_TSSB_origW.pkl')\n",
    "tssb_ds = pd.read_pickle('results/zwischenergebnisse/all_downsampled_TSSB.pkl')\n",
    "\n",
    "hasc_res = pd.read_pickle('results/zwischenergebnisse/clasp_on_downsampled_TS_HASC_origW.pkl')\n",
    "hasc_ds = pd.read_pickle('results/zwischenergebnisse/all_downsampled_HASC.pkl')"
   ]
  },
  {
   "cell_type": "code",
   "execution_count": 8,
   "id": "92cb077d-ba5e-49ed-9c05-423036769984",
   "metadata": {},
   "outputs": [],
   "source": [
    "#test compression = 0.5, obtained from 1_splitting\n",
    "cr = 0.5\n",
    "tssb_res_filtered = tssb_res[tssb_res['compression']==cr]\n",
    "hasc_res_filtered = hasc_res[hasc_res['compression']==cr]\n",
    "\n",
    "columns = ['upscaled_cps_lin', 'upscaled_cps_idx', 'score_lin', 'score_idx']"
   ]
  },
  {
   "cell_type": "markdown",
   "id": "036be3b9-f55a-4ee3-8cdc-d3b5d268556f",
   "metadata": {},
   "source": [
    "# Functions and Variables"
   ]
  },
  {
   "cell_type": "markdown",
   "id": "ec39f42a-d21e-4c85-9c8d-b902865a31c6",
   "metadata": {},
   "source": [
    "## Bucket Getters"
   ]
  },
  {
   "cell_type": "code",
   "execution_count": 9,
   "id": "f5c18055-7c8d-45ff-a596-44f80de8b7f3",
   "metadata": {},
   "outputs": [],
   "source": [
    "def get_bucket_indizes(cp_list,ds_algo,cf,ts,downscaled):\n",
    "    indizes = []\n",
    "    for cp in cp_list:\n",
    "        indizes.append(define_bucket(cp, ds_algo, cf, ts, downscaled)[0])\n",
    "    return indizes"
   ]
  },
  {
   "cell_type": "code",
   "execution_count": 10,
   "id": "f37b1689-57cc-4059-ab6a-ecff2f8ac545",
   "metadata": {},
   "outputs": [],
   "source": [
    "def get_largest_index_difference(indexlist1, indexlist2): \n",
    "    l1_sorted = sorted(indexlist1)\n",
    "    l2_sorted = sorted(indexlist2)\n",
    "    max_difference = 0\n",
    "    while l1_sorted and l2_sorted:\n",
    "        min_distance = float('inf')\n",
    "        best_pair = None\n",
    "        \n",
    "        for elem_l1 in l1_sorted:\n",
    "            for elem_l2 in l2_sorted:\n",
    "                distance = abs(elem_l1 - elem_l2)\n",
    "                if distance < min_distance:\n",
    "                    min_distance = distance\n",
    "                    best_pair = (elem_l1, elem_l2)\n",
    "        \n",
    "        difference = best_pair[0] - best_pair[1]\n",
    "        \n",
    "        if max_difference is None or abs(difference) > abs(max_difference):\n",
    "            max_difference = difference\n",
    "        \n",
    "        l1_sorted.remove(best_pair[0])\n",
    "        l2_sorted.remove(best_pair[1])\n",
    "        \n",
    "    return int(max_difference)"
   ]
  },
  {
   "cell_type": "code",
   "execution_count": 11,
   "id": "81007a45-e462-4532-977f-3aff29ab6786",
   "metadata": {},
   "outputs": [],
   "source": [
    "def add_bucket_index_differences(dataset,original):\n",
    "    df = dataset.copy()\n",
    "    df['max_index_diff']=None\n",
    "    for index, row in tqdm(df.iterrows(), total=len(df), desc=\"Processing rows\"):\n",
    "        indizes_ds = get_bucket_indizes(row.ds_predictions,row.algo,row.compression,original.iloc[row.orig_TS_ID].time_series,True)\n",
    "        indizes_orig = get_bucket_indizes(row.true_cps,row.algo,row.compression,original.iloc[row.orig_TS_ID].time_series,False)\n",
    "        max_diff = get_largest_index_difference(indizes_ds,indizes_orig)\n",
    "        df.at[index,'max_index_diff']=int(max_diff)\n",
    "    return df.astype({'max_index_diff': 'int32'})"
   ]
  },
  {
   "cell_type": "code",
   "execution_count": 12,
   "id": "44c6011a-f24e-458a-a6a0-10c1ef5f273c",
   "metadata": {},
   "outputs": [],
   "source": [
    "def define_bucket(cp,ds_algo,cf,ts,downscaled,bucket_range=0):\n",
    "    #all ts in multivariate have same length, so this can simply be done using any ts in the set\n",
    "    # B = bucket size\n",
    "    n = ts.shape[0]\n",
    "    match ds_algo:\n",
    "        case 'MinMax':\n",
    "            B = 2/cf\n",
    "            P = 2\n",
    "        case 'M4':\n",
    "            B = 4/cf\n",
    "            P = 4\n",
    "        case 'MinMaxLTTB':\n",
    "            B = int((n-2)/((cf*n)-2))\n",
    "            P = 1\n",
    "        case 'LTTB':\n",
    "            B = int((n-2)/((cf*n)-2))\n",
    "            P = 1\n",
    "        case 'LTD':\n",
    "            #bucket size is dynamic but mean must be the same as lttb bucket size\n",
    "            B = int((n-2)/((cf*n)-2))\n",
    "            P = 1\n",
    "        case 'EveryNth':\n",
    "            B = 1/cf\n",
    "            P = 1\n",
    "    if downscaled:\n",
    "        bucket_index = np.ceil(cp/P)\n",
    "    else:\n",
    "        bucket_index = np.ceil(cp/B)\n",
    "        \n",
    "    lbucket=bucket_index-bucket_range\n",
    "    ubucket=bucket_index+bucket_range\n",
    "    index_range = [int((lbucket-1)*B), int(ubucket*B)]\n",
    "    \n",
    "    # check lrange or rrange is out of bounds\n",
    "    if index_range[1] > ts.shape[0]:\n",
    "        index_range[1]=ts.shape[0]-1\n",
    "    if index_range[0]<0:\n",
    "        index_range[0]=0\n",
    "    # can happen with upper bound restriction\n",
    "    if index_range[0]>index_range[1]:\n",
    "        index_range[0]=int(index_range[1]-(bucket_range*B))\n",
    "        \n",
    "    return int(bucket_index), index_range"
   ]
  },
  {
   "cell_type": "markdown",
   "id": "b1205d75-8c39-4551-831f-234f73b46b5f",
   "metadata": {},
   "source": [
    "## Level Scaling"
   ]
  },
  {
   "cell_type": "code",
   "execution_count": 13,
   "id": "60b026ec-e504-4e4a-8f00-792d3c34114f",
   "metadata": {},
   "outputs": [],
   "source": [
    "def upscale_cps_linear(ds_cps, cf):\n",
    "    return (ds_cps*(1/cf)).astype(int)"
   ]
  },
  {
   "cell_type": "code",
   "execution_count": 14,
   "id": "abdfb31f-4043-4b8d-8113-9314d7bb9c18",
   "metadata": {},
   "outputs": [],
   "source": [
    "def upscale_cps_index(ds_cps,index_lists):\n",
    "    if index_lists.ndim==1:\n",
    "        out = index_lists[ds_cps]\n",
    "    else:\n",
    "        # use first three channels as hasc winners\n",
    "        channels = index_lists[:,:3]\n",
    "        cps = []\n",
    "        for i in range(channels.shape[1]):\n",
    "            channel = channels[:,i]\n",
    "            cps = np.union1d(cps, channel[ds_cps])\n",
    "        out = ut.prune_cps(cps)\n",
    "    return out"
   ]
  },
  {
   "cell_type": "code",
   "execution_count": 15,
   "id": "98329ad0-9f12-4484-a638-4651652f122e",
   "metadata": {},
   "outputs": [],
   "source": [
    "def upscale_change_points_all(dataset, downsampled, original):\n",
    "    upscaling_scores = []\n",
    "\n",
    "    for index, row in tqdm(dataset.iterrows(), total=len(dataset), desc=\"Processing rows\"):\n",
    "        orig = original.iloc[row.orig_TS_ID]\n",
    "\n",
    "        if len(row.ds_predictions)==0:\n",
    "            u_cps_lin = []\n",
    "            u_cps_idx = []\n",
    "        else:\n",
    "            u_cps_lin = upscale_cps_linear(row.ds_predictions, row.compression)\n",
    "            index_lists = downsampled[(downsampled.Orig_TS_ID==row.orig_TS_ID) & (downsampled.DS_Algo==row.algo) & (downsampled.CF==row.compression)].DS_TS_index.values[0]\n",
    "            u_cps_idx = upscale_cps_index(row.ds_predictions, index_lists)\n",
    "    \n",
    "        score_lin = covering({0: orig.cps}, u_cps_lin, orig.time_series.shape[0])\n",
    "        score_idx = covering({0: orig.cps}, u_cps_idx, orig.time_series.shape[0])\n",
    "\n",
    "        upscaling_scores.append((u_cps_lin, u_cps_idx, score_lin, score_idx))\n",
    "        \n",
    "    return upscaling_scores"
   ]
  },
  {
   "cell_type": "code",
   "execution_count": 16,
   "id": "09294c18-87d5-46e9-9632-9c0d1133ee4b",
   "metadata": {},
   "outputs": [],
   "source": [
    "def score_comparison_matrix_levelScaling(df):\n",
    "    mean_lin = np.mean(df['score_lin'])\n",
    "    median_lin = np.median(df['score_lin'])\n",
    "    std_lin = np.std(df['score_lin'])\n",
    "    \n",
    "    mean_idx = np.mean(df['score_idx'])\n",
    "    median_idx = np.median(df['score_idx'])\n",
    "    std_idx = np.std(df['score_idx'])\n",
    "    \n",
    "    lin_idx_agg = pd.DataFrame([[mean_lin, mean_idx], [median_lin, median_idx], [std_lin, std_idx]], \n",
    "                               columns=['Linear upscaling','Index upscaling'], \n",
    "                               index=['mean','median','std']\n",
    "                              )\n",
    "    lin_idx_agg['Diff'] = lin_idx_agg['Linear upscaling'] - lin_idx_agg['Index upscaling']\n",
    "    return lin_idx_agg"
   ]
  },
  {
   "cell_type": "markdown",
   "id": "c469f4b0-8a23-4fba-add7-a3a4585442bb",
   "metadata": {},
   "source": [
    "## Fine Tuning"
   ]
  },
  {
   "cell_type": "code",
   "execution_count": 17,
   "id": "2152d695-4907-4ecd-81cd-fc6b08aa0024",
   "metadata": {},
   "outputs": [],
   "source": [
    "def window_features(ts,dcps,ds_algo,cf,w_size,bucket_range):\n",
    "    #get index interval for each cp (bucket)\n",
    "    global_w = w_size\n",
    "    ucps = []\n",
    "    for cp in dcps:\n",
    "        bucket_index, bucket = define_bucket(cp,ds_algo,cf,ts,True,bucket_range=bucket_range)\n",
    "        bucket[0] = max(bucket[0], w_size)          # Ensure enough room for a window before\n",
    "        bucket[1] = min(bucket[1], len(ts) - w_size - 1)  # Ensure enough room for a window after\n",
    "        bucket_size = bucket[1]-bucket[0]\n",
    "        segment = np.arange(bucket[0],bucket[1]+1)\n",
    "        max_dist = -np.inf\n",
    "        i_max = None\n",
    "\n",
    "        for i in segment:\n",
    "            #for each point (index) calculate clasp similarity of w before p and after p\n",
    "            #highest dissimilarity is the cp\n",
    "            #define windows before and after index\n",
    "            \n",
    "            w_before = ts[i - w_size:i]\n",
    "            w_after = ts[i:i + w_size]           \n",
    "            \n",
    "            dist = ut.z_ED_fft(w_before,w_after)\n",
    "                \n",
    "            if dist > max_dist:\n",
    "                max_dist = dist\n",
    "                i_max = i\n",
    "        \n",
    "        ucps.append(i_max)    \n",
    "    return ucps"
   ]
  },
  {
   "cell_type": "code",
   "execution_count": 18,
   "id": "7ba70e53-369a-4a2d-83f9-c5cdf7e81ee3",
   "metadata": {},
   "outputs": [],
   "source": [
    "def local_clasp(ts,dcps,ds_algo,cf,bucket_range):\n",
    "    ucps = []\n",
    "    for cp in dcps:\n",
    "        bucket_index, segment = define_bucket(cp,ds_algo,cf,ts,True,bucket_range=bucket_range)\n",
    "        ts_segment = ts[segment[0]:segment[1]]\n",
    "        curr_ucps = BinaryClaSPSegmentation().fit_predict(ts_segment)\n",
    "        if len(curr_ucps)==0:\n",
    "            ucps = np.union1d(ucps,[cp])\n",
    "        else:\n",
    "            ucps = np.union1d(ucps,curr_ucps)\n",
    "    ucps = ut.prune_cps(ucps)\n",
    "    return [int(cp) for cp in ucps]"
   ]
  },
  {
   "cell_type": "code",
   "execution_count": 19,
   "id": "8953569f-9fd3-47f3-9a92-8e728b67f292",
   "metadata": {},
   "outputs": [],
   "source": [
    "methods = ['maximum_diff', 'gradient', 'moving_avg', 'window_features', 'local_clasp']\n",
    "def fine_tune_ucps(method, ts, data_row):\n",
    "    ucps = data_row.upscaled_cps_lin\n",
    "    ft_cps = []\n",
    "    output = []\n",
    "    if ts.ndim == 1:\n",
    "        ts_arr = np.array([ts])\n",
    "    else:\n",
    "        ts_arr = np.transpose(ts)\n",
    "    runtime = time.process_time()\n",
    "    for ts in ts_arr:\n",
    "        if method == 'window_features':\n",
    "            w = pu.get_window_size_multivariate(ts) \n",
    "            output = window_features(ts,data_row.ds_predictions,data_row.algo,data_row.compression,w,abs(data_row.max_index_diff))\n",
    "        elif method == 'local_clasp':\n",
    "            output = local_clasp(ts,data_row.ds_predictions,data_row.algo,data_row.compression,abs(data_row.max_index_diff))\n",
    "        else:       \n",
    "            for i, cp in enumerate(ucps):\n",
    "                bucket_index, window = define_bucket(data_row.ds_predictions[i], data_row.algo, data_row.compression, ts,False,abs(data_row.max_index_diff))\n",
    "                window_size = window[1]-window[0]\n",
    "        \n",
    "                cp_segment = ts[window[0]:window[1]]\n",
    "                if method == 'maximum_diff':\n",
    "                    base = np.abs(np.diff(cp_segment))\n",
    "                elif method == 'gradient':\n",
    "                    base = np.abs(np.gradient(cp_segment))\n",
    "                elif method == 'moving_avg':\n",
    "                    smooth_series = pd.Series(cp_segment).rolling(window=window_size).mean()\n",
    "                    base = np.abs(cp_segment - smooth_series)\n",
    "                        \n",
    "                best_cp = window[0] + np.argmax(base)\n",
    "                ft_cps.append(best_cp)\n",
    "            \n",
    "            output = np.union1d(output,ft_cps)\n",
    "\n",
    "    if ts.ndim > 1:\n",
    "        output = ut.prune_cps(output)\n",
    "    runtime = time.process_time()-runtime\n",
    "    return [int(cp) for cp in output], runtime"
   ]
  },
  {
   "cell_type": "code",
   "execution_count": 20,
   "id": "60b057bf-fa3c-437e-9eb2-1dd01f7debb2",
   "metadata": {},
   "outputs": [],
   "source": [
    "def upscale_cps_finetuned(data_ucps,data_orig,methods,quantils):\n",
    "    threshold = abs(min(quantils))\n",
    "    import warnings\n",
    "    warnings.simplefilter(\"ignore\")\n",
    "    fine_tuned_results = []\n",
    "    for index, row in tqdm(data_ucps.iterrows(), total=len(data_ucps), desc=\"Processing rows\"):\n",
    "        orig = data_orig.iloc[row.orig_TS_ID]\n",
    "        fine_tuned_results.append(('LinearScaling', row.score_lin, row.runtime))\n",
    "        for method in methods:\n",
    "            # only fine tune when individual bucket range exceeds threshold\n",
    "            if abs(row.max_index_diff)>threshold:\n",
    "                try:\n",
    "                    ft_cps, runtime = fine_tune_ucps(method,orig.time_series,row)\n",
    "                except:\n",
    "                    ft_cps, runtime = row.upscaled_cps_lin, row.runtime\n",
    "            else:\n",
    "                ft_cps, runtime = row.upscaled_cps_lin, row.runtime\n",
    "                \n",
    "            score = covering({0: orig.cps}, ft_cps, orig.time_series.shape[0])\n",
    "    \n",
    "            fine_tuned_results.append((method, score, runtime))\n",
    "    return fine_tuned_results"
   ]
  },
  {
   "cell_type": "code",
   "execution_count": 21,
   "id": "4e096303-8bad-466e-be44-5d48ab11c657",
   "metadata": {},
   "outputs": [],
   "source": [
    "def score_comparison_matrix_fineTuning(df):\n",
    "    mean = df.groupby(by=['method']).mean().rename(columns={'score_lin': 'mean'})\n",
    "    median = df.groupby(by=['method']).median().rename(columns={'score_lin': 'median'})\n",
    "    std = df.groupby(by=['method']).std().rename(columns={'score_lin': 'std'})\n",
    "    \n",
    "    out = mean.merge(median, left_on='method', right_on='method')\n",
    "    out = out.merge(std, left_on='method', right_on='method')\n",
    "    out = out.transpose()\n",
    "    return out[['LinearScaling','maximum_diff', 'gradient', 'moving_avg', 'window_features', 'local_clasp']]"
   ]
  },
  {
   "cell_type": "code",
   "execution_count": 22,
   "id": "a00497f1-41ba-4a13-84f1-421b60726017",
   "metadata": {},
   "outputs": [],
   "source": [
    "def add_upscaled_and_score(input_df, original, method):\n",
    "    df = input_df.copy()\n",
    "    df['ucps']=None\n",
    "    df['score']=None\n",
    "    for index, row in tqdm(df.iterrows(), total=len(df), desc=\"Processing rows\"):\n",
    "        orig_ts = original.iloc[row.orig_TS_ID].time_series\n",
    "        if method == 'linear':\n",
    "            if len(row.ds_predictions)>0:\n",
    "                ucps = upscale_cps_linear(row.ds_predictions,row.compression)\n",
    "            else: \n",
    "                ucps=[]\n",
    "        elif method == 'window_features':\n",
    "            if orig_ts.ndim == 1:\n",
    "                ts_arr = np.array([orig_ts])\n",
    "            else:\n",
    "                ts_arr = np.transpose(orig_ts)\n",
    "\n",
    "            for ts in ts_arr:\n",
    "                w = pu.get_window_size_multivariate(ts)\n",
    "                indizes_ds = get_bucket_indizes(row.ds_predictions,row.algo,row.compression,orig_ts,True)\n",
    "                indizes_orig = get_bucket_indizes(row.true_cps,row.algo,row.compression,orig_ts,False)\n",
    "                max_diff = get_largest_index_difference(indizes_ds,indizes_orig)\n",
    "                ucps = window_features(ts,row.ds_predictions,row.algo,row.compression,w,bucket_range)\n",
    "            \n",
    "            if orig_ts.ndim > 1:\n",
    "                ucps = ut.prune_cps(ucps)            \n",
    "            \n",
    "        score = covering({0: row.true_cps}, ucps, orig_ts.shape[0])\n",
    "        \n",
    "        df.at[index,'ucps']=ucps\n",
    "        df.at[index,'score']=score\n",
    "    return df"
   ]
  },
  {
   "cell_type": "markdown",
   "id": "823495eb-56d1-49b2-a892-43475e0b09c2",
   "metadata": {},
   "source": [
    "# Level Scaling"
   ]
  },
  {
   "cell_type": "markdown",
   "id": "585d07de-35fb-476c-97e2-0cbda8d85dc2",
   "metadata": {},
   "source": [
    "## TSSB"
   ]
  },
  {
   "cell_type": "code",
   "execution_count": null,
   "id": "540076de-6b2e-4aa4-9594-9ae7f63c9b57",
   "metadata": {},
   "outputs": [],
   "source": [
    "upscaled_cps_tssb = upscale_change_points_all(tssb_res_filtered, tssb_ds, tssb)"
   ]
  },
  {
   "cell_type": "code",
   "execution_count": null,
   "id": "e1e18767-127a-412a-b560-407de73af6c5",
   "metadata": {},
   "outputs": [],
   "source": [
    "upscaled_cps_tssb_df = pd.DataFrame(upscaled_cps_tssb, columns=columns)\n",
    "upscaled_cps_tssb_df = pd.concat([tssb_res_filtered.reset_index(drop=True),upscaled_cps_tssb_df], axis=1)\n",
    "upscaled_cps_tssb_df.to_pickle(\"results/zwischenergebnisse/2a_upscaled_cps_level_tssb.pkl\")\n",
    "upscaled_cps_tssb_df.head()"
   ]
  },
  {
   "cell_type": "code",
   "execution_count": 24,
   "id": "7fefd9cf-71b9-4307-b595-7f4bae657bcb",
   "metadata": {},
   "outputs": [
    {
     "data": {
      "text/html": [
       "<div>\n",
       "<style scoped>\n",
       "    .dataframe tbody tr th:only-of-type {\n",
       "        vertical-align: middle;\n",
       "    }\n",
       "\n",
       "    .dataframe tbody tr th {\n",
       "        vertical-align: top;\n",
       "    }\n",
       "\n",
       "    .dataframe thead th {\n",
       "        text-align: right;\n",
       "    }\n",
       "</style>\n",
       "<table border=\"1\" class=\"dataframe\">\n",
       "  <thead>\n",
       "    <tr style=\"text-align: right;\">\n",
       "      <th></th>\n",
       "      <th>Linear upscaling</th>\n",
       "      <th>Index upscaling</th>\n",
       "      <th>Diff</th>\n",
       "    </tr>\n",
       "  </thead>\n",
       "  <tbody>\n",
       "    <tr>\n",
       "      <th>mean</th>\n",
       "      <td>0.753692</td>\n",
       "      <td>0.753850</td>\n",
       "      <td>-0.000158</td>\n",
       "    </tr>\n",
       "    <tr>\n",
       "      <th>median</th>\n",
       "      <td>0.804925</td>\n",
       "      <td>0.805044</td>\n",
       "      <td>-0.000120</td>\n",
       "    </tr>\n",
       "    <tr>\n",
       "      <th>std</th>\n",
       "      <td>0.244188</td>\n",
       "      <td>0.244241</td>\n",
       "      <td>-0.000053</td>\n",
       "    </tr>\n",
       "  </tbody>\n",
       "</table>\n",
       "</div>"
      ],
      "text/plain": [
       "        Linear upscaling  Index upscaling      Diff\n",
       "mean            0.753692         0.753850 -0.000158\n",
       "median          0.804925         0.805044 -0.000120\n",
       "std             0.244188         0.244241 -0.000053"
      ]
     },
     "execution_count": 24,
     "metadata": {},
     "output_type": "execute_result"
    }
   ],
   "source": [
    "level_scaling_scores_tssb = score_comparison_matrix_levelScaling(upscaled_cps_tssb_df)\n",
    "level_scaling_scores_tssb.to_excel(\"results/tables/summary_statistics_linear_index_upscaling_TSSB.xlsx\")\n",
    "level_scaling_scores_tssb"
   ]
  },
  {
   "cell_type": "markdown",
   "id": "e81a677c-67e2-404b-8a95-67e7e9a0c6ab",
   "metadata": {},
   "source": [
    "## HASC"
   ]
  },
  {
   "cell_type": "code",
   "execution_count": null,
   "id": "f1dd470a-77e8-428e-a2f4-ad6f1ccce17e",
   "metadata": {},
   "outputs": [],
   "source": [
    "upscaled_cps_hasc = upscale_change_points_all(hasc_res_filtered, hasc_ds, hasc)"
   ]
  },
  {
   "cell_type": "code",
   "execution_count": null,
   "id": "035451d5-85c9-4908-bdeb-03d15d44e0ad",
   "metadata": {},
   "outputs": [],
   "source": [
    "upscaled_cps_hasc_df = pd.DataFrame(upscaled_cps_hasc, columns=columns)\n",
    "upscaled_cps_hasc_df = pd.concat([hasc_res_filtered.reset_index(drop=True),upscaled_cps_hasc_df], axis=1)\n",
    "upscaled_cps_hasc_df.to_pickle(\"results/zwischenergebnisse/2a_upscaled_cps_level_hasc.pkl\")\n",
    "upscaled_cps_hasc_df.head()"
   ]
  },
  {
   "cell_type": "code",
   "execution_count": 26,
   "id": "97541e1e-40d6-4452-a2be-85322db0a3dd",
   "metadata": {},
   "outputs": [
    {
     "data": {
      "text/html": [
       "<div>\n",
       "<style scoped>\n",
       "    .dataframe tbody tr th:only-of-type {\n",
       "        vertical-align: middle;\n",
       "    }\n",
       "\n",
       "    .dataframe tbody tr th {\n",
       "        vertical-align: top;\n",
       "    }\n",
       "\n",
       "    .dataframe thead th {\n",
       "        text-align: right;\n",
       "    }\n",
       "</style>\n",
       "<table border=\"1\" class=\"dataframe\">\n",
       "  <thead>\n",
       "    <tr style=\"text-align: right;\">\n",
       "      <th></th>\n",
       "      <th>Linear upscaling</th>\n",
       "      <th>Index upscaling</th>\n",
       "      <th>Diff</th>\n",
       "    </tr>\n",
       "  </thead>\n",
       "  <tbody>\n",
       "    <tr>\n",
       "      <th>mean</th>\n",
       "      <td>0.711923</td>\n",
       "      <td>0.712541</td>\n",
       "      <td>-0.000617</td>\n",
       "    </tr>\n",
       "    <tr>\n",
       "      <th>median</th>\n",
       "      <td>0.746093</td>\n",
       "      <td>0.744481</td>\n",
       "      <td>0.001612</td>\n",
       "    </tr>\n",
       "    <tr>\n",
       "      <th>std</th>\n",
       "      <td>0.234708</td>\n",
       "      <td>0.235130</td>\n",
       "      <td>-0.000422</td>\n",
       "    </tr>\n",
       "  </tbody>\n",
       "</table>\n",
       "</div>"
      ],
      "text/plain": [
       "        Linear upscaling  Index upscaling      Diff\n",
       "mean            0.711923         0.712541 -0.000617\n",
       "median          0.746093         0.744481  0.001612\n",
       "std             0.234708         0.235130 -0.000422"
      ]
     },
     "execution_count": 26,
     "metadata": {},
     "output_type": "execute_result"
    }
   ],
   "source": [
    "level_scaling_scores_hasc = score_comparison_matrix_levelScaling(upscaled_cps_hasc_df)\n",
    "level_scaling_scores_hasc.to_excel(\"results/tables/summary_statistics_linear_index_upscaling_HASC.xlsx\")\n",
    "level_scaling_scores_hasc"
   ]
  },
  {
   "cell_type": "markdown",
   "id": "2699fc2d-48ed-494a-9efb-072c97c4cdde",
   "metadata": {},
   "source": [
    "# Bucket Test"
   ]
  },
  {
   "cell_type": "markdown",
   "id": "bab2d8cc-448c-431c-95cc-75fcf8e972ae",
   "metadata": {},
   "source": [
    "## TSSB"
   ]
  },
  {
   "cell_type": "code",
   "execution_count": 27,
   "id": "edad2fdf-7b1a-450a-90d9-10a08f09d797",
   "metadata": {},
   "outputs": [
    {
     "name": "stderr",
     "output_type": "stream",
     "text": [
      "Processing rows: 100%|█████████████████████████████████████████████████████████████| 450/450 [00:00<00:00, 3626.64it/s]\n"
     ]
    }
   ],
   "source": [
    "upscaled_cps_tssb_df = add_bucket_index_differences(upscaled_cps_tssb_df,tssb)"
   ]
  },
  {
   "cell_type": "code",
   "execution_count": 28,
   "id": "2cba2cbd-3d14-4bd4-80fd-1801a88ec876",
   "metadata": {},
   "outputs": [
    {
     "name": "stdout",
     "output_type": "stream",
     "text": [
      "Der Interquartilsbereich (IQR) liegt zwischen -8 und 7\n"
     ]
    }
   ],
   "source": [
    "data=upscaled_cps_tssb_df.max_index_diff.values\n",
    "q1_tssb = int(np.percentile(data, 25))\n",
    "q3_tssb = int(np.percentile(data, 75))\n",
    "print(f\"Der Interquartilsbereich (IQR) liegt zwischen {q1_tssb} und {q3_tssb}\")"
   ]
  },
  {
   "cell_type": "code",
   "execution_count": 29,
   "id": "5a703d4c-f52b-4886-a697-706e3afb1b3e",
   "metadata": {},
   "outputs": [
    {
     "data": {
      "application/vnd.plotly.v1+json": {
       "config": {
        "plotlyServerURL": "https://plot.ly"
       },
       "data": [
        {
         "type": "histogram",
         "x": [
          -11,
          58,
          -2,
          58,
          -8,
          -18,
          2,
          -8,
          0,
          -8,
          -7,
          -8,
          -17,
          -45,
          0,
          -45,
          -59,
          -46,
          63,
          148,
          36,
          148,
          148,
          146,
          9,
          18,
          0,
          18,
          18,
          17,
          -14,
          0,
          0,
          0,
          -4,
          -7,
          5,
          5,
          -2,
          5,
          -8,
          -9,
          0,
          0,
          0,
          0,
          0,
          0,
          0,
          0,
          0,
          0,
          0,
          0,
          20,
          40,
          0,
          40,
          41,
          26,
          0,
          0,
          0,
          0,
          0,
          0,
          94,
          461,
          16,
          461,
          0,
          461,
          15,
          -37,
          0,
          -37,
          5,
          40,
          -3,
          -23,
          -1,
          -23,
          -17,
          -23,
          84,
          105,
          0,
          105,
          -64,
          21,
          0,
          116,
          -19,
          116,
          24,
          115,
          0,
          0,
          0,
          0,
          0,
          0,
          0,
          0,
          0,
          0,
          -27,
          0,
          7,
          -467,
          -20,
          -467,
          -2,
          -4,
          0,
          0,
          0,
          0,
          0,
          0,
          -5,
          -1,
          -4,
          -1,
          -7,
          -7,
          0,
          0,
          0,
          0,
          0,
          0,
          31,
          63,
          16,
          63,
          63,
          63,
          444,
          1611,
          221,
          1611,
          1133,
          1611,
          -59,
          -13,
          -7,
          -13,
          23,
          -13,
          -16,
          -31,
          52,
          -31,
          -31,
          -38,
          -11,
          10,
          -4,
          10,
          -45,
          7,
          -7,
          -13,
          -4,
          -13,
          15,
          -11,
          -11,
          -17,
          0,
          -17,
          -46,
          -23,
          -3,
          127,
          39,
          127,
          145,
          127,
          0,
          0,
          0,
          0,
          0,
          0,
          0,
          0,
          0,
          0,
          0,
          0,
          6,
          44,
          -9,
          44,
          -21,
          -39,
          0,
          -68,
          0,
          -68,
          0,
          0,
          -29,
          -55,
          0,
          -55,
          -57,
          -58,
          -4,
          0,
          -5,
          0,
          10,
          -3,
          -4,
          0,
          -2,
          0,
          -2,
          0,
          0,
          -56,
          0,
          -56,
          0,
          -57,
          0,
          0,
          0,
          0,
          0,
          0,
          9,
          -36,
          13,
          -36,
          35,
          -40,
          -5,
          71,
          4,
          71,
          -11,
          -9,
          -2,
          8,
          -2,
          8,
          -9,
          8,
          7,
          14,
          3,
          14,
          11,
          14,
          5,
          -926,
          -1,
          -926,
          10,
          -927,
          540,
          -1287,
          0,
          -1287,
          1075,
          1076,
          -38,
          -37,
          66,
          -37,
          -67,
          2,
          0,
          0,
          0,
          0,
          0,
          0,
          0,
          -1,
          0,
          -1,
          35,
          -2,
          -26,
          -12,
          -99,
          -12,
          100,
          -14,
          11,
          -133,
          -56,
          -133,
          -8,
          -21,
          7,
          0,
          117,
          0,
          16,
          0,
          2,
          17,
          0,
          17,
          -10,
          -5,
          4,
          6,
          26,
          6,
          8,
          6,
          57,
          -59,
          29,
          -59,
          151,
          118,
          -38,
          -107,
          -18,
          -107,
          -72,
          -73,
          0,
          833,
          -4,
          833,
          14,
          -4,
          -7,
          -15,
          15,
          -15,
          -14,
          -16,
          0,
          0,
          0,
          0,
          0,
          0,
          0,
          0,
          0,
          0,
          0,
          0,
          -7,
          -8,
          0,
          -8,
          -18,
          79,
          0,
          0,
          0,
          0,
          0,
          0,
          -2,
          9,
          4,
          9,
          11,
          -7,
          -7,
          -12,
          3,
          -12,
          12,
          -14,
          -2,
          -2,
          -3,
          -2,
          -41,
          -2,
          5,
          -4,
          10,
          -4,
          2,
          -4,
          -5,
          -9,
          3,
          -9,
          -11,
          -9,
          2,
          -44,
          -12,
          -44,
          -31,
          -44,
          0,
          0,
          0,
          0,
          0,
          0,
          0,
          0,
          0,
          0,
          0,
          0,
          10,
          -37,
          23,
          -37,
          8,
          12,
          0,
          0,
          0,
          0,
          65,
          0,
          0,
          0,
          0,
          0,
          -3,
          0,
          20,
          7,
          0,
          7,
          7,
          7,
          0,
          0,
          0,
          0,
          0,
          0,
          4,
          -7,
          96,
          -7,
          13,
          -7
         ]
        }
       ],
       "layout": {
        "autosize": true,
        "font": {
         "color": "black",
         "family": "Arial",
         "size": 12
        },
        "template": {
         "data": {
          "bar": [
           {
            "error_x": {
             "color": "#2a3f5f"
            },
            "error_y": {
             "color": "#2a3f5f"
            },
            "marker": {
             "line": {
              "color": "#E5ECF6",
              "width": 0.5
             },
             "pattern": {
              "fillmode": "overlay",
              "size": 10,
              "solidity": 0.2
             }
            },
            "type": "bar"
           }
          ],
          "barpolar": [
           {
            "marker": {
             "line": {
              "color": "#E5ECF6",
              "width": 0.5
             },
             "pattern": {
              "fillmode": "overlay",
              "size": 10,
              "solidity": 0.2
             }
            },
            "type": "barpolar"
           }
          ],
          "carpet": [
           {
            "aaxis": {
             "endlinecolor": "#2a3f5f",
             "gridcolor": "white",
             "linecolor": "white",
             "minorgridcolor": "white",
             "startlinecolor": "#2a3f5f"
            },
            "baxis": {
             "endlinecolor": "#2a3f5f",
             "gridcolor": "white",
             "linecolor": "white",
             "minorgridcolor": "white",
             "startlinecolor": "#2a3f5f"
            },
            "type": "carpet"
           }
          ],
          "choropleth": [
           {
            "colorbar": {
             "outlinewidth": 0,
             "ticks": ""
            },
            "type": "choropleth"
           }
          ],
          "contour": [
           {
            "colorbar": {
             "outlinewidth": 0,
             "ticks": ""
            },
            "colorscale": [
             [
              0,
              "#0d0887"
             ],
             [
              0.1111111111111111,
              "#46039f"
             ],
             [
              0.2222222222222222,
              "#7201a8"
             ],
             [
              0.3333333333333333,
              "#9c179e"
             ],
             [
              0.4444444444444444,
              "#bd3786"
             ],
             [
              0.5555555555555556,
              "#d8576b"
             ],
             [
              0.6666666666666666,
              "#ed7953"
             ],
             [
              0.7777777777777778,
              "#fb9f3a"
             ],
             [
              0.8888888888888888,
              "#fdca26"
             ],
             [
              1,
              "#f0f921"
             ]
            ],
            "type": "contour"
           }
          ],
          "contourcarpet": [
           {
            "colorbar": {
             "outlinewidth": 0,
             "ticks": ""
            },
            "type": "contourcarpet"
           }
          ],
          "heatmap": [
           {
            "colorbar": {
             "outlinewidth": 0,
             "ticks": ""
            },
            "colorscale": [
             [
              0,
              "#0d0887"
             ],
             [
              0.1111111111111111,
              "#46039f"
             ],
             [
              0.2222222222222222,
              "#7201a8"
             ],
             [
              0.3333333333333333,
              "#9c179e"
             ],
             [
              0.4444444444444444,
              "#bd3786"
             ],
             [
              0.5555555555555556,
              "#d8576b"
             ],
             [
              0.6666666666666666,
              "#ed7953"
             ],
             [
              0.7777777777777778,
              "#fb9f3a"
             ],
             [
              0.8888888888888888,
              "#fdca26"
             ],
             [
              1,
              "#f0f921"
             ]
            ],
            "type": "heatmap"
           }
          ],
          "heatmapgl": [
           {
            "colorbar": {
             "outlinewidth": 0,
             "ticks": ""
            },
            "colorscale": [
             [
              0,
              "#0d0887"
             ],
             [
              0.1111111111111111,
              "#46039f"
             ],
             [
              0.2222222222222222,
              "#7201a8"
             ],
             [
              0.3333333333333333,
              "#9c179e"
             ],
             [
              0.4444444444444444,
              "#bd3786"
             ],
             [
              0.5555555555555556,
              "#d8576b"
             ],
             [
              0.6666666666666666,
              "#ed7953"
             ],
             [
              0.7777777777777778,
              "#fb9f3a"
             ],
             [
              0.8888888888888888,
              "#fdca26"
             ],
             [
              1,
              "#f0f921"
             ]
            ],
            "type": "heatmapgl"
           }
          ],
          "histogram": [
           {
            "marker": {
             "pattern": {
              "fillmode": "overlay",
              "size": 10,
              "solidity": 0.2
             }
            },
            "type": "histogram"
           }
          ],
          "histogram2d": [
           {
            "colorbar": {
             "outlinewidth": 0,
             "ticks": ""
            },
            "colorscale": [
             [
              0,
              "#0d0887"
             ],
             [
              0.1111111111111111,
              "#46039f"
             ],
             [
              0.2222222222222222,
              "#7201a8"
             ],
             [
              0.3333333333333333,
              "#9c179e"
             ],
             [
              0.4444444444444444,
              "#bd3786"
             ],
             [
              0.5555555555555556,
              "#d8576b"
             ],
             [
              0.6666666666666666,
              "#ed7953"
             ],
             [
              0.7777777777777778,
              "#fb9f3a"
             ],
             [
              0.8888888888888888,
              "#fdca26"
             ],
             [
              1,
              "#f0f921"
             ]
            ],
            "type": "histogram2d"
           }
          ],
          "histogram2dcontour": [
           {
            "colorbar": {
             "outlinewidth": 0,
             "ticks": ""
            },
            "colorscale": [
             [
              0,
              "#0d0887"
             ],
             [
              0.1111111111111111,
              "#46039f"
             ],
             [
              0.2222222222222222,
              "#7201a8"
             ],
             [
              0.3333333333333333,
              "#9c179e"
             ],
             [
              0.4444444444444444,
              "#bd3786"
             ],
             [
              0.5555555555555556,
              "#d8576b"
             ],
             [
              0.6666666666666666,
              "#ed7953"
             ],
             [
              0.7777777777777778,
              "#fb9f3a"
             ],
             [
              0.8888888888888888,
              "#fdca26"
             ],
             [
              1,
              "#f0f921"
             ]
            ],
            "type": "histogram2dcontour"
           }
          ],
          "mesh3d": [
           {
            "colorbar": {
             "outlinewidth": 0,
             "ticks": ""
            },
            "type": "mesh3d"
           }
          ],
          "parcoords": [
           {
            "line": {
             "colorbar": {
              "outlinewidth": 0,
              "ticks": ""
             }
            },
            "type": "parcoords"
           }
          ],
          "pie": [
           {
            "automargin": true,
            "type": "pie"
           }
          ],
          "scatter": [
           {
            "fillpattern": {
             "fillmode": "overlay",
             "size": 10,
             "solidity": 0.2
            },
            "type": "scatter"
           }
          ],
          "scatter3d": [
           {
            "line": {
             "colorbar": {
              "outlinewidth": 0,
              "ticks": ""
             }
            },
            "marker": {
             "colorbar": {
              "outlinewidth": 0,
              "ticks": ""
             }
            },
            "type": "scatter3d"
           }
          ],
          "scattercarpet": [
           {
            "marker": {
             "colorbar": {
              "outlinewidth": 0,
              "ticks": ""
             }
            },
            "type": "scattercarpet"
           }
          ],
          "scattergeo": [
           {
            "marker": {
             "colorbar": {
              "outlinewidth": 0,
              "ticks": ""
             }
            },
            "type": "scattergeo"
           }
          ],
          "scattergl": [
           {
            "marker": {
             "colorbar": {
              "outlinewidth": 0,
              "ticks": ""
             }
            },
            "type": "scattergl"
           }
          ],
          "scattermapbox": [
           {
            "marker": {
             "colorbar": {
              "outlinewidth": 0,
              "ticks": ""
             }
            },
            "type": "scattermapbox"
           }
          ],
          "scatterpolar": [
           {
            "marker": {
             "colorbar": {
              "outlinewidth": 0,
              "ticks": ""
             }
            },
            "type": "scatterpolar"
           }
          ],
          "scatterpolargl": [
           {
            "marker": {
             "colorbar": {
              "outlinewidth": 0,
              "ticks": ""
             }
            },
            "type": "scatterpolargl"
           }
          ],
          "scatterternary": [
           {
            "marker": {
             "colorbar": {
              "outlinewidth": 0,
              "ticks": ""
             }
            },
            "type": "scatterternary"
           }
          ],
          "surface": [
           {
            "colorbar": {
             "outlinewidth": 0,
             "ticks": ""
            },
            "colorscale": [
             [
              0,
              "#0d0887"
             ],
             [
              0.1111111111111111,
              "#46039f"
             ],
             [
              0.2222222222222222,
              "#7201a8"
             ],
             [
              0.3333333333333333,
              "#9c179e"
             ],
             [
              0.4444444444444444,
              "#bd3786"
             ],
             [
              0.5555555555555556,
              "#d8576b"
             ],
             [
              0.6666666666666666,
              "#ed7953"
             ],
             [
              0.7777777777777778,
              "#fb9f3a"
             ],
             [
              0.8888888888888888,
              "#fdca26"
             ],
             [
              1,
              "#f0f921"
             ]
            ],
            "type": "surface"
           }
          ],
          "table": [
           {
            "cells": {
             "fill": {
              "color": "#EBF0F8"
             },
             "line": {
              "color": "white"
             }
            },
            "header": {
             "fill": {
              "color": "#C8D4E3"
             },
             "line": {
              "color": "white"
             }
            },
            "type": "table"
           }
          ]
         },
         "layout": {
          "annotationdefaults": {
           "arrowcolor": "#2a3f5f",
           "arrowhead": 0,
           "arrowwidth": 1
          },
          "autotypenumbers": "strict",
          "coloraxis": {
           "colorbar": {
            "outlinewidth": 0,
            "ticks": ""
           }
          },
          "colorscale": {
           "diverging": [
            [
             0,
             "#8e0152"
            ],
            [
             0.1,
             "#c51b7d"
            ],
            [
             0.2,
             "#de77ae"
            ],
            [
             0.3,
             "#f1b6da"
            ],
            [
             0.4,
             "#fde0ef"
            ],
            [
             0.5,
             "#f7f7f7"
            ],
            [
             0.6,
             "#e6f5d0"
            ],
            [
             0.7,
             "#b8e186"
            ],
            [
             0.8,
             "#7fbc41"
            ],
            [
             0.9,
             "#4d9221"
            ],
            [
             1,
             "#276419"
            ]
           ],
           "sequential": [
            [
             0,
             "#0d0887"
            ],
            [
             0.1111111111111111,
             "#46039f"
            ],
            [
             0.2222222222222222,
             "#7201a8"
            ],
            [
             0.3333333333333333,
             "#9c179e"
            ],
            [
             0.4444444444444444,
             "#bd3786"
            ],
            [
             0.5555555555555556,
             "#d8576b"
            ],
            [
             0.6666666666666666,
             "#ed7953"
            ],
            [
             0.7777777777777778,
             "#fb9f3a"
            ],
            [
             0.8888888888888888,
             "#fdca26"
            ],
            [
             1,
             "#f0f921"
            ]
           ],
           "sequentialminus": [
            [
             0,
             "#0d0887"
            ],
            [
             0.1111111111111111,
             "#46039f"
            ],
            [
             0.2222222222222222,
             "#7201a8"
            ],
            [
             0.3333333333333333,
             "#9c179e"
            ],
            [
             0.4444444444444444,
             "#bd3786"
            ],
            [
             0.5555555555555556,
             "#d8576b"
            ],
            [
             0.6666666666666666,
             "#ed7953"
            ],
            [
             0.7777777777777778,
             "#fb9f3a"
            ],
            [
             0.8888888888888888,
             "#fdca26"
            ],
            [
             1,
             "#f0f921"
            ]
           ]
          },
          "colorway": [
           "#636efa",
           "#EF553B",
           "#00cc96",
           "#ab63fa",
           "#FFA15A",
           "#19d3f3",
           "#FF6692",
           "#B6E880",
           "#FF97FF",
           "#FECB52"
          ],
          "font": {
           "color": "#2a3f5f"
          },
          "geo": {
           "bgcolor": "white",
           "lakecolor": "white",
           "landcolor": "#E5ECF6",
           "showlakes": true,
           "showland": true,
           "subunitcolor": "white"
          },
          "hoverlabel": {
           "align": "left"
          },
          "hovermode": "closest",
          "mapbox": {
           "style": "light"
          },
          "paper_bgcolor": "white",
          "plot_bgcolor": "#E5ECF6",
          "polar": {
           "angularaxis": {
            "gridcolor": "white",
            "linecolor": "white",
            "ticks": ""
           },
           "bgcolor": "#E5ECF6",
           "radialaxis": {
            "gridcolor": "white",
            "linecolor": "white",
            "ticks": ""
           }
          },
          "scene": {
           "xaxis": {
            "backgroundcolor": "#E5ECF6",
            "gridcolor": "white",
            "gridwidth": 2,
            "linecolor": "white",
            "showbackground": true,
            "ticks": "",
            "zerolinecolor": "white"
           },
           "yaxis": {
            "backgroundcolor": "#E5ECF6",
            "gridcolor": "white",
            "gridwidth": 2,
            "linecolor": "white",
            "showbackground": true,
            "ticks": "",
            "zerolinecolor": "white"
           },
           "zaxis": {
            "backgroundcolor": "#E5ECF6",
            "gridcolor": "white",
            "gridwidth": 2,
            "linecolor": "white",
            "showbackground": true,
            "ticks": "",
            "zerolinecolor": "white"
           }
          },
          "shapedefaults": {
           "line": {
            "color": "#2a3f5f"
           }
          },
          "ternary": {
           "aaxis": {
            "gridcolor": "white",
            "linecolor": "white",
            "ticks": ""
           },
           "baxis": {
            "gridcolor": "white",
            "linecolor": "white",
            "ticks": ""
           },
           "bgcolor": "#E5ECF6",
           "caxis": {
            "gridcolor": "white",
            "linecolor": "white",
            "ticks": ""
           }
          },
          "title": {
           "x": 0.05
          },
          "xaxis": {
           "automargin": true,
           "gridcolor": "white",
           "linecolor": "white",
           "ticks": "",
           "title": {
            "standoff": 15
           },
           "zerolinecolor": "white",
           "zerolinewidth": 2
          },
          "yaxis": {
           "automargin": true,
           "gridcolor": "white",
           "linecolor": "white",
           "ticks": "",
           "title": {
            "standoff": 15
           },
           "zerolinecolor": "white",
           "zerolinewidth": 2
          }
         }
        },
        "title": {
         "text": "(a) TSSB",
         "x": 0.06,
         "y": 0.82
        },
        "xaxis": {
         "autorange": true,
         "range": [
          -1300.5,
          1649.5
         ],
         "title": {
          "text": "Bucket index difference"
         },
         "type": "linear"
        },
        "yaxis": {
         "autorange": true,
         "range": [
          0,
          246.31578947368422
         ],
         "title": {
          "text": "Count"
         }
        }
       }
      },
      "image/png": "[encoded data removed]"
     },
     "metadata": {},
     "output_type": "display_data"
    }
   ],
   "source": [
    "fig = go.Figure(data=[go.Histogram(x=upscaled_cps_tssb_df.max_index_diff)])\n",
    "fig.update_layout(\n",
    "    xaxis_title_text='Bucket index difference', # xaxis label\n",
    "    yaxis_title_text='Count', # yaxis label\n",
    "    height=400, \n",
    "    font=dict(\n",
    "            family=\"Arial\",\n",
    "            size=12,\n",
    "            color=\"black\"\n",
    "            ),\n",
    "    title=dict(\n",
    "            text=\"(a) TSSB\",\n",
    "            y=0.82,\n",
    "            x=0.06\n",
    "            )\n",
    ")\n",
    "fig.write_image(\"results/figures/distribution_bucket_index_diffs_TSSB.svg\", scale=1, width=1000, height=400)\n",
    "fig.show()"
   ]
  },
  {
   "cell_type": "markdown",
   "id": "33a3ead6-9534-46da-9843-35551cc40a29",
   "metadata": {},
   "source": [
    "## HASC"
   ]
  },
  {
   "cell_type": "code",
   "execution_count": 30,
   "id": "d6e98dae-02da-4a0a-9379-279a51548d73",
   "metadata": {},
   "outputs": [
    {
     "name": "stderr",
     "output_type": "stream",
     "text": [
      "Processing rows: 100%|███████████████████████████████████████████████████████████| 1500/1500 [00:00<00:00, 3489.59it/s]\n"
     ]
    }
   ],
   "source": [
    "upscaled_cps_hasc_df = add_bucket_index_differences(upscaled_cps_hasc_df,hasc)"
   ]
  },
  {
   "cell_type": "code",
   "execution_count": 31,
   "id": "67833d1e-d6ff-4839-b526-e343a6e41e1c",
   "metadata": {},
   "outputs": [
    {
     "name": "stdout",
     "output_type": "stream",
     "text": [
      "Der Interquartilsbereich (IQR) liegt zwischen -24 und 13\n"
     ]
    }
   ],
   "source": [
    "data=upscaled_cps_hasc_df.max_index_diff.values\n",
    "q1_hasc = int(np.percentile(data, 25))\n",
    "q3_hasc = int(np.percentile(data, 75))\n",
    "print(f\"Der Interquartilsbereich (IQR) liegt zwischen {q1_hasc} und {q3_hasc}\")"
   ]
  },
  {
   "cell_type": "code",
   "execution_count": 32,
   "id": "343f01ab-5e0a-46d5-a994-833dc8d1e8f3",
   "metadata": {},
   "outputs": [
    {
     "data": {
      "application/vnd.plotly.v1+json": {
       "config": {
        "plotlyServerURL": "https://plot.ly"
       },
       "data": [
        {
         "type": "histogram",
         "x": [
          -1,
          -4,
          -14,
          -4,
          -2,
          0,
          -5,
          -10,
          158,
          -10,
          -9,
          -10,
          -67,
          -35,
          -9,
          -35,
          -104,
          165,
          0,
          0,
          0,
          0,
          0,
          0,
          -30,
          -31,
          -12,
          -31,
          -31,
          -31,
          23,
          44,
          10,
          44,
          45,
          44,
          -20,
          -42,
          -15,
          -42,
          -41,
          -30,
          -25,
          -48,
          -14,
          -48,
          -50,
          -52,
          36,
          72,
          18,
          72,
          72,
          72,
          -16,
          64,
          72,
          64,
          -11,
          64,
          -16,
          -33,
          -8,
          -33,
          -28,
          -43,
          22,
          61,
          11,
          61,
          45,
          48,
          -19,
          0,
          3,
          0,
          -8,
          0,
          -19,
          -38,
          -30,
          -38,
          -39,
          -39,
          -19,
          -37,
          -5,
          -37,
          -38,
          -38,
          0,
          0,
          0,
          0,
          0,
          0,
          -14,
          -30,
          -7,
          -30,
          -26,
          23,
          12,
          -143,
          0,
          -143,
          28,
          -143,
          42,
          110,
          25,
          110,
          83,
          84,
          -5,
          -10,
          2,
          -10,
          0,
          -34,
          -5,
          11,
          13,
          11,
          -23,
          -26,
          18,
          36,
          9,
          36,
          38,
          36,
          113,
          226,
          7,
          226,
          226,
          226,
          -8,
          -14,
          -4,
          -14,
          -13,
          -15,
          -8,
          -16,
          -8,
          -16,
          -10,
          -22,
          -11,
          -22,
          -3,
          -22,
          -12,
          -21,
          -311,
          -631,
          -206,
          -631,
          -631,
          -631,
          199,
          -1427,
          67,
          -1427,
          228,
          399,
          -112,
          -221,
          -301,
          -221,
          -224,
          -223,
          23,
          47,
          20,
          47,
          -38,
          81,
          -10,
          -39,
          -2,
          -39,
          -42,
          -39,
          52,
          -101,
          -25,
          -101,
          -99,
          -101,
          0,
          1,
          1,
          1,
          0,
          -1,
          -15,
          -28,
          -8,
          -28,
          -7,
          -27,
          266,
          -2,
          0,
          -2,
          -40,
          -53,
          -26,
          0,
          -3,
          0,
          -51,
          0,
          -21,
          -37,
          0,
          -37,
          -71,
          -37,
          -71,
          -20,
          5,
          -20,
          -68,
          -20,
          -21,
          -52,
          -21,
          -52,
          -42,
          -42,
          -84,
          -36,
          -9,
          -36,
          -141,
          10,
          -130,
          663,
          134,
          663,
          662,
          663,
          0,
          0,
          0,
          0,
          0,
          0,
          -24,
          -147,
          318,
          -147,
          -101,
          -107,
          -198,
          -369,
          -99,
          -369,
          -369,
          -397,
          -1200,
          -2397,
          -599,
          -2397,
          -2400,
          -2401,
          2056,
          4112,
          1011,
          4112,
          4286,
          4111,
          196,
          -329,
          86,
          -329,
          -327,
          -329,
          -1538,
          -3077,
          0,
          -3077,
          -482,
          -3077,
          -380,
          685,
          -175,
          685,
          684,
          685,
          -227,
          -598,
          -114,
          -598,
          -454,
          -456,
          898,
          -421,
          -135,
          -421,
          1790,
          1789,
          -319,
          0,
          -145,
          0,
          -589,
          0,
          -146,
          2558,
          -129,
          2558,
          -242,
          2558,
          1161,
          -1214,
          -500,
          -1214,
          -1165,
          -1214,
          -207,
          -414,
          -80,
          -414,
          -334,
          -416,
          -186,
          -381,
          128,
          -381,
          -372,
          -381,
          -187,
          393,
          0,
          393,
          -171,
          393,
          -371,
          -741,
          -185,
          -741,
          953,
          -744,
          -3084,
          -984,
          -812,
          -984,
          -985,
          -962,
          51,
          104,
          18,
          104,
          104,
          100,
          41,
          1405,
          18,
          1405,
          139,
          1397,
          2,
          2,
          -2,
          2,
          3,
          1,
          -8,
          603,
          -107,
          603,
          -135,
          54,
          -12,
          -25,
          -4,
          -25,
          -31,
          -31,
          12,
          21,
          3,
          21,
          22,
          21,
          0,
          0,
          0,
          0,
          0,
          0,
          -6,
          -9,
          -4,
          -9,
          -5,
          -9,
          -3,
          -492,
          -131,
          -492,
          -490,
          -526,
          -29,
          -18,
          5,
          -18,
          -80,
          -23,
          36,
          52,
          -5,
          52,
          -11,
          -9,
          0,
          85,
          18,
          85,
          87,
          0,
          -87,
          -196,
          -43,
          -196,
          -195,
          -196,
          -724,
          -1450,
          -565,
          -1450,
          -1453,
          -1450,
          6,
          22,
          0,
          22,
          10,
          10,
          5,
          259,
          3,
          259,
          209,
          259,
          37,
          78,
          20,
          78,
          79,
          82,
          0,
          0,
          0,
          0,
          942,
          941,
          937,
          47,
          0,
          47,
          35,
          39,
          55,
          106,
          27,
          106,
          104,
          104,
          -6,
          9,
          -2,
          9,
          -12,
          8,
          53,
          111,
          25,
          111,
          108,
          109,
          0,
          465,
          137,
          465,
          456,
          462,
          125,
          250,
          62,
          250,
          250,
          250,
          759,
          2093,
          -221,
          2093,
          83,
          3634,
          -46,
          -92,
          -29,
          -92,
          -87,
          -93,
          408,
          813,
          26,
          813,
          1151,
          -159,
          -50,
          -169,
          0,
          -169,
          -80,
          -175,
          15,
          29,
          8,
          29,
          6,
          30,
          -7,
          -9,
          2,
          -9,
          -12,
          -9,
          -15,
          -31,
          128,
          -31,
          -25,
          -31,
          0,
          25,
          0,
          25,
          29,
          29,
          0,
          0,
          0,
          0,
          0,
          0,
          -4,
          -5,
          -1,
          -5,
          -5,
          -5,
          0,
          0,
          0,
          0,
          0,
          0,
          0,
          0,
          0,
          0,
          0,
          -23,
          0,
          0,
          0,
          0,
          0,
          0,
          0,
          0,
          0,
          0,
          0,
          0,
          21,
          0,
          12,
          0,
          486,
          0,
          -15,
          17,
          0,
          17,
          0,
          60,
          51,
          98,
          25,
          98,
          118,
          98,
          0,
          0,
          0,
          0,
          0,
          0,
          2,
          5,
          1,
          5,
          1,
          -18,
          0,
          0,
          0,
          0,
          0,
          0,
          -3,
          -12,
          -2,
          -12,
          -7,
          -7,
          46,
          99,
          -345,
          99,
          87,
          -1355,
          45,
          93,
          7,
          93,
          90,
          94,
          -15,
          -26,
          -4,
          -26,
          -19,
          -19,
          65,
          122,
          33,
          122,
          127,
          128,
          -1447,
          -2897,
          -66,
          -2897,
          -2895,
          -2897,
          -7,
          -357,
          -3,
          -357,
          -353,
          -357,
          0,
          0,
          0,
          0,
          0,
          0,
          5,
          9,
          1,
          9,
          21,
          8,
          8,
          -10,
          4,
          -10,
          17,
          16,
          -30,
          -52,
          -13,
          -52,
          -51,
          -51,
          0,
          23,
          0,
          23,
          23,
          22,
          -11,
          -11,
          0,
          -11,
          -7,
          5,
          3,
          5,
          -2,
          5,
          37,
          6,
          3,
          8,
          3,
          8,
          22,
          12,
          0,
          0,
          0,
          0,
          0,
          0,
          0,
          0,
          0,
          0,
          0,
          0,
          0,
          0,
          -3,
          0,
          -2,
          0,
          -5052,
          -10097,
          -1280,
          -10097,
          -59,
          -10097,
          617,
          -11959,
          -2974,
          -11959,
          1357,
          -11959,
          2,
          0,
          0,
          0,
          18,
          0,
          -400,
          -801,
          7,
          -801,
          -801,
          -802,
          1174,
          1416,
          12,
          1416,
          2346,
          1415,
          7,
          -51,
          5,
          -51,
          0,
          20,
          0,
          0,
          0,
          0,
          0,
          0,
          -3,
          10,
          4,
          10,
          12,
          13,
          -6,
          -14,
          3,
          -14,
          -12,
          -13,
          0,
          0,
          135,
          0,
          0,
          0,
          70,
          159,
          35,
          159,
          166,
          159,
          -39,
          -32,
          -5,
          -32,
          -77,
          -77,
          7,
          16,
          0,
          16,
          15,
          15,
          -43,
          -2526,
          7,
          -2526,
          -2527,
          -2526,
          0,
          0,
          0,
          0,
          0,
          0,
          -35,
          1021,
          -18,
          1021,
          1004,
          1004,
          -1136,
          -4103,
          -3064,
          -4103,
          -4103,
          -12280,
          9,
          -10,
          -2,
          -10,
          19,
          -11,
          2,
          4,
          1,
          4,
          5,
          3,
          -132,
          -263,
          -65,
          -263,
          -263,
          -264,
          0,
          0,
          0,
          0,
          0,
          0,
          31,
          20,
          18,
          20,
          22,
          20,
          0,
          0,
          0,
          0,
          0,
          0,
          -10,
          -7,
          -2,
          -7,
          -18,
          -2,
          0,
          0,
          0,
          0,
          0,
          0,
          -7,
          -20,
          0,
          -20,
          -15,
          -12,
          -1460,
          -2921,
          -729,
          -2921,
          -2919,
          -2920,
          -4688,
          -706,
          -2353,
          -706,
          -9374,
          -706,
          -79,
          -342,
          -84,
          -342,
          -338,
          -343,
          -23,
          -52,
          0,
          -52,
          -50,
          0,
          4740,
          9252,
          2377,
          9252,
          7813,
          9251,
          -2954,
          6169,
          -32,
          6169,
          -6197,
          6169,
          0,
          0,
          0,
          0,
          0,
          0,
          111,
          222,
          129,
          222,
          222,
          222,
          -31,
          2342,
          39,
          2342,
          2383,
          31,
          5,
          1,
          -36,
          1,
          9,
          6,
          49,
          108,
          25,
          108,
          100,
          96,
          0,
          0,
          0,
          0,
          0,
          0,
          0,
          0,
          0,
          0,
          0,
          0,
          -10,
          -20,
          3,
          -20,
          -20,
          -20,
          0,
          0,
          0,
          0,
          0,
          0,
          0,
          0,
          0,
          0,
          0,
          0,
          -1,
          -24,
          -2,
          -24,
          -3,
          -24,
          0,
          0,
          0,
          0,
          0,
          0,
          0,
          0,
          0,
          0,
          0,
          0,
          -732,
          -1464,
          81,
          -1464,
          -1463,
          731,
          1177,
          2039,
          319,
          2039,
          1068,
          2354,
          -6642,
          -9532,
          -100,
          -9532,
          -13283,
          -108,
          0,
          0,
          0,
          0,
          0,
          0,
          -5,
          20,
          -3,
          20,
          18,
          2,
          0,
          0,
          0,
          0,
          0,
          0,
          0,
          0,
          0,
          0,
          0,
          0,
          0,
          0,
          0,
          0,
          0,
          0,
          0,
          0,
          0,
          0,
          0,
          0,
          -310,
          -620,
          -160,
          -620,
          -619,
          -647,
          298,
          600,
          149,
          600,
          -12481,
          598,
          -26,
          27,
          -14,
          27,
          20,
          27,
          5547,
          8924,
          1396,
          8924,
          4768,
          8923,
          -2539,
          -10880,
          -2584,
          -10880,
          -5069,
          -10880,
          -1259,
          -2523,
          -628,
          -2523,
          -2589,
          -2520,
          151,
          259,
          59,
          259,
          249,
          258,
          69,
          49,
          -10,
          49,
          -36,
          -40,
          -65,
          1000,
          -33,
          1000,
          1014,
          1013,
          -2,
          -13,
          0,
          -13,
          0,
          -9,
          43,
          86,
          21,
          86,
          79,
          77,
          0,
          0,
          0,
          0,
          0,
          0,
          -27,
          -42,
          78,
          -42,
          -21,
          -42,
          -14,
          -27,
          -6,
          -27,
          -27,
          -29,
          -33,
          -68,
          -16,
          -68,
          -66,
          -68,
          29,
          56,
          16,
          56,
          94,
          98,
          34,
          21,
          16,
          21,
          65,
          68,
          0,
          0,
          0,
          0,
          0,
          0,
          0,
          0,
          0,
          0,
          0,
          0,
          37,
          -1000,
          14,
          -1000,
          60,
          -1000,
          61,
          124,
          -28,
          124,
          -86,
          -86,
          0,
          0,
          0,
          0,
          0,
          0,
          -10,
          -21,
          -1,
          -21,
          -21,
          -22,
          20,
          39,
          9,
          39,
          40,
          38,
          0,
          0,
          0,
          0,
          0,
          0,
          0,
          -369,
          0,
          -369,
          0,
          0,
          4,
          9,
          4,
          9,
          9,
          9,
          20,
          38,
          16,
          38,
          38,
          37,
          -11,
          -11,
          -4,
          -11,
          -31,
          -32,
          0,
          0,
          0,
          0,
          0,
          0,
          -16,
          -31,
          -8,
          -31,
          -31,
          -31,
          -22,
          60,
          -17,
          60,
          -56,
          58,
          0,
          0,
          0,
          0,
          0,
          0,
          -9,
          -16,
          -4,
          -16,
          -17,
          -18,
          -63,
          -91,
          -23,
          -91,
          -103,
          -103,
          -17,
          0,
          0,
          0,
          0,
          -1,
          0,
          0,
          0,
          0,
          0,
          0,
          3,
          10,
          0,
          10,
          6,
          10,
          0,
          0,
          0,
          0,
          0,
          0,
          -34,
          -67,
          -17,
          -67,
          -67,
          -68,
          0,
          0,
          0,
          0,
          0,
          0,
          9,
          -38,
          7,
          -38,
          27,
          -38,
          39,
          79,
          -14,
          79,
          78,
          175,
          -17,
          -35,
          -12,
          -35,
          -46,
          -34,
          -7,
          39,
          10,
          39,
          -12,
          39,
          0,
          0,
          0,
          0,
          0,
          0,
          0,
          0,
          0,
          0,
          0,
          0,
          0,
          0,
          0,
          0,
          0,
          0,
          0,
          0,
          0,
          0,
          0,
          0,
          24,
          -7,
          -2,
          -7,
          -6,
          -9,
          43,
          86,
          22,
          86,
          89,
          90,
          0,
          0,
          0,
          0,
          0,
          0,
          0,
          48,
          0,
          48,
          0,
          0,
          -26,
          -52,
          -13,
          -52,
          -55,
          -54,
          -8,
          -18,
          -3,
          -18,
          -16,
          -14,
          0,
          0,
          0,
          0,
          0,
          0,
          -2,
          -5,
          -2,
          -5,
          -4,
          -6,
          27,
          58,
          14,
          58,
          58,
          55,
          -8,
          -24,
          -4,
          -24,
          -14,
          -24,
          0,
          0,
          0,
          0,
          0,
          0,
          0,
          0,
          0,
          0,
          0,
          0,
          0,
          0,
          0,
          0,
          0,
          0,
          11,
          23,
          6,
          23,
          23,
          22,
          5,
          15,
          1,
          15,
          0,
          18,
          -4,
          -8,
          -2,
          -8,
          -8,
          -11,
          36,
          72,
          -8,
          72,
          68,
          71,
          -22,
          1,
          1,
          1,
          2,
          -48,
          0,
          0,
          0,
          0,
          0,
          0,
          -31,
          -58,
          -14,
          -58,
          -57,
          -62,
          -5,
          -8,
          -1,
          -8,
          -9,
          -8,
          0,
          0,
          0,
          0,
          0,
          0,
          0,
          0,
          0,
          0,
          0,
          0,
          0,
          0,
          0,
          0,
          0,
          0,
          0,
          0,
          0,
          0,
          0,
          0,
          -16,
          -29,
          -5,
          -29,
          -16,
          -16
         ]
        }
       ],
       "layout": {
        "autosize": true,
        "font": {
         "color": "black",
         "family": "Arial",
         "size": 12
        },
        "template": {
         "data": {
          "bar": [
           {
            "error_x": {
             "color": "#2a3f5f"
            },
            "error_y": {
             "color": "#2a3f5f"
            },
            "marker": {
             "line": {
              "color": "#E5ECF6",
              "width": 0.5
             },
             "pattern": {
              "fillmode": "overlay",
              "size": 10,
              "solidity": 0.2
             }
            },
            "type": "bar"
           }
          ],
          "barpolar": [
           {
            "marker": {
             "line": {
              "color": "#E5ECF6",
              "width": 0.5
             },
             "pattern": {
              "fillmode": "overlay",
              "size": 10,
              "solidity": 0.2
             }
            },
            "type": "barpolar"
           }
          ],
          "carpet": [
           {
            "aaxis": {
             "endlinecolor": "#2a3f5f",
             "gridcolor": "white",
             "linecolor": "white",
             "minorgridcolor": "white",
             "startlinecolor": "#2a3f5f"
            },
            "baxis": {
             "endlinecolor": "#2a3f5f",
             "gridcolor": "white",
             "linecolor": "white",
             "minorgridcolor": "white",
             "startlinecolor": "#2a3f5f"
            },
            "type": "carpet"
           }
          ],
          "choropleth": [
           {
            "colorbar": {
             "outlinewidth": 0,
             "ticks": ""
            },
            "type": "choropleth"
           }
          ],
          "contour": [
           {
            "colorbar": {
             "outlinewidth": 0,
             "ticks": ""
            },
            "colorscale": [
             [
              0,
              "#0d0887"
             ],
             [
              0.1111111111111111,
              "#46039f"
             ],
             [
              0.2222222222222222,
              "#7201a8"
             ],
             [
              0.3333333333333333,
              "#9c179e"
             ],
             [
              0.4444444444444444,
              "#bd3786"
             ],
             [
              0.5555555555555556,
              "#d8576b"
             ],
             [
              0.6666666666666666,
              "#ed7953"
             ],
             [
              0.7777777777777778,
              "#fb9f3a"
             ],
             [
              0.8888888888888888,
              "#fdca26"
             ],
             [
              1,
              "#f0f921"
             ]
            ],
            "type": "contour"
           }
          ],
          "contourcarpet": [
           {
            "colorbar": {
             "outlinewidth": 0,
             "ticks": ""
            },
            "type": "contourcarpet"
           }
          ],
          "heatmap": [
           {
            "colorbar": {
             "outlinewidth": 0,
             "ticks": ""
            },
            "colorscale": [
             [
              0,
              "#0d0887"
             ],
             [
              0.1111111111111111,
              "#46039f"
             ],
             [
              0.2222222222222222,
              "#7201a8"
             ],
             [
              0.3333333333333333,
              "#9c179e"
             ],
             [
              0.4444444444444444,
              "#bd3786"
             ],
             [
              0.5555555555555556,
              "#d8576b"
             ],
             [
              0.6666666666666666,
              "#ed7953"
             ],
             [
              0.7777777777777778,
              "#fb9f3a"
             ],
             [
              0.8888888888888888,
              "#fdca26"
             ],
             [
              1,
              "#f0f921"
             ]
            ],
            "type": "heatmap"
           }
          ],
          "heatmapgl": [
           {
            "colorbar": {
             "outlinewidth": 0,
             "ticks": ""
            },
            "colorscale": [
             [
              0,
              "#0d0887"
             ],
             [
              0.1111111111111111,
              "#46039f"
             ],
             [
              0.2222222222222222,
              "#7201a8"
             ],
             [
              0.3333333333333333,
              "#9c179e"
             ],
             [
              0.4444444444444444,
              "#bd3786"
             ],
             [
              0.5555555555555556,
              "#d8576b"
             ],
             [
              0.6666666666666666,
              "#ed7953"
             ],
             [
              0.7777777777777778,
              "#fb9f3a"
             ],
             [
              0.8888888888888888,
              "#fdca26"
             ],
             [
              1,
              "#f0f921"
             ]
            ],
            "type": "heatmapgl"
           }
          ],
          "histogram": [
           {
            "marker": {
             "pattern": {
              "fillmode": "overlay",
              "size": 10,
              "solidity": 0.2
             }
            },
            "type": "histogram"
           }
          ],
          "histogram2d": [
           {
            "colorbar": {
             "outlinewidth": 0,
             "ticks": ""
            },
            "colorscale": [
             [
              0,
              "#0d0887"
             ],
             [
              0.1111111111111111,
              "#46039f"
             ],
             [
              0.2222222222222222,
              "#7201a8"
             ],
             [
              0.3333333333333333,
              "#9c179e"
             ],
             [
              0.4444444444444444,
              "#bd3786"
             ],
             [
              0.5555555555555556,
              "#d8576b"
             ],
             [
              0.6666666666666666,
              "#ed7953"
             ],
             [
              0.7777777777777778,
              "#fb9f3a"
             ],
             [
              0.8888888888888888,
              "#fdca26"
             ],
             [
              1,
              "#f0f921"
             ]
            ],
            "type": "histogram2d"
           }
          ],
          "histogram2dcontour": [
           {
            "colorbar": {
             "outlinewidth": 0,
             "ticks": ""
            },
            "colorscale": [
             [
              0,
              "#0d0887"
             ],
             [
              0.1111111111111111,
              "#46039f"
             ],
             [
              0.2222222222222222,
              "#7201a8"
             ],
             [
              0.3333333333333333,
              "#9c179e"
             ],
             [
              0.4444444444444444,
              "#bd3786"
             ],
             [
              0.5555555555555556,
              "#d8576b"
             ],
             [
              0.6666666666666666,
              "#ed7953"
             ],
             [
              0.7777777777777778,
              "#fb9f3a"
             ],
             [
              0.8888888888888888,
              "#fdca26"
             ],
             [
              1,
              "#f0f921"
             ]
            ],
            "type": "histogram2dcontour"
           }
          ],
          "mesh3d": [
           {
            "colorbar": {
             "outlinewidth": 0,
             "ticks": ""
            },
            "type": "mesh3d"
           }
          ],
          "parcoords": [
           {
            "line": {
             "colorbar": {
              "outlinewidth": 0,
              "ticks": ""
             }
            },
            "type": "parcoords"
           }
          ],
          "pie": [
           {
            "automargin": true,
            "type": "pie"
           }
          ],
          "scatter": [
           {
            "fillpattern": {
             "fillmode": "overlay",
             "size": 10,
             "solidity": 0.2
            },
            "type": "scatter"
           }
          ],
          "scatter3d": [
           {
            "line": {
             "colorbar": {
              "outlinewidth": 0,
              "ticks": ""
             }
            },
            "marker": {
             "colorbar": {
              "outlinewidth": 0,
              "ticks": ""
             }
            },
            "type": "scatter3d"
           }
          ],
          "scattercarpet": [
           {
            "marker": {
             "colorbar": {
              "outlinewidth": 0,
              "ticks": ""
             }
            },
            "type": "scattercarpet"
           }
          ],
          "scattergeo": [
           {
            "marker": {
             "colorbar": {
              "outlinewidth": 0,
              "ticks": ""
             }
            },
            "type": "scattergeo"
           }
          ],
          "scattergl": [
           {
            "marker": {
             "colorbar": {
              "outlinewidth": 0,
              "ticks": ""
             }
            },
            "type": "scattergl"
           }
          ],
          "scattermapbox": [
           {
            "marker": {
             "colorbar": {
              "outlinewidth": 0,
              "ticks": ""
             }
            },
            "type": "scattermapbox"
           }
          ],
          "scatterpolar": [
           {
            "marker": {
             "colorbar": {
              "outlinewidth": 0,
              "ticks": ""
             }
            },
            "type": "scatterpolar"
           }
          ],
          "scatterpolargl": [
           {
            "marker": {
             "colorbar": {
              "outlinewidth": 0,
              "ticks": ""
             }
            },
            "type": "scatterpolargl"
           }
          ],
          "scatterternary": [
           {
            "marker": {
             "colorbar": {
              "outlinewidth": 0,
              "ticks": ""
             }
            },
            "type": "scatterternary"
           }
          ],
          "surface": [
           {
            "colorbar": {
             "outlinewidth": 0,
             "ticks": ""
            },
            "colorscale": [
             [
              0,
              "#0d0887"
             ],
             [
              0.1111111111111111,
              "#46039f"
             ],
             [
              0.2222222222222222,
              "#7201a8"
             ],
             [
              0.3333333333333333,
              "#9c179e"
             ],
             [
              0.4444444444444444,
              "#bd3786"
             ],
             [
              0.5555555555555556,
              "#d8576b"
             ],
             [
              0.6666666666666666,
              "#ed7953"
             ],
             [
              0.7777777777777778,
              "#fb9f3a"
             ],
             [
              0.8888888888888888,
              "#fdca26"
             ],
             [
              1,
              "#f0f921"
             ]
            ],
            "type": "surface"
           }
          ],
          "table": [
           {
            "cells": {
             "fill": {
              "color": "#EBF0F8"
             },
             "line": {
              "color": "white"
             }
            },
            "header": {
             "fill": {
              "color": "#C8D4E3"
             },
             "line": {
              "color": "white"
             }
            },
            "type": "table"
           }
          ]
         },
         "layout": {
          "annotationdefaults": {
           "arrowcolor": "#2a3f5f",
           "arrowhead": 0,
           "arrowwidth": 1
          },
          "autotypenumbers": "strict",
          "coloraxis": {
           "colorbar": {
            "outlinewidth": 0,
            "ticks": ""
           }
          },
          "colorscale": {
           "diverging": [
            [
             0,
             "#8e0152"
            ],
            [
             0.1,
             "#c51b7d"
            ],
            [
             0.2,
             "#de77ae"
            ],
            [
             0.3,
             "#f1b6da"
            ],
            [
             0.4,
             "#fde0ef"
            ],
            [
             0.5,
             "#f7f7f7"
            ],
            [
             0.6,
             "#e6f5d0"
            ],
            [
             0.7,
             "#b8e186"
            ],
            [
             0.8,
             "#7fbc41"
            ],
            [
             0.9,
             "#4d9221"
            ],
            [
             1,
             "#276419"
            ]
           ],
           "sequential": [
            [
             0,
             "#0d0887"
            ],
            [
             0.1111111111111111,
             "#46039f"
            ],
            [
             0.2222222222222222,
             "#7201a8"
            ],
            [
             0.3333333333333333,
             "#9c179e"
            ],
            [
             0.4444444444444444,
             "#bd3786"
            ],
            [
             0.5555555555555556,
             "#d8576b"
            ],
            [
             0.6666666666666666,
             "#ed7953"
            ],
            [
             0.7777777777777778,
             "#fb9f3a"
            ],
            [
             0.8888888888888888,
             "#fdca26"
            ],
            [
             1,
             "#f0f921"
            ]
           ],
           "sequentialminus": [
            [
             0,
             "#0d0887"
            ],
            [
             0.1111111111111111,
             "#46039f"
            ],
            [
             0.2222222222222222,
             "#7201a8"
            ],
            [
             0.3333333333333333,
             "#9c179e"
            ],
            [
             0.4444444444444444,
             "#bd3786"
            ],
            [
             0.5555555555555556,
             "#d8576b"
            ],
            [
             0.6666666666666666,
             "#ed7953"
            ],
            [
             0.7777777777777778,
             "#fb9f3a"
            ],
            [
             0.8888888888888888,
             "#fdca26"
            ],
            [
             1,
             "#f0f921"
            ]
           ]
          },
          "colorway": [
           "#636efa",
           "#EF553B",
           "#00cc96",
           "#ab63fa",
           "#FFA15A",
           "#19d3f3",
           "#FF6692",
           "#B6E880",
           "#FF97FF",
           "#FECB52"
          ],
          "font": {
           "color": "#2a3f5f"
          },
          "geo": {
           "bgcolor": "white",
           "lakecolor": "white",
           "landcolor": "#E5ECF6",
           "showlakes": true,
           "showland": true,
           "subunitcolor": "white"
          },
          "hoverlabel": {
           "align": "left"
          },
          "hovermode": "closest",
          "mapbox": {
           "style": "light"
          },
          "paper_bgcolor": "white",
          "plot_bgcolor": "#E5ECF6",
          "polar": {
           "angularaxis": {
            "gridcolor": "white",
            "linecolor": "white",
            "ticks": ""
           },
           "bgcolor": "#E5ECF6",
           "radialaxis": {
            "gridcolor": "white",
            "linecolor": "white",
            "ticks": ""
           }
          },
          "scene": {
           "xaxis": {
            "backgroundcolor": "#E5ECF6",
            "gridcolor": "white",
            "gridwidth": 2,
            "linecolor": "white",
            "showbackground": true,
            "ticks": "",
            "zerolinecolor": "white"
           },
           "yaxis": {
            "backgroundcolor": "#E5ECF6",
            "gridcolor": "white",
            "gridwidth": 2,
            "linecolor": "white",
            "showbackground": true,
            "ticks": "",
            "zerolinecolor": "white"
           },
           "zaxis": {
            "backgroundcolor": "#E5ECF6",
            "gridcolor": "white",
            "gridwidth": 2,
            "linecolor": "white",
            "showbackground": true,
            "ticks": "",
            "zerolinecolor": "white"
           }
          },
          "shapedefaults": {
           "line": {
            "color": "#2a3f5f"
           }
          },
          "ternary": {
           "aaxis": {
            "gridcolor": "white",
            "linecolor": "white",
            "ticks": ""
           },
           "baxis": {
            "gridcolor": "white",
            "linecolor": "white",
            "ticks": ""
           },
           "bgcolor": "#E5ECF6",
           "caxis": {
            "gridcolor": "white",
            "linecolor": "white",
            "ticks": ""
           }
          },
          "title": {
           "x": 0.05
          },
          "xaxis": {
           "automargin": true,
           "gridcolor": "white",
           "linecolor": "white",
           "ticks": "",
           "title": {
            "standoff": 15
           },
           "zerolinecolor": "white",
           "zerolinewidth": 2
          },
          "yaxis": {
           "automargin": true,
           "gridcolor": "white",
           "linecolor": "white",
           "ticks": "",
           "title": {
            "standoff": 15
           },
           "zerolinecolor": "white",
           "zerolinewidth": 2
          }
         }
        },
        "title": {
         "text": "(b) HASC",
         "x": 0.06,
         "y": 0.82
        },
        "xaxis": {
         "autorange": true,
         "range": [
          -13400.5,
          9399.5
         ],
         "title": {
          "text": "Bucket index difference"
         },
         "type": "linear"
        },
        "yaxis": {
         "autorange": true,
         "range": [
          0,
          809.4736842105264
         ],
         "title": {
          "text": "Count"
         }
        }
       }
      },
      "image/png": "[encoded data removed]"
     },
     "metadata": {},
     "output_type": "display_data"
    }
   ],
   "source": [
    "fig = go.Figure(data=[go.Histogram(x=upscaled_cps_hasc_df.max_index_diff)])\n",
    "fig.update_layout(\n",
    "    xaxis_title_text='Bucket index difference', # xaxis label\n",
    "    yaxis_title_text='Count', # yaxis label\n",
    "    height=400, \n",
    "    font=dict(\n",
    "            family=\"Arial\",\n",
    "            size=12,\n",
    "            color=\"black\"\n",
    "            ),\n",
    "    title=dict(\n",
    "            text=\"(b) HASC\",\n",
    "            y=0.82,\n",
    "            x=0.06\n",
    "            )\n",
    ")\n",
    "fig.write_image(\"results/figures/distribution_bucket_index_diffs_HASC.svg\", scale=1, width=1000, height=400)\n",
    "fig.show()"
   ]
  },
  {
   "cell_type": "markdown",
   "id": "05171a42-259e-4f94-af9c-dcf67f522e97",
   "metadata": {},
   "source": [
    "# Bucket Scaling"
   ]
  },
  {
   "cell_type": "markdown",
   "id": "956cde66-9962-4d41-8ba1-3cd42e855c1b",
   "metadata": {},
   "source": [
    "## TSSB"
   ]
  },
  {
   "cell_type": "code",
   "execution_count": null,
   "id": "ba150ac4-7d8a-4610-bdbb-60801bbed599",
   "metadata": {},
   "outputs": [],
   "source": [
    "finetuned_upscaled_cps_tssb = upscale_cps_finetuned(upscaled_cps_tssb_df,tssb,methods,[q1_tssb,q3_tssb])"
   ]
  },
  {
   "cell_type": "code",
   "execution_count": null,
   "id": "6f42a812-efbe-4dc6-9f82-917c4907c290",
   "metadata": {},
   "outputs": [],
   "source": [
    "finetuned_upscaled_cps_tssb_df = pd.DataFrame(finetuned_upscaled_cps_tssb, columns=['method','score_lin','runtime'])"
   ]
  },
  {
   "cell_type": "code",
   "execution_count": 37,
   "id": "cf930aa8-ee7c-48b4-84d6-44712114de90",
   "metadata": {},
   "outputs": [
    {
     "data": {
      "text/html": [
       "<div>\n",
       "<style scoped>\n",
       "    .dataframe tbody tr th:only-of-type {\n",
       "        vertical-align: middle;\n",
       "    }\n",
       "\n",
       "    .dataframe tbody tr th {\n",
       "        vertical-align: top;\n",
       "    }\n",
       "\n",
       "    .dataframe thead th {\n",
       "        text-align: right;\n",
       "    }\n",
       "</style>\n",
       "<table border=\"1\" class=\"dataframe\">\n",
       "  <thead>\n",
       "    <tr style=\"text-align: right;\">\n",
       "      <th></th>\n",
       "      <th>LinearScaling</th>\n",
       "      <th>maximum_diff</th>\n",
       "      <th>gradient</th>\n",
       "      <th>moving_avg</th>\n",
       "      <th>window_features</th>\n",
       "      <th>local_clasp</th>\n",
       "    </tr>\n",
       "  </thead>\n",
       "  <tbody>\n",
       "    <tr>\n",
       "      <th>mean</th>\n",
       "      <td>0.753692</td>\n",
       "      <td>0.586549</td>\n",
       "      <td>0.587903</td>\n",
       "      <td>0.599211</td>\n",
       "      <td>0.738173</td>\n",
       "      <td>0.583582</td>\n",
       "    </tr>\n",
       "    <tr>\n",
       "      <th>median</th>\n",
       "      <td>0.804925</td>\n",
       "      <td>0.515549</td>\n",
       "      <td>0.514394</td>\n",
       "      <td>0.524182</td>\n",
       "      <td>0.788770</td>\n",
       "      <td>0.520388</td>\n",
       "    </tr>\n",
       "    <tr>\n",
       "      <th>std</th>\n",
       "      <td>0.244459</td>\n",
       "      <td>0.248895</td>\n",
       "      <td>0.247328</td>\n",
       "      <td>0.244405</td>\n",
       "      <td>0.247832</td>\n",
       "      <td>0.250637</td>\n",
       "    </tr>\n",
       "  </tbody>\n",
       "</table>\n",
       "</div>"
      ],
      "text/plain": [
       "        LinearScaling  maximum_diff  gradient  moving_avg  window_features  \\\n",
       "mean         0.753692      0.586549  0.587903    0.599211         0.738173   \n",
       "median       0.804925      0.515549  0.514394    0.524182         0.788770   \n",
       "std          0.244459      0.248895  0.247328    0.244405         0.247832   \n",
       "\n",
       "        local_clasp  \n",
       "mean       0.583582  \n",
       "median     0.520388  \n",
       "std        0.250637  "
      ]
     },
     "execution_count": 37,
     "metadata": {},
     "output_type": "execute_result"
    }
   ],
   "source": [
    "fine_tuned_score_sumMat_tssb = score_comparison_matrix_fineTuning(finetuned_upscaled_cps_tssb_df[['method','score_lin']])\n",
    "fine_tuned_score_sumMat_tssb.to_excel(\"results/tables/summary_statistics_UCPS_finetuning_TSSB.xlsx\")\n",
    "fine_tuned_score_sumMat_tssb"
   ]
  },
  {
   "cell_type": "code",
   "execution_count": null,
   "id": "0b669968-1103-4601-b578-a96f6f20c425",
   "metadata": {},
   "outputs": [],
   "source": [
    "# add upscaled cps with best approach to dataframe and save (linear)\n",
    "tssb_res_dsW = pd.read_pickle('results/zwischenergebnisse/clasp_on_downsampled_TS_TSSB_dsW.pkl')\n",
    "tssb_res_ucps_dsW = add_upscaled_and_score(tssb_res_dsW, tssb, 'linear')\n",
    "tssb_res_ucps_dsW.to_pickle(\"results/zwischenergebnisse/clasp_on_downsampled_TS_TSSB_dsW_ucps.pkl\")"
   ]
  },
  {
   "cell_type": "markdown",
   "id": "c55c8abd-2504-477f-aea2-8e3a5a456576",
   "metadata": {},
   "source": [
    "## HASC"
   ]
  },
  {
   "cell_type": "code",
   "execution_count": null,
   "id": "b7356bbe-2988-4be8-a74c-fcdb7a282ded",
   "metadata": {},
   "outputs": [],
   "source": [
    "finetuned_upscaled_cps_hasc = upscale_cps_finetuned(upscaled_cps_hasc_df,hasc,methods,[q1_hasc,q3_hasc])"
   ]
  },
  {
   "cell_type": "code",
   "execution_count": null,
   "id": "346a3ff5-bcc9-49b5-8427-a0096be7f844",
   "metadata": {},
   "outputs": [],
   "source": [
    "finetuned_upscaled_cps_hasc_df = pd.DataFrame(finetuned_upscaled_cps_hasc, columns=['method','score_lin','runtime'])"
   ]
  },
  {
   "cell_type": "code",
   "execution_count": 39,
   "id": "0aabac60-6100-437c-b31e-053f9f87ae86",
   "metadata": {},
   "outputs": [
    {
     "data": {
      "text/html": [
       "<div>\n",
       "<style scoped>\n",
       "    .dataframe tbody tr th:only-of-type {\n",
       "        vertical-align: middle;\n",
       "    }\n",
       "\n",
       "    .dataframe tbody tr th {\n",
       "        vertical-align: top;\n",
       "    }\n",
       "\n",
       "    .dataframe thead th {\n",
       "        text-align: right;\n",
       "    }\n",
       "</style>\n",
       "<table border=\"1\" class=\"dataframe\">\n",
       "  <thead>\n",
       "    <tr style=\"text-align: right;\">\n",
       "      <th></th>\n",
       "      <th>LinearScaling</th>\n",
       "      <th>maximum_diff</th>\n",
       "      <th>gradient</th>\n",
       "      <th>moving_avg</th>\n",
       "      <th>window_features</th>\n",
       "      <th>local_clasp</th>\n",
       "    </tr>\n",
       "  </thead>\n",
       "  <tbody>\n",
       "    <tr>\n",
       "      <th>mean</th>\n",
       "      <td>0.711923</td>\n",
       "      <td>0.594099</td>\n",
       "      <td>0.595913</td>\n",
       "      <td>0.616230</td>\n",
       "      <td>0.709206</td>\n",
       "      <td>0.599604</td>\n",
       "    </tr>\n",
       "    <tr>\n",
       "      <th>median</th>\n",
       "      <td>0.746093</td>\n",
       "      <td>0.513660</td>\n",
       "      <td>0.516261</td>\n",
       "      <td>0.559911</td>\n",
       "      <td>0.748678</td>\n",
       "      <td>0.519361</td>\n",
       "    </tr>\n",
       "    <tr>\n",
       "      <th>std</th>\n",
       "      <td>0.234787</td>\n",
       "      <td>0.261855</td>\n",
       "      <td>0.260407</td>\n",
       "      <td>0.249577</td>\n",
       "      <td>0.238803</td>\n",
       "      <td>0.260045</td>\n",
       "    </tr>\n",
       "  </tbody>\n",
       "</table>\n",
       "</div>"
      ],
      "text/plain": [
       "        LinearScaling  maximum_diff  gradient  moving_avg  window_features  \\\n",
       "mean         0.711923      0.594099  0.595913    0.616230         0.709206   \n",
       "median       0.746093      0.513660  0.516261    0.559911         0.748678   \n",
       "std          0.234787      0.261855  0.260407    0.249577         0.238803   \n",
       "\n",
       "        local_clasp  \n",
       "mean       0.599604  \n",
       "median     0.519361  \n",
       "std        0.260045  "
      ]
     },
     "execution_count": 39,
     "metadata": {},
     "output_type": "execute_result"
    }
   ],
   "source": [
    "fine_tuned_score_sumMat_hasc = score_comparison_matrix_fineTuning(finetuned_upscaled_cps_hasc_df[['method','score_lin']])\n",
    "fine_tuned_score_sumMat_hasc.to_excel(\"results/tables/summary_statistics_UCPS_finetuning_HASC.xlsx\")\n",
    "fine_tuned_score_sumMat_hasc"
   ]
  },
  {
   "cell_type": "code",
   "execution_count": null,
   "id": "13fe35c4-396c-4d29-bdfd-e5435345dd23",
   "metadata": {},
   "outputs": [],
   "source": [
    "# add upscaled cps with best approach to dataframe and save\n",
    "hasc_res_ucps = add_upscaled_and_score(hasc_res, hasc, 'linear')\n",
    "hasc_res_ucps.to_pickle(\"results/zwischenergebnisse/clasp_on_downsampled_TS_HASC_origW_ucps.pkl\")\n",
    "\n",
    "hasc_res_dsW = pd.read_pickle('results/zwischenergebnisse/clasp_on_downsampled_TS_HASC_dsW.pkl')\n",
    "hasc_res_ucps_dsW = add_upscaled_and_score(hasc_res_dsW, hasc, 'linear')\n",
    "hasc_res_ucps_dsW.to_pickle(\"results/zwischenergebnisse/clasp_on_downsampled_TS_HASC_dsW_ucps.pkl\")"
   ]
  }
 ],
 "metadata": {
  "kernelspec": {
   "display_name": "Python 3 (ipykernel)",
   "language": "python",
   "name": "python3"
  },
  "language_info": {
   "codemirror_mode": {
    "name": "ipython",
    "version": 3
   },
   "file_extension": ".py",
   "mimetype": "text/x-python",
   "name": "python",
   "nbconvert_exporter": "python",
   "pygments_lexer": "ipython3",
   "version": "3.11.5"
  }
 },
 "nbformat": 4,
 "nbformat_minor": 5
}
