{
 "cells": [
  {
   "cell_type": "code",
   "execution_count": null,
   "id": "b8844d6d-a8f2-4d68-8714-5ceaf55652af",
   "metadata": {},
   "outputs": [],
   "source": [
    "#import standard libs\n",
    "import numpy as np\n",
    "import pandas as pd\n",
    "import plotly.graph_objects as go\n",
    "import importlib\n",
    "from tqdm import tqdm\n",
    "from scipy.stats import linregress\n",
    "import tsfel\n",
    "from sklearn.preprocessing import normalize"
   ]
  },
  {
   "cell_type": "code",
   "execution_count": null,
   "id": "916397d4-e56e-4aec-a5f5-9eb9f1092f37",
   "metadata": {},
   "outputs": [],
   "source": [
    "# custom utils\n",
    "import mt_utils as ut\n",
    "import parameter_utils as pu"
   ]
  },
  {
   "cell_type": "code",
   "execution_count": null,
   "id": "8906d501-34a9-49f5-8b57-8ea98e1007b1",
   "metadata": {},
   "outputs": [],
   "source": [
    "importlib.reload(ut)"
   ]
  },
  {
   "cell_type": "code",
   "execution_count": null,
   "id": "5b78f0b5-cc3d-430a-9933-9604900fa691",
   "metadata": {},
   "outputs": [],
   "source": [
    "importlib.reload(pu)"
   ]
  },
  {
   "cell_type": "code",
   "execution_count": null,
   "id": "e00ad94c-c6a4-498b-a3b2-ebbc174a3b5b",
   "metadata": {},
   "outputs": [],
   "source": [
    "#import claspy\n",
    "from claspy.segmentation import BinaryClaSPSegmentation\n",
    "from claspy.data_loader import load_tssb_dataset\n",
    "from claspy.data_loader import load_has_dataset"
   ]
  },
  {
   "cell_type": "code",
   "execution_count": null,
   "id": "5d05116d-4810-4693-946c-040a9bac4054",
   "metadata": {},
   "outputs": [],
   "source": [
    "tssb = load_tssb_dataset()\n",
    "hasc = load_has_dataset()"
   ]
  },
  {
   "cell_type": "code",
   "execution_count": null,
   "id": "b0ac54f7-2f65-41bb-aab4-8184c68dce28",
   "metadata": {},
   "outputs": [],
   "source": [
    "tssb_res = pd.read_pickle('results/zwischenergebnisse/clasp_on_downsampled_TS_TSSB_origW_ucps.pkl')\n",
    "tssb_cfs = pd.read_pickle(\"results/zwischenergebnisse/1a_clasp_splitting_tssb.pkl\")\n",
    "\n",
    "hasc_res = pd.read_pickle('results/zwischenergebnisse/clasp_on_downsampled_TS_HASC_dsW_ucps.pkl')\n",
    "hasc_cfs = pd.read_pickle(\"results/zwischenergebnisse/1a_clasp_splitting_hasc.pkl\")"
   ]
  },
  {
   "cell_type": "code",
   "execution_count": null,
   "id": "52ebc47b-a6ea-40a8-8266-bf926a9feada",
   "metadata": {},
   "outputs": [],
   "source": [
    "tssb_res=tssb_res.astype({'score': 'float'})\n",
    "hasc_res=hasc_res.astype({'score': 'float'})"
   ]
  },
  {
   "cell_type": "code",
   "execution_count": null,
   "id": "3e3867f0-b4fa-4ac8-8abc-aed4432a5060",
   "metadata": {},
   "outputs": [],
   "source": [
    "algo_order=[\"EveryNth\",\"MinMax\",\"M4\",\"LTTB\",\"MinMaxLTTB\",\"LTD\"]\n",
    "algo_order_reversed = ['LTD', 'MinMaxLTTB', 'LTTB', 'M4', 'MinMax', 'EveryNth']"
   ]
  },
  {
   "cell_type": "markdown",
   "id": "922982ec-3447-4dfe-b27f-a64f52a8676b",
   "metadata": {},
   "source": [
    "# Functions"
   ]
  },
  {
   "cell_type": "code",
   "execution_count": null,
   "id": "a8e2984c-7e45-4f4c-bc5d-57704a1b31d3",
   "metadata": {},
   "outputs": [],
   "source": [
    "def score_heatmap(df, dataset, title=None, filepath=None):\n",
    "    t = df.groupby([\"algo\",\"compression\"])[\"score\"].mean().reset_index()\n",
    "    t = t.pivot(index='algo', columns='compression')['score'].fillna(0)\n",
    "    t = t.reindex(algo_order_reversed)\n",
    "    fig = go.Figure(data=go.Heatmap(\n",
    "                   z=t,\n",
    "                   x=t.columns,\n",
    "                   y=t.index,\n",
    "                   colorbar={\"title\": 'Covering Score'},\n",
    "                   zsmooth=False\n",
    "                    )\n",
    "                   )\n",
    "    \n",
    "    fig.update_yaxes(title_text=\"Downsampling Algorithm\")\n",
    "    fig.update_xaxes(title_text=\"Compression Ratio\")\n",
    "    \n",
    "    fig.update_layout(height=400, \n",
    "                      font=dict(\n",
    "                          family=\"Arial\",\n",
    "                          size=12,\n",
    "                          color=\"black\"\n",
    "                      ),\n",
    "                      title=dict(\n",
    "                          text=title\n",
    "                      ),\n",
    "                      margin=dict(l=0, r=0, t=30, b=0)\n",
    "                     )\n",
    "    if filepath:\n",
    "        fig.write_image(filepath, scale=1, width=1000, height=400)\n",
    "        fig.write_image(filepath.replace('.svg', '.png'), scale=3, width=1000, height=400)\n",
    "    fig.show()"
   ]
  },
  {
   "cell_type": "code",
   "execution_count": null,
   "id": "05c799ee-5fd7-4bf8-8dd6-2a90215f26ea",
   "metadata": {},
   "outputs": [],
   "source": [
    "def plot_ws_differences(df, cr, filepath=None):\n",
    "    df = df[df.compression==cr]\n",
    "    fig = go.Figure(\n",
    "        layout=dict(\n",
    "            xaxis=dict(categoryorder=\"category descending\"),\n",
    "            scattermode=\"group\"\n",
    "            )\n",
    "        )\n",
    "\n",
    "    fig.add_trace(go.Histogram(histfunc=\"avg\", y=df.diff_scores, x=df.window_size, \n",
    "                               name='Diff. original and downsampled score', \n",
    "                               offsetgroup=1\n",
    "                              )\n",
    "                 )\n",
    "    \n",
    "    fig.update_yaxes(title_text=\"Diff. original and downsampled score\")\n",
    "    fig.update_xaxes(title_text=\"Window Size\")\n",
    "\n",
    "    fig.update_layout(height=400, \n",
    "                      font=dict(\n",
    "                          family=\"Arial\",\n",
    "                          size=12,\n",
    "                          color=\"black\"\n",
    "                      ),\n",
    "                      title=dict(\n",
    "                          text=\"Compression ratio = \"+str(cr)\n",
    "                      ),\n",
    "                      margin=dict(l=0, r=0, t=30, b=0)\n",
    "                     )\n",
    "    \n",
    "    if filepath:\n",
    "        fig.write_image(filepath, scale=1, width=1000, height=400)\n",
    "        \n",
    "    fig.show()"
   ]
  },
  {
   "cell_type": "code",
   "execution_count": null,
   "id": "59391772-d64d-4dee-9d8f-6e6e5836eae9",
   "metadata": {},
   "outputs": [],
   "source": [
    "def cr_score_matrix(df_res, cr_wBased_df, cr_wBasedalgo_df, cr_ftBased_df, best_cr, filepath=None):\n",
    "    mean_score_cr_wBased=cr_wBased_df[['algo','score']].groupby(by='algo').mean().rename(columns={'score':'score_cr_wBased'})\n",
    "    mean_score_cr_wBasedalgo=cr_wBasedalgo_df[['algo','score']].groupby(by='algo').mean().rename(columns={'score':'score_cr_wBased_algo'})\n",
    "    mean_score_cr_ftBased=cr_ftBased_df[['algo','score']].groupby(by='algo').mean().rename(columns={'score':'score_cr_ftBased'})\n",
    "    mean_score_allCRs = df_res[['algo','score']].groupby(by='algo').mean().rename(columns={'score':'score_all_cr'})\n",
    "    mean_score_prevBestCR = df_res[df_res.compression==best_cr][['algo','score']].groupby(by='algo').mean().rename(columns={'score':'score_prev_best_cr'})\n",
    "    \n",
    "    all_crs = pd.concat([mean_score_allCRs,mean_score_prevBestCR,mean_score_cr_wBased,mean_score_cr_wBasedalgo,mean_score_cr_ftBased], axis=1)\n",
    "    all_crs = all_crs.reindex(algo_order)\n",
    "    if filepath:\n",
    "        all_crs.to_excel(filepath)\n",
    "    return all_crs "
   ]
  },
  {
   "cell_type": "code",
   "execution_count": null,
   "id": "5e3ee183-892d-44fe-a7b9-e59fab7d29a9",
   "metadata": {},
   "outputs": [],
   "source": [
    "def add_score_diffs_tssb(row):\n",
    "    orig_score = tssb_cfs[(tssb_cfs.Algorithm=='None') & (tssb_cfs.orig_TS_ID==row.orig_TS_ID)].score.values[0]\n",
    "    return orig_score-row.score\n",
    "\n",
    "def add_score_diffs_hasc(row):\n",
    "    orig_score = hasc_cfs[(hasc_cfs.Algorithm=='None') & (hasc_cfs.orig_TS_ID==row.orig_TS_ID)].score.values[0]\n",
    "    return orig_score-row.score"
   ]
  },
  {
   "cell_type": "code",
   "execution_count": null,
   "id": "8f70225a-5bb5-4e1a-bb46-9b611789f9d0",
   "metadata": {},
   "outputs": [],
   "source": [
    "def optimal_cr_w_based(df,ref_df,w_threshold,scale, ubound=False):\n",
    "    import warnings\n",
    "    warnings.filterwarnings('ignore')\n",
    "    out=pd.DataFrame(columns=list(ref_df.columns.values))\n",
    "    for index, row in tqdm(df.iterrows(), total=len(df), desc=\"Processing rows\"):\n",
    "        for algo in algo_order:\n",
    "            if ubound:\n",
    "                cr = pu.find_cr_based_on_w_ubound(row.time_series, w_threshold, scale, algo)\n",
    "            else:\n",
    "                cr = pu.find_cr_based_on_w(row.time_series, w_threshold, scale, algo)\n",
    "            out_df_slice = ref_df.loc[(ref_df.compression==cr)&(ref_df.orig_TS_ID==index)&(ref_df.algo==algo)].reset_index(drop=True)\n",
    "        \n",
    "            out=pd.concat([out,out_df_slice]).reset_index(drop=True)\n",
    "    return out"
   ]
  },
  {
   "cell_type": "code",
   "execution_count": null,
   "id": "d3d30ec8-fbcb-44b1-9c42-9de329c10dee",
   "metadata": {},
   "outputs": [],
   "source": [
    "def optimal_cr_w_based_summary(df,ref_df,w_thresholds, scale, ubound=False):\n",
    "    import warnings\n",
    "    warnings.filterwarnings('ignore')\n",
    "    out=pd.DataFrame(columns=list(ref_df.columns.values))\n",
    "    out2=pd.DataFrame(columns=list(ref_df.columns.values))\n",
    "    for index, row in tqdm(df.iterrows(), total=len(df), desc=\"Processing rows\"):                \n",
    "        for algo in algo_order:\n",
    "            # mean window size threshold (same for all algos) and\n",
    "            # algo-specific window size threshold\n",
    "            if ubound:\n",
    "                cr = pu.find_cr_based_on_w_ubound(row.time_series, w_thresholds['mean'], scale, algo)\n",
    "                cr_algo = pu.find_cr_based_on_w_ubound(row.time_series, w_thresholds[algo], scale, algo)\n",
    "            else:                \n",
    "                cr = pu.find_cr_based_on_w(row.time_series, w_thresholds['mean'], scale, algo)\n",
    "                cr_algo = pu.find_cr_based_on_w(row.time_series, w_thresholds[algo], scale, algo)\n",
    "\n",
    "            out_df_slice = ref_df.loc[(ref_df.compression==cr)&(ref_df.orig_TS_ID==index)&(ref_df.algo==algo)].reset_index(drop=True)\n",
    "            out_dfalgo_slice = ref_df.loc[(ref_df.compression==cr_algo)&(ref_df.orig_TS_ID==index)&(ref_df.algo==algo)].reset_index(drop=True)\n",
    "        \n",
    "            out=pd.concat([out,out_df_slice]).reset_index(drop=True)\n",
    "            out2=pd.concat([out2,out_dfalgo_slice]).reset_index(drop=True)\n",
    "    return out, out2"
   ]
  },
  {
   "cell_type": "code",
   "execution_count": null,
   "id": "8ed62a3f-757a-4b9c-822d-7cbadf55d591",
   "metadata": {},
   "outputs": [],
   "source": [
    "def get_w_thresholds_general(w_bounds, step, df, df_ref, scale, save_path, ubound=False):\n",
    "    # output scores for each window size theshold within interval in given steps\n",
    "    # result is not grouped by downsampling algorithm\n",
    "    ws = np.arange(w_bounds[0],w_bounds[1],step)\n",
    "    curr_df = optimal_cr_w_based(df,df_ref,ws[0], scale, ubound)\n",
    "    vals = {'mean':curr_df.score.mean(),'median':curr_df.score.median(),'std':curr_df.score.std()}\n",
    "    w_series = pd.Series(vals,name=ws[0])\n",
    "    out = pd.DataFrame(w_series)\n",
    "    for w in ws[1:]:\n",
    "        curr_df = optimal_cr_w_based(df,df_ref,w, scale)\n",
    "        vals = {'mean':curr_df.score.mean(),'median':curr_df.score.median(),'std':curr_df.score.std()}\n",
    "        w_series = pd.Series(vals,name=w)\n",
    "        out = pd.concat([out,w_series],axis=1)\n",
    "\n",
    "    if save_path:\n",
    "        out.to_excel(save_path)\n",
    "    return out"
   ]
  },
  {
   "cell_type": "code",
   "execution_count": null,
   "id": "4b825410-b5a1-411f-987a-0e46217d215e",
   "metadata": {},
   "outputs": [],
   "source": [
    "def get_best_thresholds_per_algo(threshold_df):    \n",
    "    thresholds = {}\n",
    "    for index, row in tqdm(threshold_df.iterrows(), total=len(threshold_df), desc=\"Processing rows\"):\n",
    "        thresholds[index] = row.idxmax()\n",
    "    \n",
    "    return thresholds"
   ]
  },
  {
   "cell_type": "code",
   "execution_count": null,
   "id": "ddeff631-e72d-4d7c-857c-eecf57cddb26",
   "metadata": {},
   "outputs": [],
   "source": [
    "def mean_squared_error(ts):\n",
    "    out = []\n",
    "    if ts.ndim == 1:\n",
    "        ts = ts.reshape(1, -1)\n",
    "    for t in ts:\n",
    "        indices = np.arange(0, len(t))\n",
    "        enum_ts = np.column_stack((indices, t))\n",
    "        out.append(linregress(enum_ts).stderr/len(t))\n",
    "        \n",
    "    return np.mean(out)"
   ]
  },
  {
   "cell_type": "code",
   "execution_count": null,
   "id": "9774464e-b325-41fc-9e31-3ddf18e4ae94",
   "metadata": {},
   "outputs": [],
   "source": [
    "domains = ['statistical','temporal','spectral']\n",
    "algos = tssb_res.algo.unique()\n",
    "feature_cols = np.append(domains, ['MSE'])\n",
    "feature_names = feature_cols.tolist()\n",
    "algo_names = algos.tolist()\n",
    "data_cols = ['orig_TS_ID','algo', 'compression', 'score']\n",
    "columns = np.concatenate((data_cols,feature_cols),axis=None)\n",
    "\n",
    "def create_feature_df(dataset,orig_data):\n",
    "    out = []\n",
    "    for index, row in tqdm(dataset.iterrows(), total=len(dataset), desc=\"Processing rows\"):\n",
    "        ts = orig_data.iloc[row.orig_TS_ID].time_series\n",
    "        if ts.ndim == 1:\n",
    "            ts = normalize(ts.reshape(1, -1), norm=\"max\").squeeze()\n",
    "        else:\n",
    "           ts = normalize(ts.transpose(), norm=\"max\").transpose()\n",
    "        domain_fts = []\n",
    "        for domain in domains:\n",
    "            cfg = tsfel.get_features_by_domain(domain)\n",
    "            features_curr = np.mean(np.asarray(tsfel.time_series_features_extractor(cfg, ts, verbose=0)).squeeze())\n",
    "            domain_fts.append(features_curr)\n",
    "        features_curr = np.append(domain_fts, [mean_squared_error(ts.transpose())])\n",
    "        data_curr = np.asarray(row[data_cols])\n",
    "        curr_row = np.concatenate((data_curr,features_curr),axis=None)\n",
    "        out.append(curr_row)\n",
    "    return out"
   ]
  },
  {
   "cell_type": "code",
   "execution_count": null,
   "id": "e9cf32cc-c915-4d10-b359-783b1246446e",
   "metadata": {},
   "outputs": [],
   "source": [
    "def create_corr_matrix_features(data, save_path=None):\n",
    "    coeff_matrix = np.zeros((len(algos),len(feature_cols)))\n",
    "    for i, algo in enumerate(algos):\n",
    "        df = data[data['algo']==algo]\n",
    "        for j, feature in enumerate(feature_cols):\n",
    "            x = np.asarray(df[feature])\n",
    "            y = np.asarray(df.compression)\n",
    "            coeff_matrix[i,j] = np.corrcoef(x, y)[0,1]\n",
    "            \n",
    "    correlations = pd.DataFrame(coeff_matrix,columns=feature_names, index=algo_names )\n",
    "    if save_path:\n",
    "        correlations.to_excel(save_path)\n",
    "    return correlations"
   ]
  },
  {
   "cell_type": "code",
   "execution_count": null,
   "id": "79d0ec20-8891-4a18-a7c2-6cb992874ef8",
   "metadata": {},
   "outputs": [],
   "source": [
    "def max_scores_ts_algo(df):\n",
    "    idx = df.groupby(['orig_TS_ID','algo'])['score'].idxmax()\n",
    "    max_scores_per_algo = df.loc[idx].reset_index()\n",
    "    return max_scores_per_algo"
   ]
  },
  {
   "cell_type": "code",
   "execution_count": null,
   "id": "bb7c4048-778a-42bf-8a72-6111116fc3f5",
   "metadata": {},
   "outputs": [],
   "source": [
    "def create_indicator_matrix(filename=None):\n",
    "    columns = ['dataset', 'algorithm', 'best_indicator', 'correlation_coefficient', 'min_feature', 'max_feature']\n",
    "    result = []\n",
    "    for index, row in corr_mat_tssb.iterrows():\n",
    "        idx_max_val = abs(row).idxmax()\n",
    "        max_val = row[idx_max_val]\n",
    "        result.append(['TSSB', index, idx_max_val, max_val, df_features_cr_tssb[idx_max_val].min(), df_features_cr_tssb[idx_max_val].max()])\n",
    "    \n",
    "    for index, row in corr_mat_hasc.iterrows():\n",
    "        idx_max_val = abs(row).idxmax()\n",
    "        max_val = row[idx_max_val]\n",
    "        result.append(['HASC', index, idx_max_val, max_val, df_features_cr_hasc[idx_max_val].min(), df_features_cr_hasc[idx_max_val].max()])\n",
    "    \n",
    "    indicator_mat = pd.DataFrame(result,columns=columns)\n",
    "    if filename:\n",
    "        indicator_mat.to_excel(\"results/tables/\"+filename+\".xlsx\")\n",
    "        indicator_mat.to_pickle(\"results/zwischenergebnisse/\"+filename+\".pkl\")\n",
    "    return indicator_mat"
   ]
  },
  {
   "cell_type": "code",
   "execution_count": null,
   "id": "2db5373e-66ba-4f5e-ab29-da97f82aa561",
   "metadata": {},
   "outputs": [],
   "source": [
    "def find_cr_based_on_features(corr_koeff, minx, maxx, x, cr_interval=[0.1,0.9]):\n",
    "    skalierungsintervall = [round((cr_interval[0]-cr_interval[1])/corr_koeff), round((cr_interval[1]-cr_interval[1])/corr_koeff)]\n",
    "    skalierungsintervall = [min(skalierungsintervall), max(skalierungsintervall)]\n",
    "    new_x = skalierungsintervall[0] + (((x-minx)*(skalierungsintervall[1]-skalierungsintervall[0]))/(maxx-minx))\n",
    "    cr = corr_koeff*new_x+cr_interval[1]\n",
    "    if cr < cr_interval[0]:\n",
    "        cr = cr_interval[0]\n",
    "    elif cr > cr_interval[1]:\n",
    "        cr = cr_interval[1]\n",
    "    return np.round(cr,1)"
   ]
  },
  {
   "cell_type": "code",
   "execution_count": null,
   "id": "e1cb1c86-ad8e-46ec-902d-0406cf187405",
   "metadata": {},
   "outputs": [],
   "source": [
    "def get_feature(ts, feature_name):\n",
    "    match feature_name:\n",
    "        case \"MSE\":\n",
    "            return mean_squared_error(ts)\n",
    "        case _:\n",
    "            cfg = tsfel.get_features_by_domain(feature_name)\n",
    "            return np.mean(np.asarray(tsfel.time_series_features_extractor(cfg, ts, verbose=0)).squeeze())"
   ]
  },
  {
   "cell_type": "code",
   "execution_count": null,
   "id": "76ad16ad-6906-4b3c-b05c-582cba0d9e83",
   "metadata": {},
   "outputs": [],
   "source": [
    "def optimal_cr_feature_based(df, benchmark, indicator_matrix):\n",
    "    out=pd.DataFrame(columns=list(df.columns.values))\n",
    "    for index, row in tqdm(df.iterrows(), total=len(df), desc=\"Processing rows\"):\n",
    "        indicator_series = indicator_matrix.loc[(indicator_matrix.dataset==benchmark)&(indicator_matrix.algorithm==row.algo)]\n",
    "        feature_val = get_feature(row.time_series, indicator_series.best_indicator.values[0])\n",
    "        \n",
    "        cr = find_cr_based_on_features(corr_koeff=indicator_series.correlation_coefficient.values[0], \n",
    "                                       minx=indicator_series.min_feature.values[0], \n",
    "                                       maxx=indicator_series.max_feature.values[0], \n",
    "                                       x=feature_val)\n",
    "        \n",
    "        out_df_slice = df.loc[(df.compression==cr)&(df.orig_TS_ID==index)].reset_index(drop=True)\n",
    "        \n",
    "        out=pd.concat([out,out_df_slice]).reset_index(drop=True)\n",
    "    return out"
   ]
  },
  {
   "cell_type": "markdown",
   "id": "354fa273-81e1-4b0a-95bc-d5ac0d2b0326",
   "metadata": {},
   "source": [
    "# Analysis"
   ]
  },
  {
   "cell_type": "markdown",
   "id": "4bc62c14-519f-4ef7-bb5c-e968329b3e91",
   "metadata": {},
   "source": [
    "## Window Size - based Compression Ratio"
   ]
  },
  {
   "cell_type": "markdown",
   "id": "c830e6ad-0670-4308-b2ee-998989357dc4",
   "metadata": {},
   "source": [
    "### TSSB"
   ]
  },
  {
   "cell_type": "code",
   "execution_count": null,
   "id": "252d5aff-a46c-40a6-b66a-1589ccb1c85f",
   "metadata": {},
   "outputs": [],
   "source": [
    "score_heatmap(tssb_res, \"TSSB\", title='(a) TSSB', filepath=\"results/figures/heatmap_meanScore_perAlgo_compRatio_TSSB.svg\")"
   ]
  },
  {
   "cell_type": "code",
   "execution_count": null,
   "id": "1ba304bc-8a5f-4f92-9fdf-fef75b18170d",
   "metadata": {},
   "outputs": [],
   "source": [
    "tssb_res['diff_scores'] = tssb_res.apply(add_score_diffs_tssb,axis=1)\n",
    "crs_lim=np.round(np.arange(0.2,0.8,0.1),1)\n",
    "for cr in crs_lim:\n",
    "    plot_ws_differences(tssb_res, cr, filepath=\"results/figures/optimalCR/WS_scoreDependency_CR\" + str(cr).replace('.','') + \"_TSSB.svg\")"
   ]
  },
  {
   "cell_type": "code",
   "execution_count": null,
   "id": "fb210180-6309-480e-b4cc-d97922c47bc1",
   "metadata": {},
   "outputs": [],
   "source": [
    "w_thresholds_tssb=get_w_thresholds_general([20,36], 5, tssb, tssb_res, scale=0, save_path='results/tables/window_size_threshold_TSSB.xlsx')\n",
    "w_thresholds_tssb"
   ]
  },
  {
   "cell_type": "markdown",
   "id": "d5ae096d-6d93-402f-ab90-a3c68b4989fe",
   "metadata": {},
   "source": [
    "### HASC"
   ]
  },
  {
   "cell_type": "code",
   "execution_count": null,
   "id": "4c633b47-6609-4055-8d85-bb362ae0c21b",
   "metadata": {},
   "outputs": [],
   "source": [
    "score_heatmap(hasc_res, \"HASC\", title='(b) HASC', filepath=\"results/figures/heatmap_meanScore_perAlgo_compRatio_HASC.svg\")"
   ]
  },
  {
   "cell_type": "code",
   "execution_count": null,
   "id": "c6f6aa13-97ac-42f7-8014-a3f489c55720",
   "metadata": {},
   "outputs": [],
   "source": [
    "hasc_res['diff_scores'] = hasc_res.apply(add_score_diffs_hasc,axis=1)\n",
    "crs_lim=np.round(np.arange(0.2,0.8,0.1),1)\n",
    "for cr in crs_lim:\n",
    "    plot_ws_differences(hasc_res, cr, filepath=\"results/figures/optimalCR/WS_scoreDependency_CR\" + str(cr).replace('.','') + \"_HASC.svg\")"
   ]
  },
  {
   "cell_type": "code",
   "execution_count": null,
   "id": "ba7ac112-816a-4abb-a52f-229c2379ea2d",
   "metadata": {},
   "outputs": [],
   "source": [
    "w_thresholds_hasc = get_w_thresholds_general([30,100], 10, hasc, hasc_res, scale=1, \n",
    "                                             save_path='results/tables/window_size_threshold_HASC.xlsx', ubound=True)\n",
    "w_thresholds_hasc"
   ]
  },
  {
   "cell_type": "markdown",
   "id": "e3904c97-1703-4224-b83c-584d1e106091",
   "metadata": {},
   "source": [
    "## Feature - based Compression Ratio"
   ]
  },
  {
   "cell_type": "markdown",
   "id": "fab29798-f49e-41aa-a76e-f0296f7b493f",
   "metadata": {},
   "source": [
    "### TSSB"
   ]
  },
  {
   "cell_type": "code",
   "execution_count": null,
   "id": "a48e78c0-a318-497b-89f4-d618990eb892",
   "metadata": {},
   "outputs": [],
   "source": [
    "max_scores_tssb=max_scores_ts_algo(tssb_res)\n",
    "max_scores_tssb"
   ]
  },
  {
   "cell_type": "code",
   "execution_count": null,
   "id": "53db7ffc-9653-46d9-b15b-46a990570523",
   "metadata": {},
   "outputs": [],
   "source": [
    "features_cr = create_feature_df(max_scores_tssb,tssb)\n",
    "df_features_cr_tssb = pd.DataFrame(features_cr, columns=columns)\n",
    "df_features_cr_tssb.to_pickle(\"results/zwischenergebnisse/cf_score_features_TSSB.pkl\")\n",
    "df_features_cr_tssb"
   ]
  },
  {
   "cell_type": "code",
   "execution_count": null,
   "id": "10b06a29-7493-4cf4-9228-0db68b158d74",
   "metadata": {},
   "outputs": [],
   "source": [
    "corr_mat_tssb = create_corr_matrix_features(df_features_cr_tssb, save_path=\"results/tables/featureBasedCR_featureCorrelations_TSSB.xlsx\")\n",
    "corr_mat_tssb"
   ]
  },
  {
   "cell_type": "markdown",
   "id": "ffff3899-ad55-4716-9519-477db390acee",
   "metadata": {},
   "source": [
    "### HASC"
   ]
  },
  {
   "cell_type": "code",
   "execution_count": null,
   "id": "b07e1cad-fb4c-4192-aa60-acf3e471b2c8",
   "metadata": {},
   "outputs": [],
   "source": [
    "max_scores_hasc=max_scores_ts_algo(hasc_res)\n",
    "max_scores_hasc"
   ]
  },
  {
   "cell_type": "code",
   "execution_count": null,
   "id": "41a5dc22-7b13-4590-96eb-0fe2e08775f2",
   "metadata": {},
   "outputs": [],
   "source": [
    "features_cr = create_feature_df(max_scores_hasc,hasc)\n",
    "df_features_cr_hasc = pd.DataFrame(features_cr, columns=columns)\n",
    "df_features_cr_hasc.to_pickle(\"results/zwischenergebnisse/cf_score_features_HASC.pkl\")\n",
    "df_features_cr_hasc"
   ]
  },
  {
   "cell_type": "code",
   "execution_count": null,
   "id": "6e6dcfea-43c3-4993-8304-b55638603333",
   "metadata": {},
   "outputs": [],
   "source": [
    "corr_mat_hasc = create_corr_matrix_features(df_features_cr_hasc, save_path=\"results/tables/featureBasedCR_featureCorrelations_HASC.xlsx\")\n",
    "corr_mat_hasc"
   ]
  },
  {
   "cell_type": "markdown",
   "id": "3a0b3da9-3146-4cc8-8ff5-e1c9507cd026",
   "metadata": {},
   "source": [
    "## Result Summary"
   ]
  },
  {
   "cell_type": "code",
   "execution_count": null,
   "id": "26aad6dd-97b1-4e2d-972c-299859943ec9",
   "metadata": {},
   "outputs": [],
   "source": [
    "indicator_matrix=create_indicator_matrix(filename='feature_indicator_matrix')\n",
    "indicator_matrix"
   ]
  },
  {
   "cell_type": "markdown",
   "id": "ec07463d-7ec8-42b9-802b-174d481c0a9c",
   "metadata": {},
   "source": [
    "### TSSB"
   ]
  },
  {
   "cell_type": "code",
   "execution_count": null,
   "id": "18e81bb2-5a7a-4b71-ba45-016c7cddabb1",
   "metadata": {},
   "outputs": [],
   "source": [
    "best_thresholds_tssb = get_best_thresholds_per_algo(w_thresholds_tssb)\n",
    "best_thresholds_tssb"
   ]
  },
  {
   "cell_type": "code",
   "execution_count": null,
   "id": "40047193-4dd3-448f-996b-bddc26835ac2",
   "metadata": {},
   "outputs": [],
   "source": [
    "tssb_cr_wBased_df, tssb_cr_wBased_algo_df = optimal_cr_w_based_summary(tssb,tssb_res,best_thresholds_tssb,scale=0)"
   ]
  },
  {
   "cell_type": "code",
   "execution_count": null,
   "id": "9553901d-dd21-4c4d-9a6e-e05d34c13c81",
   "metadata": {},
   "outputs": [],
   "source": [
    "tssb_cr_ftBased_df = optimal_cr_feature_based(tssb_res, 'TSSB', indicator_matrix)"
   ]
  },
  {
   "cell_type": "code",
   "execution_count": null,
   "id": "fbde3991-ae90-4f15-a0ad-16ffc9c1e3cf",
   "metadata": {},
   "outputs": [],
   "source": [
    "score_matrix_tssb_crs = cr_score_matrix(tssb_res, tssb_cr_wBased_df, tssb_cr_wBased_algo_df, tssb_cr_ftBased_df, 0.5, \n",
    "                                        filepath=\"results/tables/compression_approaches_scores_TSSB.xlsx\"\n",
    "                                        )\n",
    "score_matrix_tssb_crs.loc['mean'] = score_matrix_tssb_crs.mean()\n",
    "score_matrix_tssb_crs"
   ]
  },
  {
   "cell_type": "code",
   "execution_count": null,
   "id": "96ca3392-6d05-4dc2-8af5-10ab4ac7907d",
   "metadata": {},
   "outputs": [],
   "source": [
    "score_matrix_tssb_crs_noltd = score_matrix_tssb_crs.drop('LTD')\n",
    "summaries=pd.DataFrame(columns=score_matrix_tssb_crs_noltd.columns.values)\n",
    "summaries.loc['mean'] = score_matrix_tssb_crs_noltd.mean()\n",
    "summaries.loc['median'] = score_matrix_tssb_crs_noltd.median()\n",
    "summaries.loc['std'] = score_matrix_tssb_crs_noltd.std()\n",
    "summaries.to_excel(\"results/tables/summmary_statistics_compression_approaches_scores_TSSB.xlsx\")\n",
    "summaries"
   ]
  },
  {
   "cell_type": "markdown",
   "id": "ff7c6525-dd15-4909-9009-168e5c63848d",
   "metadata": {},
   "source": [
    "### HASC"
   ]
  },
  {
   "cell_type": "code",
   "execution_count": null,
   "id": "e62773dc-9609-4786-a560-6507c0e0ccb6",
   "metadata": {},
   "outputs": [],
   "source": [
    "best_thresholds_hasc = get_best_thresholds_per_algo(w_thresholds_hasc)\n",
    "best_thresholds_hasc"
   ]
  },
  {
   "cell_type": "code",
   "execution_count": null,
   "id": "46a23e5f-3584-4f92-afea-3107b3d960e5",
   "metadata": {},
   "outputs": [],
   "source": [
    "import warnings\n",
    "warnings.filterwarnings('ignore')\n",
    "hasc_cr_wBased_df,hasc_cr_wBased_algo_df = optimal_cr_w_based_summary(hasc,hasc_res,best_thresholds_hasc,scale=1,ubound=True)"
   ]
  },
  {
   "cell_type": "code",
   "execution_count": null,
   "id": "3f609530-c24e-4feb-aee1-c34f57d99f2a",
   "metadata": {},
   "outputs": [],
   "source": [
    "hasc_cr_ftBased_df = optimal_cr_feature_based(hasc_res, 'HASC', indicator_matrix)"
   ]
  },
  {
   "cell_type": "code",
   "execution_count": null,
   "id": "00b6c1bb-d9cd-42cc-aa60-e2491776c999",
   "metadata": {},
   "outputs": [],
   "source": [
    "score_matrix_hasc_crs = cr_score_matrix(hasc_res, hasc_cr_wBased_df, hasc_cr_wBased_algo_df, hasc_cr_ftBased_df, 0.5,\n",
    "                                       filepath=\"results/tables/compression_approaches_scores_HASC.xlsx\"\n",
    "                                       )\n",
    "score_matrix_hasc_crs.loc['mean'] = score_matrix_hasc_crs.mean()\n",
    "score_matrix_hasc_crs"
   ]
  },
  {
   "cell_type": "code",
   "execution_count": null,
   "id": "999c62d8-a6a2-4faf-9e63-c6e0e3c9d47d",
   "metadata": {},
   "outputs": [],
   "source": [
    "score_matrix_hasc_crs_noltd = score_matrix_hasc_crs.drop('LTD')\n",
    "summaries=pd.DataFrame(columns=score_matrix_hasc_crs_noltd.columns.values)\n",
    "summaries.loc['mean'] = score_matrix_hasc_crs_noltd.mean()\n",
    "summaries.loc['median'] = score_matrix_hasc_crs_noltd.median()\n",
    "summaries.loc['std'] = score_matrix_hasc_crs_noltd.std()\n",
    "summaries.to_excel(\"results/tables/summmary_statistics_compression_approaches_scores_HASC.xlsx\")\n",
    "summaries"
   ]
  }
 ],
 "metadata": {
  "kernelspec": {
   "display_name": "Python 3 (ipykernel)",
   "language": "python",
   "name": "python3"
  },
  "language_info": {
   "codemirror_mode": {
    "name": "ipython",
    "version": 3
   },
   "file_extension": ".py",
   "mimetype": "text/x-python",
   "name": "python",
   "nbconvert_exporter": "python",
   "pygments_lexer": "ipython3",
   "version": "3.11.5"
  }
 },
 "nbformat": 4,
 "nbformat_minor": 5
}
