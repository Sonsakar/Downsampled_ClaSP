{
 "cells": [
  {
   "cell_type": "code",
   "execution_count": null,
   "id": "be23c6a6-7594-49b3-98bb-e2cbcd1e09e5",
   "metadata": {},
   "outputs": [],
   "source": [
    "import pandas as pd\n",
    "from tqdm import tqdm\n",
    "import plotly.graph_objects as go\n",
    "import tsfel\n",
    "import numpy as np\n",
    "import mt_utils as ut\n",
    "import importlib\n",
    "import re"
   ]
  },
  {
   "cell_type": "code",
   "execution_count": null,
   "id": "76630d3a-3e97-4ca8-af67-5dad4a7d6795",
   "metadata": {},
   "outputs": [],
   "source": [
    "importlib.reload(ut)"
   ]
  },
  {
   "cell_type": "code",
   "execution_count": null,
   "id": "70a2c1bc-d897-463f-a526-143e69503319",
   "metadata": {},
   "outputs": [],
   "source": [
    "main_exp_tssb = pd.read_pickle('results/zwischenergebnisse/main_experiment_tssb.pkl')\n",
    "main_exp_hasc = pd.read_pickle('results/zwischenergebnisse/main_experiment_hasc.pkl')"
   ]
  },
  {
   "cell_type": "code",
   "execution_count": null,
   "id": "2d669871-6bf9-4be4-8a1e-1011fd1af6dc",
   "metadata": {},
   "outputs": [],
   "source": [
    "from claspy.data_loader import load_tssb_dataset\n",
    "from claspy.data_loader import load_has_dataset"
   ]
  },
  {
   "cell_type": "code",
   "execution_count": null,
   "id": "82cc8a31-cde8-4083-96d4-634f9b99b0a6",
   "metadata": {},
   "outputs": [],
   "source": [
    "tssb = load_tssb_dataset()\n",
    "hasc = load_has_dataset()"
   ]
  },
  {
   "cell_type": "code",
   "execution_count": null,
   "id": "df31fe88-5702-44e5-b025-226ce48e383f",
   "metadata": {},
   "outputs": [],
   "source": [
    "algo_order=[\"EveryNth\",\"MinMax\",\"M4\",\"LTTB\",\"MinMaxLTTB\",\"LTD\"]\n",
    "groups = ['Algorithm','TS_Length', 'statistical','temporal','spectral','window_size','score']"
   ]
  },
  {
   "cell_type": "markdown",
   "id": "4cb1d1e0-b8a9-4164-a64a-f27ff6fb7728",
   "metadata": {},
   "source": [
    "# Functions"
   ]
  },
  {
   "cell_type": "code",
   "execution_count": null,
   "id": "42ce452c-6c95-4954-be75-975773e577ac",
   "metadata": {},
   "outputs": [],
   "source": [
    "def add_dataset_name_tssb(row):\n",
    "    return tssb.iloc[row.orig_TS_ID].dataset\n",
    "\n",
    "def add_dataset_name_hasc(row):\n",
    "    return hasc.iloc[row.orig_TS_ID].dataset"
   ]
  },
  {
   "cell_type": "code",
   "execution_count": null,
   "id": "59a8e01c-97d3-4331-ac30-6424be7c9fc3",
   "metadata": {},
   "outputs": [],
   "source": [
    "def add_types_tssb(row):\n",
    "    return tssb.iloc[row.orig_TS_ID].Type\n",
    "\n",
    "def add_types_hasc(row):\n",
    "    # indoor/outdoor + subject\n",
    "    return re.sub(r'_routine\\d+ \\(id\\d+\\)', '', row.dataset)"
   ]
  },
  {
   "cell_type": "code",
   "execution_count": null,
   "id": "51a5b55f-8c7b-4527-adae-dc0699364cdb",
   "metadata": {},
   "outputs": [],
   "source": [
    "def get_best_algo_for_type(df):    \n",
    "    algo_matcher = {}\n",
    "    for index, row in tqdm(df.iterrows(), total=len(df), desc=\"Processing rows\"):\n",
    "        algo_matcher[index] = row[row == row.max()].index.tolist()\n",
    "    \n",
    "    return algo_matcher"
   ]
  },
  {
   "cell_type": "code",
   "execution_count": null,
   "id": "32f6886e-6bf3-4c6e-a58e-5c1939847167",
   "metadata": {},
   "outputs": [],
   "source": [
    "def score_per_type_matrix(df):\n",
    "    df=df[['type','Algorithm','score']].copy()\n",
    "    t = df.groupby([\"Algorithm\",\"type\"])[\"score\"].mean().reset_index()\n",
    "    t = t.pivot(index='Algorithm', columns='type')['score'].fillna(0)\n",
    "    t = t.reindex(algo_order).T\n",
    "    return t"
   ]
  },
  {
   "cell_type": "code",
   "execution_count": null,
   "id": "06bcbcf6-9ec1-428e-b427-1e413947671e",
   "metadata": {},
   "outputs": [],
   "source": [
    "def add_best_as_per_type_tssb(row):\n",
    "    return 1 if row.Algorithm in algo_matcher_tssb[row.type] else 0\n",
    "\n",
    "def add_best_as_per_type_hasc(row):\n",
    "    return 1 if row.Algorithm in algo_matcher_hasc[row.type] else 0"
   ]
  },
  {
   "cell_type": "code",
   "execution_count": null,
   "id": "fd08d3c0-0cbc-41e3-a15c-d160062bb64b",
   "metadata": {},
   "outputs": [],
   "source": [
    "# summary statistics\n",
    "def score_comparison_matrix(df, savepath=None):\n",
    "    mean = df.groupby(by=['Algorithm']).mean().rename(columns={'score': 'mean'})\n",
    "    median = df.groupby(by=['Algorithm']).median().rename(columns={'score': 'median'})\n",
    "    std = df.groupby(by=['Algorithm']).std().rename(columns={'score': 'std'})\n",
    "    \n",
    "    out = mean.merge(median, left_on='Algorithm', right_on='Algorithm')\n",
    "    out = out.merge(std, left_on='Algorithm', right_on='Algorithm')\n",
    "    out = out.transpose()\n",
    "    out['mean']=out.mean(axis=1)\n",
    "    if(savepath):\n",
    "        out.to_excel(savepath)\n",
    "    return out"
   ]
  },
  {
   "cell_type": "code",
   "execution_count": null,
   "id": "df1111b0-b23e-450f-a225-d609c149e698",
   "metadata": {},
   "outputs": [],
   "source": [
    "# summary statistics\n",
    "def score_comparison_matrix_all_algos(tssb_df, hasc_df, savepath=None):\n",
    "    tssb_dict = {'mean':tssb_df.score.mean(), 'median':tssb_df.score.median(),'std':tssb_df.score.std()}\n",
    "    tssbs = pd.Series(tssb_dict, name='TSSB')\n",
    "\n",
    "    hasc_dict = {'mean':hasc_df.score.mean(), 'median':hasc_df.score.median(),'std':hasc_df.score.std()}\n",
    "    hascs = pd.Series(hasc_dict, name='HASC')\n",
    "\n",
    "    out=pd.DataFrame([tssbs,hascs]).transpose()\n",
    "    \n",
    "    if(savepath):\n",
    "        out.to_excel(savepath)\n",
    "    return out"
   ]
  },
  {
   "cell_type": "markdown",
   "id": "d698aa86-76a3-49da-9e74-4d5e466bf463",
   "metadata": {},
   "source": [
    "# Feature Selection and Grouping"
   ]
  },
  {
   "cell_type": "markdown",
   "id": "d5fdb1ad-af69-419d-b5c1-69fc7b4e4d23",
   "metadata": {},
   "source": [
    "## Features"
   ]
  },
  {
   "cell_type": "code",
   "execution_count": null,
   "id": "0e770540-fad5-400c-bc17-ba39b75ce422",
   "metadata": {},
   "outputs": [],
   "source": [
    "domains = ['statistical','temporal','spectral']\n",
    "for domain in domains:\n",
    "    features = ut.get_significant_features(list(main_exp_tssb.Time_Series),domain)\n",
    "    mean_features = np.mean(features, axis=1)\n",
    "    main_exp_tssb[domain]=mean_features"
   ]
  },
  {
   "cell_type": "markdown",
   "id": "0b978bea-b353-4d7f-bb67-2c9124a6945f",
   "metadata": {},
   "source": [
    "## Grouping"
   ]
  },
  {
   "cell_type": "markdown",
   "id": "0b881f98-9d09-4875-a0a2-50aeb6c3938f",
   "metadata": {},
   "source": [
    "### TSSB"
   ]
  },
  {
   "cell_type": "code",
   "execution_count": null,
   "id": "da5d2e18-18d8-4ad6-a5fc-9ad0d90080c9",
   "metadata": {},
   "outputs": [],
   "source": [
    "tssb_ref = pd.read_csv('datasets/DataSummary.csv', index_col=0)\n",
    "tssb=pd.merge(tssb, tssb_ref[['Type','Name']], left_on=\"dataset\", right_on='Name', how=\"left\", sort=False).drop('Name', axis=1)"
   ]
  },
  {
   "cell_type": "code",
   "execution_count": null,
   "id": "e170b98a-4a56-4592-b49b-1e165369bce0",
   "metadata": {},
   "outputs": [],
   "source": [
    "main_exp_tssb['dataset']=main_exp_tssb.apply(add_dataset_name_tssb, axis=1)\n",
    "main_exp_tssb['type']=main_exp_tssb.apply(add_types_tssb, axis=1)"
   ]
  },
  {
   "cell_type": "markdown",
   "id": "9f965ca9-3219-4c74-bd16-8532e66c85d9",
   "metadata": {},
   "source": [
    "### HASC"
   ]
  },
  {
   "cell_type": "code",
   "execution_count": null,
   "id": "bb1a9daf-4513-40a9-b45c-0ad712ca3fb4",
   "metadata": {},
   "outputs": [],
   "source": [
    "main_exp_hasc['dataset']=main_exp_hasc.apply(add_dataset_name_hasc, axis=1)\n",
    "main_exp_hasc['type']=main_exp_hasc.apply(add_types_hasc, axis=1)"
   ]
  },
  {
   "cell_type": "markdown",
   "id": "6c75df6d-61c8-471e-8824-101c78c876df",
   "metadata": {},
   "source": [
    "# Results"
   ]
  },
  {
   "cell_type": "markdown",
   "id": "ff7bf3d8-8223-4b62-aed7-f858f0542270",
   "metadata": {},
   "source": [
    "## TSSB"
   ]
  },
  {
   "cell_type": "code",
   "execution_count": null,
   "id": "3b157a24-e4cd-4b89-98f6-b46b7c898931",
   "metadata": {},
   "outputs": [],
   "source": [
    "score_matrix_tssb=score_per_type_matrix(main_exp_tssb[['type','Algorithm','score']])\n",
    "score_matrix_tssb"
   ]
  },
  {
   "cell_type": "code",
   "execution_count": null,
   "id": "d9f4dca1-e981-4bee-82f3-e9c1d74ad4ef",
   "metadata": {},
   "outputs": [],
   "source": [
    "algo_matcher_tssb=get_best_algo_for_type(score_matrix_tssb)\n",
    "algo_matcher_tssb"
   ]
  },
  {
   "cell_type": "code",
   "execution_count": null,
   "id": "dfd6b95c-ff2d-4bdb-8c8c-e8d759093ea4",
   "metadata": {},
   "outputs": [],
   "source": [
    "main_exp_tssb['is_best'] = main_exp_tssb.apply(add_best_as_per_type_tssb, axis=1)\n",
    "best_for_type_tssb=main_exp_tssb[main_exp_tssb.is_best==1]"
   ]
  },
  {
   "cell_type": "code",
   "execution_count": null,
   "id": "edbd38d8-13ec-4f86-8f9a-ae0745c47150",
   "metadata": {},
   "outputs": [],
   "source": [
    "score_comparison_matrix(best_for_type_tssb[['Algorithm','score']])"
   ]
  },
  {
   "cell_type": "markdown",
   "id": "4c990321-fe0b-4745-8ef5-d429987dfef6",
   "metadata": {},
   "source": [
    "## HASC"
   ]
  },
  {
   "cell_type": "code",
   "execution_count": null,
   "id": "74da17ef-390b-4d10-a4bc-44daa010ca0c",
   "metadata": {},
   "outputs": [],
   "source": [
    "score_matrix_hasc=score_per_type_matrix(main_exp_hasc[['type','Algorithm','score']])\n",
    "score_matrix_hasc"
   ]
  },
  {
   "cell_type": "code",
   "execution_count": null,
   "id": "356dacdc-5960-4312-87f7-3c16caba5d75",
   "metadata": {},
   "outputs": [],
   "source": [
    "algo_matcher_hasc=get_best_algo_for_type(score_matrix_hasc)\n",
    "algo_matcher_hasc"
   ]
  },
  {
   "cell_type": "code",
   "execution_count": null,
   "id": "48f62c06-295a-44c7-af28-7f05f560f520",
   "metadata": {},
   "outputs": [],
   "source": [
    "main_exp_hasc['is_best'] = main_exp_hasc.apply(add_best_as_per_type_hasc, axis=1)\n",
    "best_for_type_hasc=main_exp_hasc[main_exp_hasc.is_best==1]"
   ]
  },
  {
   "cell_type": "code",
   "execution_count": null,
   "id": "829b1be7-d7b5-4294-a20a-1f0cfe5c897e",
   "metadata": {},
   "outputs": [],
   "source": [
    "score_comparison_matrix(best_for_type_hasc[['Algorithm','score']])"
   ]
  },
  {
   "cell_type": "markdown",
   "id": "d822c816-80e1-44be-b1f6-62233249ab11",
   "metadata": {},
   "source": [
    "## Summary"
   ]
  },
  {
   "cell_type": "code",
   "execution_count": null,
   "id": "6c4fde76-1dd4-4dc7-9bd7-052f3c3ecaf9",
   "metadata": {},
   "outputs": [],
   "source": [
    "score_comparison_matrix_all_algos(best_for_type_tssb,best_for_type_hasc,savepath='results/tables/best_algo_per_type_summary.xlsx')"
   ]
  }
 ],
 "metadata": {
  "kernelspec": {
   "display_name": "Python 3 (ipykernel)",
   "language": "python",
   "name": "python3"
  },
  "language_info": {
   "codemirror_mode": {
    "name": "ipython",
    "version": 3
   },
   "file_extension": ".py",
   "mimetype": "text/x-python",
   "name": "python",
   "nbconvert_exporter": "python",
   "pygments_lexer": "ipython3",
   "version": "3.11.5"
  }
 },
 "nbformat": 4,
 "nbformat_minor": 5
}
