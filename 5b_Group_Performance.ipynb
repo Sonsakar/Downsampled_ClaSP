{
 "cells": [
  {
   "cell_type": "code",
   "execution_count": 1,
   "id": "be23c6a6-7594-49b3-98bb-e2cbcd1e09e5",
   "metadata": {},
   "outputs": [],
   "source": [
    "import pandas as pd\n",
    "from tqdm import tqdm\n",
    "import plotly.graph_objects as go\n",
    "import plotly.io as pio\n",
    "pio.renderers.default = \"plotly_mimetype\"\n",
    "import tsfel\n",
    "import numpy as np\n",
    "import mt_utils as ut\n",
    "import importlib\n",
    "import re"
   ]
  },
  {
   "cell_type": "code",
   "execution_count": 2,
   "id": "76630d3a-3e97-4ca8-af67-5dad4a7d6795",
   "metadata": {},
   "outputs": [
    {
     "data": {
      "text/plain": [
       "<module 'mt_utils' from 'E:\\\\Melli\\\\HU\\\\Masterarbeit Save\\\\Implementation\\\\mt_utils.py'>"
      ]
     },
     "execution_count": 2,
     "metadata": {},
     "output_type": "execute_result"
    }
   ],
   "source": [
    "importlib.reload(ut)"
   ]
  },
  {
   "cell_type": "code",
   "execution_count": 11,
   "id": "70a2c1bc-d897-463f-a526-143e69503319",
   "metadata": {},
   "outputs": [],
   "source": [
    "main_exp_tssb = pd.read_pickle('results/zwischenergebnisse/main_experiment_tssb.pkl')\n",
    "main_exp_hasc = pd.read_pickle('results/zwischenergebnisse/main_experiment_hasc.pkl')"
   ]
  },
  {
   "cell_type": "code",
   "execution_count": 13,
   "id": "2d669871-6bf9-4be4-8a1e-1011fd1af6dc",
   "metadata": {},
   "outputs": [],
   "source": [
    "from claspy.data_loader import load_tssb_dataset\n",
    "from claspy.data_loader import load_has_dataset"
   ]
  },
  {
   "cell_type": "code",
   "execution_count": 14,
   "id": "82cc8a31-cde8-4083-96d4-634f9b99b0a6",
   "metadata": {},
   "outputs": [],
   "source": [
    "tssb = load_tssb_dataset()\n",
    "hasc = load_has_dataset()"
   ]
  },
  {
   "cell_type": "code",
   "execution_count": 3,
   "id": "df31fe88-5702-44e5-b025-226ce48e383f",
   "metadata": {},
   "outputs": [],
   "source": [
    "algo_order=[\"EveryNth\",\"MinMax\",\"M4\",\"LTTB\",\"MinMaxLTTB\",\"LTD\"]\n",
    "groups = ['Algorithm','TS_Length', 'statistical','temporal','spectral','window_size','score']"
   ]
  },
  {
   "cell_type": "markdown",
   "id": "4cb1d1e0-b8a9-4164-a64a-f27ff6fb7728",
   "metadata": {},
   "source": [
    "# Functions"
   ]
  },
  {
   "cell_type": "code",
   "execution_count": 4,
   "id": "42ce452c-6c95-4954-be75-975773e577ac",
   "metadata": {},
   "outputs": [],
   "source": [
    "def add_dataset_name_tssb(row):\n",
    "    return tssb.iloc[row.orig_TS_ID].dataset\n",
    "\n",
    "def add_dataset_name_hasc(row):\n",
    "    return hasc.iloc[row.orig_TS_ID].dataset"
   ]
  },
  {
   "cell_type": "code",
   "execution_count": 5,
   "id": "59a8e01c-97d3-4331-ac30-6424be7c9fc3",
   "metadata": {},
   "outputs": [],
   "source": [
    "def add_types_tssb(row):\n",
    "    return tssb.iloc[row.orig_TS_ID].Type\n",
    "\n",
    "def add_types_hasc(row):\n",
    "    # indoor/outdoor + subject\n",
    "    return re.sub(r'_routine\\d+ \\(id\\d+\\)', '', row.dataset)"
   ]
  },
  {
   "cell_type": "code",
   "execution_count": 6,
   "id": "51a5b55f-8c7b-4527-adae-dc0699364cdb",
   "metadata": {},
   "outputs": [],
   "source": [
    "def get_best_algo_for_type(df):    \n",
    "    algo_matcher = {}\n",
    "    for index, row in tqdm(df.iterrows(), total=len(df), desc=\"Processing rows\"):\n",
    "        algo_matcher[index] = row[row == row.max()].index.tolist()\n",
    "    \n",
    "    return algo_matcher"
   ]
  },
  {
   "cell_type": "code",
   "execution_count": 7,
   "id": "32f6886e-6bf3-4c6e-a58e-5c1939847167",
   "metadata": {},
   "outputs": [],
   "source": [
    "def score_per_type_matrix(df):\n",
    "    df=df[['type','Algorithm','score']].copy()\n",
    "    t = df.groupby([\"Algorithm\",\"type\"])[\"score\"].mean().reset_index()\n",
    "    t = t.pivot(index='Algorithm', columns='type')['score'].fillna(0)\n",
    "    t = t.reindex(algo_order).T\n",
    "    return t"
   ]
  },
  {
   "cell_type": "code",
   "execution_count": 8,
   "id": "06bcbcf6-9ec1-428e-b427-1e413947671e",
   "metadata": {},
   "outputs": [],
   "source": [
    "def add_best_as_per_type_tssb(row):\n",
    "    return 1 if row.Algorithm in algo_matcher_tssb[row.type] else 0\n",
    "\n",
    "def add_best_as_per_type_hasc(row):\n",
    "    return 1 if row.Algorithm in algo_matcher_hasc[row.type] else 0"
   ]
  },
  {
   "cell_type": "code",
   "execution_count": 9,
   "id": "fd08d3c0-0cbc-41e3-a15c-d160062bb64b",
   "metadata": {},
   "outputs": [],
   "source": [
    "# summary statistics\n",
    "def score_comparison_matrix(df, savepath=None):\n",
    "    mean = df.groupby(by=['Algorithm']).mean().rename(columns={'score': 'mean'})\n",
    "    median = df.groupby(by=['Algorithm']).median().rename(columns={'score': 'median'})\n",
    "    std = df.groupby(by=['Algorithm']).std().rename(columns={'score': 'std'})\n",
    "    \n",
    "    out = mean.merge(median, left_on='Algorithm', right_on='Algorithm')\n",
    "    out = out.merge(std, left_on='Algorithm', right_on='Algorithm')\n",
    "    out = out.transpose()\n",
    "    out['mean']=out.mean(axis=1)\n",
    "    if(savepath):\n",
    "        out.to_excel(savepath)\n",
    "    return out"
   ]
  },
  {
   "cell_type": "code",
   "execution_count": 10,
   "id": "df1111b0-b23e-450f-a225-d609c149e698",
   "metadata": {},
   "outputs": [],
   "source": [
    "# summary statistics\n",
    "def score_comparison_matrix_all_algos(tssb_df, hasc_df, savepath=None):\n",
    "    tssb_dict = {'mean':tssb_df.score.mean(), 'median':tssb_df.score.median(),'std':tssb_df.score.std()}\n",
    "    tssbs = pd.Series(tssb_dict, name='TSSB')\n",
    "\n",
    "    hasc_dict = {'mean':hasc_df.score.mean(), 'median':hasc_df.score.median(),'std':hasc_df.score.std()}\n",
    "    hascs = pd.Series(hasc_dict, name='HASC')\n",
    "\n",
    "    out=pd.DataFrame([tssbs,hascs]).transpose()\n",
    "    \n",
    "    if(savepath):\n",
    "        out.to_excel(savepath)\n",
    "    return out"
   ]
  },
  {
   "cell_type": "markdown",
   "id": "0b978bea-b353-4d7f-bb67-2c9124a6945f",
   "metadata": {},
   "source": [
    "# Grouping"
   ]
  },
  {
   "cell_type": "markdown",
   "id": "0b881f98-9d09-4875-a0a2-50aeb6c3938f",
   "metadata": {},
   "source": [
    "## TSSB"
   ]
  },
  {
   "cell_type": "code",
   "execution_count": 16,
   "id": "da5d2e18-18d8-4ad6-a5fc-9ad0d90080c9",
   "metadata": {},
   "outputs": [],
   "source": [
    "tssb_ref = pd.read_csv('datasets/DataSummary.csv', index_col=0)\n",
    "tssb=pd.merge(tssb, tssb_ref[['Type','Name']], left_on=\"dataset\", right_on='Name', how=\"left\", sort=False).drop('Name', axis=1)"
   ]
  },
  {
   "cell_type": "code",
   "execution_count": 17,
   "id": "e170b98a-4a56-4592-b49b-1e165369bce0",
   "metadata": {},
   "outputs": [],
   "source": [
    "main_exp_tssb['dataset']=main_exp_tssb.apply(add_dataset_name_tssb, axis=1)\n",
    "main_exp_tssb['type']=main_exp_tssb.apply(add_types_tssb, axis=1)"
   ]
  },
  {
   "cell_type": "markdown",
   "id": "9f965ca9-3219-4c74-bd16-8532e66c85d9",
   "metadata": {},
   "source": [
    "## HASC"
   ]
  },
  {
   "cell_type": "code",
   "execution_count": 18,
   "id": "bb1a9daf-4513-40a9-b45c-0ad712ca3fb4",
   "metadata": {},
   "outputs": [],
   "source": [
    "main_exp_hasc['dataset']=main_exp_hasc.apply(add_dataset_name_hasc, axis=1)\n",
    "main_exp_hasc['type']=main_exp_hasc.apply(add_types_hasc, axis=1)"
   ]
  },
  {
   "cell_type": "markdown",
   "id": "6c75df6d-61c8-471e-8824-101c78c876df",
   "metadata": {},
   "source": [
    "# Results"
   ]
  },
  {
   "cell_type": "markdown",
   "id": "ff7bf3d8-8223-4b62-aed7-f858f0542270",
   "metadata": {},
   "source": [
    "## TSSB"
   ]
  },
  {
   "cell_type": "code",
   "execution_count": 19,
   "id": "3b157a24-e4cd-4b89-98f6-b46b7c898931",
   "metadata": {},
   "outputs": [
    {
     "data": {
      "text/html": [
       "<div>\n",
       "<style scoped>\n",
       "    .dataframe tbody tr th:only-of-type {\n",
       "        vertical-align: middle;\n",
       "    }\n",
       "\n",
       "    .dataframe tbody tr th {\n",
       "        vertical-align: top;\n",
       "    }\n",
       "\n",
       "    .dataframe thead th {\n",
       "        text-align: right;\n",
       "    }\n",
       "</style>\n",
       "<table border=\"1\" class=\"dataframe\">\n",
       "  <thead>\n",
       "    <tr style=\"text-align: right;\">\n",
       "      <th>Algorithm</th>\n",
       "      <th>EveryNth</th>\n",
       "      <th>MinMax</th>\n",
       "      <th>M4</th>\n",
       "      <th>LTTB</th>\n",
       "      <th>MinMaxLTTB</th>\n",
       "      <th>LTD</th>\n",
       "    </tr>\n",
       "    <tr>\n",
       "      <th>type</th>\n",
       "      <th></th>\n",
       "      <th></th>\n",
       "      <th></th>\n",
       "      <th></th>\n",
       "      <th></th>\n",
       "      <th></th>\n",
       "    </tr>\n",
       "  </thead>\n",
       "  <tbody>\n",
       "    <tr>\n",
       "      <th>Device</th>\n",
       "      <td>0.416500</td>\n",
       "      <td>0.565000</td>\n",
       "      <td>0.965000</td>\n",
       "      <td>0.552500</td>\n",
       "      <td>0.552500</td>\n",
       "      <td>0.747000</td>\n",
       "    </tr>\n",
       "    <tr>\n",
       "      <th>ECG</th>\n",
       "      <td>0.881200</td>\n",
       "      <td>0.701400</td>\n",
       "      <td>0.640000</td>\n",
       "      <td>0.768200</td>\n",
       "      <td>0.768200</td>\n",
       "      <td>0.767200</td>\n",
       "    </tr>\n",
       "    <tr>\n",
       "      <th>EOG</th>\n",
       "      <td>0.618500</td>\n",
       "      <td>0.529000</td>\n",
       "      <td>0.683000</td>\n",
       "      <td>0.499500</td>\n",
       "      <td>0.499500</td>\n",
       "      <td>0.497500</td>\n",
       "    </tr>\n",
       "    <tr>\n",
       "      <th>Image</th>\n",
       "      <td>0.860185</td>\n",
       "      <td>0.761000</td>\n",
       "      <td>0.666630</td>\n",
       "      <td>0.818926</td>\n",
       "      <td>0.818481</td>\n",
       "      <td>0.829407</td>\n",
       "    </tr>\n",
       "    <tr>\n",
       "      <th>Motion</th>\n",
       "      <td>0.748167</td>\n",
       "      <td>0.715417</td>\n",
       "      <td>0.600333</td>\n",
       "      <td>0.777667</td>\n",
       "      <td>0.777667</td>\n",
       "      <td>0.702333</td>\n",
       "    </tr>\n",
       "    <tr>\n",
       "      <th>Sensor</th>\n",
       "      <td>0.775000</td>\n",
       "      <td>0.750143</td>\n",
       "      <td>0.663143</td>\n",
       "      <td>0.712571</td>\n",
       "      <td>0.712571</td>\n",
       "      <td>0.810000</td>\n",
       "    </tr>\n",
       "    <tr>\n",
       "      <th>Simulated</th>\n",
       "      <td>0.844600</td>\n",
       "      <td>0.842000</td>\n",
       "      <td>0.845600</td>\n",
       "      <td>0.901600</td>\n",
       "      <td>0.901600</td>\n",
       "      <td>0.942000</td>\n",
       "    </tr>\n",
       "    <tr>\n",
       "      <th>Spectro</th>\n",
       "      <td>0.611500</td>\n",
       "      <td>0.541833</td>\n",
       "      <td>0.546167</td>\n",
       "      <td>0.524333</td>\n",
       "      <td>0.524333</td>\n",
       "      <td>0.494833</td>\n",
       "    </tr>\n",
       "    <tr>\n",
       "      <th>Traffic</th>\n",
       "      <td>0.752000</td>\n",
       "      <td>0.710000</td>\n",
       "      <td>0.708500</td>\n",
       "      <td>0.858500</td>\n",
       "      <td>0.858500</td>\n",
       "      <td>0.826000</td>\n",
       "    </tr>\n",
       "  </tbody>\n",
       "</table>\n",
       "</div>"
      ],
      "text/plain": [
       "Algorithm  EveryNth    MinMax        M4      LTTB  MinMaxLTTB       LTD\n",
       "type                                                                   \n",
       "Device     0.416500  0.565000  0.965000  0.552500    0.552500  0.747000\n",
       "ECG        0.881200  0.701400  0.640000  0.768200    0.768200  0.767200\n",
       "EOG        0.618500  0.529000  0.683000  0.499500    0.499500  0.497500\n",
       "Image      0.860185  0.761000  0.666630  0.818926    0.818481  0.829407\n",
       "Motion     0.748167  0.715417  0.600333  0.777667    0.777667  0.702333\n",
       "Sensor     0.775000  0.750143  0.663143  0.712571    0.712571  0.810000\n",
       "Simulated  0.844600  0.842000  0.845600  0.901600    0.901600  0.942000\n",
       "Spectro    0.611500  0.541833  0.546167  0.524333    0.524333  0.494833\n",
       "Traffic    0.752000  0.710000  0.708500  0.858500    0.858500  0.826000"
      ]
     },
     "execution_count": 19,
     "metadata": {},
     "output_type": "execute_result"
    }
   ],
   "source": [
    "score_matrix_tssb=score_per_type_matrix(main_exp_tssb[['type','Algorithm','score']])\n",
    "score_matrix_tssb"
   ]
  },
  {
   "cell_type": "code",
   "execution_count": 20,
   "id": "d9f4dca1-e981-4bee-82f3-e9c1d74ad4ef",
   "metadata": {},
   "outputs": [
    {
     "name": "stderr",
     "output_type": "stream",
     "text": [
      "Processing rows: 100%|█████████████████████████████████████████████████████████████████| 9/9 [00:00<00:00, 3008.11it/s]\n"
     ]
    },
    {
     "data": {
      "text/plain": [
       "{'Device': ['M4'],\n",
       " 'ECG': ['EveryNth'],\n",
       " 'EOG': ['M4'],\n",
       " 'Image': ['EveryNth'],\n",
       " 'Motion': ['LTTB', 'MinMaxLTTB'],\n",
       " 'Sensor': ['LTD'],\n",
       " 'Simulated': ['LTD'],\n",
       " 'Spectro': ['EveryNth'],\n",
       " 'Traffic': ['LTTB', 'MinMaxLTTB']}"
      ]
     },
     "execution_count": 20,
     "metadata": {},
     "output_type": "execute_result"
    }
   ],
   "source": [
    "algo_matcher_tssb=get_best_algo_for_type(score_matrix_tssb)\n",
    "algo_matcher_tssb"
   ]
  },
  {
   "cell_type": "code",
   "execution_count": 21,
   "id": "dfd6b95c-ff2d-4bdb-8c8c-e8d759093ea4",
   "metadata": {},
   "outputs": [],
   "source": [
    "main_exp_tssb['is_best'] = main_exp_tssb.apply(add_best_as_per_type_tssb, axis=1)\n",
    "best_for_type_tssb=main_exp_tssb[main_exp_tssb.is_best==1]"
   ]
  },
  {
   "cell_type": "code",
   "execution_count": 22,
   "id": "edbd38d8-13ec-4f86-8f9a-ae0745c47150",
   "metadata": {},
   "outputs": [
    {
     "data": {
      "text/html": [
       "<div>\n",
       "<style scoped>\n",
       "    .dataframe tbody tr th:only-of-type {\n",
       "        vertical-align: middle;\n",
       "    }\n",
       "\n",
       "    .dataframe tbody tr th {\n",
       "        vertical-align: top;\n",
       "    }\n",
       "\n",
       "    .dataframe thead th {\n",
       "        text-align: right;\n",
       "    }\n",
       "</style>\n",
       "<table border=\"1\" class=\"dataframe\">\n",
       "  <thead>\n",
       "    <tr style=\"text-align: right;\">\n",
       "      <th>Algorithm</th>\n",
       "      <th>EveryNth</th>\n",
       "      <th>LTD</th>\n",
       "      <th>LTTB</th>\n",
       "      <th>M4</th>\n",
       "      <th>MinMaxLTTB</th>\n",
       "      <th>mean</th>\n",
       "    </tr>\n",
       "  </thead>\n",
       "  <tbody>\n",
       "    <tr>\n",
       "      <th>mean</th>\n",
       "      <td>0.823684</td>\n",
       "      <td>0.844737</td>\n",
       "      <td>0.789214</td>\n",
       "      <td>0.824000</td>\n",
       "      <td>0.789214</td>\n",
       "      <td>0.814170</td>\n",
       "    </tr>\n",
       "    <tr>\n",
       "      <th>median</th>\n",
       "      <td>0.963500</td>\n",
       "      <td>0.932000</td>\n",
       "      <td>0.851000</td>\n",
       "      <td>0.841000</td>\n",
       "      <td>0.851000</td>\n",
       "      <td>0.887700</td>\n",
       "    </tr>\n",
       "    <tr>\n",
       "      <th>std</th>\n",
       "      <td>0.236314</td>\n",
       "      <td>0.163158</td>\n",
       "      <td>0.219317</td>\n",
       "      <td>0.167376</td>\n",
       "      <td>0.219317</td>\n",
       "      <td>0.201096</td>\n",
       "    </tr>\n",
       "  </tbody>\n",
       "</table>\n",
       "</div>"
      ],
      "text/plain": [
       "Algorithm  EveryNth       LTD      LTTB        M4  MinMaxLTTB      mean\n",
       "mean       0.823684  0.844737  0.789214  0.824000    0.789214  0.814170\n",
       "median     0.963500  0.932000  0.851000  0.841000    0.851000  0.887700\n",
       "std        0.236314  0.163158  0.219317  0.167376    0.219317  0.201096"
      ]
     },
     "execution_count": 22,
     "metadata": {},
     "output_type": "execute_result"
    }
   ],
   "source": [
    "score_comparison_matrix(best_for_type_tssb[['Algorithm','score']])"
   ]
  },
  {
   "cell_type": "markdown",
   "id": "4c990321-fe0b-4745-8ef5-d429987dfef6",
   "metadata": {},
   "source": [
    "## HASC"
   ]
  },
  {
   "cell_type": "code",
   "execution_count": 23,
   "id": "74da17ef-390b-4d10-a4bc-44daa010ca0c",
   "metadata": {},
   "outputs": [
    {
     "data": {
      "text/html": [
       "<div>\n",
       "<style scoped>\n",
       "    .dataframe tbody tr th:only-of-type {\n",
       "        vertical-align: middle;\n",
       "    }\n",
       "\n",
       "    .dataframe tbody tr th {\n",
       "        vertical-align: top;\n",
       "    }\n",
       "\n",
       "    .dataframe thead th {\n",
       "        text-align: right;\n",
       "    }\n",
       "</style>\n",
       "<table border=\"1\" class=\"dataframe\">\n",
       "  <thead>\n",
       "    <tr style=\"text-align: right;\">\n",
       "      <th>Algorithm</th>\n",
       "      <th>EveryNth</th>\n",
       "      <th>MinMax</th>\n",
       "      <th>M4</th>\n",
       "      <th>LTTB</th>\n",
       "      <th>MinMaxLTTB</th>\n",
       "      <th>LTD</th>\n",
       "    </tr>\n",
       "    <tr>\n",
       "      <th>type</th>\n",
       "      <th></th>\n",
       "      <th></th>\n",
       "      <th></th>\n",
       "      <th></th>\n",
       "      <th></th>\n",
       "      <th></th>\n",
       "    </tr>\n",
       "  </thead>\n",
       "  <tbody>\n",
       "    <tr>\n",
       "      <th>indoor_subject1</th>\n",
       "      <td>0.609231</td>\n",
       "      <td>0.560385</td>\n",
       "      <td>0.508462</td>\n",
       "      <td>0.576538</td>\n",
       "      <td>0.576538</td>\n",
       "      <td>0.531462</td>\n",
       "    </tr>\n",
       "    <tr>\n",
       "      <th>indoor_subject2</th>\n",
       "      <td>0.610625</td>\n",
       "      <td>0.606875</td>\n",
       "      <td>0.606375</td>\n",
       "      <td>0.549375</td>\n",
       "      <td>0.549375</td>\n",
       "      <td>0.636375</td>\n",
       "    </tr>\n",
       "    <tr>\n",
       "      <th>indoor_subject3</th>\n",
       "      <td>0.719636</td>\n",
       "      <td>0.716409</td>\n",
       "      <td>0.657136</td>\n",
       "      <td>0.671682</td>\n",
       "      <td>0.671682</td>\n",
       "      <td>0.647318</td>\n",
       "    </tr>\n",
       "    <tr>\n",
       "      <th>indoor_subject4</th>\n",
       "      <td>0.723632</td>\n",
       "      <td>0.758316</td>\n",
       "      <td>0.722947</td>\n",
       "      <td>0.720263</td>\n",
       "      <td>0.720263</td>\n",
       "      <td>0.666895</td>\n",
       "    </tr>\n",
       "    <tr>\n",
       "      <th>indoor_subject5</th>\n",
       "      <td>0.769333</td>\n",
       "      <td>0.820667</td>\n",
       "      <td>0.838000</td>\n",
       "      <td>0.750500</td>\n",
       "      <td>0.750500</td>\n",
       "      <td>0.824333</td>\n",
       "    </tr>\n",
       "    <tr>\n",
       "      <th>indoor_subject6</th>\n",
       "      <td>0.830625</td>\n",
       "      <td>0.732375</td>\n",
       "      <td>0.774000</td>\n",
       "      <td>0.756875</td>\n",
       "      <td>0.756875</td>\n",
       "      <td>0.783750</td>\n",
       "    </tr>\n",
       "    <tr>\n",
       "      <th>indoor_subject7</th>\n",
       "      <td>0.697368</td>\n",
       "      <td>0.705632</td>\n",
       "      <td>0.653684</td>\n",
       "      <td>0.694053</td>\n",
       "      <td>0.694053</td>\n",
       "      <td>0.694895</td>\n",
       "    </tr>\n",
       "    <tr>\n",
       "      <th>indoor_subject8</th>\n",
       "      <td>0.796545</td>\n",
       "      <td>0.829364</td>\n",
       "      <td>0.686273</td>\n",
       "      <td>0.704818</td>\n",
       "      <td>0.704818</td>\n",
       "      <td>0.697818</td>\n",
       "    </tr>\n",
       "    <tr>\n",
       "      <th>outdoor_subject1</th>\n",
       "      <td>0.598636</td>\n",
       "      <td>0.601273</td>\n",
       "      <td>0.626364</td>\n",
       "      <td>0.616000</td>\n",
       "      <td>0.616000</td>\n",
       "      <td>0.626545</td>\n",
       "    </tr>\n",
       "    <tr>\n",
       "      <th>outdoor_subject2</th>\n",
       "      <td>0.751500</td>\n",
       "      <td>0.743889</td>\n",
       "      <td>0.761778</td>\n",
       "      <td>0.790111</td>\n",
       "      <td>0.790111</td>\n",
       "      <td>0.789056</td>\n",
       "    </tr>\n",
       "    <tr>\n",
       "      <th>outdoor_subject3</th>\n",
       "      <td>0.627250</td>\n",
       "      <td>0.600167</td>\n",
       "      <td>0.552000</td>\n",
       "      <td>0.634917</td>\n",
       "      <td>0.634917</td>\n",
       "      <td>0.563083</td>\n",
       "    </tr>\n",
       "    <tr>\n",
       "      <th>outdoor_subject4</th>\n",
       "      <td>0.701455</td>\n",
       "      <td>0.689045</td>\n",
       "      <td>0.713682</td>\n",
       "      <td>0.690364</td>\n",
       "      <td>0.690364</td>\n",
       "      <td>0.706909</td>\n",
       "    </tr>\n",
       "    <tr>\n",
       "      <th>outdoor_subject5</th>\n",
       "      <td>0.754528</td>\n",
       "      <td>0.743806</td>\n",
       "      <td>0.725083</td>\n",
       "      <td>0.747333</td>\n",
       "      <td>0.747333</td>\n",
       "      <td>0.754806</td>\n",
       "    </tr>\n",
       "    <tr>\n",
       "      <th>outdoor_subject6</th>\n",
       "      <td>0.791263</td>\n",
       "      <td>0.802053</td>\n",
       "      <td>0.801158</td>\n",
       "      <td>0.834368</td>\n",
       "      <td>0.834368</td>\n",
       "      <td>0.797474</td>\n",
       "    </tr>\n",
       "    <tr>\n",
       "      <th>outdoor_subject7</th>\n",
       "      <td>0.818000</td>\n",
       "      <td>0.820654</td>\n",
       "      <td>0.829462</td>\n",
       "      <td>0.817962</td>\n",
       "      <td>0.817962</td>\n",
       "      <td>0.828923</td>\n",
       "    </tr>\n",
       "  </tbody>\n",
       "</table>\n",
       "</div>"
      ],
      "text/plain": [
       "Algorithm         EveryNth    MinMax        M4      LTTB  MinMaxLTTB       LTD\n",
       "type                                                                          \n",
       "indoor_subject1   0.609231  0.560385  0.508462  0.576538    0.576538  0.531462\n",
       "indoor_subject2   0.610625  0.606875  0.606375  0.549375    0.549375  0.636375\n",
       "indoor_subject3   0.719636  0.716409  0.657136  0.671682    0.671682  0.647318\n",
       "indoor_subject4   0.723632  0.758316  0.722947  0.720263    0.720263  0.666895\n",
       "indoor_subject5   0.769333  0.820667  0.838000  0.750500    0.750500  0.824333\n",
       "indoor_subject6   0.830625  0.732375  0.774000  0.756875    0.756875  0.783750\n",
       "indoor_subject7   0.697368  0.705632  0.653684  0.694053    0.694053  0.694895\n",
       "indoor_subject8   0.796545  0.829364  0.686273  0.704818    0.704818  0.697818\n",
       "outdoor_subject1  0.598636  0.601273  0.626364  0.616000    0.616000  0.626545\n",
       "outdoor_subject2  0.751500  0.743889  0.761778  0.790111    0.790111  0.789056\n",
       "outdoor_subject3  0.627250  0.600167  0.552000  0.634917    0.634917  0.563083\n",
       "outdoor_subject4  0.701455  0.689045  0.713682  0.690364    0.690364  0.706909\n",
       "outdoor_subject5  0.754528  0.743806  0.725083  0.747333    0.747333  0.754806\n",
       "outdoor_subject6  0.791263  0.802053  0.801158  0.834368    0.834368  0.797474\n",
       "outdoor_subject7  0.818000  0.820654  0.829462  0.817962    0.817962  0.828923"
      ]
     },
     "execution_count": 23,
     "metadata": {},
     "output_type": "execute_result"
    }
   ],
   "source": [
    "score_matrix_hasc=score_per_type_matrix(main_exp_hasc[['type','Algorithm','score']])\n",
    "score_matrix_hasc"
   ]
  },
  {
   "cell_type": "code",
   "execution_count": 24,
   "id": "356dacdc-5960-4312-87f7-3c16caba5d75",
   "metadata": {},
   "outputs": [
    {
     "name": "stderr",
     "output_type": "stream",
     "text": [
      "Processing rows: 100%|███████████████████████████████████████████████████████████████| 15/15 [00:00<00:00, 5013.51it/s]\n"
     ]
    },
    {
     "data": {
      "text/plain": [
       "{'indoor_subject1': ['EveryNth'],\n",
       " 'indoor_subject2': ['LTD'],\n",
       " 'indoor_subject3': ['EveryNth'],\n",
       " 'indoor_subject4': ['MinMax'],\n",
       " 'indoor_subject5': ['M4'],\n",
       " 'indoor_subject6': ['EveryNth'],\n",
       " 'indoor_subject7': ['MinMax'],\n",
       " 'indoor_subject8': ['MinMax'],\n",
       " 'outdoor_subject1': ['LTD'],\n",
       " 'outdoor_subject2': ['LTTB', 'MinMaxLTTB'],\n",
       " 'outdoor_subject3': ['LTTB', 'MinMaxLTTB'],\n",
       " 'outdoor_subject4': ['M4'],\n",
       " 'outdoor_subject5': ['LTD'],\n",
       " 'outdoor_subject6': ['LTTB', 'MinMaxLTTB'],\n",
       " 'outdoor_subject7': ['M4']}"
      ]
     },
     "execution_count": 24,
     "metadata": {},
     "output_type": "execute_result"
    }
   ],
   "source": [
    "algo_matcher_hasc=get_best_algo_for_type(score_matrix_hasc)\n",
    "algo_matcher_hasc"
   ]
  },
  {
   "cell_type": "code",
   "execution_count": 25,
   "id": "48f62c06-295a-44c7-af28-7f05f560f520",
   "metadata": {},
   "outputs": [],
   "source": [
    "main_exp_hasc['is_best'] = main_exp_hasc.apply(add_best_as_per_type_hasc, axis=1)\n",
    "best_for_type_hasc=main_exp_hasc[main_exp_hasc.is_best==1]"
   ]
  },
  {
   "cell_type": "code",
   "execution_count": 26,
   "id": "829b1be7-d7b5-4294-a20a-1f0cfe5c897e",
   "metadata": {},
   "outputs": [
    {
     "data": {
      "text/html": [
       "<div>\n",
       "<style scoped>\n",
       "    .dataframe tbody tr th:only-of-type {\n",
       "        vertical-align: middle;\n",
       "    }\n",
       "\n",
       "    .dataframe tbody tr th {\n",
       "        vertical-align: top;\n",
       "    }\n",
       "\n",
       "    .dataframe thead th {\n",
       "        text-align: right;\n",
       "    }\n",
       "</style>\n",
       "<table border=\"1\" class=\"dataframe\">\n",
       "  <thead>\n",
       "    <tr style=\"text-align: right;\">\n",
       "      <th>Algorithm</th>\n",
       "      <th>EveryNth</th>\n",
       "      <th>LTD</th>\n",
       "      <th>LTTB</th>\n",
       "      <th>M4</th>\n",
       "      <th>MinMax</th>\n",
       "      <th>MinMaxLTTB</th>\n",
       "      <th>mean</th>\n",
       "    </tr>\n",
       "  </thead>\n",
       "  <tbody>\n",
       "    <tr>\n",
       "      <th>mean</th>\n",
       "      <td>0.706907</td>\n",
       "      <td>0.711927</td>\n",
       "      <td>0.769265</td>\n",
       "      <td>0.783241</td>\n",
       "      <td>0.753837</td>\n",
       "      <td>0.769265</td>\n",
       "      <td>0.749074</td>\n",
       "    </tr>\n",
       "    <tr>\n",
       "      <th>median</th>\n",
       "      <td>0.782000</td>\n",
       "      <td>0.785000</td>\n",
       "      <td>0.859000</td>\n",
       "      <td>0.835500</td>\n",
       "      <td>0.749000</td>\n",
       "      <td>0.859000</td>\n",
       "      <td>0.811583</td>\n",
       "    </tr>\n",
       "    <tr>\n",
       "      <th>std</th>\n",
       "      <td>0.209905</td>\n",
       "      <td>0.237409</td>\n",
       "      <td>0.215415</td>\n",
       "      <td>0.207378</td>\n",
       "      <td>0.197394</td>\n",
       "      <td>0.215415</td>\n",
       "      <td>0.213819</td>\n",
       "    </tr>\n",
       "  </tbody>\n",
       "</table>\n",
       "</div>"
      ],
      "text/plain": [
       "Algorithm  EveryNth       LTD      LTTB        M4    MinMax  MinMaxLTTB  \\\n",
       "mean       0.706907  0.711927  0.769265  0.783241  0.753837    0.769265   \n",
       "median     0.782000  0.785000  0.859000  0.835500  0.749000    0.859000   \n",
       "std        0.209905  0.237409  0.215415  0.207378  0.197394    0.215415   \n",
       "\n",
       "Algorithm      mean  \n",
       "mean       0.749074  \n",
       "median     0.811583  \n",
       "std        0.213819  "
      ]
     },
     "execution_count": 26,
     "metadata": {},
     "output_type": "execute_result"
    }
   ],
   "source": [
    "score_comparison_matrix(best_for_type_hasc[['Algorithm','score']])"
   ]
  },
  {
   "cell_type": "markdown",
   "id": "d822c816-80e1-44be-b1f6-62233249ab11",
   "metadata": {},
   "source": [
    "## Summary"
   ]
  },
  {
   "cell_type": "code",
   "execution_count": 27,
   "id": "6c4fde76-1dd4-4dc7-9bd7-052f3c3ecaf9",
   "metadata": {},
   "outputs": [
    {
     "data": {
      "text/html": [
       "<div>\n",
       "<style scoped>\n",
       "    .dataframe tbody tr th:only-of-type {\n",
       "        vertical-align: middle;\n",
       "    }\n",
       "\n",
       "    .dataframe tbody tr th {\n",
       "        vertical-align: top;\n",
       "    }\n",
       "\n",
       "    .dataframe thead th {\n",
       "        text-align: right;\n",
       "    }\n",
       "</style>\n",
       "<table border=\"1\" class=\"dataframe\">\n",
       "  <thead>\n",
       "    <tr style=\"text-align: right;\">\n",
       "      <th></th>\n",
       "      <th>TSSB</th>\n",
       "      <th>HASC</th>\n",
       "    </tr>\n",
       "  </thead>\n",
       "  <tbody>\n",
       "    <tr>\n",
       "      <th>mean</th>\n",
       "      <td>0.817348</td>\n",
       "      <td>0.749746</td>\n",
       "    </tr>\n",
       "    <tr>\n",
       "      <th>median</th>\n",
       "      <td>0.941000</td>\n",
       "      <td>0.800000</td>\n",
       "    </tr>\n",
       "    <tr>\n",
       "      <th>std</th>\n",
       "      <td>0.211009</td>\n",
       "      <td>0.214842</td>\n",
       "    </tr>\n",
       "  </tbody>\n",
       "</table>\n",
       "</div>"
      ],
      "text/plain": [
       "            TSSB      HASC\n",
       "mean    0.817348  0.749746\n",
       "median  0.941000  0.800000\n",
       "std     0.211009  0.214842"
      ]
     },
     "execution_count": 27,
     "metadata": {},
     "output_type": "execute_result"
    }
   ],
   "source": [
    "score_comparison_matrix_all_algos(best_for_type_tssb,best_for_type_hasc,savepath='results/tables/best_algo_per_type_summary.xlsx')"
   ]
  }
 ],
 "metadata": {
  "kernelspec": {
   "display_name": "Python 3 (ipykernel)",
   "language": "python",
   "name": "python3"
  },
  "language_info": {
   "codemirror_mode": {
    "name": "ipython",
    "version": 3
   },
   "file_extension": ".py",
   "mimetype": "text/x-python",
   "name": "python",
   "nbconvert_exporter": "python",
   "pygments_lexer": "ipython3",
   "version": "3.11.5"
  }
 },
 "nbformat": 4,
 "nbformat_minor": 5
}
