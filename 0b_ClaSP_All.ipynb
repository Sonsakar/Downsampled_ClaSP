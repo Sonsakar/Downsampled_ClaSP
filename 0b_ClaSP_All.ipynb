{
 "cells": [
  {
   "cell_type": "code",
   "execution_count": null,
   "id": "3125c620-14ed-4157-89e5-7ff2fa88d847",
   "metadata": {},
   "outputs": [],
   "source": [
    "# import standard libs\n",
    "import numpy as np\n",
    "import pandas as pd\n",
    "import importlib\n",
    "from tqdm import tqdm"
   ]
  },
  {
   "cell_type": "code",
   "execution_count": null,
   "id": "19e9f660-2e28-4cb7-90f8-8b0ca1d9c139",
   "metadata": {},
   "outputs": [],
   "source": [
    "# custom utils\n",
    "import mt_utils as ut\n",
    "import parameter_utils as pu"
   ]
  },
  {
   "cell_type": "code",
   "execution_count": null,
   "id": "1b8d771a-f9b9-45d0-a1d5-8ea9f52a37f3",
   "metadata": {},
   "outputs": [],
   "source": [
    "importlib.reload(ut)"
   ]
  },
  {
   "cell_type": "code",
   "execution_count": null,
   "id": "4310979b-1ae9-4e61-a4d6-dc0081e32172",
   "metadata": {},
   "outputs": [],
   "source": [
    "importlib.reload(pu)"
   ]
  },
  {
   "cell_type": "code",
   "execution_count": null,
   "id": "aacfa7bb-784b-48a9-8458-109e60301150",
   "metadata": {},
   "outputs": [],
   "source": [
    "# claspy libs\n",
    "from claspy.data_loader import load_tssb_dataset\n",
    "from claspy.data_loader import load_has_dataset\n",
    "from claspy.segmentation import BinaryClaSPSegmentation"
   ]
  },
  {
   "cell_type": "code",
   "execution_count": null,
   "id": "5e968eea-d97a-4231-9cf0-1126cdf03c55",
   "metadata": {},
   "outputs": [],
   "source": [
    "tssb_res = pd.read_pickle('results/zwischenergebnisse/all_downsampled_TSSB.pkl')\n",
    "hasc_res = pd.read_pickle('results/zwischenergebnisse/all_downsampled_HASC.pkl')"
   ]
  },
  {
   "cell_type": "code",
   "execution_count": null,
   "id": "2f8c2f4c-2046-4b18-8f4e-cda1e6e81fd5",
   "metadata": {},
   "outputs": [],
   "source": [
    "tssb = load_tssb_dataset()\n",
    "hasc = load_has_dataset()"
   ]
  },
  {
   "cell_type": "code",
   "execution_count": null,
   "id": "9a2871fd-d05d-47ca-83ae-5d1343c750bc",
   "metadata": {},
   "outputs": [],
   "source": [
    "algos = [\"MinMax\",\"MinMaxLTTB\",\"M4\",\"LTTB\",\"LTD\", \"EveryNth\"]\n",
    "columns = ['algo', 'compression', 'window_size', 'orig_TS_ID', 'time_series', 'true_cps', 'ds_predictions', 'runtime' ]"
   ]
  },
  {
   "cell_type": "code",
   "execution_count": null,
   "id": "ee0c556f-8b64-4734-9802-fedd96e895a7",
   "metadata": {},
   "outputs": [],
   "source": [
    "def clasp_segmentation(dataset, original, use_downscaled_w):\n",
    "    import warnings\n",
    "    warnings.simplefilter(\"ignore\")\n",
    "    results = []\n",
    "    for index, row in tqdm(dataset.iterrows(), total=len(dataset), desc=\"Processing rows\"):\n",
    "        orig = original.iloc[row.Orig_TS_ID]\n",
    "        orig_ts = orig.time_series\n",
    "        if orig_ts.ndim==1:\n",
    "            time_series = orig_ts[row.DS_TS_index]\n",
    "        else:\n",
    "            time_series = ut.get_ds_ts_ndim(orig_ts, row.DS_TS_index)\n",
    "\n",
    "        ds_window_size = int(pu.get_window_size_multivariate(orig_ts)*row.CF)\n",
    "\n",
    "        try:\n",
    "            if use_downscaled_w:\n",
    "                w, pred_cps, score, runtime = ut.evaluate_clasp(time_series, orig.cps, ds_window_size)\n",
    "            else:\n",
    "                w, pred_cps, score, runtime = ut.evaluate_clasp(time_series, orig.cps)\n",
    "        except:\n",
    "            w, pred_cps, score, runtime = 0, [], 0, 0\n",
    "           \n",
    "        results.append((row.DS_Algo, row.CF, w, row.Orig_TS_ID, time_series, orig.cps, pred_cps, runtime))\n",
    "    return results"
   ]
  },
  {
   "cell_type": "markdown",
   "id": "abd5761c-447a-4174-8101-96038f279e29",
   "metadata": {},
   "source": [
    "# SuSS window size"
   ]
  },
  {
   "cell_type": "markdown",
   "id": "76ee67e9-411d-43e8-a7f6-4ece6c309a9d",
   "metadata": {},
   "source": [
    "## TSSB"
   ]
  },
  {
   "cell_type": "code",
   "execution_count": null,
   "id": "f2ee73f2-2a51-471c-aa3d-f430be7b7c5f",
   "metadata": {},
   "outputs": [],
   "source": [
    "results_clasp_tssb = clasp_segmentation(tssb_res, tssb, False)"
   ]
  },
  {
   "cell_type": "code",
   "execution_count": null,
   "id": "06b79b15-655f-42d1-a522-070b286df7a2",
   "metadata": {},
   "outputs": [],
   "source": [
    "results_clasp_df_tssb = pd.DataFrame(results_clasp_tssb, columns=columns)\n",
    "results_clasp_df_tssb.to_pickle(\"results/zwischenergebnisse/clasp_on_downsampled_TS_TSSB_origW.pkl\")\n",
    "results_clasp_df_tssb"
   ]
  },
  {
   "cell_type": "markdown",
   "id": "360133e3-dcab-405f-936e-2c9da471daed",
   "metadata": {},
   "source": [
    "## HASC"
   ]
  },
  {
   "cell_type": "code",
   "execution_count": null,
   "id": "a1d93221-2fca-4660-8a9a-9bb6b62aa615",
   "metadata": {},
   "outputs": [],
   "source": [
    "results_clasp_hasc = clasp_segmentation(hasc_res, hasc, False)"
   ]
  },
  {
   "cell_type": "code",
   "execution_count": null,
   "id": "bb02d1b8-0865-4dbb-af69-cc38872ece3f",
   "metadata": {},
   "outputs": [],
   "source": [
    "results_clasp_df_hasc = pd.DataFrame(results_clasp_hasc, columns=columns)\n",
    "results_clasp_df_hasc.to_pickle(\"results/zwischenergebnisse/clasp_on_downsampled_TS_HASC_origW.pkl\")\n",
    "results_clasp_df_hasc"
   ]
  },
  {
   "cell_type": "markdown",
   "id": "439ec8b5-dfc0-42f6-9ffb-10dafdf608a8",
   "metadata": {},
   "source": [
    "# Downscaled window size"
   ]
  },
  {
   "cell_type": "markdown",
   "id": "59b2604f-8404-4456-9902-dc9e9003b7bc",
   "metadata": {},
   "source": [
    "## TSSB"
   ]
  },
  {
   "cell_type": "code",
   "execution_count": null,
   "id": "44b73e97-e881-4f57-96f9-b20bfea44064",
   "metadata": {},
   "outputs": [],
   "source": [
    "results_clasp_tssb_dsw = clasp_segmentation(tssb_res, tssb, True)"
   ]
  },
  {
   "cell_type": "code",
   "execution_count": null,
   "id": "e5ae3e28-e8c0-47ec-a83b-34b3e08b5cb4",
   "metadata": {},
   "outputs": [],
   "source": [
    "results_clasp_tssb_dsw_df = pd.DataFrame(results_clasp_tssb_dsw, columns=columns)\n",
    "results_clasp_tssb_dsw_df.to_pickle(\"results/zwischenergebnisse/clasp_on_downsampled_TS_TSSB_dsW.pkl\")\n",
    "results_clasp_tssb_dsw_df"
   ]
  },
  {
   "cell_type": "markdown",
   "id": "981c42d7-30fe-466e-b682-9253a570b7d4",
   "metadata": {},
   "source": [
    "## HASC"
   ]
  },
  {
   "cell_type": "code",
   "execution_count": null,
   "id": "dee11f54-07f2-4120-9630-63e3b81af220",
   "metadata": {},
   "outputs": [],
   "source": [
    "results_clasp_hasc_dsw = clasp_segmentation(hasc_res, hasc, True)"
   ]
  },
  {
   "cell_type": "code",
   "execution_count": null,
   "id": "b3f29eef-f9be-47da-8ae8-3d22f70545d8",
   "metadata": {},
   "outputs": [],
   "source": [
    "results_clasp_hasc_dsw_df = pd.DataFrame(results_clasp_hasc_dsw, columns=columns)\n",
    "results_clasp_hasc_dsw_df.to_pickle(\"results/zwischenergebnisse/clasp_on_downsampled_TS_HASC_dsW.pkl\")\n",
    "results_clasp_hasc_dsw_df"
   ]
  }
 ],
 "metadata": {
  "kernelspec": {
   "display_name": "Python 3 (ipykernel)",
   "language": "python",
   "name": "python3"
  },
  "language_info": {
   "codemirror_mode": {
    "name": "ipython",
    "version": 3
   },
   "file_extension": ".py",
   "mimetype": "text/x-python",
   "name": "python",
   "nbconvert_exporter": "python",
   "pygments_lexer": "ipython3",
   "version": "3.11.5"
  }
 },
 "nbformat": 4,
 "nbformat_minor": 5
}
