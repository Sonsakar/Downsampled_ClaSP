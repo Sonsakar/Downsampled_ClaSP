{
 "cells": [
  {
   "cell_type": "code",
   "execution_count": 15,
   "id": "8cb359b5-1a3c-4259-bde7-2390e393b35e",
   "metadata": {},
   "outputs": [],
   "source": [
    "#import standard libs\n",
    "import numpy as np\n",
    "import pandas as pd\n",
    "from tqdm import tqdm\n",
    "import importlib"
   ]
  },
  {
   "cell_type": "code",
   "execution_count": 7,
   "id": "75ac2699-4478-4b38-9f7b-bfdb988700e9",
   "metadata": {},
   "outputs": [],
   "source": [
    "#utils\n",
    "import mt_utils as ut"
   ]
  },
  {
   "cell_type": "code",
   "execution_count": 11,
   "id": "59d00df2-fb33-44b7-8486-ac462c8ecb61",
   "metadata": {},
   "outputs": [
    {
     "data": {
      "text/plain": [
       "<module 'mt_utils' from 'E:\\\\Melli\\\\HU\\\\Masterarbeit Save\\\\DownsampledClaSP\\\\mt_utils.py'>"
      ]
     },
     "execution_count": 11,
     "metadata": {},
     "output_type": "execute_result"
    }
   ],
   "source": [
    "importlib.reload(ut)"
   ]
  },
  {
   "cell_type": "code",
   "execution_count": 1,
   "id": "598bb0f5-1b09-43bb-8e09-e3a6947f1803",
   "metadata": {},
   "outputs": [],
   "source": [
    "# claspy dataloader libs\n",
    "from claspy.data_loader import load_tssb_dataset\n",
    "from claspy.data_loader import load_has_dataset"
   ]
  },
  {
   "cell_type": "code",
   "execution_count": 3,
   "id": "6e56f53a-02b4-499f-947d-ede9eebce981",
   "metadata": {},
   "outputs": [],
   "source": [
    "#load benchmarks\n",
    "tssb = load_tssb_dataset()\n",
    "hasc = load_has_dataset()"
   ]
  },
  {
   "cell_type": "code",
   "execution_count": null,
   "id": "0596d764-34c8-4f94-ba04-d05b1bc33dd3",
   "metadata": {},
   "outputs": [],
   "source": [
    "#result definitions\n",
    "columns = ['Orig_TS_ID', 'DS_Algo', 'CF', 'DS_TS_index']\n",
    "\n",
    "n_tssb = len(tssb)\n",
    "n_hasc = len(hasc)\n",
    "algos = [\"MinMax\",\"MinMaxLTTB\",\"M4\",\"LTTB\", \"EveryNth\",\"LTD\"]\n",
    "\n",
    "#compression ratios\n",
    "crs = np.round(np.arange(0.1,1,0.1),1)"
   ]
  },
  {
   "cell_type": "markdown",
   "id": "c2013de9-f6a9-4296-9578-173d355d6694",
   "metadata": {},
   "source": [
    "# TSSB"
   ]
  },
  {
   "cell_type": "code",
   "execution_count": null,
   "id": "b57dbe5c-d19f-49a1-8b9d-2565598fd692",
   "metadata": {},
   "outputs": [],
   "source": [
    "results_tssb = []\n",
    "for index, row in tqdm(tssb.iterrows(), total=len(tssb), desc=\"Processing rows\"):\n",
    "    ts = row.time_series\n",
    "    # downsample ts using all algos and all crs\n",
    "    for algo in algos:\n",
    "        for cr in crs:\n",
    "            n_out = ut.adjust_nout(algo, int(cr*len(ts)))\n",
    "            ds_ts_i = ut.downsample(algo, ts, n_out)\n",
    "            \n",
    "            results_tssb.append((index, algo, cr, ds_ts_i))"
   ]
  },
  {
   "cell_type": "code",
   "execution_count": null,
   "id": "1d7524d4-ad85-4323-ab94-92a0f8678e12",
   "metadata": {},
   "outputs": [],
   "source": [
    "results_df_TSSB = pd.DataFrame(results_tssb, columns=columns)\n",
    "results_df_TSSB.to_pickle(\"results/all_downsampled_TSSB.pkl\")\n",
    "results_df_TSSB"
   ]
  },
  {
   "cell_type": "markdown",
   "id": "28151052-da2f-42cd-8b0e-3d349b67bb70",
   "metadata": {},
   "source": [
    "# HASC"
   ]
  },
  {
   "cell_type": "code",
   "execution_count": null,
   "id": "d49e6eaa-047e-4a27-bec0-76b7a2d789ee",
   "metadata": {},
   "outputs": [],
   "source": [
    "results_hasc = []\n",
    "for index, row in tqdm(hasc.iterrows(), total=len(hasc), desc=\"Processing rows\"):\n",
    "    ts_arr = np.transpose(row.time_series)\n",
    "    for algo in algos:\n",
    "        for cr in crs:\n",
    "            ds_ts_list = []\n",
    "            for ts in ts_arr:\n",
    "                n_out = ut.adjust_nout(algo, int(cr*len(ts)))\n",
    "                ds_ts_i = ut.downsample(algo, ts, n_out)\n",
    "                ds_ts_list.append((ds_ts_i))\n",
    "            ds_ts_i = np.transpose(np.array(ds_ts_list))\n",
    "            \n",
    "            results_hasc.append((index, algo, cr, ds_ts_i))"
   ]
  },
  {
   "cell_type": "code",
   "execution_count": null,
   "id": "59f530aa-8850-4f07-96a6-c921821cccaf",
   "metadata": {},
   "outputs": [],
   "source": [
    "results_df_HASC = pd.DataFrame(results_hasc, columns=columns)\n",
    "results_df_HASC.to_pickle(\"results/all_downsampled_HASC.pkl\")\n",
    "results_df_HASC"
   ]
  }
 ],
 "metadata": {
  "kernelspec": {
   "display_name": "Python 3 (ipykernel)",
   "language": "python",
   "name": "python3"
  },
  "language_info": {
   "codemirror_mode": {
    "name": "ipython",
    "version": 3
   },
   "file_extension": ".py",
   "mimetype": "text/x-python",
   "name": "python",
   "nbconvert_exporter": "python",
   "pygments_lexer": "ipython3",
   "version": "3.11.5"
  }
 },
 "nbformat": 4,
 "nbformat_minor": 5
}
